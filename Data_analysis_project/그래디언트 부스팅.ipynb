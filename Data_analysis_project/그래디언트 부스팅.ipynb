{
 "cells": [
  {
   "cell_type": "code",
   "execution_count": 1,
   "id": "27b30464",
   "metadata": {},
   "outputs": [],
   "source": [
    "import pandas as pd\n",
    "from datetime import datetime\n",
    "\n",
    "train = pd.read_csv('./open/train.csv')\n",
    "test = pd.read_csv('./open/test.csv')\n",
    "data_onehot_enco = pd.read_csv('./open/onehot_encoded_시,일제외.csv', encoding = \"UTF_8\", low_memory=False)"
   ]
  },
  {
   "cell_type": "code",
   "execution_count": 2,
   "id": "63fad702",
   "metadata": {},
   "outputs": [],
   "source": [
    "# train_new가 기존 train\n",
    "# test_new가 기존 test\n",
    "train_enco = data_onehot_enco[:len(train)]\n",
    "test_enco = data_onehot_enco[len(train):]"
   ]
  },
  {
   "cell_type": "code",
   "execution_count": 3,
   "id": "9635aa0a",
   "metadata": {},
   "outputs": [],
   "source": [
    "# \"동_\"으로 시작하는 컬럼 선택\n",
    "columns_to_drop = [col for col in train_enco.columns if col.startswith(\"동_\")]\n",
    "train_enco_filtered = train_enco.drop(columns=columns_to_drop, inplace=False)\n",
    "\n",
    "# 테스트 에서도 제거\n",
    "columns_to_drop_test = [col for col in test_enco.columns if col.startswith(\"동_\")]\n",
    "test_enco_filtered = test_enco.drop(columns=columns_to_drop_test, inplace=False)"
   ]
  },
  {
   "cell_type": "code",
   "execution_count": 4,
   "id": "f5d0616d",
   "metadata": {},
   "outputs": [],
   "source": [
    "y_train_new = train['ECLO'].copy()"
   ]
  },
  {
   "cell_type": "code",
   "execution_count": 5,
   "id": "66f172d2",
   "metadata": {},
   "outputs": [
    {
     "name": "stdout",
     "output_type": "stream",
     "text": [
      "<class 'pandas.core.series.Series'>\n",
      "Index: 11883 entries, 8707 to 26920\n",
      "Series name: ECLO\n",
      "Non-Null Count  Dtype\n",
      "--------------  -----\n",
      "11883 non-null  int64\n",
      "dtypes: int64(1)\n",
      "memory usage: 185.7 KB\n"
     ]
    }
   ],
   "source": [
    "from sklearn.model_selection import train_test_split\n",
    "X_train, X_valid, y_train, y_valid = train_test_split(train_enco, y_train_new, test_size=0.3, random_state=42)\n",
    "y_valid.info()"
   ]
  },
  {
   "cell_type": "code",
   "execution_count": 6,
   "id": "515fa072",
   "metadata": {},
   "outputs": [
    {
     "name": "stdout",
     "output_type": "stream",
     "text": [
      "Mean Squared Error (MSE): 10.062213213678662\n",
      "R-squared (R2): -0.007194251788059214\n",
      "Root Mean Squared Logarithmic Error (RMSLE): 3.17209918093345\n"
     ]
    }
   ],
   "source": [
    "import pandas as pd\n",
    "from sklearn.model_selection import train_test_split\n",
    "from sklearn.metrics import mean_squared_error, r2_score\n",
    "from xgboost import XGBRegressor\n",
    "from sklearn.preprocessing import StandardScaler\n",
    "from sklearn.pipeline import Pipeline\n",
    "\n",
    "model_XGB = XGBRegressor()# 파이프라인 정의\n",
    "pipeline = Pipeline([\n",
    "    ('scaler', StandardScaler()),  # 특성 스케일링\n",
    "    ('model', XGBRegressor())      # XGBoost 모델\n",
    "])\n",
    "\n",
    "# 모델 학습\n",
    "pipeline.fit(X_train, y_train)\n",
    "\n",
    "# 테스트 데이터에 대한 예측\n",
    "predictions = pipeline.predict(X_valid)\n",
    "\n",
    "# 성능 평가\n",
    "mse = mean_squared_error(y_valid, predictions)\n",
    "r2 = r2_score(y_valid, predictions)\n",
    "rmsle = mean_squared_error(y_valid, predictions, squared=False)\n",
    "\n",
    "print(f'Mean Squared Error (MSE): {mse}')\n",
    "print(f'R-squared (R2): {r2}')\n",
    "print(f'Root Mean Squared Logarithmic Error (RMSLE): {rmsle}')"
   ]
  },
  {
   "cell_type": "code",
   "execution_count": 7,
   "id": "b8bcb26e",
   "metadata": {},
   "outputs": [],
   "source": [
    "# from sklearn.model_selection import train_test_split\n",
    "# from sklearn.linear_model import LinearRegression\n",
    "# from sklearn.metrics import mean_squared_error, r2_score\n",
    "# import pandas as pd\n",
    "# import numpy as np\n",
    "\n",
    "# # 선형 회귀 모델 초기화 및 학습\n",
    "# model_Lir = LinearRegression()\n",
    "# model_Lir.fit(X_train, y_train)\n",
    "\n",
    "# # 테스트 세트로 예측\n",
    "# prediction_Lir = model_Lir.predict(X_valid)\n",
    "\n",
    "# # 모델 평가\n",
    "# mse = mean_squared_error(y_valid, prediction_Lir)\n",
    "# r2 = r2_score(y_valid, prediction_Lir)\n",
    "\n",
    "# print(\"MSE:\", mse)\n",
    "# print(\"R-squared:\", r2)\n",
    "\n",
    "# # # 학습된 모델의 계수 확인\n",
    "# # coefficients = pd.DataFrame({'Feature': X.columns, 'Coefficient': prediction_Lir.coef_})\n",
    "# # print(coefficients)\n",
    "\n",
    "# # 예측값과 실제값의 로그를 취하고, NaN을 0으로 대체\n",
    "# log_y_pred = np.log1p(prediction_Lir)\n",
    "# log_y_true = np.log1p(y_valid)\n",
    "\n",
    "# # 로그를 취한 예측값과 실제값의 차이 계산\n",
    "# log_diff = log_y_pred - log_y_true\n",
    "\n",
    "# # 제곱 계산\n",
    "# log_diff_squared = np.square(log_diff)\n",
    "\n",
    "# # 평균 제곱근 오차(RMSE) 계산\n",
    "# rmsle = np.sqrt(np.mean(log_diff_squared))\n",
    "\n",
    "# print(\"RMSLE:\", rmsle)\n"
   ]
  },
  {
   "cell_type": "code",
   "execution_count": null,
   "id": "76a0fdaf",
   "metadata": {},
   "outputs": [],
   "source": []
  },
  {
   "cell_type": "code",
   "execution_count": 8,
   "id": "aaa571f4",
   "metadata": {},
   "outputs": [],
   "source": [
    "#기존 제출파일 불러오기 \n",
    "sub = pd.read_csv('./open/sample_submission.csv') "
   ]
  },
  {
   "cell_type": "code",
   "execution_count": 9,
   "id": "c8a62e3b",
   "metadata": {},
   "outputs": [],
   "source": [
    "# # 제출용 파일 만들기\n",
    "# sub['ECLO'] = train_sub\n",
    "# submission_df = sub[['ID', 'ECLO']]\n",
    "# # CSV 파일로 저장\n",
    "# submission_df.to_csv('Linear_Regression_submission.csv', index=False)"
   ]
  }
 ],
 "metadata": {
  "kernelspec": {
   "display_name": "Python 3 (ipykernel)",
   "language": "python",
   "name": "python3"
  },
  "language_info": {
   "codemirror_mode": {
    "name": "ipython",
    "version": 3
   },
   "file_extension": ".py",
   "mimetype": "text/x-python",
   "name": "python",
   "nbconvert_exporter": "python",
   "pygments_lexer": "ipython3",
   "version": "3.11.5"
  }
 },
 "nbformat": 4,
 "nbformat_minor": 5
}
