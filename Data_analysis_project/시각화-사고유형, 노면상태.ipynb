{
 "cells": [
  {
   "cell_type": "code",
   "execution_count": 1,
   "metadata": {
    "ExecuteTime": {
     "end_time": "2023-11-20T05:02:29.224173Z",
     "start_time": "2023-11-20T05:02:28.683410Z"
    },
    "deletable": false,
    "id": "H2RD_fcJJoRa",
    "pbl_cell_type": "hidden_setup_code",
    "step_id": 4887,
    "step_number": 0
   },
   "outputs": [],
   "source": [
    "import pandas as pd\n",
    "from datetime import datetime\n",
    "import matplotlib.pyplot as plt\n",
    "import matplotlib.font_manager as fm\n",
    "\n",
    "# 한글 문제\n",
    "import platform\n",
    "\n",
    "from matplotlib import font_manager, rc\n",
    "plt.rcParams['axes.unicode_minus'] = False\n",
    "\n",
    "if platform.system() == 'Darwin':  # 맥OS\n",
    "    rc('font', family='AppleGothic')\n",
    "elif platform.system() == 'Windows':  # 윈도우\n",
    "    path = \"c:/Windows/Fonts/malgun.ttf\"\n",
    "    font_name = font_manager.FontProperties(fname=path).get_name()\n",
    "    rc('font', family=font_name)\n",
    "else:\n",
    "    print('Unknown system...  sorry~~~')\n",
    "\n",
    "from matplotlib.pylab import rcParams\n",
    "rcParams['figure.figsize'] = 17,8\n",
    "\n",
    "import warnings\n",
    "warnings.filterwarnings(action='ignore')"
   ]
  },
  {
   "cell_type": "markdown",
   "metadata": {
    "deletable": false,
    "id": "INgMyEIPJoRc",
    "pbl_cell_type": "markdown",
    "step_id": 4887,
    "step_number": 0
   },
   "source": [
    "# **대구 교통 사고 피해 예측 AI 경진대회 Baseline Code**"
   ]
  },
  {
   "cell_type": "markdown",
   "metadata": {
    "id": "DXsj7n3HJoRe",
    "pbl_cell_type": "markdown",
    "step_id": 5096,
    "step_number": 1
   },
   "source": [
    "## **Fixed Random Seed**  \n",
    "\n",
    "seed 값에 의해 동일한 코드를 사용해도 결과가 다를 수 있기에, 동일한 결과를 위해 seed 값을 고정시킵니다"
   ]
  },
  {
   "cell_type": "code",
   "execution_count": 2,
   "metadata": {
    "ExecuteTime": {
     "end_time": "2023-11-20T05:02:29.565770Z",
     "start_time": "2023-11-20T05:02:29.561657Z"
    },
    "id": "JU6RISf6JoRe",
    "pbl_cell_type": "code",
    "step_id": 5096,
    "step_number": 1
   },
   "outputs": [],
   "source": [
    "import os\n",
    "import random\n",
    "import numpy as np\n",
    "\n",
    "def seed_everything(seed):\n",
    "    random.seed(seed)\n",
    "    os.environ['PYTHONHASHSEED'] = str(seed)\n",
    "    np.random.seed(seed)\n",
    "\n",
    "seed_everything(42)"
   ]
  },
  {
   "cell_type": "markdown",
   "metadata": {
    "id": "yCyLPSe_JoRf",
    "pbl_cell_type": "markdown",
    "step_id": 5096,
    "step_number": 1
   },
   "source": [
    "## **데이터 불러오기 및 상위행 확인**  \n",
    "\n",
    "train.csv, test.csv 파일을 로드하여 상위행을 출력해 봅시다"
   ]
  },
  {
   "cell_type": "code",
   "execution_count": 56,
   "metadata": {
    "ExecuteTime": {
     "end_time": "2023-11-20T05:02:33.695647Z",
     "start_time": "2023-11-20T05:02:33.520205Z"
    },
    "id": "s3-Z_wbNJoRf",
    "outputId": "349c6dd4-cb36-4dce-bfe3-25a9ccbfdc63",
    "pbl_cell_type": "code",
    "step_id": 5096,
    "step_number": 1
   },
   "outputs": [
    {
     "name": "stdout",
     "output_type": "stream",
     "text": [
      "<class 'pandas.core.frame.DataFrame'>\n",
      "RangeIndex: 39609 entries, 0 to 39608\n",
      "Data columns (total 23 columns):\n",
      " #   Column       Non-Null Count  Dtype \n",
      "---  ------       --------------  ----- \n",
      " 0   ID           39609 non-null  object\n",
      " 1   사고일시         39609 non-null  object\n",
      " 2   요일           39609 non-null  object\n",
      " 3   기상상태         39609 non-null  object\n",
      " 4   시군구          39609 non-null  object\n",
      " 5   도로형태         39609 non-null  object\n",
      " 6   노면상태         39609 non-null  object\n",
      " 7   사고유형         39609 non-null  object\n",
      " 8   사고유형 - 세부분류  39609 non-null  object\n",
      " 9   법규위반         39609 non-null  object\n",
      " 10  가해운전자 차종     39609 non-null  object\n",
      " 11  가해운전자 성별     39609 non-null  object\n",
      " 12  가해운전자 연령     39609 non-null  object\n",
      " 13  가해운전자 상해정도   39609 non-null  object\n",
      " 14  피해운전자 차종     38618 non-null  object\n",
      " 15  피해운전자 성별     38618 non-null  object\n",
      " 16  피해운전자 연령     38618 non-null  object\n",
      " 17  피해운전자 상해정도   38618 non-null  object\n",
      " 18  사망자수         39609 non-null  int64 \n",
      " 19  중상자수         39609 non-null  int64 \n",
      " 20  경상자수         39609 non-null  int64 \n",
      " 21  부상자수         39609 non-null  int64 \n",
      " 22  ECLO         39609 non-null  int64 \n",
      "dtypes: int64(5), object(18)\n",
      "memory usage: 7.0+ MB\n"
     ]
    }
   ],
   "source": [
    "import pandas as pd\n",
    "from datetime import datetime\n",
    "\n",
    "train = pd.read_csv('./open/train.csv')\n",
    "test = pd.read_csv('./open/test.csv')\n",
    "train.info()"
   ]
  },
  {
   "cell_type": "markdown",
   "metadata": {
    "id": "xT9y8UNRJoRg",
    "pbl_cell_type": "markdown",
    "step_id": 5096,
    "step_number": 1
   },
   "source": [
    "## **train, test 데이터 기간 확인하기**  \n",
    "\n",
    "학습(train) 데이터의 기간과 예측 대상이 되는 test 데이터의 기간을 살펴 봅니다"
   ]
  },
  {
   "cell_type": "code",
   "execution_count": 4,
   "metadata": {
    "ExecuteTime": {
     "end_time": "2023-11-20T05:02:38.798663Z",
     "start_time": "2023-11-20T05:02:38.785453Z"
    },
    "id": "nhBxBs2WJoRg",
    "outputId": "293b589c-3055-4027-f8c3-b91fa3259f24",
    "pbl_cell_type": "code",
    "step_id": 5096,
    "step_number": 1
   },
   "outputs": [
    {
     "data": {
      "text/plain": [
       "'train : 2019-01-01 00 ~ 2021-12-31 23'"
      ]
     },
     "metadata": {},
     "output_type": "display_data"
    },
    {
     "data": {
      "text/plain": [
       "'test : 2022-01-01 01 ~ 2022-12-31 21'"
      ]
     },
     "metadata": {},
     "output_type": "display_data"
    }
   ],
   "source": [
    "display(f\"train : {train.iloc[0]['사고일시']} ~ {train.iloc[-1]['사고일시']}\")\n",
    "display(f\"test : {test.iloc[0]['사고일시']} ~ {test.iloc[-1]['사고일시']}\")"
   ]
  },
  {
   "cell_type": "markdown",
   "metadata": {
    "id": "3SHgKAj7JoRh"
   },
   "source": [
    "### Data Info"
   ]
  },
  {
   "cell_type": "code",
   "execution_count": 5,
   "metadata": {
    "ExecuteTime": {
     "end_time": "2023-11-20T05:02:46.679282Z",
     "start_time": "2023-11-20T05:02:46.637681Z"
    },
    "id": "hiabtZLyJoRh"
   },
   "outputs": [],
   "source": [
    "#'사고일시' 데이터 타입을 object -> datetime으로  바꾸기\n",
    "train['사고일시'] = pd.to_datetime(train['사고일시'])\n",
    "test['사고일시'] = pd.to_datetime(test['사고일시'])"
   ]
  },
  {
   "cell_type": "code",
   "execution_count": 6,
   "metadata": {
    "ExecuteTime": {
     "end_time": "2023-11-20T05:02:47.252947Z",
     "start_time": "2023-11-20T05:02:47.189302Z"
    },
    "id": "zTNtP9qdJoRh",
    "outputId": "65fee5f0-d618-4a0d-9744-d19929c5fd43"
   },
   "outputs": [
    {
     "name": "stdout",
     "output_type": "stream",
     "text": [
      "<class 'pandas.core.frame.DataFrame'>\n",
      "RangeIndex: 39609 entries, 0 to 39608\n",
      "Data columns (total 23 columns):\n",
      " #   Column       Non-Null Count  Dtype         \n",
      "---  ------       --------------  -----         \n",
      " 0   ID           39609 non-null  object        \n",
      " 1   사고일시         39609 non-null  datetime64[ns]\n",
      " 2   요일           39609 non-null  object        \n",
      " 3   기상상태         39609 non-null  object        \n",
      " 4   시군구          39609 non-null  object        \n",
      " 5   도로형태         39609 non-null  object        \n",
      " 6   노면상태         39609 non-null  object        \n",
      " 7   사고유형         39609 non-null  object        \n",
      " 8   사고유형 - 세부분류  39609 non-null  object        \n",
      " 9   법규위반         39609 non-null  object        \n",
      " 10  가해운전자 차종     39609 non-null  object        \n",
      " 11  가해운전자 성별     39609 non-null  object        \n",
      " 12  가해운전자 연령     39609 non-null  object        \n",
      " 13  가해운전자 상해정도   39609 non-null  object        \n",
      " 14  피해운전자 차종     38618 non-null  object        \n",
      " 15  피해운전자 성별     38618 non-null  object        \n",
      " 16  피해운전자 연령     38618 non-null  object        \n",
      " 17  피해운전자 상해정도   38618 non-null  object        \n",
      " 18  사망자수         39609 non-null  int64         \n",
      " 19  중상자수         39609 non-null  int64         \n",
      " 20  경상자수         39609 non-null  int64         \n",
      " 21  부상자수         39609 non-null  int64         \n",
      " 22  ECLO         39609 non-null  int64         \n",
      "dtypes: datetime64[ns](1), int64(5), object(17)\n",
      "memory usage: 7.0+ MB\n"
     ]
    }
   ],
   "source": [
    "train.info()"
   ]
  },
  {
   "cell_type": "code",
   "execution_count": 7,
   "metadata": {
    "ExecuteTime": {
     "end_time": "2023-11-20T05:02:54.811836Z",
     "start_time": "2023-11-20T05:02:54.788866Z"
    },
    "id": "DntCb3oaJoRi",
    "outputId": "3d54708a-f39c-41c9-e234-b06bb0ebccef"
   },
   "outputs": [
    {
     "name": "stdout",
     "output_type": "stream",
     "text": [
      "<class 'pandas.core.frame.DataFrame'>\n",
      "RangeIndex: 10963 entries, 0 to 10962\n",
      "Data columns (total 8 columns):\n",
      " #   Column  Non-Null Count  Dtype         \n",
      "---  ------  --------------  -----         \n",
      " 0   ID      10963 non-null  object        \n",
      " 1   사고일시    10963 non-null  datetime64[ns]\n",
      " 2   요일      10963 non-null  object        \n",
      " 3   기상상태    10963 non-null  object        \n",
      " 4   시군구     10963 non-null  object        \n",
      " 5   도로형태    10963 non-null  object        \n",
      " 6   노면상태    10963 non-null  object        \n",
      " 7   사고유형    10963 non-null  object        \n",
      "dtypes: datetime64[ns](1), object(7)\n",
      "memory usage: 685.3+ KB\n"
     ]
    }
   ],
   "source": [
    "test.info()"
   ]
  },
  {
   "cell_type": "markdown",
   "metadata": {
    "id": "x2y33YI8JoRi"
   },
   "source": [
    "### - train과 test 데이터셋의  컬럼 수가 서로 다름\n",
    "    - ID, 사고일시, 요일, 기상상태, 시군구, 도로형태, 노면상태, 사고유형"
   ]
  },
  {
   "cell_type": "code",
   "execution_count": 8,
   "metadata": {
    "ExecuteTime": {
     "end_time": "2023-11-20T05:02:56.912898Z",
     "start_time": "2023-11-20T05:02:56.901289Z"
    },
    "id": "lwZFgoueJoRi",
    "outputId": "5c39e4f4-edb3-4957-c75c-26a4b2e217a5"
   },
   "outputs": [
    {
     "data": {
      "text/plain": [
       "array(['화요일', '수요일', '목요일', '금요일', '토요일', '일요일', '월요일'], dtype=object)"
      ]
     },
     "metadata": {},
     "output_type": "display_data"
    },
    {
     "data": {
      "text/plain": [
       "array(['토요일', '일요일', '월요일', '화요일', '수요일', '목요일', '금요일'], dtype=object)"
      ]
     },
     "metadata": {},
     "output_type": "display_data"
    }
   ],
   "source": [
    "display(train['요일'].unique())\n",
    "display(test['요일'].unique())"
   ]
  },
  {
   "cell_type": "code",
   "execution_count": 9,
   "metadata": {
    "ExecuteTime": {
     "end_time": "2023-11-20T05:02:57.244323Z",
     "start_time": "2023-11-20T05:02:57.229574Z"
    },
    "id": "JOuki-BdJoRi",
    "outputId": "d5341a5c-f6a7-4dc8-b8f6-3072c1945915"
   },
   "outputs": [
    {
     "data": {
      "text/plain": [
       "array(['맑음', '흐림', '기타', '비', '안개', '눈'], dtype=object)"
      ]
     },
     "metadata": {},
     "output_type": "display_data"
    },
    {
     "data": {
      "text/plain": [
       "array(['맑음', '흐림', '기타', '비', '눈'], dtype=object)"
      ]
     },
     "metadata": {},
     "output_type": "display_data"
    }
   ],
   "source": [
    "display(train['기상상태'].unique())\n",
    "display(test['기상상태'].unique())"
   ]
  },
  {
   "cell_type": "markdown",
   "metadata": {
    "id": "YNl7Csh9JoRj"
   },
   "source": [
    "***- test에는 기상상태-'안개' 없음***"
   ]
  },
  {
   "cell_type": "code",
   "execution_count": 10,
   "metadata": {
    "ExecuteTime": {
     "end_time": "2023-11-20T05:02:58.579590Z",
     "start_time": "2023-11-20T05:02:58.561191Z"
    },
    "id": "oJCivB4GJoRj",
    "outputId": "9efa04bc-414b-4725-b560-b75f843d6f49"
   },
   "outputs": [
    {
     "data": {
      "text/plain": [
       "array(['대구광역시 중구 대신동', '대구광역시 달서구 감삼동', '대구광역시 수성구 두산동', '대구광역시 북구 복현동',\n",
       "       '대구광역시 동구 신암동', '대구광역시 수성구 지산동', '대구광역시 달서구 상인동', '대구광역시 북구 태전동',\n",
       "       '대구광역시 동구 지묘동', '대구광역시 서구 평리동', '대구광역시 동구 신기동', '대구광역시 서구 상리동',\n",
       "       '대구광역시 달서구 월성동', '대구광역시 수성구 황금동', '대구광역시 북구 구암동', '대구광역시 동구 신천동',\n",
       "       '대구광역시 수성구 만촌동', '대구광역시 중구 남산동', '대구광역시 서구 비산동', '대구광역시 북구 침산동',\n",
       "       '대구광역시 달서구 두류동', '대구광역시 수성구 신매동', '대구광역시 달서구 대곡동', '대구광역시 달성군 유가읍',\n",
       "       '대구광역시 달성군 논공읍', '대구광역시 동구 율하동', '대구광역시 수성구 시지동', '대구광역시 동구 봉무동',\n",
       "       '대구광역시 달성군 다사읍', '대구광역시 중구 동산동', '대구광역시 서구 이현동', '대구광역시 남구 이천동',\n",
       "       '대구광역시 수성구 수성동4가', '대구광역시 북구 노원동3가', '대구광역시 북구 서변동',\n",
       "       '대구광역시 북구 관음동', '대구광역시 북구 학정동', '대구광역시 수성구 파동', '대구광역시 수성구 상동',\n",
       "       '대구광역시 달서구 이곡동', '대구광역시 동구 효목동', '대구광역시 북구 읍내동', '대구광역시 중구 남성로',\n",
       "       '대구광역시 달서구 죽전동', '대구광역시 남구 대명동', '대구광역시 북구 동천동', '대구광역시 동구 지저동',\n",
       "       '대구광역시 북구 사수동', '대구광역시 중구 덕산동', '대구광역시 달서구 본리동', '대구광역시 동구 용계동',\n",
       "       '대구광역시 수성구 범어동', '대구광역시 달서구 신당동', '대구광역시 달서구 성당동', '대구광역시 달서구 용산동',\n",
       "       '대구광역시 중구 태평로3가', '대구광역시 동구 도학동', '대구광역시 수성구 욱수동', '대구광역시 동구 불로동',\n",
       "       '대구광역시 북구 칠성동1가', '대구광역시 달서구 장기동', '대구광역시 수성구 매호동',\n",
       "       '대구광역시 달서구 대천동', '대구광역시 중구 삼덕동1가', '대구광역시 수성구 수성동2가',\n",
       "       '대구광역시 북구 팔달동', '대구광역시 수성구 삼덕동', '대구광역시 달서구 진천동',\n",
       "       '대구광역시 수성구 수성동3가', '대구광역시 달성군 가창면', '대구광역시 동구 방촌동', '대구광역시 북구 산격동',\n",
       "       '대구광역시 달서구 월암동', '대구광역시 달성군 현풍읍', '대구광역시 달성군 구지면', '대구광역시 북구 매천동',\n",
       "       '대구광역시 달서구 송현동', '대구광역시 북구 고성동3가', '대구광역시 남구 봉덕동',\n",
       "       '대구광역시 북구 칠성동2가', '대구광역시 중구 공평동', '대구광역시 중구 봉산동', '대구광역시 동구 괴전동',\n",
       "       '대구광역시 북구 국우동', '대구광역시 북구 대현동', '대구광역시 북구 노원동1가', '대구광역시 중구 대봉동',\n",
       "       '대구광역시 달서구 본동', '대구광역시 동구 신서동', '대구광역시 북구 검단동', '대구광역시 달성군 화원읍',\n",
       "       '대구광역시 북구 동호동', '대구광역시 수성구 이천동', '대구광역시 중구 삼덕동2가', '대구광역시 동구 입석동',\n",
       "       '대구광역시 수성구 중동', '대구광역시 중구 삼덕동3가', '대구광역시 달서구 파호동', '대구광역시 동구 동내동',\n",
       "       '대구광역시 달성군 하빈면', '대구광역시 동구 율암동', '대구광역시 중구 동인동1가', '대구광역시 서구 내당동',\n",
       "       '대구광역시 달서구 유천동', '대구광역시 달서구 호산동', '대구광역시 중구 교동', '대구광역시 달성군 옥포읍',\n",
       "       '대구광역시 서구 원대동3가', '대구광역시 동구 검사동', '대구광역시 중구 동인동4가',\n",
       "       '대구광역시 수성구 수성동1가', '대구광역시 동구 동호동', '대구광역시 북구 고성동2가',\n",
       "       '대구광역시 동구 각산동', '대구광역시 서구 중리동', '대구광역시 북구 고성동1가', '대구광역시 달서구 갈산동',\n",
       "       '대구광역시 동구 대림동', '대구광역시 달서구 호림동', '대구광역시 수성구 연호동', '대구광역시 북구 동변동',\n",
       "       '대구광역시 수성구 범물동', '대구광역시 중구 계산동2가', '대구광역시 중구 동문동', '대구광역시 수성구 고모동',\n",
       "       '대구광역시 북구 금호동', '대구광역시 달서구 장동', '대구광역시 달서구 도원동', '대구광역시 중구 수창동',\n",
       "       '대구광역시 중구 동인동2가', '대구광역시 수성구 가천동', '대구광역시 수성구 노변동', '대구광역시 중구 달성동',\n",
       "       '대구광역시 중구 동인동3가', '대구광역시 중구 서문로2가', '대구광역시 중구 동성로2가',\n",
       "       '대구광역시 동구 중대동', '대구광역시 수성구 사월동', '대구광역시 중구 장관동', '대구광역시 동구 신평동',\n",
       "       '대구광역시 동구 숙천동', '대구광역시 수성구 성동', '대구광역시 중구 동일동', '대구광역시 중구 시장북로',\n",
       "       '대구광역시 동구 서호동', '대구광역시 동구 용수동', '대구광역시 수성구 대흥동', '대구광역시 중구 동성로3가',\n",
       "       '대구광역시 북구 연경동', '대구광역시 서구 원대동1가', '대구광역시 중구 남일동', '대구광역시 동구 부동',\n",
       "       '대구광역시 동구 송정동', '대구광역시 동구 백안동', '대구광역시 동구 도동', '대구광역시 중구 인교동',\n",
       "       '대구광역시 동구 미대동', '대구광역시 북구 노원동2가', '대구광역시 중구 북성로1가', '대구광역시 북구 조야동',\n",
       "       '대구광역시 중구 태평로2가', '대구광역시 중구 포정동', '대구광역시 북구 노곡동', '대구광역시 동구 진인동',\n",
       "       '대구광역시 중구 서문로1가', '대구광역시 동구 덕곡동', '대구광역시 중구 문화동', '대구광역시 동구 상매동',\n",
       "       '대구광역시 동구 사복동', '대구광역시 중구 종로1가', '대구광역시 중구 계산동1가', '대구광역시 중구 상서동',\n",
       "       '대구광역시 중구 서성로1가', '대구광역시 서구 원대동2가', '대구광역시 중구 태평로1가',\n",
       "       '대구광역시 동구 미곡동', '대구광역시 중구 사일동', '대구광역시 동구 내동', '대구광역시 중구 전동',\n",
       "       '대구광역시 동구 둔산동', '대구광역시 동구 매여동', '대구광역시 중구 도원동', '대구광역시 중구 완전동',\n",
       "       '대구광역시 중구 북성로2가', '대구광역시 중구 하서동', '대구광역시 중구 화전동', '대구광역시 동구 능성동',\n",
       "       '대구광역시 중구 서성로2가', '대구광역시 동구 금강동', '대구광역시 중구 향촌동', '대구광역시 중구 수동',\n",
       "       '대구광역시 동구 신무동', '대구광역시 중구 대안동', '대구광역시 중구 종로2가', '대구광역시 중구 서야동',\n",
       "       '대구광역시 동구 신용동', '대구광역시 중구 동성로1가', '대구광역시 동구 평광동', '대구광역시 북구 도남동'],\n",
       "      dtype=object)"
      ]
     },
     "metadata": {},
     "output_type": "display_data"
    },
    {
     "data": {
      "text/plain": [
       "array(['대구광역시 수성구 상동', '대구광역시 수성구 지산동', '대구광역시 수성구 수성동2가',\n",
       "       '대구광역시 수성구 신매동', '대구광역시 달서구 감삼동', '대구광역시 중구 달성동', '대구광역시 동구 신암동',\n",
       "       '대구광역시 서구 평리동', '대구광역시 달서구 송현동', '대구광역시 달서구 두류동', '대구광역시 북구 매천동',\n",
       "       '대구광역시 달서구 상인동', '대구광역시 달서구 진천동', '대구광역시 중구 삼덕동1가', '대구광역시 중구 동문동',\n",
       "       '대구광역시 달서구 성당동', '대구광역시 북구 동천동', '대구광역시 북구 태전동', '대구광역시 남구 대명동',\n",
       "       '대구광역시 달서구 대곡동', '대구광역시 북구 복현동', '대구광역시 달서구 본리동', '대구광역시 수성구 범어동',\n",
       "       '대구광역시 수성구 황금동', '대구광역시 달서구 호산동', '대구광역시 중구 동인동1가', '대구광역시 남구 이천동',\n",
       "       '대구광역시 달성군 유가읍', '대구광역시 달서구 월암동', '대구광역시 북구 동호동', '대구광역시 달서구 죽전동',\n",
       "       '대구광역시 달서구 본동', '대구광역시 달서구 도원동', '대구광역시 달성군 다사읍', '대구광역시 달서구 용산동',\n",
       "       '대구광역시 달서구 유천동', '대구광역시 북구 산격동', '대구광역시 달서구 파호동', '대구광역시 동구 효목동',\n",
       "       '대구광역시 북구 고성동3가', '대구광역시 중구 남산동', '대구광역시 동구 지묘동', '대구광역시 달성군 하빈면',\n",
       "       '대구광역시 서구 내당동', '대구광역시 수성구 매호동', '대구광역시 북구 침산동', '대구광역시 동구 신천동',\n",
       "       '대구광역시 동구 방촌동', '대구광역시 수성구 두산동', '대구광역시 달성군 구지면', '대구광역시 달서구 대천동',\n",
       "       '대구광역시 달서구 월성동', '대구광역시 달성군 화원읍', '대구광역시 북구 고성동2가', '대구광역시 동구 율하동',\n",
       "       '대구광역시 동구 봉무동', '대구광역시 동구 미곡동', '대구광역시 수성구 만촌동', '대구광역시 달서구 신당동',\n",
       "       '대구광역시 북구 서변동', '대구광역시 남구 봉덕동', '대구광역시 북구 대현동', '대구광역시 서구 비산동',\n",
       "       '대구광역시 동구 불로동', '대구광역시 서구 중리동', '대구광역시 북구 팔달동', '대구광역시 중구 삼덕동2가',\n",
       "       '대구광역시 중구 서성로2가', '대구광역시 북구 칠성동1가', '대구광역시 수성구 연호동',\n",
       "       '대구광역시 달성군 현풍읍', '대구광역시 북구 관음동', '대구광역시 수성구 시지동', '대구광역시 수성구 범물동',\n",
       "       '대구광역시 중구 동인동4가', '대구광역시 중구 태평로3가', '대구광역시 달서구 이곡동',\n",
       "       '대구광역시 북구 구암동', '대구광역시 북구 국우동', '대구광역시 북구 노원동3가', '대구광역시 중구 대봉동',\n",
       "       '대구광역시 북구 조야동', '대구광역시 수성구 삼덕동', '대구광역시 달성군 논공읍', '대구광역시 중구 봉산동',\n",
       "       '대구광역시 달서구 장기동', '대구광역시 북구 동변동', '대구광역시 수성구 대흥동', '대구광역시 북구 읍내동',\n",
       "       '대구광역시 북구 금호동', '대구광역시 서구 이현동', '대구광역시 동구 백안동', '대구광역시 달서구 호림동',\n",
       "       '대구광역시 달서구 장동', '대구광역시 수성구 수성동4가', '대구광역시 동구 도동', '대구광역시 달성군 가창면',\n",
       "       '대구광역시 서구 원대동1가', '대구광역시 동구 서호동', '대구광역시 수성구 욱수동', '대구광역시 수성구 사월동',\n",
       "       '대구광역시 동구 동호동', '대구광역시 동구 지저동', '대구광역시 북구 칠성동2가', '대구광역시 중구 향촌동',\n",
       "       '대구광역시 서구 상리동', '대구광역시 동구 검사동', '대구광역시 수성구 성동', '대구광역시 수성구 노변동',\n",
       "       '대구광역시 동구 각산동', '대구광역시 수성구 수성동1가', '대구광역시 중구 동인동2가',\n",
       "       '대구광역시 중구 동성로3가', '대구광역시 동구 신기동', '대구광역시 서구 원대동3가',\n",
       "       '대구광역시 중구 동인동3가', '대구광역시 북구 사수동', '대구광역시 수성구 이천동', '대구광역시 중구 남일동',\n",
       "       '대구광역시 북구 노원동1가', '대구광역시 동구 용계동', '대구광역시 동구 입석동', '대구광역시 달성군 옥포읍',\n",
       "       '대구광역시 수성구 수성동3가', '대구광역시 중구 동성로2가', '대구광역시 중구 북성로1가',\n",
       "       '대구광역시 중구 계산동2가', '대구광역시 달서구 갈산동', '대구광역시 중구 수창동',\n",
       "       '대구광역시 중구 북성로2가', '대구광역시 중구 대신동', '대구광역시 수성구 파동', '대구광역시 중구 삼덕동3가',\n",
       "       '대구광역시 중구 교동', '대구광역시 중구 덕산동', '대구광역시 수성구 중동', '대구광역시 동구 송정동',\n",
       "       '대구광역시 동구 신서동', '대구광역시 북구 검단동', '대구광역시 수성구 가천동', '대구광역시 중구 공평동',\n",
       "       '대구광역시 중구 동산동', '대구광역시 동구 괴전동', '대구광역시 북구 노곡동', '대구광역시 북구 학정동',\n",
       "       '대구광역시 동구 신평동', '대구광역시 동구 도학동', '대구광역시 중구 전동', '대구광역시 동구 숙천동',\n",
       "       '대구광역시 북구 연경동', '대구광역시 북구 노원동2가', '대구광역시 중구 태평로2가',\n",
       "       '대구광역시 중구 태평로1가', '대구광역시 동구 미대동', '대구광역시 동구 율암동', '대구광역시 중구 문화동',\n",
       "       '대구광역시 동구 용수동', '대구광역시 중구 종로1가', '대구광역시 동구 중대동', '대구광역시 중구 서성로1가',\n",
       "       '대구광역시 동구 사복동', '대구광역시 동구 금강동', '대구광역시 수성구 고모동', '대구광역시 중구 인교동',\n",
       "       '대구광역시 중구 계산동1가', '대구광역시 중구 완전동', '대구광역시 중구 포정동', '대구광역시 동구 상매동',\n",
       "       '대구광역시 중구 서문로1가', '대구광역시 중구 종로2가', '대구광역시 중구 대안동', '대구광역시 동구 대림동',\n",
       "       '대구광역시 중구 상서동', '대구광역시 중구 시장북로', '대구광역시 동구 매여동', '대구광역시 중구 사일동',\n",
       "       '대구광역시 동구 진인동', '대구광역시 서구 원대동2가', '대구광역시 동구 부동', '대구광역시 중구 동일동',\n",
       "       '대구광역시 동구 평광동', '대구광역시 동구 덕곡동', '대구광역시 중구 수동', '대구광역시 동구 신용동',\n",
       "       '대구광역시 중구 남성로', '대구광역시 동구 동내동', '대구광역시 중구 하서동', '대구광역시 북구 고성동1가',\n",
       "       '대구광역시 동구 능성동', '대구광역시 중구 화전동', '대구광역시 중구 서문로2가', '대구광역시 중구 동성로1가'],\n",
       "      dtype=object)"
      ]
     },
     "metadata": {},
     "output_type": "display_data"
    }
   ],
   "source": [
    "display(train['시군구'].unique())\n",
    "display(test['시군구'].unique())"
   ]
  },
  {
   "cell_type": "code",
   "execution_count": 11,
   "metadata": {
    "ExecuteTime": {
     "end_time": "2023-11-20T05:03:00.345116Z",
     "start_time": "2023-11-20T05:03:00.329366Z"
    },
    "id": "i7PSS2BWJoRj",
    "outputId": "2368fcd2-1877-4e7b-91f4-931ff72e2a04"
   },
   "outputs": [
    {
     "data": {
      "text/plain": [
       "array(['단일로 - 기타', '교차로 - 교차로안', '기타 - 기타', '단일로 - 터널', '단일로 - 지하차도(도로)내',\n",
       "       '단일로 - 교량', '교차로 - 교차로횡단보도내', '주차장 - 주차장', '교차로 - 교차로부근',\n",
       "       '단일로 - 고가도로위', '미분류 - 미분류'], dtype=object)"
      ]
     },
     "metadata": {},
     "output_type": "display_data"
    },
    {
     "data": {
      "text/plain": [
       "array(['교차로 - 교차로안', '단일로 - 기타', '교차로 - 교차로횡단보도내', '교차로 - 교차로부근',\n",
       "       '단일로 - 지하차도(도로)내', '기타 - 기타', '단일로 - 교량', '단일로 - 고가도로위',\n",
       "       '주차장 - 주차장', '단일로 - 터널', '미분류 - 미분류'], dtype=object)"
      ]
     },
     "metadata": {},
     "output_type": "display_data"
    },
    {
     "name": "stdout",
     "output_type": "stream",
     "text": [
      "<class 'pandas.core.frame.DataFrame'>\n",
      "RangeIndex: 39609 entries, 0 to 39608\n",
      "Data columns (total 23 columns):\n",
      " #   Column       Non-Null Count  Dtype         \n",
      "---  ------       --------------  -----         \n",
      " 0   ID           39609 non-null  object        \n",
      " 1   사고일시         39609 non-null  datetime64[ns]\n",
      " 2   요일           39609 non-null  object        \n",
      " 3   기상상태         39609 non-null  object        \n",
      " 4   시군구          39609 non-null  object        \n",
      " 5   도로형태         39609 non-null  object        \n",
      " 6   노면상태         39609 non-null  object        \n",
      " 7   사고유형         39609 non-null  object        \n",
      " 8   사고유형 - 세부분류  39609 non-null  object        \n",
      " 9   법규위반         39609 non-null  object        \n",
      " 10  가해운전자 차종     39609 non-null  object        \n",
      " 11  가해운전자 성별     39609 non-null  object        \n",
      " 12  가해운전자 연령     39609 non-null  object        \n",
      " 13  가해운전자 상해정도   39609 non-null  object        \n",
      " 14  피해운전자 차종     38618 non-null  object        \n",
      " 15  피해운전자 성별     38618 non-null  object        \n",
      " 16  피해운전자 연령     38618 non-null  object        \n",
      " 17  피해운전자 상해정도   38618 non-null  object        \n",
      " 18  사망자수         39609 non-null  int64         \n",
      " 19  중상자수         39609 non-null  int64         \n",
      " 20  경상자수         39609 non-null  int64         \n",
      " 21  부상자수         39609 non-null  int64         \n",
      " 22  ECLO         39609 non-null  int64         \n",
      "dtypes: datetime64[ns](1), int64(5), object(17)\n",
      "memory usage: 7.0+ MB\n",
      "None\n",
      "<class 'pandas.core.frame.DataFrame'>\n",
      "RangeIndex: 10963 entries, 0 to 10962\n",
      "Data columns (total 8 columns):\n",
      " #   Column  Non-Null Count  Dtype         \n",
      "---  ------  --------------  -----         \n",
      " 0   ID      10963 non-null  object        \n",
      " 1   사고일시    10963 non-null  datetime64[ns]\n",
      " 2   요일      10963 non-null  object        \n",
      " 3   기상상태    10963 non-null  object        \n",
      " 4   시군구     10963 non-null  object        \n",
      " 5   도로형태    10963 non-null  object        \n",
      " 6   노면상태    10963 non-null  object        \n",
      " 7   사고유형    10963 non-null  object        \n",
      "dtypes: datetime64[ns](1), object(7)\n",
      "memory usage: 685.3+ KB\n",
      "None\n"
     ]
    }
   ],
   "source": [
    "display(train['도로형태'].unique())\n",
    "display(test['도로형태'].unique())\n",
    "print(train.info())\n",
    "print(test.info())"
   ]
  },
  {
   "cell_type": "code",
   "execution_count": 12,
   "metadata": {
    "ExecuteTime": {
     "end_time": "2023-11-20T05:03:00.606510Z",
     "start_time": "2023-11-20T05:03:00.595103Z"
    },
    "id": "M_yw4nfjJoRj",
    "outputId": "5ea2dabd-b969-45e2-c7f9-9c11a4cc09c3"
   },
   "outputs": [
    {
     "data": {
      "text/plain": [
       "array(['건조', '젖음/습기', '서리/결빙', '기타', '침수', '적설'], dtype=object)"
      ]
     },
     "metadata": {},
     "output_type": "display_data"
    },
    {
     "data": {
      "text/plain": [
       "array(['건조', '젖음/습기', '서리/결빙', '기타', '침수', '적설'], dtype=object)"
      ]
     },
     "metadata": {},
     "output_type": "display_data"
    }
   ],
   "source": [
    "display(train['노면상태'].unique())\n",
    "display(test['노면상태'].unique())"
   ]
  },
  {
   "cell_type": "code",
   "execution_count": 13,
   "metadata": {
    "ExecuteTime": {
     "end_time": "2023-11-20T05:03:00.851479Z",
     "start_time": "2023-11-20T05:03:00.841451Z"
    },
    "id": "CCY600-mJoRj",
    "outputId": "c681ecf8-cf16-4249-fc3a-c3cb74d7f7e4"
   },
   "outputs": [
    {
     "data": {
      "text/plain": [
       "array(['차대사람', '차대차', '차량단독'], dtype=object)"
      ]
     },
     "metadata": {},
     "output_type": "display_data"
    },
    {
     "data": {
      "text/plain": [
       "array(['차대사람', '차대차', '차량단독'], dtype=object)"
      ]
     },
     "metadata": {},
     "output_type": "display_data"
    }
   ],
   "source": [
    "display(train['사고유형'].unique())\n",
    "display(test['사고유형'].unique())"
   ]
  },
  {
   "cell_type": "markdown",
   "metadata": {
    "id": "ACLuQpQJR1oq"
   },
   "source": [
    "# 노면상태, 사고유형 엔코딩"
   ]
  },
  {
   "cell_type": "code",
   "execution_count": 14,
   "metadata": {
    "id": "1Z82C1YTR1oq",
    "outputId": "67944356-d010-429a-ceff-5e7a84133f21"
   },
   "outputs": [
    {
     "name": "stdout",
     "output_type": "stream",
     "text": [
      "<class 'pandas.core.frame.DataFrame'>\n",
      "Index: 50572 entries, 0 to 10962\n",
      "Data columns (total 23 columns):\n",
      " #   Column       Non-Null Count  Dtype  \n",
      "---  ------       --------------  -----  \n",
      " 0   ID           50572 non-null  object \n",
      " 1   사고일시         50572 non-null  object \n",
      " 2   요일           50572 non-null  object \n",
      " 3   기상상태         50572 non-null  object \n",
      " 4   시군구          50572 non-null  object \n",
      " 5   도로형태         50572 non-null  object \n",
      " 6   노면상태         50572 non-null  object \n",
      " 7   사고유형         50572 non-null  object \n",
      " 8   사고유형 - 세부분류  39609 non-null  object \n",
      " 9   법규위반         39609 non-null  object \n",
      " 10  가해운전자 차종     39609 non-null  object \n",
      " 11  가해운전자 성별     39609 non-null  object \n",
      " 12  가해운전자 연령     39609 non-null  object \n",
      " 13  가해운전자 상해정도   39609 non-null  object \n",
      " 14  피해운전자 차종     38618 non-null  object \n",
      " 15  피해운전자 성별     38618 non-null  object \n",
      " 16  피해운전자 연령     38618 non-null  object \n",
      " 17  피해운전자 상해정도   38618 non-null  object \n",
      " 18  사망자수         39609 non-null  float64\n",
      " 19  중상자수         39609 non-null  float64\n",
      " 20  경상자수         39609 non-null  float64\n",
      " 21  부상자수         39609 non-null  float64\n",
      " 22  ECLO         39609 non-null  float64\n",
      "dtypes: float64(5), object(18)\n",
      "memory usage: 9.3+ MB\n",
      "Index(['ID', '사고일시', '요일', '기상상태', '시군구', '도로형태', '노면상태', '사고유형',\n",
      "       '사고유형 - 세부분류', '법규위반', '가해운전자 차종', '가해운전자 성별', '가해운전자 연령', '가해운전자 상해정도',\n",
      "       '피해운전자 차종', '피해운전자 성별', '피해운전자 연령', '피해운전자 상해정도', '사망자수', '중상자수',\n",
      "       '경상자수', '부상자수', 'ECLO'],\n",
      "      dtype='object')\n",
      "<class 'pandas.core.frame.DataFrame'>\n",
      "Index: 50572 entries, 0 to 10962\n",
      "Data columns (total 23 columns):\n",
      " #   Column       Non-Null Count  Dtype  \n",
      "---  ------       --------------  -----  \n",
      " 0   ID           50572 non-null  object \n",
      " 1   사고일시         50572 non-null  object \n",
      " 2   요일           50572 non-null  object \n",
      " 3   기상상태         50572 non-null  object \n",
      " 4   시군구          50572 non-null  object \n",
      " 5   도로형태         50572 non-null  object \n",
      " 6   노면상태         50572 non-null  object \n",
      " 7   사고유형         50572 non-null  object \n",
      " 8   사고유형 - 세부분류  39609 non-null  object \n",
      " 9   법규위반         39609 non-null  object \n",
      " 10  가해운전자 차종     39609 non-null  object \n",
      " 11  가해운전자 성별     39609 non-null  object \n",
      " 12  가해운전자 연령     39609 non-null  object \n",
      " 13  가해운전자 상해정도   39609 non-null  object \n",
      " 14  피해운전자 차종     38618 non-null  object \n",
      " 15  피해운전자 성별     38618 non-null  object \n",
      " 16  피해운전자 연령     38618 non-null  object \n",
      " 17  피해운전자 상해정도   38618 non-null  object \n",
      " 18  사망자수         39609 non-null  float64\n",
      " 19  중상자수         39609 non-null  float64\n",
      " 20  경상자수         39609 non-null  float64\n",
      " 21  부상자수         39609 non-null  float64\n",
      " 22  ECLO         39609 non-null  float64\n",
      "dtypes: float64(5), object(18)\n",
      "memory usage: 9.3+ MB\n"
     ]
    }
   ],
   "source": [
    "#데이터 init\n",
    "train = pd.read_csv('./open/train.csv')\n",
    "test = pd.read_csv('./open/test.csv')\n",
    "data = pd.concat([train, test], sort=False)\n",
    "data.info()\n",
    "print(data.columns)\n",
    "data.info()"
   ]
  },
  {
   "cell_type": "markdown",
   "metadata": {
    "id": "TlafSDTJR1oq"
   },
   "source": [
    "# 사고유형, 노면상태-Label encoding"
   ]
  },
  {
   "cell_type": "code",
   "execution_count": 15,
   "metadata": {
    "id": "CxFFoGbLR1oq",
    "outputId": "ee0f2139-516c-4675-b0db-48397f8f4e7b"
   },
   "outputs": [
    {
     "name": "stdout",
     "output_type": "stream",
     "text": [
      "       사고유형  사고유형_encoded 노면상태  노면상태_encoded\n",
      "0      차대사람             0   건조             0\n",
      "1      차대사람             0   건조             0\n",
      "2      차대사람             0   건조             0\n",
      "3       차대차             1   건조             0\n",
      "4       차대차             1   건조             0\n",
      "...     ...           ...  ...           ...\n",
      "10958   차대차             1   건조             0\n",
      "10959   차대차             1   건조             0\n",
      "10960   차대차             1   건조             0\n",
      "10961   차대차             1   건조             0\n",
      "10962   차대차             1   건조             0\n",
      "\n",
      "[50572 rows x 4 columns]\n"
     ]
    }
   ],
   "source": [
    "from sklearn.preprocessing import LabelEncoder\n",
    "\n",
    "# LabelEncoder 객체 생성\n",
    "label_encoder = LabelEncoder()\n",
    "\n",
    "# \"사고유형\" 컬럼 Label Encoding\n",
    "data['사고유형_encoded'] = label_encoder.fit_transform(data['사고유형'])\n",
    "\n",
    "# \"노면상태\" 컬럼 Label Encoding\n",
    "data['노면상태_encoded'] = label_encoder.fit_transform(data['노면상태'])\n",
    "\n",
    "# 결과 확인\n",
    "print(data[['사고유형', '사고유형_encoded', '노면상태', '노면상태_encoded']])\n"
   ]
  },
  {
   "cell_type": "markdown",
   "metadata": {
    "id": "tGkQ8dOmR1oq"
   },
   "source": [
    "# 사고유형, 노면상태-One-Hot Encoding"
   ]
  },
  {
   "cell_type": "code",
   "execution_count": 16,
   "metadata": {
    "id": "AEs0akcdR1oq",
    "outputId": "38c467ed-a501-4ade-b811-292fb830fdc8"
   },
   "outputs": [
    {
     "name": "stdout",
     "output_type": "stream",
     "text": [
      "<class 'pandas.core.frame.DataFrame'>\n",
      "Index: 50572 entries, 0 to 10962\n",
      "Data columns (total 32 columns):\n",
      " #   Column        Non-Null Count  Dtype  \n",
      "---  ------        --------------  -----  \n",
      " 0   ID            50572 non-null  object \n",
      " 1   사고일시          50572 non-null  object \n",
      " 2   요일            50572 non-null  object \n",
      " 3   기상상태          50572 non-null  object \n",
      " 4   시군구           50572 non-null  object \n",
      " 5   도로형태          50572 non-null  object \n",
      " 6   사고유형 - 세부분류   39609 non-null  object \n",
      " 7   법규위반          39609 non-null  object \n",
      " 8   가해운전자 차종      39609 non-null  object \n",
      " 9   가해운전자 성별      39609 non-null  object \n",
      " 10  가해운전자 연령      39609 non-null  object \n",
      " 11  가해운전자 상해정도    39609 non-null  object \n",
      " 12  피해운전자 차종      38618 non-null  object \n",
      " 13  피해운전자 성별      38618 non-null  object \n",
      " 14  피해운전자 연령      38618 non-null  object \n",
      " 15  피해운전자 상해정도    38618 non-null  object \n",
      " 16  사망자수          39609 non-null  float64\n",
      " 17  중상자수          39609 non-null  float64\n",
      " 18  경상자수          39609 non-null  float64\n",
      " 19  부상자수          39609 non-null  float64\n",
      " 20  ECLO          39609 non-null  float64\n",
      " 21  사고유형_encoded  50572 non-null  int32  \n",
      " 22  노면상태_encoded  50572 non-null  int32  \n",
      " 23  사고유형_차대사람     50572 non-null  bool   \n",
      " 24  사고유형_차대차      50572 non-null  bool   \n",
      " 25  사고유형_차량단독     50572 non-null  bool   \n",
      " 26  노면상태_건조       50572 non-null  bool   \n",
      " 27  노면상태_기타       50572 non-null  bool   \n",
      " 28  노면상태_서리/결빙    50572 non-null  bool   \n",
      " 29  노면상태_적설       50572 non-null  bool   \n",
      " 30  노면상태_젖음/습기    50572 non-null  bool   \n",
      " 31  노면상태_침수       50572 non-null  bool   \n",
      "dtypes: bool(9), float64(5), int32(2), object(16)\n",
      "memory usage: 9.3+ MB\n",
      "None\n"
     ]
    }
   ],
   "source": [
    "# \"사고유형\" 및 \"노면상태\" 컬럼을 원-핫 인코딩\n",
    "data_encoded = pd.get_dummies(data, columns=['사고유형', '노면상태'])\n",
    "train_encoded = pd.get_dummies(train, columns=['사고유형', '노면상태'])\n",
    "# 결과 확인\n",
    "print(data_encoded.info())"
   ]
  },
  {
   "cell_type": "markdown",
   "metadata": {},
   "source": [
    "# 데이터 시각화"
   ]
  },
  {
   "cell_type": "markdown",
   "metadata": {},
   "source": [
    "## 사고 유형별 빈도"
   ]
  },
  {
   "cell_type": "code",
   "execution_count": 17,
   "metadata": {},
   "outputs": [
    {
     "data": {
      "image/png": "[encoded data removed]",
      "text/plain": [
       "<Figure size 1200x600 with 1 Axes>"
      ]
     },
     "metadata": {},
     "output_type": "display_data"
    }
   ],
   "source": [
    "import matplotlib.pyplot as plt\n",
    "import seaborn as sns\n",
    "\n",
    "# 사고유형에 따른 사망자, 중상자, 경상자, 부상자 수의 평균 계산\n",
    "grouped_data = data_encoded.groupby('사고유형_encoded').agg({\n",
    "    '사망자수': 'mean',\n",
    "    '중상자수': 'mean',\n",
    "    '경상자수': 'mean',\n",
    "    '부상자수': 'mean'\n",
    "}).reset_index()\n",
    "\n",
    "# Seaborn의 countplot을 사용하여 각 사고유형의 빈도를 시각화 (내림차순 정렬)\n",
    "plt.figure(figsize=(12, 6))\n",
    "sns.countplot(x='사고유형_encoded', data=data_encoded, palette='viridis', order=data_encoded['사고유형_encoded'].value_counts().index)\n",
    "plt.title('사고유형에 따른 사고 빈도', fontsize=16)\n",
    "plt.xlabel('사고유형', fontsize=14)\n",
    "plt.ylabel('빈도', fontsize=14)\n",
    "plt.xticks([0, 1, 2], ['차대차', '차대사람', '차량단독'], rotation=45, ha='right')\n",
    "# 그래프 표시\n",
    "plt.show()\n"
   ]
  },
  {
   "cell_type": "markdown",
   "metadata": {},
   "source": [
    "## 사고 유형별 부상정도 선 그래프"
   ]
  },
  {
   "cell_type": "code",
   "execution_count": 18,
   "metadata": {},
   "outputs": [
    {
     "data": {
      "image/png": "[encoded data removed]",
      "text/plain": [
       "<Figure size 1200x600 with 2 Axes>"
      ]
     },
     "metadata": {},
     "output_type": "display_data"
    }
   ],
   "source": [
    "# 사고유형에 따른 사망자, 중상자, 경상자, 부상자 수의 평균 계산\n",
    "grouped_data = data_encoded.groupby('사고유형_encoded').agg({\n",
    "    '사망자수': 'mean',\n",
    "    '중상자수': 'mean',\n",
    "    '경상자수': 'mean',\n",
    "    '부상자수': 'mean'\n",
    "}).reset_index()\n",
    "\n",
    "# 시각화\n",
    "fig, ax1 = plt.subplots(figsize=(12, 6))\n",
    "\n",
    "# 꺽은선 그래프 (사망자, 중상자, 경상자, 부상자)\n",
    "ax2 = ax1.twinx()\n",
    "ax2.plot(grouped_data['사고유형_encoded'], grouped_data['사망자수'], marker='o', linestyle='-', color='red', label='사망자수 (선)')\n",
    "ax2.plot(grouped_data['사고유형_encoded'], grouped_data['중상자수'], marker='o', linestyle='-', color='orange', label='중상자수 (선)')\n",
    "ax2.plot(grouped_data['사고유형_encoded'], grouped_data['경상자수'], marker='o', linestyle='-', color='Blue', label='경상자수 (선)')\n",
    "ax2.plot(grouped_data['사고유형_encoded'], grouped_data['부상자수'], marker='o', linestyle='-', color='green', label='부상자수 (선)')\n",
    "\n",
    "# 그래프 제목과 레이블\n",
    "plt.title('사고유형에 따른 사망자, 중상자, 경상자, 부상자 수', fontsize=16)\n",
    "ax1.set_xlabel('사고유형', fontsize=14)\n",
    "ax1.set_ylabel('인원수', fontsize=14, color='black')\n",
    "ax2.set_ylabel('인원수', fontsize=14, color='black')\n",
    "\n",
    "ax2.legend(loc='upper left', bbox_to_anchor=(1.1, 0.2))\n",
    "\n",
    "# x축 값 설정\n",
    "ax1.set_xticks(grouped_data['사고유형_encoded'])\n",
    "ax1.set_xticklabels(['차대사람', '차대차', '차량단독'], rotation=45, ha='right')\n",
    "\n",
    "# 그래프 표시\n",
    "plt.show()"
   ]
  },
  {
   "cell_type": "code",
   "execution_count": 19,
   "metadata": {},
   "outputs": [
    {
     "name": "stdout",
     "output_type": "stream",
     "text": [
      "   사고유형_encoded      사망자수      중상자수      경상자수      부상자수\n",
      "0             1  0.004310  0.237848  1.194526  0.128677\n",
      "1             0  0.018294  0.365725  0.569003  0.099078\n",
      "2             2  0.046418  0.336024  0.533804  0.260343\n"
     ]
    }
   ],
   "source": [
    "grouped_data.iloc[[0, 1]] = grouped_data.iloc[[1, 0]].to_numpy()\n",
    "print(grouped_data)"
   ]
  },
  {
   "cell_type": "markdown",
   "metadata": {},
   "source": [
    "## 사고 유형별 부상정도 막대그래프"
   ]
  },
  {
   "cell_type": "code",
   "execution_count": 26,
   "metadata": {},
   "outputs": [
    {
     "data": {
      "image/png": "[encoded data removed]",
      "text/plain": [
       "<Figure size 1000x600 with 1 Axes>"
      ]
     },
     "metadata": {},
     "output_type": "display_data"
    }
   ],
   "source": [
    "\n",
    "import seaborn as sns\n",
    "\n",
    "grouped_data['합계'] = grouped_data[['사망자수', '중상자수', '경상자수', '부상자수']].sum(axis=1)\n",
    "\n",
    "grouped_data_sorted = grouped_data.sort_values(by='합계', ascending=False)\n",
    "\n",
    "custom_labels = ['차대차', '차대사람', '차량단독']\n",
    "custom_colors = ['red', 'orange', 'green', 'yellow']\n",
    "\n",
    "fig, ax = plt.subplots(figsize=(10, 6))\n",
    "grouped_data_sorted.plot(kind='bar', x='사고유형_encoded', y=['사망자수', '중상자수', '경상자수', '부상자수'], ax=ax, edgecolor='black', color=custom_colors)\n",
    "plt.title('사고유형에 따른 사망자, 중상자, 경상자, 부상자 수', fontsize=16)\n",
    "plt.xlabel('사고유형', fontsize=14)\n",
    "plt.ylabel('인원수', fontsize=14, color='black')\n",
    "\n",
    "plt.legend(['사망자수', '중상자수', '경상자수', '부상자수'], loc='upper left', bbox_to_anchor=(1, 0.9))\n",
    "plt.xticks(range(len(custom_labels)), custom_labels, rotation=0)\n",
    "plt.show()"
   ]
  },
  {
   "cell_type": "markdown",
   "metadata": {},
   "source": [
    "## 노면 상태에 따른 부상정도 그래프"
   ]
  },
  {
   "cell_type": "code",
   "execution_count": 29,
   "metadata": {},
   "outputs": [
    {
     "name": "stdout",
     "output_type": "stream",
     "text": [
      "    노면상태      경상자수      중상자수      부상자수      사망자수\n",
      "0     건조  1.071472  0.259583  0.126963  0.007359\n",
      "1     기타  0.637931  0.344828  0.103448  0.034483\n",
      "2  서리/결빙  0.880000  0.240000  0.320000  0.000000\n",
      "3     적설  1.000000  0.000000  0.000000  0.000000\n",
      "4  젖음/습기  1.063871  0.294194  0.124516  0.011935\n",
      "5     침수  0.666667  0.000000  0.333333  0.333333\n"
     ]
    },
    {
     "data": {
      "image/png": "[encoded data removed]",
      "text/plain": [
       "<Figure size 1000x600 with 1 Axes>"
      ]
     },
     "metadata": {},
     "output_type": "display_data"
    }
   ],
   "source": [
    "import pandas as pd\n",
    "\n",
    "# 데이터프레임에서 필요한 열만 추출\n",
    "subset_df = train[['노면상태', '경상자수', '중상자수', '부상자수', '사망자수']]\n",
    "# '노면상태'로 그룹화하고 각 그룹에 대한 평균값 계산\n",
    "grouped_df = subset_df.groupby('노면상태').mean().reset_index()\n",
    "\n",
    "# 결과를 출력\n",
    "print(grouped_df)\n",
    "# 시각화\n",
    "fig, ax = plt.subplots(figsize=(10, 6))\n",
    "\n",
    "# 막대 그래프 생성\n",
    "bar_width = 0.2\n",
    "bar_positions = range(len(grouped_df))\n",
    "bar_colors = ['blue', 'orange', 'green', 'red']\n",
    "\n",
    "for i, column in enumerate(['경상자수', '중상자수', '부상자수', '사망자수']):\n",
    "    ax.bar(\n",
    "        x=[pos + bar_width * i for pos in bar_positions],\n",
    "        height=grouped_df[column],\n",
    "        width=bar_width,\n",
    "        label=column,\n",
    "        color=bar_colors[i]\n",
    "    )\n",
    "ax.set_xticks([pos + bar_width for pos in bar_positions])\n",
    "ax.set_xticklabels(grouped_df['노면상태'])\n",
    "ax.set_xlabel('노면상태')\n",
    "ax.set_ylabel('평균값')\n",
    "ax.set_title('노면상태에 따른 사고 피해자 수의 평균값')\n",
    "# 범례 표시\n",
    "ax.legend()\n",
    "# 그래프 출력\n",
    "plt.show()"
   ]
  },
  {
   "cell_type": "markdown",
   "metadata": {},
   "source": [
    "## 노면상태에 따른 ECLO 시각화"
   ]
  },
  {
   "cell_type": "code",
   "execution_count": 30,
   "metadata": {},
   "outputs": [
    {
     "data": {
      "text/html": [
       "<div>\n",
       "<style scoped>\n",
       "    .dataframe tbody tr th:only-of-type {\n",
       "        vertical-align: middle;\n",
       "    }\n",
       "\n",
       "    .dataframe tbody tr th {\n",
       "        vertical-align: top;\n",
       "    }\n",
       "\n",
       "    .dataframe thead th {\n",
       "        text-align: right;\n",
       "    }\n",
       "</style>\n",
       "<table border=\"1\" class=\"dataframe\">\n",
       "  <thead>\n",
       "    <tr style=\"text-align: right;\">\n",
       "      <th></th>\n",
       "      <th>노면상태</th>\n",
       "      <th>경상자수</th>\n",
       "      <th>중상자수</th>\n",
       "      <th>부상자수</th>\n",
       "      <th>사망자수</th>\n",
       "    </tr>\n",
       "  </thead>\n",
       "  <tbody>\n",
       "    <tr>\n",
       "      <th>0</th>\n",
       "      <td>건조</td>\n",
       "      <td>0</td>\n",
       "      <td>1</td>\n",
       "      <td>0</td>\n",
       "      <td>0</td>\n",
       "    </tr>\n",
       "    <tr>\n",
       "      <th>1</th>\n",
       "      <td>건조</td>\n",
       "      <td>1</td>\n",
       "      <td>0</td>\n",
       "      <td>0</td>\n",
       "      <td>0</td>\n",
       "    </tr>\n",
       "    <tr>\n",
       "      <th>2</th>\n",
       "      <td>건조</td>\n",
       "      <td>1</td>\n",
       "      <td>0</td>\n",
       "      <td>0</td>\n",
       "      <td>0</td>\n",
       "    </tr>\n",
       "    <tr>\n",
       "      <th>3</th>\n",
       "      <td>건조</td>\n",
       "      <td>0</td>\n",
       "      <td>1</td>\n",
       "      <td>0</td>\n",
       "      <td>0</td>\n",
       "    </tr>\n",
       "    <tr>\n",
       "      <th>4</th>\n",
       "      <td>건조</td>\n",
       "      <td>1</td>\n",
       "      <td>0</td>\n",
       "      <td>0</td>\n",
       "      <td>0</td>\n",
       "    </tr>\n",
       "    <tr>\n",
       "      <th>...</th>\n",
       "      <td>...</td>\n",
       "      <td>...</td>\n",
       "      <td>...</td>\n",
       "      <td>...</td>\n",
       "      <td>...</td>\n",
       "    </tr>\n",
       "    <tr>\n",
       "      <th>39604</th>\n",
       "      <td>건조</td>\n",
       "      <td>1</td>\n",
       "      <td>0</td>\n",
       "      <td>0</td>\n",
       "      <td>0</td>\n",
       "    </tr>\n",
       "    <tr>\n",
       "      <th>39605</th>\n",
       "      <td>건조</td>\n",
       "      <td>1</td>\n",
       "      <td>0</td>\n",
       "      <td>0</td>\n",
       "      <td>0</td>\n",
       "    </tr>\n",
       "    <tr>\n",
       "      <th>39606</th>\n",
       "      <td>건조</td>\n",
       "      <td>0</td>\n",
       "      <td>2</td>\n",
       "      <td>0</td>\n",
       "      <td>0</td>\n",
       "    </tr>\n",
       "    <tr>\n",
       "      <th>39607</th>\n",
       "      <td>건조</td>\n",
       "      <td>1</td>\n",
       "      <td>0</td>\n",
       "      <td>0</td>\n",
       "      <td>0</td>\n",
       "    </tr>\n",
       "    <tr>\n",
       "      <th>39608</th>\n",
       "      <td>건조</td>\n",
       "      <td>2</td>\n",
       "      <td>0</td>\n",
       "      <td>0</td>\n",
       "      <td>0</td>\n",
       "    </tr>\n",
       "  </tbody>\n",
       "</table>\n",
       "<p>39609 rows × 5 columns</p>\n",
       "</div>"
      ],
      "text/plain": [
       "      노면상태  경상자수  중상자수  부상자수  사망자수\n",
       "0       건조     0     1     0     0\n",
       "1       건조     1     0     0     0\n",
       "2       건조     1     0     0     0\n",
       "3       건조     0     1     0     0\n",
       "4       건조     1     0     0     0\n",
       "...    ...   ...   ...   ...   ...\n",
       "39604   건조     1     0     0     0\n",
       "39605   건조     1     0     0     0\n",
       "39606   건조     0     2     0     0\n",
       "39607   건조     1     0     0     0\n",
       "39608   건조     2     0     0     0\n",
       "\n",
       "[39609 rows x 5 columns]"
      ]
     },
     "execution_count": 30,
     "metadata": {},
     "output_type": "execute_result"
    }
   ],
   "source": [
    "subset_df"
   ]
  },
  {
   "cell_type": "code",
   "execution_count": 51,
   "metadata": {},
   "outputs": [
    {
     "data": {
      "image/png": "[encoded data removed]",
      "text/plain": [
       "<Figure size 1700x800 with 1 Axes>"
      ]
     },
     "metadata": {},
     "output_type": "display_data"
    }
   ],
   "source": [
    "# 노면상태별 ECLO 점수 평균 계산\n",
    "road_condition_eclo = train.groupby(\"노면상태\")[\"ECLO\"].mean()\n",
    "road_condition_eclo = road_condition_eclo.sort_values(ascending=False)\n",
    "# 그래프 그리기\n",
    "\n",
    "road_condition_eclo.plot.bar()\n",
    "plt.xlabel(\"노면상태\")\n",
    "plt.ylabel(\"ECLO 점수\")\n",
    "plt.show()\n"
   ]
  },
  {
   "cell_type": "markdown",
   "metadata": {},
   "source": [
    "## 사고 유형에 따른 ECLO 시각화"
   ]
  },
  {
   "cell_type": "code",
   "execution_count": 43,
   "metadata": {},
   "outputs": [
    {
     "data": {
      "image/png": "[encoded data removed]",
      "text/plain": [
       "<Figure size 1700x800 with 1 Axes>"
      ]
     },
     "metadata": {},
     "output_type": "display_data"
    }
   ],
   "source": [
    "# 노면상태별 ECLO 점수 평균 계산\n",
    "accident_type_eclo = train.groupby(\"사고유형\")[\"ECLO\"].mean()\n",
    "accident_type_eclo = accident_type_eclo.sort_values(ascending=False)\n",
    "# 그래프 그리기\n",
    "\n",
    "accident_type_eclo.plot.bar()\n",
    "plt.xlabel(\"사고유형\")\n",
    "plt.ylabel(\"ECLO 점수\")\n",
    "plt.show()"
   ]
  },
  {
   "cell_type": "code",
   "execution_count": null,
   "metadata": {},
   "outputs": [],
   "source": []
  },
  {
   "cell_type": "code",
   "execution_count": null,
   "metadata": {},
   "outputs": [],
   "source": []
  },
  {
   "cell_type": "markdown",
   "metadata": {
    "id": "dW-G8DGhR1oq"
   },
   "source": [
    "# 전처리한 데이터로 선형회귀"
   ]
  },
  {
   "cell_type": "code",
   "execution_count": 22,
   "metadata": {
    "id": "vXyL67j2R1oq",
    "outputId": "2412fbbb-7cae-4248-dbc2-934182be1e6b"
   },
   "outputs": [
    {
     "name": "stdout",
     "output_type": "stream",
     "text": [
      "<class 'pandas.core.frame.DataFrame'>\n",
      "RangeIndex: 39609 entries, 0 to 39608\n",
      "Data columns (total 10 columns):\n",
      " #   Column      Non-Null Count  Dtype\n",
      "---  ------      --------------  -----\n",
      " 0   ECLO        39609 non-null  int64\n",
      " 1   사고유형_차대사람   39609 non-null  bool \n",
      " 2   사고유형_차대차    39609 non-null  bool \n",
      " 3   사고유형_차량단독   39609 non-null  bool \n",
      " 4   노면상태_건조     39609 non-null  bool \n",
      " 5   노면상태_기타     39609 non-null  bool \n",
      " 6   노면상태_서리/결빙  39609 non-null  bool \n",
      " 7   노면상태_적설     39609 non-null  bool \n",
      " 8   노면상태_젖음/습기  39609 non-null  bool \n",
      " 9   노면상태_침수     39609 non-null  bool \n",
      "dtypes: bool(9), int64(1)\n",
      "memory usage: 657.7 KB\n",
      "None\n"
     ]
    }
   ],
   "source": [
    "# \"사고유형\" 및 \"노면상태\" 컬럼을 원-핫 인코딩 다시하는이유: test에는 eclo가 없는데 학습이 되나?\n",
    "train_encoded = pd.get_dummies(train, columns=['사고유형', '노면상태'])\n",
    "\n",
    "# \"사고유형\"으로 시작하는 컬럼과 \"노면상태\"로 시작하는 컬럼 및 \"ECLO\" 컬럼을 선택\n",
    "selected_columns = train_encoded.filter(regex='^사고유형_|^노면상태_|^ECLO$', axis=1)\n",
    "\n",
    "print(selected_columns.info())"
   ]
  },
  {
   "cell_type": "code",
   "execution_count": 23,
   "metadata": {
    "id": "m-aM5SbsR1oq",
    "outputId": "12d9c391-bd12-4c12-c790-e355cb150aed"
   },
   "outputs": [
    {
     "name": "stdout",
     "output_type": "stream",
     "text": [
      "RMSLE: 0.4641459750686722\n",
      "RMSLE: 9.779149067323637\n",
      "RMSLE: 0.0170830853071261\n"
     ]
    }
   ],
   "source": [
    "# RMSLE, MSE로 성능확인\n",
    "import pandas as pd\n",
    "from sklearn.model_selection import train_test_split\n",
    "from sklearn.linear_model import LinearRegression\n",
    "from sklearn.metrics import mean_squared_log_error\n",
    "from sklearn.metrics import mean_squared_error\n",
    "from sklearn.metrics import r2_score\n",
    "\n",
    "# 독립 변수(X)와 종속 변수(y) 설정\n",
    "X = selected_columns.drop('ECLO', axis=1)\n",
    "y = selected_columns['ECLO']\n",
    "\n",
    "# 훈련 데이터와 테스트 데이터로 분리\n",
    "X_train, X_test, y_train, y_test = train_test_split(X, y, test_size=0.2, random_state=42)\n",
    "\n",
    "# 선형 회귀 모델 생성\n",
    "model = LinearRegression()\n",
    "\n",
    "# 모델 훈련\n",
    "model.fit(X_train, y_train)\n",
    "\n",
    "# 예측\n",
    "y_pred = model.predict(X_test)\n",
    "\n",
    "# RMSLE 계산\n",
    "rmsle = mean_squared_log_error(y_test, y_pred, squared=False)\n",
    "\n",
    "# 결과 출력\n",
    "print(f'RMSLE: {rmsle}')\n",
    "\n",
    "mse = mean_squared_error(y_test, y_pred)\n",
    "print(f'RMSLE: {mse}')\n",
    "\n",
    "r2 = r2_score(y_test, y_pred)\n",
    "print(f'RMSLE: {r2}')"
   ]
  },
  {
   "cell_type": "markdown",
   "metadata": {
    "id": "EeByAXcCR1or"
   },
   "source": [
    "# train데이터 알고리즘 분석해보기"
   ]
  },
  {
   "cell_type": "code",
   "execution_count": 57,
   "metadata": {},
   "outputs": [
    {
     "name": "stdout",
     "output_type": "stream",
     "text": [
      "Accuracy: 0.47336531178995206\n",
      "\n",
      "Classification Report:\n",
      "               precision    recall  f1-score   support\n",
      "\n",
      "           1       0.00      0.00      0.00       531\n",
      "           2       0.00      0.00      0.00        26\n",
      "           3       0.47      1.00      0.64      3750\n",
      "           4       0.00      0.00      0.00       152\n",
      "           5       0.00      0.00      0.00      1326\n",
      "           6       0.00      0.00      0.00      1008\n",
      "           7       0.00      0.00      0.00        51\n",
      "           8       0.00      0.00      0.00       243\n",
      "           9       0.00      0.00      0.00       290\n",
      "          10       0.00      0.00      0.00       130\n",
      "          11       0.00      0.00      0.00        81\n",
      "          12       0.00      0.00      0.00       115\n",
      "          13       0.00      0.00      0.00        43\n",
      "          14       0.00      0.00      0.00        23\n",
      "          15       0.00      0.00      0.00        57\n",
      "          16       0.00      0.00      0.00        21\n",
      "          17       0.00      0.00      0.00        12\n",
      "          18       0.00      0.00      0.00        25\n",
      "          19       0.00      0.00      0.00         8\n",
      "          20       0.00      0.00      0.00         5\n",
      "          21       0.00      0.00      0.00         5\n",
      "          22       0.00      0.00      0.00         5\n",
      "          23       0.00      0.00      0.00         1\n",
      "          24       0.00      0.00      0.00         4\n",
      "          26       0.00      0.00      0.00         1\n",
      "          27       0.00      0.00      0.00         1\n",
      "          28       0.00      0.00      0.00         1\n",
      "          32       0.00      0.00      0.00         2\n",
      "          33       0.00      0.00      0.00         1\n",
      "          35       0.00      0.00      0.00         1\n",
      "          40       0.00      0.00      0.00         1\n",
      "          47       0.00      0.00      0.00         1\n",
      "          52       0.00      0.00      0.00         1\n",
      "\n",
      "    accuracy                           0.47      7922\n",
      "   macro avg       0.01      0.03      0.02      7922\n",
      "weighted avg       0.22      0.47      0.30      7922\n",
      "\n"
     ]
    }
   ],
   "source": [
    "from sklearn.model_selection import train_test_split\n",
    "from sklearn.preprocessing import LabelEncoder\n",
    "from sklearn.linear_model import LogisticRegression\n",
    "from sklearn.metrics import accuracy_score, classification_report\n",
    "\n",
    "# 데이터 전처리\n",
    "le = LabelEncoder()\n",
    "df_encoded = train.copy()\n",
    "for column in df_encoded.columns:\n",
    "    if df_encoded[column].dtype == 'object':\n",
    "        df_encoded[column] = le.fit_transform(df_encoded[column])\n",
    "\n",
    "# 종속변수와 특성 설정\n",
    "X = df_encoded.drop(['ECLO'], axis=1)\n",
    "y = df_encoded['ECLO']\n",
    "\n",
    "# 학습용과 테스트용 데이터로 나누기\n",
    "X_train, X_test, y_train, y_test = train_test_split(X, y, test_size=0.2, random_state=42)\n",
    "\n",
    "# 머신러닝 알고리즘 선택 및 학습\n",
    "model = LogisticRegression(random_state=42)\n",
    "model.fit(X_train, y_train)\n",
    "\n",
    "# 예측\n",
    "y_pred = model.predict(X_test)\n",
    "\n",
    "# 성능 평가\n",
    "accuracy = accuracy_score(y_test, y_pred)\n",
    "classification_report_result = classification_report(y_test, y_pred)\n",
    "\n",
    "print(f'Accuracy: {accuracy}')\n",
    "print('\\nClassification Report:\\n', classification_report_result)\n"
   ]
  },
  {
   "cell_type": "code",
   "execution_count": null,
   "metadata": {},
   "outputs": [],
   "source": []
  },
  {
   "cell_type": "code",
   "execution_count": null,
   "metadata": {},
   "outputs": [],
   "source": []
  },
  {
   "cell_type": "code",
   "execution_count": null,
   "metadata": {},
   "outputs": [],
   "source": []
  },
  {
   "cell_type": "code",
   "execution_count": null,
   "metadata": {},
   "outputs": [],
   "source": []
  },
  {
   "cell_type": "markdown",
   "metadata": {
    "id": "PROt3QizJoRk"
   },
   "source": [
    "### 날짜 데이터 파싱하기"
   ]
  },
  {
   "cell_type": "code",
   "execution_count": 24,
   "metadata": {
    "ExecuteTime": {
     "end_time": "2023-11-20T05:03:03.416463Z",
     "start_time": "2023-11-20T05:03:03.389125Z"
    },
    "id": "mzrPzRNAJoRk"
   },
   "outputs": [
    {
     "ename": "AttributeError",
     "evalue": "Can only use .dt accessor with datetimelike values",
     "output_type": "error",
     "traceback": [
      "\u001b[1;31m---------------------------------------------------------------------------\u001b[0m",
      "\u001b[1;31mAttributeError\u001b[0m                            Traceback (most recent call last)",
      "Cell \u001b[1;32mIn[24], line 1\u001b[0m\n\u001b[1;32m----> 1\u001b[0m train[\u001b[38;5;124m'\u001b[39m\u001b[38;5;124myear\u001b[39m\u001b[38;5;124m'\u001b[39m] \u001b[38;5;241m=\u001b[39m train\u001b[38;5;241m.\u001b[39m사고일시\u001b[38;5;241m.\u001b[39mdt\u001b[38;5;241m.\u001b[39myear\n\u001b[0;32m      2\u001b[0m train[\u001b[38;5;124m'\u001b[39m\u001b[38;5;124mmonth\u001b[39m\u001b[38;5;124m'\u001b[39m] \u001b[38;5;241m=\u001b[39m train\u001b[38;5;241m.\u001b[39m사고일시\u001b[38;5;241m.\u001b[39mdt\u001b[38;5;241m.\u001b[39mmonth\n\u001b[0;32m      3\u001b[0m train[\u001b[38;5;124m'\u001b[39m\u001b[38;5;124mday\u001b[39m\u001b[38;5;124m'\u001b[39m] \u001b[38;5;241m=\u001b[39m train\u001b[38;5;241m.\u001b[39m사고일시\u001b[38;5;241m.\u001b[39mdt\u001b[38;5;241m.\u001b[39mday\n",
      "File \u001b[1;32m~\\anaconda3\\Lib\\site-packages\\pandas\\core\\generic.py:5989\u001b[0m, in \u001b[0;36mNDFrame.__getattr__\u001b[1;34m(self, name)\u001b[0m\n\u001b[0;32m   5982\u001b[0m \u001b[38;5;28;01mif\u001b[39;00m (\n\u001b[0;32m   5983\u001b[0m     name \u001b[38;5;129;01mnot\u001b[39;00m \u001b[38;5;129;01min\u001b[39;00m \u001b[38;5;28mself\u001b[39m\u001b[38;5;241m.\u001b[39m_internal_names_set\n\u001b[0;32m   5984\u001b[0m     \u001b[38;5;129;01mand\u001b[39;00m name \u001b[38;5;129;01mnot\u001b[39;00m \u001b[38;5;129;01min\u001b[39;00m \u001b[38;5;28mself\u001b[39m\u001b[38;5;241m.\u001b[39m_metadata\n\u001b[0;32m   5985\u001b[0m     \u001b[38;5;129;01mand\u001b[39;00m name \u001b[38;5;129;01mnot\u001b[39;00m \u001b[38;5;129;01min\u001b[39;00m \u001b[38;5;28mself\u001b[39m\u001b[38;5;241m.\u001b[39m_accessors\n\u001b[0;32m   5986\u001b[0m     \u001b[38;5;129;01mand\u001b[39;00m \u001b[38;5;28mself\u001b[39m\u001b[38;5;241m.\u001b[39m_info_axis\u001b[38;5;241m.\u001b[39m_can_hold_identifiers_and_holds_name(name)\n\u001b[0;32m   5987\u001b[0m ):\n\u001b[0;32m   5988\u001b[0m     \u001b[38;5;28;01mreturn\u001b[39;00m \u001b[38;5;28mself\u001b[39m[name]\n\u001b[1;32m-> 5989\u001b[0m \u001b[38;5;28;01mreturn\u001b[39;00m \u001b[38;5;28mobject\u001b[39m\u001b[38;5;241m.\u001b[39m\u001b[38;5;21m__getattribute__\u001b[39m(\u001b[38;5;28mself\u001b[39m, name)\n",
      "File \u001b[1;32m~\\anaconda3\\Lib\\site-packages\\pandas\\core\\accessor.py:224\u001b[0m, in \u001b[0;36mCachedAccessor.__get__\u001b[1;34m(self, obj, cls)\u001b[0m\n\u001b[0;32m    221\u001b[0m \u001b[38;5;28;01mif\u001b[39;00m obj \u001b[38;5;129;01mis\u001b[39;00m \u001b[38;5;28;01mNone\u001b[39;00m:\n\u001b[0;32m    222\u001b[0m     \u001b[38;5;66;03m# we're accessing the attribute of the class, i.e., Dataset.geo\u001b[39;00m\n\u001b[0;32m    223\u001b[0m     \u001b[38;5;28;01mreturn\u001b[39;00m \u001b[38;5;28mself\u001b[39m\u001b[38;5;241m.\u001b[39m_accessor\n\u001b[1;32m--> 224\u001b[0m accessor_obj \u001b[38;5;241m=\u001b[39m \u001b[38;5;28mself\u001b[39m\u001b[38;5;241m.\u001b[39m_accessor(obj)\n\u001b[0;32m    225\u001b[0m \u001b[38;5;66;03m# Replace the property with the accessor object. Inspired by:\u001b[39;00m\n\u001b[0;32m    226\u001b[0m \u001b[38;5;66;03m# https://www.pydanny.com/cached-property.html\u001b[39;00m\n\u001b[0;32m    227\u001b[0m \u001b[38;5;66;03m# We need to use object.__setattr__ because we overwrite __setattr__ on\u001b[39;00m\n\u001b[0;32m    228\u001b[0m \u001b[38;5;66;03m# NDFrame\u001b[39;00m\n\u001b[0;32m    229\u001b[0m \u001b[38;5;28mobject\u001b[39m\u001b[38;5;241m.\u001b[39m\u001b[38;5;21m__setattr__\u001b[39m(obj, \u001b[38;5;28mself\u001b[39m\u001b[38;5;241m.\u001b[39m_name, accessor_obj)\n",
      "File \u001b[1;32m~\\anaconda3\\Lib\\site-packages\\pandas\\core\\indexes\\accessors.py:580\u001b[0m, in \u001b[0;36mCombinedDatetimelikeProperties.__new__\u001b[1;34m(cls, data)\u001b[0m\n\u001b[0;32m    577\u001b[0m \u001b[38;5;28;01melif\u001b[39;00m is_period_dtype(data\u001b[38;5;241m.\u001b[39mdtype):\n\u001b[0;32m    578\u001b[0m     \u001b[38;5;28;01mreturn\u001b[39;00m PeriodProperties(data, orig)\n\u001b[1;32m--> 580\u001b[0m \u001b[38;5;28;01mraise\u001b[39;00m \u001b[38;5;167;01mAttributeError\u001b[39;00m(\u001b[38;5;124m\"\u001b[39m\u001b[38;5;124mCan only use .dt accessor with datetimelike values\u001b[39m\u001b[38;5;124m\"\u001b[39m)\n",
      "\u001b[1;31mAttributeError\u001b[0m: Can only use .dt accessor with datetimelike values"
     ]
    }
   ],
   "source": [
    "\n",
    "train['year'] = train.사고일시.dt.year\n",
    "train['month'] = train.사고일시.dt.month\n",
    "train['day'] = train.사고일시.dt.day\n",
    "train['hour'] = train.사고일시.dt.hour"
   ]
  },
  {
   "cell_type": "code",
   "execution_count": null,
   "metadata": {
    "ExecuteTime": {
     "end_time": "2023-11-20T05:03:03.811100Z",
     "start_time": "2023-11-20T05:03:03.798139Z"
    },
    "id": "B99WyCuZJoRk"
   },
   "outputs": [],
   "source": [
    "test['year'] = test.사고일시.dt.year\n",
    "test['month'] = test.사고일시.dt.month\n",
    "test['day'] = test.사고일시.dt.day\n",
    "test['hour'] = test.사고일시.dt.hour"
   ]
  },
  {
   "cell_type": "markdown",
   "metadata": {
    "id": "TOeUh7fcJoRk",
    "pbl_cell_type": "markdown",
    "step_id": 5168,
    "step_number": 2
   },
   "source": [
    "## **데이터 전처리**  \n",
    "\n",
    "현재 '사고일시', '시군구', '도로형태' 컬럼은 반복되는 패턴으로 여러 정보를 포함하고 있습니다\n",
    "이런 반복되는 패턴을 일반화하면 pandas에서 제공하는 str.extract를 통해 한 번에 추출 가능합니다  \n",
    "\n",
    "## **파생 변수 생성 1 : 날짜, 시간정보 생성**\n",
    "\n",
    "'사고일시' 컬럼으로 부터 연도, 월, 일, 시간 정보 추출 및 변환 합니다"
   ]
  },
  {
   "cell_type": "code",
   "execution_count": null,
   "metadata": {
    "ExecuteTime": {
     "end_time": "2023-11-20T05:03:28.253234Z",
     "start_time": "2023-11-20T05:03:28.091563Z"
    },
    "id": "PGeKhkdKJoRk"
   },
   "outputs": [],
   "source": [
    "import pandas as pd\n",
    "from datetime import datetime\n",
    "\n",
    "train_org = pd.read_csv('./open/train.csv')\n",
    "test_org = pd.read_csv('./open/test.csv')\n",
    "\n",
    "display(train_org.head())\n",
    "display(test_org.tail())"
   ]
  },
  {
   "cell_type": "code",
   "execution_count": null,
   "metadata": {
    "ExecuteTime": {
     "end_time": "2023-11-20T05:03:28.656364Z",
     "start_time": "2023-11-20T05:03:28.444640Z"
    },
    "id": "_woJ1MBbJoRk",
    "pbl_cell_type": "code",
    "step_id": 5168,
    "step_number": 2
   },
   "outputs": [],
   "source": [
    "train_df = train_org.copy()\n",
    "test_df = test_org.copy()\n",
    "\n",
    "time_pattern = r'(\\d{4})-(\\d{1,2})-(\\d{1,2}) (\\d{1,2})'\n",
    "\n",
    "train_df[['연', '월', '일', '시간']] = train_org['사고일시'].str.extract(time_pattern)\n",
    "train_df[['연', '월', '일', '시간']] = train_df[['연', '월', '일', '시간']].apply(pd.to_numeric) # 추출된 문자열을 수치화해줍니다\n",
    "train_df = train_df.drop(columns=['사고일시']) # 정보 추출이 완료된 '사고일시' 컬럼은 제거합니다\n",
    "\n",
    "# 해당 과정을 test_x에 대해서도 반복해줍니다\n",
    "test_df[['연', '월', '일', '시간']] = test_org['사고일시'].str.extract(time_pattern)\n",
    "test_df[['연', '월', '일', '시간']] = test_df[['연', '월', '일', '시간']].apply(pd.to_numeric)\n",
    "test_df = test_df.drop(columns=['사고일시'])\n",
    "\n",
    "display(f\"columns of train_df : {train_df.columns}\")\n",
    "display(f\"columns of test_df : {test_df.columns}\")"
   ]
  },
  {
   "cell_type": "markdown",
   "metadata": {
    "id": "DAUjtZeCJoRl",
    "pbl_cell_type": "markdown",
    "step_id": 5169,
    "step_number": 3
   },
   "source": [
    "## **파생 변수 생성 2 : 공간(위치) 정보 생성**\n",
    "\n",
    "'시군구' 컬럼으로부터 의미 있는 공산 정보를 추출 및 변환 합니다"
   ]
  },
  {
   "cell_type": "code",
   "execution_count": null,
   "metadata": {
    "ExecuteTime": {
     "end_time": "2023-11-20T05:03:30.172422Z",
     "start_time": "2023-11-20T05:03:30.076482Z"
    },
    "id": "EW2G7DuZJoRl",
    "pbl_cell_type": "code",
    "step_id": 5169,
    "step_number": 3
   },
   "outputs": [],
   "source": [
    "location_pattern = r'(\\S+) (\\S+) (\\S+)'\n",
    "\n",
    "train_df[['도시', '구', '동']] = train_org['시군구'].str.extract(location_pattern)\n",
    "train_df = train_df.drop(columns=['시군구'])\n",
    "\n",
    "test_df[['도시', '구', '동']] = test_org['시군구'].str.extract(location_pattern)\n",
    "test_df = test_df.drop(columns=['시군구'])\n",
    "\n",
    "display(f\"columns of train_df : {train_df.columns}\")\n",
    "display(f\"columns of test_df : {test_df.columns}\")"
   ]
  },
  {
   "cell_type": "markdown",
   "metadata": {
    "id": "w2eqjFtJJoRl",
    "pbl_cell_type": "markdown",
    "step_id": 5170,
    "step_number": 4
   },
   "source": [
    "## **파생 변수 추출 3 : 도로 형태 정보 추출**  \n",
    "\n",
    "'도로형태' 컬럼은 '단일로 - 기타'와 같은 패턴으로 구성되어 있습니다. 이를 두종류의 독립된 정보로 보고 두개의 컬럼으로 분리하여 생성합니다."
   ]
  },
  {
   "cell_type": "code",
   "execution_count": null,
   "metadata": {
    "ExecuteTime": {
     "end_time": "2023-11-20T05:03:31.133840Z",
     "start_time": "2023-11-20T05:03:31.016528Z"
    },
    "id": "worronJqJoRl",
    "pbl_cell_type": "code",
    "step_id": 5170,
    "step_number": 4
   },
   "outputs": [],
   "source": [
    "road_pattern = r'(.+) - (.+)'\n",
    "\n",
    "train_df[['도로형태1', '도로형태2']] = train_org['도로형태'].str.extract(road_pattern)\n",
    "train_df = train_df.drop(columns=['도로형태'])\n",
    "\n",
    "test_df[['도로형태1', '도로형태2']] = test_org['도로형태'].str.extract(road_pattern)\n",
    "test_df = test_df.drop(columns=['도로형태'])\n",
    "\n",
    "display(f\"columns of train_df : {train_df.columns}\")\n",
    "display(f\"columns of test_df : {test_df.columns}\")"
   ]
  },
  {
   "cell_type": "markdown",
   "metadata": {
    "id": "Um8Y2i3uJoRl"
   },
   "source": [
    "## train, test 컬럼 수 맞추기\n",
    "\n",
    "test에 있는 컬럼들만 사용하여 train 데이터를 구성했습니다."
   ]
  },
  {
   "cell_type": "code",
   "execution_count": null,
   "metadata": {
    "ExecuteTime": {
     "end_time": "2023-11-20T05:06:39.284870Z",
     "start_time": "2023-11-20T05:06:39.215583Z"
    },
    "id": "7C4sfAN4JoRl"
   },
   "outputs": [],
   "source": [
    "train_df= train_df[['ID','요일','기상상태','노면상태', '사고유형', '연', '월', '일', '시간', '도시', '구','동', '도로형태1', '도로형태2']]\n",
    "train_df"
   ]
  },
  {
   "cell_type": "markdown",
   "metadata": {
    "id": "t-m18OgNJoRm",
    "pbl_cell_type": "markdown",
    "step_id": 5171,
    "step_number": 5
   },
   "source": [
    "## **전처리 결과 확인**\n",
    "\n",
    "지금까지 전처리한 결과를 확인해 봅시다"
   ]
  },
  {
   "cell_type": "code",
   "execution_count": null,
   "metadata": {
    "ExecuteTime": {
     "end_time": "2023-11-20T05:06:44.582036Z",
     "start_time": "2023-11-20T05:06:44.549641Z"
    },
    "id": "REMMuAFfJoRm",
    "pbl_cell_type": "code",
    "step_id": 5171,
    "step_number": 5
   },
   "outputs": [],
   "source": [
    "display(train_df.head())\n",
    "display(test_df.head())"
   ]
  },
  {
   "cell_type": "code",
   "execution_count": null,
   "metadata": {
    "id": "1WL7IC-NJoRm"
   },
   "outputs": [],
   "source": [
    "# train과 test 데이터 합치기\n",
    "data = pd.concat([train_df, test_df], sort=False)\n",
    "data.info()"
   ]
  }
 ],
 "metadata": {
  "colab": {
   "provenance": []
  },
  "kernelspec": {
   "display_name": "Python 3 (ipykernel)",
   "language": "python",
   "name": "python3"
  },
  "language_info": {
   "codemirror_mode": {
    "name": "ipython",
    "version": 3
   },
   "file_extension": ".py",
   "mimetype": "text/x-python",
   "name": "python",
   "nbconvert_exporter": "python",
   "pygments_lexer": "ipython3",
   "version": "3.11.5"
  }
 },
 "nbformat": 4,
 "nbformat_minor": 1
}
