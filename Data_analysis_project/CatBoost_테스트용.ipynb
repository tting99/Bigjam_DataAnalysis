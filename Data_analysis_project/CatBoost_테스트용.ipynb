{
 "cells": [
  {
   "cell_type": "markdown",
   "id": "e2d4cd44",
   "metadata": {},
   "source": [
    "# catboost\n"
   ]
  },
  {
   "cell_type": "code",
   "execution_count": 330,
   "id": "ac047a61",
   "metadata": {},
   "outputs": [],
   "source": [
    "import pandas as pd\n",
    "\n",
    "train = pd.read_csv('./open/train.csv')\n",
    "test = pd.read_csv('./open/test.csv')\n",
    "\n",
    "train = train.drop(['시군구','ID'], axis = 1)\n",
    "test = test.drop(['시군구','ID'], axis = 1)\n",
    "\n",
    "train_data = train.copy()\n",
    "train_data = train_data.dropna()\n",
    "\n",
    "test_data = test.copy()\n",
    "test_data = test_data.dropna()\n",
    "# data_onehot_enco = pd.read_csv('./open/onehot_encoded_시,일제외.csv', encoding = \"UTF_8\", low_memory=False)\n",
    "# data_onehot_enco = data_onehot_enco.drop(['Unnamed: 0'], axis=1)\n",
    "# data_onehot_enco.head()\n",
    "\n",
    "train_data['사고일시'] = pd.to_datetime(train_data['사고일시'])\n",
    "train_data['월'] = train_data['사고일시'].dt.month\n",
    "train_data['시간'] = train_data['사고일시'].dt.hour\n",
    "\n",
    "test_data['사고일시'] = pd.to_datetime(test_data['사고일시'])\n",
    "test_data['월'] = test_data['사고일시'].dt.month\n",
    "test_data['시간'] = test_data['사고일시'].dt.hour\n",
    "\n",
    "train_data = train_data.drop(['사고일시'], axis = 1)\n",
    "test_data = test_data.drop(['사고일시'], axis = 1)\n",
    "# 모든 컬럼에 대해 겹치는 값 찾기\n",
    "common_values = {}\n",
    "for column in train_data.columns:\n",
    "    if column in test_data.columns:\n",
    "        common_values[column] = set(train_data[column].unique()).intersection(test_data[column].unique())\n",
    "\n",
    "# train 데이터 필터링\n",
    "for column, values in common_values.items():\n",
    "    train_data = train_data[train_data[column].isin(values)]\n",
    "\n",
    "# test 데이터 필터링\n",
    "for column, values in common_values.items():\n",
    "    test_data = test_data[test_data[column].isin(values)]\n",
    "\n",
    "    \n",
    "train_data_eclo = train_data.copy()"
   ]
  },
  {
   "cell_type": "code",
   "execution_count": 294,
   "id": "b8c9abd3",
   "metadata": {},
   "outputs": [],
   "source": [
    "# 패키지 설치 경로 확인\n",
    "# import sys\n",
    "# sys.path"
   ]
  },
  {
   "cell_type": "code",
   "execution_count": 295,
   "id": "b59bfe21",
   "metadata": {},
   "outputs": [],
   "source": [
    "# merged_data = pd.merge(train_data, test_data, on='도로형태', how='inner')\n",
    "# # 겹치는 부분만 남기기\n",
    "# common_values = merged_data['도로형태'].unique()\n",
    "# # train 데이터에서 공통된 값만 남기기\n",
    "# train_data = train_data[train_data['도로형태'].isin(common_values)]\n",
    "# # test 데이터에서 공통된 값만 남기기\n",
    "# test_data = test_data[test_data['도로형태'].isin(common_values)]"
   ]
  },
  {
   "cell_type": "code",
   "execution_count": 331,
   "id": "98f9140b",
   "metadata": {},
   "outputs": [
    {
     "name": "stdout",
     "output_type": "stream",
     "text": [
      "['단일로 - 기타' '교차로 - 교차로안' '기타 - 기타' '단일로 - 터널' '단일로 - 지하차도(도로)내'\n",
      " '교차로 - 교차로횡단보도내' '주차장 - 주차장' '교차로 - 교차로부근' '단일로 - 고가도로위' '단일로 - 교량'\n",
      " '미분류 - 미분류']\n",
      "['교차로 - 교차로안' '단일로 - 기타' '교차로 - 교차로횡단보도내' '교차로 - 교차로부근' '단일로 - 지하차도(도로)내'\n",
      " '기타 - 기타' '단일로 - 교량' '단일로 - 고가도로위' '주차장 - 주차장' '단일로 - 터널' '미분류 - 미분류']\n",
      "<class 'pandas.core.frame.DataFrame'>\n",
      "Index: 38610 entries, 0 to 39608\n",
      "Data columns (total 22 columns):\n",
      " #   Column       Non-Null Count  Dtype \n",
      "---  ------       --------------  ----- \n",
      " 0   요일           38610 non-null  object\n",
      " 1   기상상태         38610 non-null  object\n",
      " 2   도로형태         38610 non-null  object\n",
      " 3   노면상태         38610 non-null  object\n",
      " 4   사고유형         38610 non-null  object\n",
      " 5   사고유형 - 세부분류  38610 non-null  object\n",
      " 6   법규위반         38610 non-null  object\n",
      " 7   가해운전자 차종     38610 non-null  object\n",
      " 8   가해운전자 성별     38610 non-null  object\n",
      " 9   가해운전자 연령     38610 non-null  object\n",
      " 10  가해운전자 상해정도   38610 non-null  object\n",
      " 11  피해운전자 차종     38610 non-null  object\n",
      " 12  피해운전자 성별     38610 non-null  object\n",
      " 13  피해운전자 연령     38610 non-null  object\n",
      " 14  피해운전자 상해정도   38610 non-null  object\n",
      " 15  사망자수         38610 non-null  int64 \n",
      " 16  중상자수         38610 non-null  int64 \n",
      " 17  경상자수         38610 non-null  int64 \n",
      " 18  부상자수         38610 non-null  int64 \n",
      " 19  ECLO         38610 non-null  int64 \n",
      " 20  월            38610 non-null  int32 \n",
      " 21  시간           38610 non-null  int32 \n",
      "dtypes: int32(2), int64(5), object(15)\n",
      "memory usage: 6.5+ MB\n",
      "<class 'pandas.core.frame.DataFrame'>\n",
      "Index: 10638 entries, 0 to 10962\n",
      "Data columns (total 7 columns):\n",
      " #   Column  Non-Null Count  Dtype \n",
      "---  ------  --------------  ----- \n",
      " 0   요일      10638 non-null  object\n",
      " 1   기상상태    10638 non-null  object\n",
      " 2   도로형태    10638 non-null  object\n",
      " 3   노면상태    10638 non-null  object\n",
      " 4   사고유형    10638 non-null  object\n",
      " 5   월       10638 non-null  int32 \n",
      " 6   시간      10638 non-null  int32 \n",
      "dtypes: int32(2), object(5)\n",
      "memory usage: 581.8+ KB\n"
     ]
    }
   ],
   "source": [
    "print(train_data['도로형태'].unique())\n",
    "print(test_data['도로형태'].unique())\n",
    "train_data.info()\n",
    "test_data.info()\n"
   ]
  },
  {
   "cell_type": "code",
   "execution_count": 332,
   "id": "38f54a20",
   "metadata": {},
   "outputs": [],
   "source": [
    "# 훈련 데이터와 테스트 데이터에서 공통된 특성만 선택\n",
    "common_features = list(set(train_data.columns) & set(test_data.columns))\n",
    "\n",
    "# 훈련 데이터에서 선택된 공통된 특성만 추출\n",
    "train_data = train_data[common_features]\n",
    "\n",
    "# 테스트 데이터에서 선택된 공통된 특성만 추출\n",
    "test_data = test_data[common_features]\n"
   ]
  },
  {
   "cell_type": "code",
   "execution_count": 333,
   "id": "f2bd1fac",
   "metadata": {},
   "outputs": [],
   "source": [
    "# 필요한 라이브러리 import\n",
    "from catboost import CatBoostRegressor, Pool\n",
    "from sklearn.model_selection import train_test_split\n",
    "from sklearn.preprocessing import LabelEncoder\n",
    "\n",
    "# 피처와 레이블 분리\n",
    "X = train_data\n",
    "y = train_data_eclo[\"ECLO\"]  # 종속변수\n",
    "\n",
    "# 훈련 데이터와 테스트 데이터를 concat하여 전체 데이터셋을 만듭니다.\n",
    "full_data = pd.concat([X, test_data])\n",
    "\n",
    "# 범주형 변수(Label Encoding)\n",
    "label_encoder = LabelEncoder()\n",
    "categorical_columns = full_data.select_dtypes(include=[\"object\"]).columns.tolist()\n",
    "\n",
    "for col in categorical_columns:\n",
    "    full_data[col] = label_encoder.fit_transform(full_data[col])\n",
    "\n",
    "# 다시 훈련 데이터와 테스트 데이터로 나눕니다.\n",
    "X = full_data[:len(X)]\n",
    "test_data = full_data[len(X):]\n"
   ]
  },
  {
   "cell_type": "code",
   "execution_count": 334,
   "id": "49a20636",
   "metadata": {},
   "outputs": [
    {
     "name": "stdout",
     "output_type": "stream",
     "text": [
      "0:\tlearn: 3.1899779\ttest: 3.2078781\tbest: 3.2078781 (0)\ttotal: 28.2ms\tremaining: 28.2s\n",
      "100:\tlearn: 3.1206604\ttest: 3.1711449\tbest: 3.1711449 (100)\ttotal: 3.19s\tremaining: 28.4s\n",
      "200:\tlearn: 3.0966557\ttest: 3.1706927\tbest: 3.1706179 (197)\ttotal: 6.63s\tremaining: 26.4s\n",
      "Stopped by overfitting detector  (50 iterations wait)\n",
      "\n",
      "bestTest = 3.170617854\n",
      "bestIteration = 197\n",
      "\n",
      "Shrink model to first 198 iterations.\n",
      "RMSE 값 (CatBoost): 3.1706\n"
     ]
    }
   ],
   "source": [
    "from catboost import CatBoostRegressor, Pool\n",
    "\n",
    "# 피처와 레이블 분리\n",
    "X = train_data\n",
    "y = train_data_eclo[\"ECLO\"]  # 종속변수\n",
    "\n",
    "# 범주형 변수(Label Encoding)\n",
    "label_encoder = LabelEncoder()\n",
    "categorical_columns = X.select_dtypes(include=[\"object\"]).columns.tolist()\n",
    "\n",
    "for col in categorical_columns:\n",
    "    X[col] = label_encoder.fit_transform(X[col])\n",
    "\n",
    "# train 데이터를 학습(train)과 검증(validation) 세트로 분할\n",
    "X_train, X_valid, y_train, y_valid = train_test_split(X, y, test_size=0.2, random_state=42)\n",
    "\n",
    "# CatBoost Pool 객체 생성\n",
    "train_pool = Pool(X_train, y_train, cat_features=categorical_columns)\n",
    "valid_pool = Pool(X_valid, y_valid, cat_features=categorical_columns)\n",
    "\n",
    "# CatBoost 모델 생성 및 학습\n",
    "cat_features = categorical_columns  # 범주형 변수 리스트\n",
    "model_cbr = CatBoostRegressor(iterations=1000, depth=10, learning_rate=0.05, cat_features=cat_features)\n",
    "model_cbr.fit(train_pool, eval_set=valid_pool, early_stopping_rounds=50, verbose=100)\n",
    "\n",
    "# RMSE 계산\n",
    "rmse_value = model_cbr.get_best_score()['validation']['RMSE']\n",
    "print(f'RMSE 값 (CatBoost): {rmse_value:.4f}')\n"
   ]
  },
  {
   "cell_type": "code",
   "execution_count": 323,
   "id": "8025f0ef",
   "metadata": {},
   "outputs": [
    {
     "name": "stdout",
     "output_type": "stream",
     "text": [
      "0:\tlearn: 3.1899779\ttest: 3.2078781\tbest: 3.2078781 (0)\ttotal: 27.6ms\tremaining: 27.6s\n",
      "100:\tlearn: 3.1206604\ttest: 3.1711449\tbest: 3.1711449 (100)\ttotal: 3.1s\tremaining: 27.6s\n",
      "200:\tlearn: 3.0966557\ttest: 3.1706927\tbest: 3.1706179 (197)\ttotal: 6.36s\tremaining: 25.3s\n",
      "Stopped by overfitting detector  (50 iterations wait)\n",
      "\n",
      "bestTest = 3.170617854\n",
      "bestIteration = 197\n",
      "\n",
      "Shrink model to first 198 iterations.\n"
     ]
    },
    {
     "ename": "CatBoostError",
     "evalue": "Invalid cat_features[7] = 7 value: index must be < 7.",
     "output_type": "error",
     "traceback": [
      "\u001b[1;31m---------------------------------------------------------------------------\u001b[0m",
      "\u001b[1;31mCatBoostError\u001b[0m                             Traceback (most recent call last)",
      "Cell \u001b[1;32mIn[323], line 10\u001b[0m\n\u001b[0;32m      7\u001b[0m model_cbr\u001b[38;5;241m.\u001b[39mfit(X_train, y_train, eval_set\u001b[38;5;241m=\u001b[39m(X_valid, y_valid), early_stopping_rounds\u001b[38;5;241m=\u001b[39m\u001b[38;5;241m50\u001b[39m, verbose\u001b[38;5;241m=\u001b[39m\u001b[38;5;241m100\u001b[39m)\n\u001b[0;32m      9\u001b[0m \u001b[38;5;66;03m# test 데이터로 예측\u001b[39;00m\n\u001b[1;32m---> 10\u001b[0m predictions \u001b[38;5;241m=\u001b[39m model\u001b[38;5;241m.\u001b[39mpredict(test_data)\n\u001b[0;32m     12\u001b[0m \u001b[38;5;66;03m# 예측 결과를 새로운 데이터프레임에 저장\u001b[39;00m\n\u001b[0;32m     13\u001b[0m result_df \u001b[38;5;241m=\u001b[39m pd\u001b[38;5;241m.\u001b[39mDataFrame({\u001b[38;5;124m\"\u001b[39m\u001b[38;5;124mID\u001b[39m\u001b[38;5;124m\"\u001b[39m: test_data[\u001b[38;5;124m\"\u001b[39m\u001b[38;5;124mID\u001b[39m\u001b[38;5;124m\"\u001b[39m], \u001b[38;5;124m\"\u001b[39m\u001b[38;5;124mPredicted_ECLO\u001b[39m\u001b[38;5;124m\"\u001b[39m: predictions})\n",
      "File \u001b[1;32m~\\anaconda3\\Lib\\site-packages\\catboost\\core.py:5779\u001b[0m, in \u001b[0;36mCatBoostRegressor.predict\u001b[1;34m(self, data, prediction_type, ntree_start, ntree_end, thread_count, verbose, task_type)\u001b[0m\n\u001b[0;32m   5777\u001b[0m \u001b[38;5;28;01mif\u001b[39;00m prediction_type \u001b[38;5;129;01mis\u001b[39;00m \u001b[38;5;28;01mNone\u001b[39;00m:\n\u001b[0;32m   5778\u001b[0m     prediction_type \u001b[38;5;241m=\u001b[39m \u001b[38;5;28mself\u001b[39m\u001b[38;5;241m.\u001b[39m_get_default_prediction_type()\n\u001b[1;32m-> 5779\u001b[0m \u001b[38;5;28;01mreturn\u001b[39;00m \u001b[38;5;28mself\u001b[39m\u001b[38;5;241m.\u001b[39m_predict(data, prediction_type, ntree_start, ntree_end, thread_count, verbose, \u001b[38;5;124m'\u001b[39m\u001b[38;5;124mpredict\u001b[39m\u001b[38;5;124m'\u001b[39m, task_type)\n",
      "File \u001b[1;32m~\\anaconda3\\Lib\\site-packages\\catboost\\core.py:2543\u001b[0m, in \u001b[0;36mCatBoost._predict\u001b[1;34m(self, data, prediction_type, ntree_start, ntree_end, thread_count, verbose, parent_method_name, task_type)\u001b[0m\n\u001b[0;32m   2541\u001b[0m \u001b[38;5;28;01mif\u001b[39;00m verbose \u001b[38;5;129;01mis\u001b[39;00m \u001b[38;5;28;01mNone\u001b[39;00m:\n\u001b[0;32m   2542\u001b[0m     verbose \u001b[38;5;241m=\u001b[39m \u001b[38;5;28;01mFalse\u001b[39;00m\n\u001b[1;32m-> 2543\u001b[0m data, data_is_single_object \u001b[38;5;241m=\u001b[39m \u001b[38;5;28mself\u001b[39m\u001b[38;5;241m.\u001b[39m_process_predict_input_data(data, parent_method_name, thread_count)\n\u001b[0;32m   2544\u001b[0m \u001b[38;5;28mself\u001b[39m\u001b[38;5;241m.\u001b[39m_validate_prediction_type(prediction_type)\n\u001b[0;32m   2546\u001b[0m predictions \u001b[38;5;241m=\u001b[39m \u001b[38;5;28mself\u001b[39m\u001b[38;5;241m.\u001b[39m_base_predict(data, prediction_type, ntree_start, ntree_end, thread_count, verbose, task_type)\n",
      "File \u001b[1;32m~\\anaconda3\\Lib\\site-packages\\catboost\\core.py:2523\u001b[0m, in \u001b[0;36mCatBoost._process_predict_input_data\u001b[1;34m(self, data, parent_method_name, thread_count, label)\u001b[0m\n\u001b[0;32m   2521\u001b[0m is_single_object \u001b[38;5;241m=\u001b[39m _is_data_single_object(data)\n\u001b[0;32m   2522\u001b[0m \u001b[38;5;28;01mif\u001b[39;00m \u001b[38;5;129;01mnot\u001b[39;00m \u001b[38;5;28misinstance\u001b[39m(data, Pool):\n\u001b[1;32m-> 2523\u001b[0m     data \u001b[38;5;241m=\u001b[39m Pool(\n\u001b[0;32m   2524\u001b[0m         data\u001b[38;5;241m=\u001b[39m[data] \u001b[38;5;28;01mif\u001b[39;00m is_single_object \u001b[38;5;28;01melse\u001b[39;00m data,\n\u001b[0;32m   2525\u001b[0m         label\u001b[38;5;241m=\u001b[39mlabel,\n\u001b[0;32m   2526\u001b[0m         cat_features\u001b[38;5;241m=\u001b[39m\u001b[38;5;28mself\u001b[39m\u001b[38;5;241m.\u001b[39m_get_cat_feature_indices() \u001b[38;5;28;01mif\u001b[39;00m \u001b[38;5;129;01mnot\u001b[39;00m \u001b[38;5;28misinstance\u001b[39m(data, FeaturesData) \u001b[38;5;28;01melse\u001b[39;00m \u001b[38;5;28;01mNone\u001b[39;00m,\n\u001b[0;32m   2527\u001b[0m         text_features\u001b[38;5;241m=\u001b[39m\u001b[38;5;28mself\u001b[39m\u001b[38;5;241m.\u001b[39m_get_text_feature_indices() \u001b[38;5;28;01mif\u001b[39;00m \u001b[38;5;129;01mnot\u001b[39;00m \u001b[38;5;28misinstance\u001b[39m(data, FeaturesData) \u001b[38;5;28;01melse\u001b[39;00m \u001b[38;5;28;01mNone\u001b[39;00m,\n\u001b[0;32m   2528\u001b[0m         embedding_features\u001b[38;5;241m=\u001b[39m\u001b[38;5;28mself\u001b[39m\u001b[38;5;241m.\u001b[39m_get_embedding_feature_indices() \u001b[38;5;28;01mif\u001b[39;00m \u001b[38;5;129;01mnot\u001b[39;00m \u001b[38;5;28misinstance\u001b[39m(data, FeaturesData) \u001b[38;5;28;01melse\u001b[39;00m \u001b[38;5;28;01mNone\u001b[39;00m,\n\u001b[0;32m   2529\u001b[0m         thread_count\u001b[38;5;241m=\u001b[39mthread_count\n\u001b[0;32m   2530\u001b[0m     )\n\u001b[0;32m   2531\u001b[0m \u001b[38;5;28;01mreturn\u001b[39;00m data, is_single_object\n",
      "File \u001b[1;32m~\\anaconda3\\Lib\\site-packages\\catboost\\core.py:792\u001b[0m, in \u001b[0;36mPool.__init__\u001b[1;34m(self, data, label, cat_features, text_features, embedding_features, embedding_features_data, column_description, pairs, delimiter, has_header, ignore_csv_quoting, weight, group_id, group_weight, subgroup_id, pairs_weight, baseline, timestamp, feature_names, feature_tags, thread_count, log_cout, log_cerr)\u001b[0m\n\u001b[0;32m    786\u001b[0m         \u001b[38;5;28;01mif\u001b[39;00m \u001b[38;5;28misinstance\u001b[39m(feature_names, PATH_TYPES):\n\u001b[0;32m    787\u001b[0m             \u001b[38;5;28;01mraise\u001b[39;00m CatBoostError(\n\u001b[0;32m    788\u001b[0m                 \u001b[38;5;124m\"\u001b[39m\u001b[38;5;124mfeature_names must be None or have non-string type when the pool is created from \u001b[39m\u001b[38;5;124m\"\u001b[39m\n\u001b[0;32m    789\u001b[0m                 \u001b[38;5;124m\"\u001b[39m\u001b[38;5;124mpython objects.\u001b[39m\u001b[38;5;124m\"\u001b[39m\n\u001b[0;32m    790\u001b[0m             )\n\u001b[1;32m--> 792\u001b[0m         \u001b[38;5;28mself\u001b[39m\u001b[38;5;241m.\u001b[39m_init(data, label, cat_features, text_features, embedding_features, embedding_features_data, pairs, weight,\n\u001b[0;32m    793\u001b[0m                    group_id, group_weight, subgroup_id, pairs_weight, baseline, timestamp, feature_names, feature_tags, thread_count)\n\u001b[0;32m    794\u001b[0m \u001b[38;5;28msuper\u001b[39m(Pool, \u001b[38;5;28mself\u001b[39m)\u001b[38;5;241m.\u001b[39m\u001b[38;5;21m__init__\u001b[39m()\n",
      "File \u001b[1;32m~\\anaconda3\\Lib\\site-packages\\catboost\\core.py:1373\u001b[0m, in \u001b[0;36mPool._init\u001b[1;34m(self, data, label, cat_features, text_features, embedding_features, embedding_features_data, pairs, weight, group_id, group_weight, subgroup_id, pairs_weight, baseline, timestamp, feature_names, feature_tags, thread_count)\u001b[0m\n\u001b[0;32m   1371\u001b[0m     cat_features \u001b[38;5;241m=\u001b[39m _get_features_indices(cat_features, feature_names)\n\u001b[0;32m   1372\u001b[0m     \u001b[38;5;28mself\u001b[39m\u001b[38;5;241m.\u001b[39m_check_string_feature_type(cat_features, \u001b[38;5;124m'\u001b[39m\u001b[38;5;124mcat_features\u001b[39m\u001b[38;5;124m'\u001b[39m)\n\u001b[1;32m-> 1373\u001b[0m     \u001b[38;5;28mself\u001b[39m\u001b[38;5;241m.\u001b[39m_check_string_feature_value(cat_features, features_count, \u001b[38;5;124m'\u001b[39m\u001b[38;5;124mcat_features\u001b[39m\u001b[38;5;124m'\u001b[39m)\n\u001b[0;32m   1374\u001b[0m \u001b[38;5;28;01mif\u001b[39;00m text_features \u001b[38;5;129;01mis\u001b[39;00m \u001b[38;5;129;01mnot\u001b[39;00m \u001b[38;5;28;01mNone\u001b[39;00m:\n\u001b[0;32m   1375\u001b[0m     text_features \u001b[38;5;241m=\u001b[39m _get_features_indices(text_features, feature_names)\n",
      "File \u001b[1;32m~\\anaconda3\\Lib\\site-packages\\catboost\\core.py:838\u001b[0m, in \u001b[0;36mPool._check_string_feature_value\u001b[1;34m(self, features, features_count, features_name)\u001b[0m\n\u001b[0;32m    836\u001b[0m     \u001b[38;5;28;01mraise\u001b[39;00m CatBoostError(\u001b[38;5;124m\"\u001b[39m\u001b[38;5;124mInvalid \u001b[39m\u001b[38;5;132;01m{}\u001b[39;00m\u001b[38;5;124m[\u001b[39m\u001b[38;5;132;01m{}\u001b[39;00m\u001b[38;5;124m] = \u001b[39m\u001b[38;5;132;01m{}\u001b[39;00m\u001b[38;5;124m value type=\u001b[39m\u001b[38;5;132;01m{}\u001b[39;00m\u001b[38;5;124m: must be int().\u001b[39m\u001b[38;5;124m\"\u001b[39m\u001b[38;5;241m.\u001b[39mformat(features_name, indx, feature, \u001b[38;5;28mtype\u001b[39m(feature)))\n\u001b[0;32m    837\u001b[0m \u001b[38;5;28;01mif\u001b[39;00m feature \u001b[38;5;241m>\u001b[39m\u001b[38;5;241m=\u001b[39m features_count:\n\u001b[1;32m--> 838\u001b[0m     \u001b[38;5;28;01mraise\u001b[39;00m CatBoostError(\u001b[38;5;124m\"\u001b[39m\u001b[38;5;124mInvalid \u001b[39m\u001b[38;5;132;01m{}\u001b[39;00m\u001b[38;5;124m[\u001b[39m\u001b[38;5;132;01m{}\u001b[39;00m\u001b[38;5;124m] = \u001b[39m\u001b[38;5;132;01m{}\u001b[39;00m\u001b[38;5;124m value: index must be < \u001b[39m\u001b[38;5;132;01m{}\u001b[39;00m\u001b[38;5;124m.\u001b[39m\u001b[38;5;124m\"\u001b[39m\u001b[38;5;241m.\u001b[39mformat(features_name, indx, feature, features_count))\n",
      "\u001b[1;31mCatBoostError\u001b[0m: Invalid cat_features[7] = 7 value: index must be < 7."
     ]
    }
   ],
   "source": [
    "\n",
    "# # train 데이터를 학습(train)과 검증(validation) 세트로 분할\n",
    "# X_train, X_valid, y_train, y_valid = train_test_split(X, y, test_size=0.2, random_state=42)\n",
    "\n",
    "# # CatBoost 모델 생성 및 학습\n",
    "# cat_features = categorical_columns  # 범주형 변수 리스트\n",
    "# model_cbr = CatBoostRegressor(iterations=1000, depth=10, learning_rate=0.05, cat_features=cat_features)\n",
    "# model_cbr.fit(X_train, y_train, eval_set=(X_valid, y_valid), early_stopping_rounds=50, verbose=100)\n",
    "\n",
    "# # test 데이터로 예측\n",
    "# predictions = model.predict(test_data)\n",
    "\n",
    "# # 예측 결과를 새로운 데이터프레임에 저장\n",
    "# result_df = pd.DataFrame({\"ID\": test_data[\"ID\"], \"Predicted_ECLO\": predictions})\n",
    "\n",
    "# # 결과를 파일로 저장\n",
    "# result_df.to_csv(\"predicted_eclo.csv\", index=False)\n"
   ]
  },
  {
   "cell_type": "code",
   "execution_count": null,
   "id": "28a55b09",
   "metadata": {},
   "outputs": [],
   "source": []
  },
  {
   "cell_type": "code",
   "execution_count": null,
   "id": "96549729",
   "metadata": {},
   "outputs": [],
   "source": []
  },
  {
   "cell_type": "code",
   "execution_count": null,
   "id": "ed133816",
   "metadata": {},
   "outputs": [],
   "source": []
  },
  {
   "cell_type": "code",
   "execution_count": null,
   "id": "e67ba07a",
   "metadata": {},
   "outputs": [],
   "source": []
  }
 ],
 "metadata": {
  "kernelspec": {
   "display_name": "Python 3 (ipykernel)",
   "language": "python",
   "name": "python3"
  },
  "language_info": {
   "codemirror_mode": {
    "name": "ipython",
    "version": 3
   },
   "file_extension": ".py",
   "mimetype": "text/x-python",
   "name": "python",
   "nbconvert_exporter": "python",
   "pygments_lexer": "ipython3",
   "version": "3.11.5"
  }
 },
 "nbformat": 4,
 "nbformat_minor": 5
}
