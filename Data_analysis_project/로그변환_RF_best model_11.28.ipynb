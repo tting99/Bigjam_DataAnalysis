{
 "cells": [
  {
   "cell_type": "markdown",
   "id": "b352ebf7-72c0-48b7-a026-776d7b0ee3d1",
   "metadata": {
    "id": "b352ebf7-72c0-48b7-a026-776d7b0ee3d1",
    "jp-MarkdownHeadingCollapsed": true
   },
   "source": [
    "# **📌 Packages**"
   ]
  },
  {
   "cell_type": "code",
   "execution_count": 1,
   "id": "14d98296-5fe3-49a4-9631-886a166f53eb",
   "metadata": {
    "ExecuteTime": {
     "end_time": "2023-11-28T05:07:07.243931Z",
     "start_time": "2023-11-28T05:07:06.844689Z"
    },
    "id": "14d98296-5fe3-49a4-9631-886a166f53eb"
   },
   "outputs": [],
   "source": [
    "# 기본\n",
    "import pandas as pd\n",
    "import numpy as np"
   ]
  },
  {
   "cell_type": "code",
   "execution_count": 2,
   "id": "fe669f89-a240-433c-80e0-e4520136153e",
   "metadata": {
    "ExecuteTime": {
     "end_time": "2023-11-28T05:07:07.814639Z",
     "start_time": "2023-11-28T05:07:07.244869Z"
    },
    "id": "fe669f89-a240-433c-80e0-e4520136153e"
   },
   "outputs": [],
   "source": [
    "# 시각화\n",
    "import seaborn as sns\n",
    "from datetime import datetime\n",
    "import matplotlib.pyplot as plt\n",
    "import matplotlib.font_manager as fm\n",
    "\n",
    "## 한글 처리\n",
    "import platform\n",
    "\n",
    "from matplotlib import font_manager, rc\n",
    "plt.rcParams['axes.unicode_minus'] = False\n",
    "\n",
    "if platform.system() == 'Darwin':  # 맥OS\n",
    "    rc('font', family='AppleGothic')\n",
    "elif platform.system() == 'Windows':  # 윈도우\n",
    "    path = \"c:/Windows/Fonts/malgun.ttf\"\n",
    "    font_name = font_manager.FontProperties(fname=path).get_name()\n",
    "    rc('font', family=font_name)\n",
    "else:\n",
    "    print('Unknown system...  sorry~~~')\n",
    "\n",
    "from matplotlib.pylab import rcParams\n",
    "rcParams['figure.figsize'] = 17,8\n",
    "\n",
    "import warnings\n",
    "warnings.filterwarnings(action='ignore')"
   ]
  },
  {
   "cell_type": "markdown",
   "id": "ecc04de5-eb35-4e88-9a68-cf341976310e",
   "metadata": {
    "id": "ecc04de5-eb35-4e88-9a68-cf341976310e",
    "jp-MarkdownHeadingCollapsed": true
   },
   "source": [
    "# **📌 대구 교통 사고 피해 예측 AI 경진대회 Baseline Code**\n",
    "- `train_org` / `test_org` : original df\n",
    "- `train_df` / `test_df` : 날짜, 시간정보, 공간정보, 도로형태 정보 전처리한 df (두 df 모두 ECLO 미포함)"
   ]
  },
  {
   "cell_type": "markdown",
   "id": "9c402adb-424d-4823-9113-ebb589a53813",
   "metadata": {
    "id": "9c402adb-424d-4823-9113-ebb589a53813",
    "jp-MarkdownHeadingCollapsed": true
   },
   "source": [
    "## **🔻 Fixed Random Seed**  \n",
    "\n",
    "seed 값에 의해 동일한 코드를 사용해도 결과가 다를 수 있기에, 동일한 결과를 위해 seed 값을 고정시킵니다"
   ]
  },
  {
   "cell_type": "code",
   "execution_count": 3,
   "id": "30704f1f-c1b0-4b7c-abb1-637af99ef6ba",
   "metadata": {
    "ExecuteTime": {
     "end_time": "2023-11-28T05:07:07.817196Z",
     "start_time": "2023-11-28T05:07:07.815396Z"
    },
    "id": "30704f1f-c1b0-4b7c-abb1-637af99ef6ba"
   },
   "outputs": [],
   "source": [
    "import os\n",
    "import random\n",
    "import numpy as np\n",
    "\n",
    "def seed_everything(seed):\n",
    "    random.seed(seed)\n",
    "    os.environ['PYTHONHASHSEED'] = str(seed)\n",
    "    np.random.seed(seed)\n",
    "\n",
    "seed_everything(42)"
   ]
  },
  {
   "cell_type": "markdown",
   "id": "673cf0a6-d358-4440-ad1a-c70b453d8c53",
   "metadata": {
    "id": "673cf0a6-d358-4440-ad1a-c70b453d8c53",
    "jp-MarkdownHeadingCollapsed": true
   },
   "source": [
    "## **🔻 데이터 불러오기 및 상위행 확인**  \n",
    "\n",
    "train.csv, test.csv 파일을 로드하여 상위행을 출력해 봅시다"
   ]
  },
  {
   "cell_type": "code",
   "execution_count": 4,
   "id": "f59c02b8-9f5a-4f6a-92ee-f948bed8a4b4",
   "metadata": {
    "ExecuteTime": {
     "end_time": "2023-11-28T05:07:07.951822Z",
     "start_time": "2023-11-28T05:07:07.818652Z"
    },
    "id": "f59c02b8-9f5a-4f6a-92ee-f948bed8a4b4",
    "outputId": "3eacbf20-e6bf-43b7-f787-b43f26b2db4b",
    "scrolled": true
   },
   "outputs": [
    {
     "data": {
      "text/html": [
       "<div>\n",
       "<style scoped>\n",
       "    .dataframe tbody tr th:only-of-type {\n",
       "        vertical-align: middle;\n",
       "    }\n",
       "\n",
       "    .dataframe tbody tr th {\n",
       "        vertical-align: top;\n",
       "    }\n",
       "\n",
       "    .dataframe thead th {\n",
       "        text-align: right;\n",
       "    }\n",
       "</style>\n",
       "<table border=\"1\" class=\"dataframe\">\n",
       "  <thead>\n",
       "    <tr style=\"text-align: right;\">\n",
       "      <th></th>\n",
       "      <th>ID</th>\n",
       "      <th>사고일시</th>\n",
       "      <th>요일</th>\n",
       "      <th>기상상태</th>\n",
       "      <th>시군구</th>\n",
       "      <th>도로형태</th>\n",
       "      <th>노면상태</th>\n",
       "      <th>사고유형</th>\n",
       "      <th>사고유형 - 세부분류</th>\n",
       "      <th>법규위반</th>\n",
       "      <th>...</th>\n",
       "      <th>가해운전자 상해정도</th>\n",
       "      <th>피해운전자 차종</th>\n",
       "      <th>피해운전자 성별</th>\n",
       "      <th>피해운전자 연령</th>\n",
       "      <th>피해운전자 상해정도</th>\n",
       "      <th>사망자수</th>\n",
       "      <th>중상자수</th>\n",
       "      <th>경상자수</th>\n",
       "      <th>부상자수</th>\n",
       "      <th>ECLO</th>\n",
       "    </tr>\n",
       "  </thead>\n",
       "  <tbody>\n",
       "    <tr>\n",
       "      <th>0</th>\n",
       "      <td>ACCIDENT_00000</td>\n",
       "      <td>2019-01-01 00</td>\n",
       "      <td>화요일</td>\n",
       "      <td>맑음</td>\n",
       "      <td>대구광역시 중구 대신동</td>\n",
       "      <td>단일로 - 기타</td>\n",
       "      <td>건조</td>\n",
       "      <td>차대사람</td>\n",
       "      <td>길가장자리구역통행중</td>\n",
       "      <td>안전운전불이행</td>\n",
       "      <td>...</td>\n",
       "      <td>상해없음</td>\n",
       "      <td>보행자</td>\n",
       "      <td>여</td>\n",
       "      <td>70세</td>\n",
       "      <td>중상</td>\n",
       "      <td>0</td>\n",
       "      <td>1</td>\n",
       "      <td>0</td>\n",
       "      <td>0</td>\n",
       "      <td>5</td>\n",
       "    </tr>\n",
       "    <tr>\n",
       "      <th>1</th>\n",
       "      <td>ACCIDENT_00001</td>\n",
       "      <td>2019-01-01 00</td>\n",
       "      <td>화요일</td>\n",
       "      <td>흐림</td>\n",
       "      <td>대구광역시 달서구 감삼동</td>\n",
       "      <td>단일로 - 기타</td>\n",
       "      <td>건조</td>\n",
       "      <td>차대사람</td>\n",
       "      <td>보도통행중</td>\n",
       "      <td>기타</td>\n",
       "      <td>...</td>\n",
       "      <td>상해없음</td>\n",
       "      <td>보행자</td>\n",
       "      <td>남</td>\n",
       "      <td>61세</td>\n",
       "      <td>경상</td>\n",
       "      <td>0</td>\n",
       "      <td>0</td>\n",
       "      <td>1</td>\n",
       "      <td>0</td>\n",
       "      <td>3</td>\n",
       "    </tr>\n",
       "    <tr>\n",
       "      <th>2</th>\n",
       "      <td>ACCIDENT_00002</td>\n",
       "      <td>2019-01-01 01</td>\n",
       "      <td>화요일</td>\n",
       "      <td>맑음</td>\n",
       "      <td>대구광역시 수성구 두산동</td>\n",
       "      <td>단일로 - 기타</td>\n",
       "      <td>건조</td>\n",
       "      <td>차대사람</td>\n",
       "      <td>차도통행중</td>\n",
       "      <td>안전운전불이행</td>\n",
       "      <td>...</td>\n",
       "      <td>상해없음</td>\n",
       "      <td>보행자</td>\n",
       "      <td>남</td>\n",
       "      <td>38세</td>\n",
       "      <td>경상</td>\n",
       "      <td>0</td>\n",
       "      <td>0</td>\n",
       "      <td>1</td>\n",
       "      <td>0</td>\n",
       "      <td>3</td>\n",
       "    </tr>\n",
       "    <tr>\n",
       "      <th>3</th>\n",
       "      <td>ACCIDENT_00003</td>\n",
       "      <td>2019-01-01 02</td>\n",
       "      <td>화요일</td>\n",
       "      <td>맑음</td>\n",
       "      <td>대구광역시 북구 복현동</td>\n",
       "      <td>단일로 - 기타</td>\n",
       "      <td>건조</td>\n",
       "      <td>차대차</td>\n",
       "      <td>추돌</td>\n",
       "      <td>안전운전불이행</td>\n",
       "      <td>...</td>\n",
       "      <td>상해없음</td>\n",
       "      <td>승용</td>\n",
       "      <td>남</td>\n",
       "      <td>36세</td>\n",
       "      <td>중상</td>\n",
       "      <td>0</td>\n",
       "      <td>1</td>\n",
       "      <td>0</td>\n",
       "      <td>0</td>\n",
       "      <td>5</td>\n",
       "    </tr>\n",
       "    <tr>\n",
       "      <th>4</th>\n",
       "      <td>ACCIDENT_00004</td>\n",
       "      <td>2019-01-01 04</td>\n",
       "      <td>화요일</td>\n",
       "      <td>맑음</td>\n",
       "      <td>대구광역시 동구 신암동</td>\n",
       "      <td>단일로 - 기타</td>\n",
       "      <td>건조</td>\n",
       "      <td>차대차</td>\n",
       "      <td>추돌</td>\n",
       "      <td>안전운전불이행</td>\n",
       "      <td>...</td>\n",
       "      <td>상해없음</td>\n",
       "      <td>승용</td>\n",
       "      <td>남</td>\n",
       "      <td>52세</td>\n",
       "      <td>경상</td>\n",
       "      <td>0</td>\n",
       "      <td>0</td>\n",
       "      <td>1</td>\n",
       "      <td>0</td>\n",
       "      <td>3</td>\n",
       "    </tr>\n",
       "  </tbody>\n",
       "</table>\n",
       "<p>5 rows × 23 columns</p>\n",
       "</div>"
      ],
      "text/plain": [
       "               ID           사고일시   요일 기상상태            시군구      도로형태 노면상태  \\\n",
       "0  ACCIDENT_00000  2019-01-01 00  화요일   맑음   대구광역시 중구 대신동  단일로 - 기타   건조   \n",
       "1  ACCIDENT_00001  2019-01-01 00  화요일   흐림  대구광역시 달서구 감삼동  단일로 - 기타   건조   \n",
       "2  ACCIDENT_00002  2019-01-01 01  화요일   맑음  대구광역시 수성구 두산동  단일로 - 기타   건조   \n",
       "3  ACCIDENT_00003  2019-01-01 02  화요일   맑음   대구광역시 북구 복현동  단일로 - 기타   건조   \n",
       "4  ACCIDENT_00004  2019-01-01 04  화요일   맑음   대구광역시 동구 신암동  단일로 - 기타   건조   \n",
       "\n",
       "   사고유형 사고유형 - 세부분류     법규위반  ... 가해운전자 상해정도 피해운전자 차종 피해운전자 성별 피해운전자 연령  \\\n",
       "0  차대사람  길가장자리구역통행중  안전운전불이행  ...       상해없음      보행자        여      70세   \n",
       "1  차대사람       보도통행중       기타  ...       상해없음      보행자        남      61세   \n",
       "2  차대사람       차도통행중  안전운전불이행  ...       상해없음      보행자        남      38세   \n",
       "3   차대차          추돌  안전운전불이행  ...       상해없음       승용        남      36세   \n",
       "4   차대차          추돌  안전운전불이행  ...       상해없음       승용        남      52세   \n",
       "\n",
       "  피해운전자 상해정도 사망자수 중상자수 경상자수  부상자수  ECLO  \n",
       "0         중상    0    1    0     0     5  \n",
       "1         경상    0    0    1     0     3  \n",
       "2         경상    0    0    1     0     3  \n",
       "3         중상    0    1    0     0     5  \n",
       "4         경상    0    0    1     0     3  \n",
       "\n",
       "[5 rows x 23 columns]"
      ]
     },
     "metadata": {},
     "output_type": "display_data"
    },
    {
     "data": {
      "text/html": [
       "<div>\n",
       "<style scoped>\n",
       "    .dataframe tbody tr th:only-of-type {\n",
       "        vertical-align: middle;\n",
       "    }\n",
       "\n",
       "    .dataframe tbody tr th {\n",
       "        vertical-align: top;\n",
       "    }\n",
       "\n",
       "    .dataframe thead th {\n",
       "        text-align: right;\n",
       "    }\n",
       "</style>\n",
       "<table border=\"1\" class=\"dataframe\">\n",
       "  <thead>\n",
       "    <tr style=\"text-align: right;\">\n",
       "      <th></th>\n",
       "      <th>ID</th>\n",
       "      <th>사고일시</th>\n",
       "      <th>요일</th>\n",
       "      <th>기상상태</th>\n",
       "      <th>시군구</th>\n",
       "      <th>도로형태</th>\n",
       "      <th>노면상태</th>\n",
       "      <th>사고유형</th>\n",
       "    </tr>\n",
       "  </thead>\n",
       "  <tbody>\n",
       "    <tr>\n",
       "      <th>10958</th>\n",
       "      <td>ACCIDENT_50567</td>\n",
       "      <td>2022-12-31 18</td>\n",
       "      <td>토요일</td>\n",
       "      <td>맑음</td>\n",
       "      <td>대구광역시 남구 대명동</td>\n",
       "      <td>단일로 - 터널</td>\n",
       "      <td>건조</td>\n",
       "      <td>차대차</td>\n",
       "    </tr>\n",
       "    <tr>\n",
       "      <th>10959</th>\n",
       "      <td>ACCIDENT_50568</td>\n",
       "      <td>2022-12-31 18</td>\n",
       "      <td>토요일</td>\n",
       "      <td>맑음</td>\n",
       "      <td>대구광역시 수성구 시지동</td>\n",
       "      <td>단일로 - 기타</td>\n",
       "      <td>건조</td>\n",
       "      <td>차대차</td>\n",
       "    </tr>\n",
       "    <tr>\n",
       "      <th>10960</th>\n",
       "      <td>ACCIDENT_50569</td>\n",
       "      <td>2022-12-31 20</td>\n",
       "      <td>토요일</td>\n",
       "      <td>맑음</td>\n",
       "      <td>대구광역시 수성구 연호동</td>\n",
       "      <td>단일로 - 기타</td>\n",
       "      <td>건조</td>\n",
       "      <td>차대차</td>\n",
       "    </tr>\n",
       "    <tr>\n",
       "      <th>10961</th>\n",
       "      <td>ACCIDENT_50570</td>\n",
       "      <td>2022-12-31 20</td>\n",
       "      <td>토요일</td>\n",
       "      <td>맑음</td>\n",
       "      <td>대구광역시 수성구 범물동</td>\n",
       "      <td>교차로 - 교차로부근</td>\n",
       "      <td>건조</td>\n",
       "      <td>차대차</td>\n",
       "    </tr>\n",
       "    <tr>\n",
       "      <th>10962</th>\n",
       "      <td>ACCIDENT_50571</td>\n",
       "      <td>2022-12-31 21</td>\n",
       "      <td>토요일</td>\n",
       "      <td>맑음</td>\n",
       "      <td>대구광역시 동구 효목동</td>\n",
       "      <td>교차로 - 교차로부근</td>\n",
       "      <td>건조</td>\n",
       "      <td>차대차</td>\n",
       "    </tr>\n",
       "  </tbody>\n",
       "</table>\n",
       "</div>"
      ],
      "text/plain": [
       "                   ID           사고일시   요일 기상상태            시군구         도로형태  \\\n",
       "10958  ACCIDENT_50567  2022-12-31 18  토요일   맑음   대구광역시 남구 대명동     단일로 - 터널   \n",
       "10959  ACCIDENT_50568  2022-12-31 18  토요일   맑음  대구광역시 수성구 시지동     단일로 - 기타   \n",
       "10960  ACCIDENT_50569  2022-12-31 20  토요일   맑음  대구광역시 수성구 연호동     단일로 - 기타   \n",
       "10961  ACCIDENT_50570  2022-12-31 20  토요일   맑음  대구광역시 수성구 범물동  교차로 - 교차로부근   \n",
       "10962  ACCIDENT_50571  2022-12-31 21  토요일   맑음   대구광역시 동구 효목동  교차로 - 교차로부근   \n",
       "\n",
       "      노면상태 사고유형  \n",
       "10958   건조  차대차  \n",
       "10959   건조  차대차  \n",
       "10960   건조  차대차  \n",
       "10961   건조  차대차  \n",
       "10962   건조  차대차  "
      ]
     },
     "metadata": {},
     "output_type": "display_data"
    }
   ],
   "source": [
    "import pandas as pd\n",
    "from datetime import datetime\n",
    "\n",
    "train = pd.read_csv('open/train.csv', encoding = \"utf-8\", low_memory=False)\n",
    "test = pd.read_csv('open/test.csv', encoding = \"utf-8\", low_memory=False)\n",
    "\n",
    "display(train.head())\n",
    "display(test.tail())"
   ]
  },
  {
   "cell_type": "markdown",
   "id": "66cfbe74-0068-47a4-b103-c56984128ee0",
   "metadata": {
    "id": "66cfbe74-0068-47a4-b103-c56984128ee0"
   },
   "source": [
    "## **🔻 데이터 전처리**  \n",
    "\n",
    "현재 '사고일시', '시군구', '도로형태' 컬럼은 반복되는 패턴으로 여러 정보를 포함하고 있습니다\n",
    "이런 반복되는 패턴을 일반화하면 pandas에서 제공하는 str.extract를 통해 한 번에 추출 가능합니다"
   ]
  },
  {
   "cell_type": "markdown",
   "id": "14e41010-183a-4d03-ac84-13710b3ecdf4",
   "metadata": {
    "id": "14e41010-183a-4d03-ac84-13710b3ecdf4",
    "jp-MarkdownHeadingCollapsed": true
   },
   "source": [
    "### **1. 파생 변수 생성 : 날짜, 시간정보 생성**\n",
    "\n",
    "'사고일시' 컬럼으로 부터 연도, 월, 일, 시간 정보 추출 및 변환 합니다"
   ]
  },
  {
   "cell_type": "code",
   "execution_count": 5,
   "id": "a537707e-451e-41a2-8580-b4bf00529e25",
   "metadata": {
    "ExecuteTime": {
     "end_time": "2023-11-28T05:07:08.092831Z",
     "start_time": "2023-11-28T05:07:07.952620Z"
    },
    "id": "a537707e-451e-41a2-8580-b4bf00529e25",
    "outputId": "3016f72f-c175-4428-ba93-16c0ca4abded",
    "scrolled": true
   },
   "outputs": [
    {
     "data": {
      "text/html": [
       "<div>\n",
       "<style scoped>\n",
       "    .dataframe tbody tr th:only-of-type {\n",
       "        vertical-align: middle;\n",
       "    }\n",
       "\n",
       "    .dataframe tbody tr th {\n",
       "        vertical-align: top;\n",
       "    }\n",
       "\n",
       "    .dataframe thead th {\n",
       "        text-align: right;\n",
       "    }\n",
       "</style>\n",
       "<table border=\"1\" class=\"dataframe\">\n",
       "  <thead>\n",
       "    <tr style=\"text-align: right;\">\n",
       "      <th></th>\n",
       "      <th>ID</th>\n",
       "      <th>사고일시</th>\n",
       "      <th>요일</th>\n",
       "      <th>기상상태</th>\n",
       "      <th>시군구</th>\n",
       "      <th>도로형태</th>\n",
       "      <th>노면상태</th>\n",
       "      <th>사고유형</th>\n",
       "      <th>사고유형 - 세부분류</th>\n",
       "      <th>법규위반</th>\n",
       "      <th>...</th>\n",
       "      <th>가해운전자 상해정도</th>\n",
       "      <th>피해운전자 차종</th>\n",
       "      <th>피해운전자 성별</th>\n",
       "      <th>피해운전자 연령</th>\n",
       "      <th>피해운전자 상해정도</th>\n",
       "      <th>사망자수</th>\n",
       "      <th>중상자수</th>\n",
       "      <th>경상자수</th>\n",
       "      <th>부상자수</th>\n",
       "      <th>ECLO</th>\n",
       "    </tr>\n",
       "  </thead>\n",
       "  <tbody>\n",
       "    <tr>\n",
       "      <th>0</th>\n",
       "      <td>ACCIDENT_00000</td>\n",
       "      <td>2019-01-01 00</td>\n",
       "      <td>화요일</td>\n",
       "      <td>맑음</td>\n",
       "      <td>대구광역시 중구 대신동</td>\n",
       "      <td>단일로 - 기타</td>\n",
       "      <td>건조</td>\n",
       "      <td>차대사람</td>\n",
       "      <td>길가장자리구역통행중</td>\n",
       "      <td>안전운전불이행</td>\n",
       "      <td>...</td>\n",
       "      <td>상해없음</td>\n",
       "      <td>보행자</td>\n",
       "      <td>여</td>\n",
       "      <td>70세</td>\n",
       "      <td>중상</td>\n",
       "      <td>0</td>\n",
       "      <td>1</td>\n",
       "      <td>0</td>\n",
       "      <td>0</td>\n",
       "      <td>5</td>\n",
       "    </tr>\n",
       "    <tr>\n",
       "      <th>1</th>\n",
       "      <td>ACCIDENT_00001</td>\n",
       "      <td>2019-01-01 00</td>\n",
       "      <td>화요일</td>\n",
       "      <td>흐림</td>\n",
       "      <td>대구광역시 달서구 감삼동</td>\n",
       "      <td>단일로 - 기타</td>\n",
       "      <td>건조</td>\n",
       "      <td>차대사람</td>\n",
       "      <td>보도통행중</td>\n",
       "      <td>기타</td>\n",
       "      <td>...</td>\n",
       "      <td>상해없음</td>\n",
       "      <td>보행자</td>\n",
       "      <td>남</td>\n",
       "      <td>61세</td>\n",
       "      <td>경상</td>\n",
       "      <td>0</td>\n",
       "      <td>0</td>\n",
       "      <td>1</td>\n",
       "      <td>0</td>\n",
       "      <td>3</td>\n",
       "    </tr>\n",
       "    <tr>\n",
       "      <th>2</th>\n",
       "      <td>ACCIDENT_00002</td>\n",
       "      <td>2019-01-01 01</td>\n",
       "      <td>화요일</td>\n",
       "      <td>맑음</td>\n",
       "      <td>대구광역시 수성구 두산동</td>\n",
       "      <td>단일로 - 기타</td>\n",
       "      <td>건조</td>\n",
       "      <td>차대사람</td>\n",
       "      <td>차도통행중</td>\n",
       "      <td>안전운전불이행</td>\n",
       "      <td>...</td>\n",
       "      <td>상해없음</td>\n",
       "      <td>보행자</td>\n",
       "      <td>남</td>\n",
       "      <td>38세</td>\n",
       "      <td>경상</td>\n",
       "      <td>0</td>\n",
       "      <td>0</td>\n",
       "      <td>1</td>\n",
       "      <td>0</td>\n",
       "      <td>3</td>\n",
       "    </tr>\n",
       "    <tr>\n",
       "      <th>3</th>\n",
       "      <td>ACCIDENT_00003</td>\n",
       "      <td>2019-01-01 02</td>\n",
       "      <td>화요일</td>\n",
       "      <td>맑음</td>\n",
       "      <td>대구광역시 북구 복현동</td>\n",
       "      <td>단일로 - 기타</td>\n",
       "      <td>건조</td>\n",
       "      <td>차대차</td>\n",
       "      <td>추돌</td>\n",
       "      <td>안전운전불이행</td>\n",
       "      <td>...</td>\n",
       "      <td>상해없음</td>\n",
       "      <td>승용</td>\n",
       "      <td>남</td>\n",
       "      <td>36세</td>\n",
       "      <td>중상</td>\n",
       "      <td>0</td>\n",
       "      <td>1</td>\n",
       "      <td>0</td>\n",
       "      <td>0</td>\n",
       "      <td>5</td>\n",
       "    </tr>\n",
       "    <tr>\n",
       "      <th>4</th>\n",
       "      <td>ACCIDENT_00004</td>\n",
       "      <td>2019-01-01 04</td>\n",
       "      <td>화요일</td>\n",
       "      <td>맑음</td>\n",
       "      <td>대구광역시 동구 신암동</td>\n",
       "      <td>단일로 - 기타</td>\n",
       "      <td>건조</td>\n",
       "      <td>차대차</td>\n",
       "      <td>추돌</td>\n",
       "      <td>안전운전불이행</td>\n",
       "      <td>...</td>\n",
       "      <td>상해없음</td>\n",
       "      <td>승용</td>\n",
       "      <td>남</td>\n",
       "      <td>52세</td>\n",
       "      <td>경상</td>\n",
       "      <td>0</td>\n",
       "      <td>0</td>\n",
       "      <td>1</td>\n",
       "      <td>0</td>\n",
       "      <td>3</td>\n",
       "    </tr>\n",
       "  </tbody>\n",
       "</table>\n",
       "<p>5 rows × 23 columns</p>\n",
       "</div>"
      ],
      "text/plain": [
       "               ID           사고일시   요일 기상상태            시군구      도로형태 노면상태  \\\n",
       "0  ACCIDENT_00000  2019-01-01 00  화요일   맑음   대구광역시 중구 대신동  단일로 - 기타   건조   \n",
       "1  ACCIDENT_00001  2019-01-01 00  화요일   흐림  대구광역시 달서구 감삼동  단일로 - 기타   건조   \n",
       "2  ACCIDENT_00002  2019-01-01 01  화요일   맑음  대구광역시 수성구 두산동  단일로 - 기타   건조   \n",
       "3  ACCIDENT_00003  2019-01-01 02  화요일   맑음   대구광역시 북구 복현동  단일로 - 기타   건조   \n",
       "4  ACCIDENT_00004  2019-01-01 04  화요일   맑음   대구광역시 동구 신암동  단일로 - 기타   건조   \n",
       "\n",
       "   사고유형 사고유형 - 세부분류     법규위반  ... 가해운전자 상해정도 피해운전자 차종 피해운전자 성별 피해운전자 연령  \\\n",
       "0  차대사람  길가장자리구역통행중  안전운전불이행  ...       상해없음      보행자        여      70세   \n",
       "1  차대사람       보도통행중       기타  ...       상해없음      보행자        남      61세   \n",
       "2  차대사람       차도통행중  안전운전불이행  ...       상해없음      보행자        남      38세   \n",
       "3   차대차          추돌  안전운전불이행  ...       상해없음       승용        남      36세   \n",
       "4   차대차          추돌  안전운전불이행  ...       상해없음       승용        남      52세   \n",
       "\n",
       "  피해운전자 상해정도 사망자수 중상자수 경상자수  부상자수  ECLO  \n",
       "0         중상    0    1    0     0     5  \n",
       "1         경상    0    0    1     0     3  \n",
       "2         경상    0    0    1     0     3  \n",
       "3         중상    0    1    0     0     5  \n",
       "4         경상    0    0    1     0     3  \n",
       "\n",
       "[5 rows x 23 columns]"
      ]
     },
     "metadata": {},
     "output_type": "display_data"
    },
    {
     "data": {
      "text/html": [
       "<div>\n",
       "<style scoped>\n",
       "    .dataframe tbody tr th:only-of-type {\n",
       "        vertical-align: middle;\n",
       "    }\n",
       "\n",
       "    .dataframe tbody tr th {\n",
       "        vertical-align: top;\n",
       "    }\n",
       "\n",
       "    .dataframe thead th {\n",
       "        text-align: right;\n",
       "    }\n",
       "</style>\n",
       "<table border=\"1\" class=\"dataframe\">\n",
       "  <thead>\n",
       "    <tr style=\"text-align: right;\">\n",
       "      <th></th>\n",
       "      <th>ID</th>\n",
       "      <th>사고일시</th>\n",
       "      <th>요일</th>\n",
       "      <th>기상상태</th>\n",
       "      <th>시군구</th>\n",
       "      <th>도로형태</th>\n",
       "      <th>노면상태</th>\n",
       "      <th>사고유형</th>\n",
       "    </tr>\n",
       "  </thead>\n",
       "  <tbody>\n",
       "    <tr>\n",
       "      <th>10958</th>\n",
       "      <td>ACCIDENT_50567</td>\n",
       "      <td>2022-12-31 18</td>\n",
       "      <td>토요일</td>\n",
       "      <td>맑음</td>\n",
       "      <td>대구광역시 남구 대명동</td>\n",
       "      <td>단일로 - 터널</td>\n",
       "      <td>건조</td>\n",
       "      <td>차대차</td>\n",
       "    </tr>\n",
       "    <tr>\n",
       "      <th>10959</th>\n",
       "      <td>ACCIDENT_50568</td>\n",
       "      <td>2022-12-31 18</td>\n",
       "      <td>토요일</td>\n",
       "      <td>맑음</td>\n",
       "      <td>대구광역시 수성구 시지동</td>\n",
       "      <td>단일로 - 기타</td>\n",
       "      <td>건조</td>\n",
       "      <td>차대차</td>\n",
       "    </tr>\n",
       "    <tr>\n",
       "      <th>10960</th>\n",
       "      <td>ACCIDENT_50569</td>\n",
       "      <td>2022-12-31 20</td>\n",
       "      <td>토요일</td>\n",
       "      <td>맑음</td>\n",
       "      <td>대구광역시 수성구 연호동</td>\n",
       "      <td>단일로 - 기타</td>\n",
       "      <td>건조</td>\n",
       "      <td>차대차</td>\n",
       "    </tr>\n",
       "    <tr>\n",
       "      <th>10961</th>\n",
       "      <td>ACCIDENT_50570</td>\n",
       "      <td>2022-12-31 20</td>\n",
       "      <td>토요일</td>\n",
       "      <td>맑음</td>\n",
       "      <td>대구광역시 수성구 범물동</td>\n",
       "      <td>교차로 - 교차로부근</td>\n",
       "      <td>건조</td>\n",
       "      <td>차대차</td>\n",
       "    </tr>\n",
       "    <tr>\n",
       "      <th>10962</th>\n",
       "      <td>ACCIDENT_50571</td>\n",
       "      <td>2022-12-31 21</td>\n",
       "      <td>토요일</td>\n",
       "      <td>맑음</td>\n",
       "      <td>대구광역시 동구 효목동</td>\n",
       "      <td>교차로 - 교차로부근</td>\n",
       "      <td>건조</td>\n",
       "      <td>차대차</td>\n",
       "    </tr>\n",
       "  </tbody>\n",
       "</table>\n",
       "</div>"
      ],
      "text/plain": [
       "                   ID           사고일시   요일 기상상태            시군구         도로형태  \\\n",
       "10958  ACCIDENT_50567  2022-12-31 18  토요일   맑음   대구광역시 남구 대명동     단일로 - 터널   \n",
       "10959  ACCIDENT_50568  2022-12-31 18  토요일   맑음  대구광역시 수성구 시지동     단일로 - 기타   \n",
       "10960  ACCIDENT_50569  2022-12-31 20  토요일   맑음  대구광역시 수성구 연호동     단일로 - 기타   \n",
       "10961  ACCIDENT_50570  2022-12-31 20  토요일   맑음  대구광역시 수성구 범물동  교차로 - 교차로부근   \n",
       "10962  ACCIDENT_50571  2022-12-31 21  토요일   맑음   대구광역시 동구 효목동  교차로 - 교차로부근   \n",
       "\n",
       "      노면상태 사고유형  \n",
       "10958   건조  차대차  \n",
       "10959   건조  차대차  \n",
       "10960   건조  차대차  \n",
       "10961   건조  차대차  \n",
       "10962   건조  차대차  "
      ]
     },
     "metadata": {},
     "output_type": "display_data"
    }
   ],
   "source": [
    "import pandas as pd\n",
    "from datetime import datetime\n",
    "\n",
    "train_org = pd.read_csv('open/train.csv',encoding = \"utf-8\", low_memory=False)\n",
    "test_org = pd.read_csv('open/test.csv', encoding = \"utf-8\", low_memory=False)\n",
    "\n",
    "display(train_org.head())\n",
    "display(test_org.tail())"
   ]
  },
  {
   "cell_type": "code",
   "execution_count": 6,
   "id": "98058cd8-02f0-4944-8857-2112d2d31e17",
   "metadata": {
    "ExecuteTime": {
     "end_time": "2023-11-28T05:07:08.324600Z",
     "start_time": "2023-11-28T05:07:08.093592Z"
    },
    "id": "98058cd8-02f0-4944-8857-2112d2d31e17",
    "outputId": "509afe1b-9024-4000-e4aa-42566a32ba76"
   },
   "outputs": [
    {
     "data": {
      "text/plain": [
       "\"columns of train_df : Index(['ID', '요일', '기상상태', '시군구', '도로형태', '노면상태', '사고유형', '사고유형 - 세부분류',\\n       '법규위반', '가해운전자 차종', '가해운전자 성별', '가해운전자 연령', '가해운전자 상해정도', '피해운전자 차종',\\n       '피해운전자 성별', '피해운전자 연령', '피해운전자 상해정도', '사망자수', '중상자수', '경상자수', '부상자수',\\n       'ECLO', '연', '월', '일', '시간'],\\n      dtype='object')\""
      ]
     },
     "metadata": {},
     "output_type": "display_data"
    },
    {
     "data": {
      "text/plain": [
       "\"columns of test_df : Index(['ID', '요일', '기상상태', '시군구', '도로형태', '노면상태', '사고유형', '연', '월', '일', '시간'], dtype='object')\""
      ]
     },
     "metadata": {},
     "output_type": "display_data"
    }
   ],
   "source": [
    "train_df = train_org.copy()\n",
    "test_df = test_org.copy()\n",
    "\n",
    "time_pattern = r'(\\d{4})-(\\d{1,2})-(\\d{1,2}) (\\d{1,2})'\n",
    "\n",
    "train_df[['연', '월', '일', '시간']] = train_org['사고일시'].str.extract(time_pattern)\n",
    "train_df[['연', '월', '일', '시간']] = train_df[['연', '월', '일', '시간']].apply(pd.to_numeric) # 추출된 문자열을 수치화해줍니다\n",
    "train_df = train_df.drop(columns=['사고일시']) # 정보 추출이 완료된 '사고일시' 컬럼은 제거합니다\n",
    "\n",
    "# 해당 과정을 test_x에 대해서도 반복해줍니다\n",
    "test_df[['연', '월', '일', '시간']] = test_org['사고일시'].str.extract(time_pattern)\n",
    "test_df[['연', '월', '일', '시간']] = test_df[['연', '월', '일', '시간']].apply(pd.to_numeric)\n",
    "test_df = test_df.drop(columns=['사고일시'])\n",
    "\n",
    "display(f\"columns of train_df : {train_df.columns}\")\n",
    "display(f\"columns of test_df : {test_df.columns}\")"
   ]
  },
  {
   "cell_type": "markdown",
   "id": "ef289348-5291-4aaa-8af6-796a42301d44",
   "metadata": {
    "id": "ef289348-5291-4aaa-8af6-796a42301d44",
    "jp-MarkdownHeadingCollapsed": true
   },
   "source": [
    "### **2. 파생 변수 생성 : 공간(위치) 정보 생성**\n",
    "\n",
    "'시군구' 컬럼으로부터 의미 있는 공산 정보를 추출 및 변환 합니다"
   ]
  },
  {
   "cell_type": "code",
   "execution_count": 7,
   "id": "e63263bf-6633-4764-9dd8-7e6343a93f6e",
   "metadata": {
    "ExecuteTime": {
     "end_time": "2023-11-28T05:07:08.392128Z",
     "start_time": "2023-11-28T05:07:08.326234Z"
    },
    "id": "e63263bf-6633-4764-9dd8-7e6343a93f6e",
    "outputId": "3de077e4-a809-45e2-9393-ab1193b8dfa7"
   },
   "outputs": [
    {
     "data": {
      "text/plain": [
       "\"columns of train_df : Index(['ID', '요일', '기상상태', '도로형태', '노면상태', '사고유형', '사고유형 - 세부분류', '법규위반',\\n       '가해운전자 차종', '가해운전자 성별', '가해운전자 연령', '가해운전자 상해정도', '피해운전자 차종',\\n       '피해운전자 성별', '피해운전자 연령', '피해운전자 상해정도', '사망자수', '중상자수', '경상자수', '부상자수',\\n       'ECLO', '연', '월', '일', '시간', '도시', '구', '동'],\\n      dtype='object')\""
      ]
     },
     "metadata": {},
     "output_type": "display_data"
    },
    {
     "data": {
      "text/plain": [
       "\"columns of test_df : Index(['ID', '요일', '기상상태', '도로형태', '노면상태', '사고유형', '연', '월', '일', '시간', '도시',\\n       '구', '동'],\\n      dtype='object')\""
      ]
     },
     "metadata": {},
     "output_type": "display_data"
    }
   ],
   "source": [
    "location_pattern = r'(\\S+) (\\S+) (\\S+)'\n",
    "\n",
    "train_df[['도시', '구', '동']] = train_org['시군구'].str.extract(location_pattern)\n",
    "train_df = train_df.drop(columns=['시군구'])\n",
    "\n",
    "test_df[['도시', '구', '동']] = test_org['시군구'].str.extract(location_pattern)\n",
    "test_df = test_df.drop(columns=['시군구'])\n",
    "\n",
    "display(f\"columns of train_df : {train_df.columns}\")\n",
    "display(f\"columns of test_df : {test_df.columns}\")"
   ]
  },
  {
   "cell_type": "markdown",
   "id": "2ea4ac8a-a416-4f01-baf6-f76c977b61f9",
   "metadata": {
    "id": "2ea4ac8a-a416-4f01-baf6-f76c977b61f9",
    "jp-MarkdownHeadingCollapsed": true
   },
   "source": [
    "### **3. 파생 변수 추출 : 도로 형태 정보 추출**  \n",
    "\n",
    "'도로형태' 컬럼은 '단일로 - 기타'와 같은 패턴으로 구성되어 있습니다. 이를 두종류의 독립된 정보로 보고 두개의 컬럼으로 분리하여 생성합니다."
   ]
  },
  {
   "cell_type": "code",
   "execution_count": 8,
   "id": "88adaa1d-6c1a-4007-84a6-53eee17d4126",
   "metadata": {
    "ExecuteTime": {
     "end_time": "2023-11-28T05:07:08.489612Z",
     "start_time": "2023-11-28T05:07:08.393245Z"
    },
    "id": "88adaa1d-6c1a-4007-84a6-53eee17d4126",
    "outputId": "dbc724fd-7595-4e8a-8506-931841d537f2"
   },
   "outputs": [
    {
     "data": {
      "text/plain": [
       "\"columns of train_df : Index(['ID', '요일', '기상상태', '노면상태', '사고유형', '사고유형 - 세부분류', '법규위반', '가해운전자 차종',\\n       '가해운전자 성별', '가해운전자 연령', '가해운전자 상해정도', '피해운전자 차종', '피해운전자 성별',\\n       '피해운전자 연령', '피해운전자 상해정도', '사망자수', '중상자수', '경상자수', '부상자수', 'ECLO', '연',\\n       '월', '일', '시간', '도시', '구', '동', '도로형태1', '도로형태2'],\\n      dtype='object')\""
      ]
     },
     "metadata": {},
     "output_type": "display_data"
    },
    {
     "data": {
      "text/plain": [
       "\"columns of test_df : Index(['ID', '요일', '기상상태', '노면상태', '사고유형', '연', '월', '일', '시간', '도시', '구', '동',\\n       '도로형태1', '도로형태2'],\\n      dtype='object')\""
      ]
     },
     "metadata": {},
     "output_type": "display_data"
    }
   ],
   "source": [
    "road_pattern = r'(.+) - (.+)'\n",
    "\n",
    "train_df[['도로형태1', '도로형태2']] = train_org['도로형태'].str.extract(road_pattern)\n",
    "train_df = train_df.drop(columns=['도로형태'])\n",
    "\n",
    "test_df[['도로형태1', '도로형태2']] = test_org['도로형태'].str.extract(road_pattern)\n",
    "test_df = test_df.drop(columns=['도로형태'])\n",
    "\n",
    "display(f\"columns of train_df : {train_df.columns}\")\n",
    "display(f\"columns of test_df : {test_df.columns}\")"
   ]
  },
  {
   "cell_type": "markdown",
   "id": "d0e31821-f21d-4613-8b47-a0f0aaf5ab29",
   "metadata": {
    "id": "d0e31821-f21d-4613-8b47-a0f0aaf5ab29",
    "jp-MarkdownHeadingCollapsed": true
   },
   "source": [
    "# **📌 \b추가 전처리**\n",
    "- `train_df` / `test_df` : test 에 있는 컬럼들만 사용해 train 재구성 (두 df 모두 ECLO 미포함)"
   ]
  },
  {
   "cell_type": "markdown",
   "id": "c648b3b4-809f-4d75-833f-19d1d35e814a",
   "metadata": {
    "id": "c648b3b4-809f-4d75-833f-19d1d35e814a"
   },
   "source": [
    "## **🔻 train, test 컬럼 수 맞추기**\n",
    "\n",
    "test에 있는 컬럼들만 사용하여 train 데이터를 구성했습니다."
   ]
  },
  {
   "cell_type": "code",
   "execution_count": 9,
   "id": "c8e935e5-e0a1-4582-9fed-c3b2438c93e3",
   "metadata": {
    "ExecuteTime": {
     "end_time": "2023-11-28T05:07:08.503449Z",
     "start_time": "2023-11-28T05:07:08.490396Z"
    },
    "id": "c8e935e5-e0a1-4582-9fed-c3b2438c93e3",
    "outputId": "2acb8f60-2d9b-4975-f458-dba36347ce93"
   },
   "outputs": [
    {
     "data": {
      "text/html": [
       "<div>\n",
       "<style scoped>\n",
       "    .dataframe tbody tr th:only-of-type {\n",
       "        vertical-align: middle;\n",
       "    }\n",
       "\n",
       "    .dataframe tbody tr th {\n",
       "        vertical-align: top;\n",
       "    }\n",
       "\n",
       "    .dataframe thead th {\n",
       "        text-align: right;\n",
       "    }\n",
       "</style>\n",
       "<table border=\"1\" class=\"dataframe\">\n",
       "  <thead>\n",
       "    <tr style=\"text-align: right;\">\n",
       "      <th></th>\n",
       "      <th>ID</th>\n",
       "      <th>요일</th>\n",
       "      <th>기상상태</th>\n",
       "      <th>노면상태</th>\n",
       "      <th>사고유형</th>\n",
       "      <th>연</th>\n",
       "      <th>월</th>\n",
       "      <th>일</th>\n",
       "      <th>시간</th>\n",
       "      <th>도시</th>\n",
       "      <th>구</th>\n",
       "      <th>동</th>\n",
       "      <th>도로형태1</th>\n",
       "      <th>도로형태2</th>\n",
       "    </tr>\n",
       "  </thead>\n",
       "  <tbody>\n",
       "    <tr>\n",
       "      <th>0</th>\n",
       "      <td>ACCIDENT_00000</td>\n",
       "      <td>화요일</td>\n",
       "      <td>맑음</td>\n",
       "      <td>건조</td>\n",
       "      <td>차대사람</td>\n",
       "      <td>2019</td>\n",
       "      <td>1</td>\n",
       "      <td>1</td>\n",
       "      <td>0</td>\n",
       "      <td>대구광역시</td>\n",
       "      <td>중구</td>\n",
       "      <td>대신동</td>\n",
       "      <td>단일로</td>\n",
       "      <td>기타</td>\n",
       "    </tr>\n",
       "    <tr>\n",
       "      <th>1</th>\n",
       "      <td>ACCIDENT_00001</td>\n",
       "      <td>화요일</td>\n",
       "      <td>흐림</td>\n",
       "      <td>건조</td>\n",
       "      <td>차대사람</td>\n",
       "      <td>2019</td>\n",
       "      <td>1</td>\n",
       "      <td>1</td>\n",
       "      <td>0</td>\n",
       "      <td>대구광역시</td>\n",
       "      <td>달서구</td>\n",
       "      <td>감삼동</td>\n",
       "      <td>단일로</td>\n",
       "      <td>기타</td>\n",
       "    </tr>\n",
       "    <tr>\n",
       "      <th>2</th>\n",
       "      <td>ACCIDENT_00002</td>\n",
       "      <td>화요일</td>\n",
       "      <td>맑음</td>\n",
       "      <td>건조</td>\n",
       "      <td>차대사람</td>\n",
       "      <td>2019</td>\n",
       "      <td>1</td>\n",
       "      <td>1</td>\n",
       "      <td>1</td>\n",
       "      <td>대구광역시</td>\n",
       "      <td>수성구</td>\n",
       "      <td>두산동</td>\n",
       "      <td>단일로</td>\n",
       "      <td>기타</td>\n",
       "    </tr>\n",
       "    <tr>\n",
       "      <th>3</th>\n",
       "      <td>ACCIDENT_00003</td>\n",
       "      <td>화요일</td>\n",
       "      <td>맑음</td>\n",
       "      <td>건조</td>\n",
       "      <td>차대차</td>\n",
       "      <td>2019</td>\n",
       "      <td>1</td>\n",
       "      <td>1</td>\n",
       "      <td>2</td>\n",
       "      <td>대구광역시</td>\n",
       "      <td>북구</td>\n",
       "      <td>복현동</td>\n",
       "      <td>단일로</td>\n",
       "      <td>기타</td>\n",
       "    </tr>\n",
       "    <tr>\n",
       "      <th>4</th>\n",
       "      <td>ACCIDENT_00004</td>\n",
       "      <td>화요일</td>\n",
       "      <td>맑음</td>\n",
       "      <td>건조</td>\n",
       "      <td>차대차</td>\n",
       "      <td>2019</td>\n",
       "      <td>1</td>\n",
       "      <td>1</td>\n",
       "      <td>4</td>\n",
       "      <td>대구광역시</td>\n",
       "      <td>동구</td>\n",
       "      <td>신암동</td>\n",
       "      <td>단일로</td>\n",
       "      <td>기타</td>\n",
       "    </tr>\n",
       "    <tr>\n",
       "      <th>...</th>\n",
       "      <td>...</td>\n",
       "      <td>...</td>\n",
       "      <td>...</td>\n",
       "      <td>...</td>\n",
       "      <td>...</td>\n",
       "      <td>...</td>\n",
       "      <td>...</td>\n",
       "      <td>...</td>\n",
       "      <td>...</td>\n",
       "      <td>...</td>\n",
       "      <td>...</td>\n",
       "      <td>...</td>\n",
       "      <td>...</td>\n",
       "      <td>...</td>\n",
       "    </tr>\n",
       "    <tr>\n",
       "      <th>39604</th>\n",
       "      <td>ACCIDENT_39604</td>\n",
       "      <td>금요일</td>\n",
       "      <td>맑음</td>\n",
       "      <td>건조</td>\n",
       "      <td>차대차</td>\n",
       "      <td>2021</td>\n",
       "      <td>12</td>\n",
       "      <td>31</td>\n",
       "      <td>19</td>\n",
       "      <td>대구광역시</td>\n",
       "      <td>수성구</td>\n",
       "      <td>수성동3가</td>\n",
       "      <td>교차로</td>\n",
       "      <td>교차로안</td>\n",
       "    </tr>\n",
       "    <tr>\n",
       "      <th>39605</th>\n",
       "      <td>ACCIDENT_39605</td>\n",
       "      <td>금요일</td>\n",
       "      <td>맑음</td>\n",
       "      <td>건조</td>\n",
       "      <td>차대차</td>\n",
       "      <td>2021</td>\n",
       "      <td>12</td>\n",
       "      <td>31</td>\n",
       "      <td>19</td>\n",
       "      <td>대구광역시</td>\n",
       "      <td>달서구</td>\n",
       "      <td>상인동</td>\n",
       "      <td>단일로</td>\n",
       "      <td>기타</td>\n",
       "    </tr>\n",
       "    <tr>\n",
       "      <th>39606</th>\n",
       "      <td>ACCIDENT_39606</td>\n",
       "      <td>금요일</td>\n",
       "      <td>맑음</td>\n",
       "      <td>건조</td>\n",
       "      <td>차대차</td>\n",
       "      <td>2021</td>\n",
       "      <td>12</td>\n",
       "      <td>31</td>\n",
       "      <td>21</td>\n",
       "      <td>대구광역시</td>\n",
       "      <td>달서구</td>\n",
       "      <td>월성동</td>\n",
       "      <td>교차로</td>\n",
       "      <td>교차로안</td>\n",
       "    </tr>\n",
       "    <tr>\n",
       "      <th>39607</th>\n",
       "      <td>ACCIDENT_39607</td>\n",
       "      <td>금요일</td>\n",
       "      <td>맑음</td>\n",
       "      <td>건조</td>\n",
       "      <td>차대차</td>\n",
       "      <td>2021</td>\n",
       "      <td>12</td>\n",
       "      <td>31</td>\n",
       "      <td>22</td>\n",
       "      <td>대구광역시</td>\n",
       "      <td>달서구</td>\n",
       "      <td>장동</td>\n",
       "      <td>기타</td>\n",
       "      <td>기타</td>\n",
       "    </tr>\n",
       "    <tr>\n",
       "      <th>39608</th>\n",
       "      <td>ACCIDENT_39608</td>\n",
       "      <td>금요일</td>\n",
       "      <td>맑음</td>\n",
       "      <td>건조</td>\n",
       "      <td>차대차</td>\n",
       "      <td>2021</td>\n",
       "      <td>12</td>\n",
       "      <td>31</td>\n",
       "      <td>23</td>\n",
       "      <td>대구광역시</td>\n",
       "      <td>서구</td>\n",
       "      <td>비산동</td>\n",
       "      <td>단일로</td>\n",
       "      <td>지하차도(도로)내</td>\n",
       "    </tr>\n",
       "  </tbody>\n",
       "</table>\n",
       "<p>39609 rows × 14 columns</p>\n",
       "</div>"
      ],
      "text/plain": [
       "                   ID   요일 기상상태 노면상태  사고유형     연   월   일  시간     도시    구  \\\n",
       "0      ACCIDENT_00000  화요일   맑음   건조  차대사람  2019   1   1   0  대구광역시   중구   \n",
       "1      ACCIDENT_00001  화요일   흐림   건조  차대사람  2019   1   1   0  대구광역시  달서구   \n",
       "2      ACCIDENT_00002  화요일   맑음   건조  차대사람  2019   1   1   1  대구광역시  수성구   \n",
       "3      ACCIDENT_00003  화요일   맑음   건조   차대차  2019   1   1   2  대구광역시   북구   \n",
       "4      ACCIDENT_00004  화요일   맑음   건조   차대차  2019   1   1   4  대구광역시   동구   \n",
       "...               ...  ...  ...  ...   ...   ...  ..  ..  ..    ...  ...   \n",
       "39604  ACCIDENT_39604  금요일   맑음   건조   차대차  2021  12  31  19  대구광역시  수성구   \n",
       "39605  ACCIDENT_39605  금요일   맑음   건조   차대차  2021  12  31  19  대구광역시  달서구   \n",
       "39606  ACCIDENT_39606  금요일   맑음   건조   차대차  2021  12  31  21  대구광역시  달서구   \n",
       "39607  ACCIDENT_39607  금요일   맑음   건조   차대차  2021  12  31  22  대구광역시  달서구   \n",
       "39608  ACCIDENT_39608  금요일   맑음   건조   차대차  2021  12  31  23  대구광역시   서구   \n",
       "\n",
       "           동 도로형태1      도로형태2  \n",
       "0        대신동   단일로         기타  \n",
       "1        감삼동   단일로         기타  \n",
       "2        두산동   단일로         기타  \n",
       "3        복현동   단일로         기타  \n",
       "4        신암동   단일로         기타  \n",
       "...      ...   ...        ...  \n",
       "39604  수성동3가   교차로       교차로안  \n",
       "39605    상인동   단일로         기타  \n",
       "39606    월성동   교차로       교차로안  \n",
       "39607     장동    기타         기타  \n",
       "39608    비산동   단일로  지하차도(도로)내  \n",
       "\n",
       "[39609 rows x 14 columns]"
      ]
     },
     "execution_count": 9,
     "metadata": {},
     "output_type": "execute_result"
    }
   ],
   "source": [
    "train_df= train_df[['ID','요일','기상상태','노면상태', '사고유형', '연', '월', '일', '시간', '도시', '구','동', '도로형태1', '도로형태2']]\n",
    "train_df"
   ]
  },
  {
   "cell_type": "code",
   "execution_count": 10,
   "id": "4d724995-d073-47c8-beef-1b620833dc0f",
   "metadata": {
    "ExecuteTime": {
     "end_time": "2023-11-28T05:07:08.515543Z",
     "start_time": "2023-11-28T05:07:08.505886Z"
    },
    "id": "4d724995-d073-47c8-beef-1b620833dc0f",
    "outputId": "f7a84846-645d-43cc-880f-7446b268a049"
   },
   "outputs": [
    {
     "data": {
      "text/html": [
       "<div>\n",
       "<style scoped>\n",
       "    .dataframe tbody tr th:only-of-type {\n",
       "        vertical-align: middle;\n",
       "    }\n",
       "\n",
       "    .dataframe tbody tr th {\n",
       "        vertical-align: top;\n",
       "    }\n",
       "\n",
       "    .dataframe thead th {\n",
       "        text-align: right;\n",
       "    }\n",
       "</style>\n",
       "<table border=\"1\" class=\"dataframe\">\n",
       "  <thead>\n",
       "    <tr style=\"text-align: right;\">\n",
       "      <th></th>\n",
       "      <th>ID</th>\n",
       "      <th>요일</th>\n",
       "      <th>기상상태</th>\n",
       "      <th>노면상태</th>\n",
       "      <th>사고유형</th>\n",
       "      <th>연</th>\n",
       "      <th>월</th>\n",
       "      <th>일</th>\n",
       "      <th>시간</th>\n",
       "      <th>도시</th>\n",
       "      <th>구</th>\n",
       "      <th>동</th>\n",
       "      <th>도로형태1</th>\n",
       "      <th>도로형태2</th>\n",
       "    </tr>\n",
       "  </thead>\n",
       "  <tbody>\n",
       "    <tr>\n",
       "      <th>0</th>\n",
       "      <td>ACCIDENT_00000</td>\n",
       "      <td>화요일</td>\n",
       "      <td>맑음</td>\n",
       "      <td>건조</td>\n",
       "      <td>차대사람</td>\n",
       "      <td>2019</td>\n",
       "      <td>1</td>\n",
       "      <td>1</td>\n",
       "      <td>0</td>\n",
       "      <td>대구광역시</td>\n",
       "      <td>중구</td>\n",
       "      <td>대신동</td>\n",
       "      <td>단일로</td>\n",
       "      <td>기타</td>\n",
       "    </tr>\n",
       "    <tr>\n",
       "      <th>1</th>\n",
       "      <td>ACCIDENT_00001</td>\n",
       "      <td>화요일</td>\n",
       "      <td>흐림</td>\n",
       "      <td>건조</td>\n",
       "      <td>차대사람</td>\n",
       "      <td>2019</td>\n",
       "      <td>1</td>\n",
       "      <td>1</td>\n",
       "      <td>0</td>\n",
       "      <td>대구광역시</td>\n",
       "      <td>달서구</td>\n",
       "      <td>감삼동</td>\n",
       "      <td>단일로</td>\n",
       "      <td>기타</td>\n",
       "    </tr>\n",
       "    <tr>\n",
       "      <th>2</th>\n",
       "      <td>ACCIDENT_00002</td>\n",
       "      <td>화요일</td>\n",
       "      <td>맑음</td>\n",
       "      <td>건조</td>\n",
       "      <td>차대사람</td>\n",
       "      <td>2019</td>\n",
       "      <td>1</td>\n",
       "      <td>1</td>\n",
       "      <td>1</td>\n",
       "      <td>대구광역시</td>\n",
       "      <td>수성구</td>\n",
       "      <td>두산동</td>\n",
       "      <td>단일로</td>\n",
       "      <td>기타</td>\n",
       "    </tr>\n",
       "    <tr>\n",
       "      <th>3</th>\n",
       "      <td>ACCIDENT_00003</td>\n",
       "      <td>화요일</td>\n",
       "      <td>맑음</td>\n",
       "      <td>건조</td>\n",
       "      <td>차대차</td>\n",
       "      <td>2019</td>\n",
       "      <td>1</td>\n",
       "      <td>1</td>\n",
       "      <td>2</td>\n",
       "      <td>대구광역시</td>\n",
       "      <td>북구</td>\n",
       "      <td>복현동</td>\n",
       "      <td>단일로</td>\n",
       "      <td>기타</td>\n",
       "    </tr>\n",
       "    <tr>\n",
       "      <th>4</th>\n",
       "      <td>ACCIDENT_00004</td>\n",
       "      <td>화요일</td>\n",
       "      <td>맑음</td>\n",
       "      <td>건조</td>\n",
       "      <td>차대차</td>\n",
       "      <td>2019</td>\n",
       "      <td>1</td>\n",
       "      <td>1</td>\n",
       "      <td>4</td>\n",
       "      <td>대구광역시</td>\n",
       "      <td>동구</td>\n",
       "      <td>신암동</td>\n",
       "      <td>단일로</td>\n",
       "      <td>기타</td>\n",
       "    </tr>\n",
       "  </tbody>\n",
       "</table>\n",
       "</div>"
      ],
      "text/plain": [
       "               ID   요일 기상상태 노면상태  사고유형     연  월  일  시간     도시    구    동 도로형태1  \\\n",
       "0  ACCIDENT_00000  화요일   맑음   건조  차대사람  2019  1  1   0  대구광역시   중구  대신동   단일로   \n",
       "1  ACCIDENT_00001  화요일   흐림   건조  차대사람  2019  1  1   0  대구광역시  달서구  감삼동   단일로   \n",
       "2  ACCIDENT_00002  화요일   맑음   건조  차대사람  2019  1  1   1  대구광역시  수성구  두산동   단일로   \n",
       "3  ACCIDENT_00003  화요일   맑음   건조   차대차  2019  1  1   2  대구광역시   북구  복현동   단일로   \n",
       "4  ACCIDENT_00004  화요일   맑음   건조   차대차  2019  1  1   4  대구광역시   동구  신암동   단일로   \n",
       "\n",
       "  도로형태2  \n",
       "0    기타  \n",
       "1    기타  \n",
       "2    기타  \n",
       "3    기타  \n",
       "4    기타  "
      ]
     },
     "metadata": {},
     "output_type": "display_data"
    },
    {
     "data": {
      "text/html": [
       "<div>\n",
       "<style scoped>\n",
       "    .dataframe tbody tr th:only-of-type {\n",
       "        vertical-align: middle;\n",
       "    }\n",
       "\n",
       "    .dataframe tbody tr th {\n",
       "        vertical-align: top;\n",
       "    }\n",
       "\n",
       "    .dataframe thead th {\n",
       "        text-align: right;\n",
       "    }\n",
       "</style>\n",
       "<table border=\"1\" class=\"dataframe\">\n",
       "  <thead>\n",
       "    <tr style=\"text-align: right;\">\n",
       "      <th></th>\n",
       "      <th>ID</th>\n",
       "      <th>요일</th>\n",
       "      <th>기상상태</th>\n",
       "      <th>노면상태</th>\n",
       "      <th>사고유형</th>\n",
       "      <th>연</th>\n",
       "      <th>월</th>\n",
       "      <th>일</th>\n",
       "      <th>시간</th>\n",
       "      <th>도시</th>\n",
       "      <th>구</th>\n",
       "      <th>동</th>\n",
       "      <th>도로형태1</th>\n",
       "      <th>도로형태2</th>\n",
       "    </tr>\n",
       "  </thead>\n",
       "  <tbody>\n",
       "    <tr>\n",
       "      <th>0</th>\n",
       "      <td>ACCIDENT_39609</td>\n",
       "      <td>토요일</td>\n",
       "      <td>맑음</td>\n",
       "      <td>건조</td>\n",
       "      <td>차대사람</td>\n",
       "      <td>2022</td>\n",
       "      <td>1</td>\n",
       "      <td>1</td>\n",
       "      <td>1</td>\n",
       "      <td>대구광역시</td>\n",
       "      <td>수성구</td>\n",
       "      <td>상동</td>\n",
       "      <td>교차로</td>\n",
       "      <td>교차로안</td>\n",
       "    </tr>\n",
       "    <tr>\n",
       "      <th>1</th>\n",
       "      <td>ACCIDENT_39610</td>\n",
       "      <td>토요일</td>\n",
       "      <td>맑음</td>\n",
       "      <td>건조</td>\n",
       "      <td>차대사람</td>\n",
       "      <td>2022</td>\n",
       "      <td>1</td>\n",
       "      <td>1</td>\n",
       "      <td>1</td>\n",
       "      <td>대구광역시</td>\n",
       "      <td>수성구</td>\n",
       "      <td>지산동</td>\n",
       "      <td>단일로</td>\n",
       "      <td>기타</td>\n",
       "    </tr>\n",
       "    <tr>\n",
       "      <th>2</th>\n",
       "      <td>ACCIDENT_39611</td>\n",
       "      <td>토요일</td>\n",
       "      <td>맑음</td>\n",
       "      <td>건조</td>\n",
       "      <td>차대차</td>\n",
       "      <td>2022</td>\n",
       "      <td>1</td>\n",
       "      <td>1</td>\n",
       "      <td>4</td>\n",
       "      <td>대구광역시</td>\n",
       "      <td>수성구</td>\n",
       "      <td>수성동2가</td>\n",
       "      <td>교차로</td>\n",
       "      <td>교차로안</td>\n",
       "    </tr>\n",
       "    <tr>\n",
       "      <th>3</th>\n",
       "      <td>ACCIDENT_39612</td>\n",
       "      <td>토요일</td>\n",
       "      <td>맑음</td>\n",
       "      <td>건조</td>\n",
       "      <td>차대차</td>\n",
       "      <td>2022</td>\n",
       "      <td>1</td>\n",
       "      <td>1</td>\n",
       "      <td>4</td>\n",
       "      <td>대구광역시</td>\n",
       "      <td>수성구</td>\n",
       "      <td>신매동</td>\n",
       "      <td>단일로</td>\n",
       "      <td>기타</td>\n",
       "    </tr>\n",
       "    <tr>\n",
       "      <th>4</th>\n",
       "      <td>ACCIDENT_39613</td>\n",
       "      <td>토요일</td>\n",
       "      <td>맑음</td>\n",
       "      <td>건조</td>\n",
       "      <td>차대차</td>\n",
       "      <td>2022</td>\n",
       "      <td>1</td>\n",
       "      <td>1</td>\n",
       "      <td>6</td>\n",
       "      <td>대구광역시</td>\n",
       "      <td>달서구</td>\n",
       "      <td>감삼동</td>\n",
       "      <td>교차로</td>\n",
       "      <td>교차로안</td>\n",
       "    </tr>\n",
       "  </tbody>\n",
       "</table>\n",
       "</div>"
      ],
      "text/plain": [
       "               ID   요일 기상상태 노면상태  사고유형     연  월  일  시간     도시    구      동  \\\n",
       "0  ACCIDENT_39609  토요일   맑음   건조  차대사람  2022  1  1   1  대구광역시  수성구     상동   \n",
       "1  ACCIDENT_39610  토요일   맑음   건조  차대사람  2022  1  1   1  대구광역시  수성구    지산동   \n",
       "2  ACCIDENT_39611  토요일   맑음   건조   차대차  2022  1  1   4  대구광역시  수성구  수성동2가   \n",
       "3  ACCIDENT_39612  토요일   맑음   건조   차대차  2022  1  1   4  대구광역시  수성구    신매동   \n",
       "4  ACCIDENT_39613  토요일   맑음   건조   차대차  2022  1  1   6  대구광역시  달서구    감삼동   \n",
       "\n",
       "  도로형태1 도로형태2  \n",
       "0   교차로  교차로안  \n",
       "1   단일로    기타  \n",
       "2   교차로  교차로안  \n",
       "3   단일로    기타  \n",
       "4   교차로  교차로안  "
      ]
     },
     "metadata": {},
     "output_type": "display_data"
    }
   ],
   "source": [
    "display(train_df.head())\n",
    "display(test_df.head())"
   ]
  },
  {
   "cell_type": "code",
   "execution_count": 11,
   "id": "02a3aac2-ceb2-462c-9137-0cd175fbb58d",
   "metadata": {
    "ExecuteTime": {
     "end_time": "2023-11-28T05:07:08.555232Z",
     "start_time": "2023-11-28T05:07:08.516200Z"
    },
    "id": "02a3aac2-ceb2-462c-9137-0cd175fbb58d",
    "outputId": "3589dd8f-5c4f-451b-d473-c40f8e241972"
   },
   "outputs": [
    {
     "name": "stdout",
     "output_type": "stream",
     "text": [
      "<class 'pandas.core.frame.DataFrame'>\n",
      "RangeIndex: 39609 entries, 0 to 39608\n",
      "Data columns (total 14 columns):\n",
      " #   Column  Non-Null Count  Dtype \n",
      "---  ------  --------------  ----- \n",
      " 0   ID      39609 non-null  object\n",
      " 1   요일      39609 non-null  object\n",
      " 2   기상상태    39609 non-null  object\n",
      " 3   노면상태    39609 non-null  object\n",
      " 4   사고유형    39609 non-null  object\n",
      " 5   연       39609 non-null  int64 \n",
      " 6   월       39609 non-null  int64 \n",
      " 7   일       39609 non-null  int64 \n",
      " 8   시간      39609 non-null  int64 \n",
      " 9   도시      39609 non-null  object\n",
      " 10  구       39609 non-null  object\n",
      " 11  동       39609 non-null  object\n",
      " 12  도로형태1   39609 non-null  object\n",
      " 13  도로형태2   39609 non-null  object\n",
      "dtypes: int64(4), object(10)\n",
      "memory usage: 4.2+ MB\n"
     ]
    },
    {
     "data": {
      "text/plain": [
       "None"
      ]
     },
     "metadata": {},
     "output_type": "display_data"
    },
    {
     "name": "stdout",
     "output_type": "stream",
     "text": [
      "<class 'pandas.core.frame.DataFrame'>\n",
      "RangeIndex: 10963 entries, 0 to 10962\n",
      "Data columns (total 14 columns):\n",
      " #   Column  Non-Null Count  Dtype \n",
      "---  ------  --------------  ----- \n",
      " 0   ID      10963 non-null  object\n",
      " 1   요일      10963 non-null  object\n",
      " 2   기상상태    10963 non-null  object\n",
      " 3   노면상태    10963 non-null  object\n",
      " 4   사고유형    10963 non-null  object\n",
      " 5   연       10963 non-null  int64 \n",
      " 6   월       10963 non-null  int64 \n",
      " 7   일       10963 non-null  int64 \n",
      " 8   시간      10963 non-null  int64 \n",
      " 9   도시      10963 non-null  object\n",
      " 10  구       10963 non-null  object\n",
      " 11  동       10963 non-null  object\n",
      " 12  도로형태1   10963 non-null  object\n",
      " 13  도로형태2   10963 non-null  object\n",
      "dtypes: int64(4), object(10)\n",
      "memory usage: 1.2+ MB\n"
     ]
    },
    {
     "data": {
      "text/plain": [
       "None"
      ]
     },
     "metadata": {},
     "output_type": "display_data"
    }
   ],
   "source": [
    "display(train_df.info())\n",
    "display(test_df.info())"
   ]
  },
  {
   "cell_type": "markdown",
   "id": "9de2d79c-0f97-4e13-b34c-519d6b95556b",
   "metadata": {
    "id": "9de2d79c-0f97-4e13-b34c-519d6b95556b",
    "jp-MarkdownHeadingCollapsed": true
   },
   "source": [
    "# **📌 인코딩 (One-Hot)**\n",
    "- `df_merge_enc` : 인코딩 진행 위해 `train_df`, `test_df` merged df\n",
    "- `df_drop_city_days` : '도시', '일' 제거한 merged df\n",
    "- `citydays_encoded` : 원핫인코딩 한 merged df\n",
    "- `train_citydays` / `test_citydays` : 원핫인코딩 한 merged df 를 다시 train/test 로 분리"
   ]
  },
  {
   "cell_type": "markdown",
   "id": "0ea0c44d-dac4-405d-8ec6-6669f33f9ab8",
   "metadata": {
    "id": "0ea0c44d-dac4-405d-8ec6-6669f33f9ab8",
    "jp-MarkdownHeadingCollapsed": true
   },
   "source": [
    "## **🔻 인코딩 위해 데이터프레임 병합**"
   ]
  },
  {
   "cell_type": "code",
   "execution_count": 12,
   "id": "c78f878d-a490-4105-aa23-870d57efabfe",
   "metadata": {
    "ExecuteTime": {
     "end_time": "2023-11-28T05:07:08.591855Z",
     "start_time": "2023-11-28T05:07:08.555956Z"
    },
    "id": "c78f878d-a490-4105-aa23-870d57efabfe",
    "outputId": "40e3ab5c-0f59-4e11-f070-fcf2891c6a1f"
   },
   "outputs": [
    {
     "data": {
      "text/html": [
       "<div>\n",
       "<style scoped>\n",
       "    .dataframe tbody tr th:only-of-type {\n",
       "        vertical-align: middle;\n",
       "    }\n",
       "\n",
       "    .dataframe tbody tr th {\n",
       "        vertical-align: top;\n",
       "    }\n",
       "\n",
       "    .dataframe thead th {\n",
       "        text-align: right;\n",
       "    }\n",
       "</style>\n",
       "<table border=\"1\" class=\"dataframe\">\n",
       "  <thead>\n",
       "    <tr style=\"text-align: right;\">\n",
       "      <th></th>\n",
       "      <th>ID</th>\n",
       "      <th>요일</th>\n",
       "      <th>기상상태</th>\n",
       "      <th>노면상태</th>\n",
       "      <th>사고유형</th>\n",
       "      <th>연</th>\n",
       "      <th>월</th>\n",
       "      <th>일</th>\n",
       "      <th>시간</th>\n",
       "      <th>도시</th>\n",
       "      <th>구</th>\n",
       "      <th>동</th>\n",
       "      <th>도로형태1</th>\n",
       "      <th>도로형태2</th>\n",
       "    </tr>\n",
       "  </thead>\n",
       "  <tbody>\n",
       "    <tr>\n",
       "      <th>0</th>\n",
       "      <td>ACCIDENT_00000</td>\n",
       "      <td>화요일</td>\n",
       "      <td>맑음</td>\n",
       "      <td>건조</td>\n",
       "      <td>차대사람</td>\n",
       "      <td>2019</td>\n",
       "      <td>1</td>\n",
       "      <td>1</td>\n",
       "      <td>0</td>\n",
       "      <td>대구광역시</td>\n",
       "      <td>중구</td>\n",
       "      <td>대신동</td>\n",
       "      <td>단일로</td>\n",
       "      <td>기타</td>\n",
       "    </tr>\n",
       "    <tr>\n",
       "      <th>1</th>\n",
       "      <td>ACCIDENT_00001</td>\n",
       "      <td>화요일</td>\n",
       "      <td>흐림</td>\n",
       "      <td>건조</td>\n",
       "      <td>차대사람</td>\n",
       "      <td>2019</td>\n",
       "      <td>1</td>\n",
       "      <td>1</td>\n",
       "      <td>0</td>\n",
       "      <td>대구광역시</td>\n",
       "      <td>달서구</td>\n",
       "      <td>감삼동</td>\n",
       "      <td>단일로</td>\n",
       "      <td>기타</td>\n",
       "    </tr>\n",
       "    <tr>\n",
       "      <th>2</th>\n",
       "      <td>ACCIDENT_00002</td>\n",
       "      <td>화요일</td>\n",
       "      <td>맑음</td>\n",
       "      <td>건조</td>\n",
       "      <td>차대사람</td>\n",
       "      <td>2019</td>\n",
       "      <td>1</td>\n",
       "      <td>1</td>\n",
       "      <td>1</td>\n",
       "      <td>대구광역시</td>\n",
       "      <td>수성구</td>\n",
       "      <td>두산동</td>\n",
       "      <td>단일로</td>\n",
       "      <td>기타</td>\n",
       "    </tr>\n",
       "    <tr>\n",
       "      <th>3</th>\n",
       "      <td>ACCIDENT_00003</td>\n",
       "      <td>화요일</td>\n",
       "      <td>맑음</td>\n",
       "      <td>건조</td>\n",
       "      <td>차대차</td>\n",
       "      <td>2019</td>\n",
       "      <td>1</td>\n",
       "      <td>1</td>\n",
       "      <td>2</td>\n",
       "      <td>대구광역시</td>\n",
       "      <td>북구</td>\n",
       "      <td>복현동</td>\n",
       "      <td>단일로</td>\n",
       "      <td>기타</td>\n",
       "    </tr>\n",
       "    <tr>\n",
       "      <th>4</th>\n",
       "      <td>ACCIDENT_00004</td>\n",
       "      <td>화요일</td>\n",
       "      <td>맑음</td>\n",
       "      <td>건조</td>\n",
       "      <td>차대차</td>\n",
       "      <td>2019</td>\n",
       "      <td>1</td>\n",
       "      <td>1</td>\n",
       "      <td>4</td>\n",
       "      <td>대구광역시</td>\n",
       "      <td>동구</td>\n",
       "      <td>신암동</td>\n",
       "      <td>단일로</td>\n",
       "      <td>기타</td>\n",
       "    </tr>\n",
       "  </tbody>\n",
       "</table>\n",
       "</div>"
      ],
      "text/plain": [
       "               ID   요일 기상상태 노면상태  사고유형     연  월  일  시간     도시    구    동 도로형태1  \\\n",
       "0  ACCIDENT_00000  화요일   맑음   건조  차대사람  2019  1  1   0  대구광역시   중구  대신동   단일로   \n",
       "1  ACCIDENT_00001  화요일   흐림   건조  차대사람  2019  1  1   0  대구광역시  달서구  감삼동   단일로   \n",
       "2  ACCIDENT_00002  화요일   맑음   건조  차대사람  2019  1  1   1  대구광역시  수성구  두산동   단일로   \n",
       "3  ACCIDENT_00003  화요일   맑음   건조   차대차  2019  1  1   2  대구광역시   북구  복현동   단일로   \n",
       "4  ACCIDENT_00004  화요일   맑음   건조   차대차  2019  1  1   4  대구광역시   동구  신암동   단일로   \n",
       "\n",
       "  도로형태2  \n",
       "0    기타  \n",
       "1    기타  \n",
       "2    기타  \n",
       "3    기타  \n",
       "4    기타  "
      ]
     },
     "metadata": {},
     "output_type": "display_data"
    }
   ],
   "source": [
    "# 전처리를 위해 train과 test 데이터를 data라는 데이터프레임으로 합치기\n",
    "data = pd.concat([train_df, test_df], sort=False)\n",
    "df_merge_enc = data.copy()\n",
    "# 병합 데이터프레임 확인\n",
    "display(df_merge_enc.head())"
   ]
  },
  {
   "cell_type": "markdown",
   "id": "ed557a66-efea-4cb8-b4cc-5c6d61c6b381",
   "metadata": {
    "id": "ed557a66-efea-4cb8-b4cc-5c6d61c6b381",
    "jp-MarkdownHeadingCollapsed": true
   },
   "source": [
    "## **🔻 불필요한 컬럼 제거 : '도시', '일'**"
   ]
  },
  {
   "cell_type": "code",
   "execution_count": 13,
   "id": "4af5a32d-2377-4e54-8df5-3a561d191565",
   "metadata": {
    "ExecuteTime": {
     "end_time": "2023-11-28T05:07:08.602352Z",
     "start_time": "2023-11-28T05:07:08.592662Z"
    },
    "id": "4af5a32d-2377-4e54-8df5-3a561d191565",
    "outputId": "d62ec554-c4bc-4852-ad6a-4301a901efeb"
   },
   "outputs": [
    {
     "data": {
      "text/html": [
       "<div>\n",
       "<style scoped>\n",
       "    .dataframe tbody tr th:only-of-type {\n",
       "        vertical-align: middle;\n",
       "    }\n",
       "\n",
       "    .dataframe tbody tr th {\n",
       "        vertical-align: top;\n",
       "    }\n",
       "\n",
       "    .dataframe thead th {\n",
       "        text-align: right;\n",
       "    }\n",
       "</style>\n",
       "<table border=\"1\" class=\"dataframe\">\n",
       "  <thead>\n",
       "    <tr style=\"text-align: right;\">\n",
       "      <th></th>\n",
       "      <th>ID</th>\n",
       "      <th>요일</th>\n",
       "      <th>기상상태</th>\n",
       "      <th>노면상태</th>\n",
       "      <th>사고유형</th>\n",
       "      <th>연</th>\n",
       "      <th>월</th>\n",
       "      <th>시간</th>\n",
       "      <th>구</th>\n",
       "      <th>동</th>\n",
       "      <th>도로형태1</th>\n",
       "      <th>도로형태2</th>\n",
       "    </tr>\n",
       "  </thead>\n",
       "  <tbody>\n",
       "    <tr>\n",
       "      <th>0</th>\n",
       "      <td>ACCIDENT_00000</td>\n",
       "      <td>화요일</td>\n",
       "      <td>맑음</td>\n",
       "      <td>건조</td>\n",
       "      <td>차대사람</td>\n",
       "      <td>2019</td>\n",
       "      <td>1</td>\n",
       "      <td>0</td>\n",
       "      <td>중구</td>\n",
       "      <td>대신동</td>\n",
       "      <td>단일로</td>\n",
       "      <td>기타</td>\n",
       "    </tr>\n",
       "    <tr>\n",
       "      <th>1</th>\n",
       "      <td>ACCIDENT_00001</td>\n",
       "      <td>화요일</td>\n",
       "      <td>흐림</td>\n",
       "      <td>건조</td>\n",
       "      <td>차대사람</td>\n",
       "      <td>2019</td>\n",
       "      <td>1</td>\n",
       "      <td>0</td>\n",
       "      <td>달서구</td>\n",
       "      <td>감삼동</td>\n",
       "      <td>단일로</td>\n",
       "      <td>기타</td>\n",
       "    </tr>\n",
       "    <tr>\n",
       "      <th>2</th>\n",
       "      <td>ACCIDENT_00002</td>\n",
       "      <td>화요일</td>\n",
       "      <td>맑음</td>\n",
       "      <td>건조</td>\n",
       "      <td>차대사람</td>\n",
       "      <td>2019</td>\n",
       "      <td>1</td>\n",
       "      <td>1</td>\n",
       "      <td>수성구</td>\n",
       "      <td>두산동</td>\n",
       "      <td>단일로</td>\n",
       "      <td>기타</td>\n",
       "    </tr>\n",
       "    <tr>\n",
       "      <th>3</th>\n",
       "      <td>ACCIDENT_00003</td>\n",
       "      <td>화요일</td>\n",
       "      <td>맑음</td>\n",
       "      <td>건조</td>\n",
       "      <td>차대차</td>\n",
       "      <td>2019</td>\n",
       "      <td>1</td>\n",
       "      <td>2</td>\n",
       "      <td>북구</td>\n",
       "      <td>복현동</td>\n",
       "      <td>단일로</td>\n",
       "      <td>기타</td>\n",
       "    </tr>\n",
       "    <tr>\n",
       "      <th>4</th>\n",
       "      <td>ACCIDENT_00004</td>\n",
       "      <td>화요일</td>\n",
       "      <td>맑음</td>\n",
       "      <td>건조</td>\n",
       "      <td>차대차</td>\n",
       "      <td>2019</td>\n",
       "      <td>1</td>\n",
       "      <td>4</td>\n",
       "      <td>동구</td>\n",
       "      <td>신암동</td>\n",
       "      <td>단일로</td>\n",
       "      <td>기타</td>\n",
       "    </tr>\n",
       "  </tbody>\n",
       "</table>\n",
       "</div>"
      ],
      "text/plain": [
       "               ID   요일 기상상태 노면상태  사고유형     연  월  시간    구    동 도로형태1 도로형태2\n",
       "0  ACCIDENT_00000  화요일   맑음   건조  차대사람  2019  1   0   중구  대신동   단일로    기타\n",
       "1  ACCIDENT_00001  화요일   흐림   건조  차대사람  2019  1   0  달서구  감삼동   단일로    기타\n",
       "2  ACCIDENT_00002  화요일   맑음   건조  차대사람  2019  1   1  수성구  두산동   단일로    기타\n",
       "3  ACCIDENT_00003  화요일   맑음   건조   차대차  2019  1   2   북구  복현동   단일로    기타\n",
       "4  ACCIDENT_00004  화요일   맑음   건조   차대차  2019  1   4   동구  신암동   단일로    기타"
      ]
     },
     "metadata": {},
     "output_type": "display_data"
    }
   ],
   "source": [
    "# 불필요한 컬럼 제거\n",
    "df_drop_city_days = df_merge_enc.drop(['도시', '일'], axis=1)\n",
    "display(df_drop_city_days.head())"
   ]
  },
  {
   "cell_type": "markdown",
   "id": "85015ebc-0502-4ead-82c5-79a9d2fe470f",
   "metadata": {
    "id": "85015ebc-0502-4ead-82c5-79a9d2fe470f",
    "jp-MarkdownHeadingCollapsed": true
   },
   "source": [
    "## **🔻 원핫 인코딩 진행**"
   ]
  },
  {
   "cell_type": "code",
   "execution_count": 14,
   "id": "4f660083-d970-4edc-9d91-29d89408d9ad",
   "metadata": {
    "ExecuteTime": {
     "end_time": "2023-11-28T05:07:08.737962Z",
     "start_time": "2023-11-28T05:07:08.603162Z"
    },
    "id": "4f660083-d970-4edc-9d91-29d89408d9ad",
    "outputId": "469d19a2-2199-4767-b2ed-6cdec92aa46c",
    "scrolled": true
   },
   "outputs": [
    {
     "data": {
      "text/html": [
       "<div>\n",
       "<style scoped>\n",
       "    .dataframe tbody tr th:only-of-type {\n",
       "        vertical-align: middle;\n",
       "    }\n",
       "\n",
       "    .dataframe tbody tr th {\n",
       "        vertical-align: top;\n",
       "    }\n",
       "\n",
       "    .dataframe thead th {\n",
       "        text-align: right;\n",
       "    }\n",
       "</style>\n",
       "<table border=\"1\" class=\"dataframe\">\n",
       "  <thead>\n",
       "    <tr style=\"text-align: right;\">\n",
       "      <th></th>\n",
       "      <th>요일_금요일</th>\n",
       "      <th>요일_목요일</th>\n",
       "      <th>요일_수요일</th>\n",
       "      <th>요일_월요일</th>\n",
       "      <th>요일_일요일</th>\n",
       "      <th>요일_토요일</th>\n",
       "      <th>요일_화요일</th>\n",
       "      <th>기상상태_기타</th>\n",
       "      <th>기상상태_눈</th>\n",
       "      <th>기상상태_맑음</th>\n",
       "      <th>...</th>\n",
       "      <th>도로형태2_고가도로위</th>\n",
       "      <th>도로형태2_교량</th>\n",
       "      <th>도로형태2_교차로부근</th>\n",
       "      <th>도로형태2_교차로안</th>\n",
       "      <th>도로형태2_교차로횡단보도내</th>\n",
       "      <th>도로형태2_기타</th>\n",
       "      <th>도로형태2_미분류</th>\n",
       "      <th>도로형태2_주차장</th>\n",
       "      <th>도로형태2_지하차도(도로)내</th>\n",
       "      <th>도로형태2_터널</th>\n",
       "    </tr>\n",
       "  </thead>\n",
       "  <tbody>\n",
       "    <tr>\n",
       "      <th>0</th>\n",
       "      <td>0.0</td>\n",
       "      <td>0.0</td>\n",
       "      <td>0.0</td>\n",
       "      <td>0.0</td>\n",
       "      <td>0.0</td>\n",
       "      <td>0.0</td>\n",
       "      <td>1.0</td>\n",
       "      <td>0.0</td>\n",
       "      <td>0.0</td>\n",
       "      <td>1.0</td>\n",
       "      <td>...</td>\n",
       "      <td>0.0</td>\n",
       "      <td>0.0</td>\n",
       "      <td>0.0</td>\n",
       "      <td>0.0</td>\n",
       "      <td>0.0</td>\n",
       "      <td>1.0</td>\n",
       "      <td>0.0</td>\n",
       "      <td>0.0</td>\n",
       "      <td>0.0</td>\n",
       "      <td>0.0</td>\n",
       "    </tr>\n",
       "    <tr>\n",
       "      <th>1</th>\n",
       "      <td>0.0</td>\n",
       "      <td>0.0</td>\n",
       "      <td>0.0</td>\n",
       "      <td>0.0</td>\n",
       "      <td>0.0</td>\n",
       "      <td>0.0</td>\n",
       "      <td>1.0</td>\n",
       "      <td>0.0</td>\n",
       "      <td>0.0</td>\n",
       "      <td>0.0</td>\n",
       "      <td>...</td>\n",
       "      <td>0.0</td>\n",
       "      <td>0.0</td>\n",
       "      <td>0.0</td>\n",
       "      <td>0.0</td>\n",
       "      <td>0.0</td>\n",
       "      <td>1.0</td>\n",
       "      <td>0.0</td>\n",
       "      <td>0.0</td>\n",
       "      <td>0.0</td>\n",
       "      <td>0.0</td>\n",
       "    </tr>\n",
       "    <tr>\n",
       "      <th>2</th>\n",
       "      <td>0.0</td>\n",
       "      <td>0.0</td>\n",
       "      <td>0.0</td>\n",
       "      <td>0.0</td>\n",
       "      <td>0.0</td>\n",
       "      <td>0.0</td>\n",
       "      <td>1.0</td>\n",
       "      <td>0.0</td>\n",
       "      <td>0.0</td>\n",
       "      <td>1.0</td>\n",
       "      <td>...</td>\n",
       "      <td>0.0</td>\n",
       "      <td>0.0</td>\n",
       "      <td>0.0</td>\n",
       "      <td>0.0</td>\n",
       "      <td>0.0</td>\n",
       "      <td>1.0</td>\n",
       "      <td>0.0</td>\n",
       "      <td>0.0</td>\n",
       "      <td>0.0</td>\n",
       "      <td>0.0</td>\n",
       "    </tr>\n",
       "    <tr>\n",
       "      <th>3</th>\n",
       "      <td>0.0</td>\n",
       "      <td>0.0</td>\n",
       "      <td>0.0</td>\n",
       "      <td>0.0</td>\n",
       "      <td>0.0</td>\n",
       "      <td>0.0</td>\n",
       "      <td>1.0</td>\n",
       "      <td>0.0</td>\n",
       "      <td>0.0</td>\n",
       "      <td>1.0</td>\n",
       "      <td>...</td>\n",
       "      <td>0.0</td>\n",
       "      <td>0.0</td>\n",
       "      <td>0.0</td>\n",
       "      <td>0.0</td>\n",
       "      <td>0.0</td>\n",
       "      <td>1.0</td>\n",
       "      <td>0.0</td>\n",
       "      <td>0.0</td>\n",
       "      <td>0.0</td>\n",
       "      <td>0.0</td>\n",
       "    </tr>\n",
       "    <tr>\n",
       "      <th>4</th>\n",
       "      <td>0.0</td>\n",
       "      <td>0.0</td>\n",
       "      <td>0.0</td>\n",
       "      <td>0.0</td>\n",
       "      <td>0.0</td>\n",
       "      <td>0.0</td>\n",
       "      <td>1.0</td>\n",
       "      <td>0.0</td>\n",
       "      <td>0.0</td>\n",
       "      <td>1.0</td>\n",
       "      <td>...</td>\n",
       "      <td>0.0</td>\n",
       "      <td>0.0</td>\n",
       "      <td>0.0</td>\n",
       "      <td>0.0</td>\n",
       "      <td>0.0</td>\n",
       "      <td>1.0</td>\n",
       "      <td>0.0</td>\n",
       "      <td>0.0</td>\n",
       "      <td>0.0</td>\n",
       "      <td>0.0</td>\n",
       "    </tr>\n",
       "  </tbody>\n",
       "</table>\n",
       "<p>5 rows × 281 columns</p>\n",
       "</div>"
      ],
      "text/plain": [
       "   요일_금요일  요일_목요일  요일_수요일  요일_월요일  요일_일요일  요일_토요일  요일_화요일  기상상태_기타  기상상태_눈  \\\n",
       "0     0.0     0.0     0.0     0.0     0.0     0.0     1.0      0.0     0.0   \n",
       "1     0.0     0.0     0.0     0.0     0.0     0.0     1.0      0.0     0.0   \n",
       "2     0.0     0.0     0.0     0.0     0.0     0.0     1.0      0.0     0.0   \n",
       "3     0.0     0.0     0.0     0.0     0.0     0.0     1.0      0.0     0.0   \n",
       "4     0.0     0.0     0.0     0.0     0.0     0.0     1.0      0.0     0.0   \n",
       "\n",
       "   기상상태_맑음  ...  도로형태2_고가도로위  도로형태2_교량  도로형태2_교차로부근  도로형태2_교차로안  \\\n",
       "0      1.0  ...          0.0       0.0          0.0         0.0   \n",
       "1      0.0  ...          0.0       0.0          0.0         0.0   \n",
       "2      1.0  ...          0.0       0.0          0.0         0.0   \n",
       "3      1.0  ...          0.0       0.0          0.0         0.0   \n",
       "4      1.0  ...          0.0       0.0          0.0         0.0   \n",
       "\n",
       "   도로형태2_교차로횡단보도내  도로형태2_기타  도로형태2_미분류  도로형태2_주차장  도로형태2_지하차도(도로)내  도로형태2_터널  \n",
       "0             0.0       1.0        0.0        0.0              0.0       0.0  \n",
       "1             0.0       1.0        0.0        0.0              0.0       0.0  \n",
       "2             0.0       1.0        0.0        0.0              0.0       0.0  \n",
       "3             0.0       1.0        0.0        0.0              0.0       0.0  \n",
       "4             0.0       1.0        0.0        0.0              0.0       0.0  \n",
       "\n",
       "[5 rows x 281 columns]"
      ]
     },
     "metadata": {},
     "output_type": "display_data"
    },
    {
     "name": "stdout",
     "output_type": "stream",
     "text": [
      "['요일_금요일', '요일_목요일', '요일_수요일', '요일_월요일', '요일_일요일', '요일_토요일', '요일_화요일', '기상상태_기타', '기상상태_눈', '기상상태_맑음', '기상상태_비', '기상상태_안개', '기상상태_흐림', '노면상태_건조', '노면상태_기타', '노면상태_서리/결빙', '노면상태_적설', '노면상태_젖음/습기', '노면상태_침수', '사고유형_차대사람', '사고유형_차대차', '사고유형_차량단독', '연_2019', '연_2020', '연_2021', '연_2022', '월_1', '월_2', '월_3', '월_4', '월_5', '월_6', '월_7', '월_8', '월_9', '월_10', '월_11', '월_12', '시간_0', '시간_1', '시간_2', '시간_3', '시간_4', '시간_5', '시간_6', '시간_7', '시간_8', '시간_9', '시간_10', '시간_11', '시간_12', '시간_13', '시간_14', '시간_15', '시간_16', '시간_17', '시간_18', '시간_19', '시간_20', '시간_21', '시간_22', '시간_23', '구_남구', '구_달서구', '구_달성군', '구_동구', '구_북구', '구_서구', '구_수성구', '구_중구', '동_가창면', '동_가천동', '동_각산동', '동_갈산동', '동_감삼동', '동_검단동', '동_검사동', '동_계산동1가', '동_계산동2가', '동_고모동', '동_고성동1가', '동_고성동2가', '동_고성동3가', '동_공평동', '동_관음동', '동_괴전동', '동_교동', '동_구암동', '동_구지면', '동_국우동', '동_금강동', '동_금호동', '동_남산동', '동_남성로', '동_남일동', '동_내당동', '동_내동', '동_노곡동', '동_노변동', '동_노원동1가', '동_노원동2가', '동_노원동3가', '동_논공읍', '동_능성동', '동_다사읍', '동_달성동', '동_대곡동', '동_대림동', '동_대명동', '동_대봉동', '동_대신동', '동_대안동', '동_대천동', '동_대현동', '동_대흥동', '동_덕곡동', '동_덕산동', '동_도남동', '동_도동', '동_도원동', '동_도학동', '동_동내동', '동_동문동', '동_동변동', '동_동산동', '동_동성로1가', '동_동성로2가', '동_동성로3가', '동_동인동1가', '동_동인동2가', '동_동인동3가', '동_동인동4가', '동_동일동', '동_동천동', '동_동호동', '동_두류동', '동_두산동', '동_둔산동', '동_만촌동', '동_매여동', '동_매천동', '동_매호동', '동_문화동', '동_미곡동', '동_미대동', '동_방촌동', '동_백안동', '동_범물동', '동_범어동', '동_복현동', '동_본동', '동_본리동', '동_봉덕동', '동_봉무동', '동_봉산동', '동_부동', '동_북성로1가', '동_북성로2가', '동_불로동', '동_비산동', '동_사복동', '동_사수동', '동_사월동', '동_사일동', '동_산격동', '동_삼덕동', '동_삼덕동1가', '동_삼덕동2가', '동_삼덕동3가', '동_상동', '동_상리동', '동_상매동', '동_상서동', '동_상인동', '동_서문로1가', '동_서문로2가', '동_서변동', '동_서성로1가', '동_서성로2가', '동_서야동', '동_서호동', '동_성당동', '동_성동', '동_송정동', '동_송현동', '동_수동', '동_수성동1가', '동_수성동2가', '동_수성동3가', '동_수성동4가', '동_수창동', '동_숙천동', '동_시장북로', '동_시지동', '동_신기동', '동_신당동', '동_신매동', '동_신무동', '동_신서동', '동_신암동', '동_신용동', '동_신천동', '동_신평동', '동_연경동', '동_연호동', '동_옥포읍', '동_완전동', '동_용계동', '동_용산동', '동_용수동', '동_욱수동', '동_원대동1가', '동_원대동2가', '동_원대동3가', '동_월성동', '동_월암동', '동_유가읍', '동_유천동', '동_율암동', '동_율하동', '동_읍내동', '동_이곡동', '동_이천동', '동_이현동', '동_인교동', '동_입석동', '동_장관동', '동_장기동', '동_장동', '동_전동', '동_조야동', '동_종로1가', '동_종로2가', '동_죽전동', '동_중대동', '동_중동', '동_중리동', '동_지묘동', '동_지산동', '동_지저동', '동_진인동', '동_진천동', '동_칠성동1가', '동_칠성동2가', '동_침산동', '동_태전동', '동_태평로1가', '동_태평로2가', '동_태평로3가', '동_파동', '동_파호동', '동_팔달동', '동_평광동', '동_평리동', '동_포정동', '동_하빈면', '동_하서동', '동_학정동', '동_향촌동', '동_현풍읍', '동_호림동', '동_호산동', '동_화원읍', '동_화전동', '동_황금동', '동_효목동', '도로형태1_교차로', '도로형태1_기타', '도로형태1_단일로', '도로형태1_미분류', '도로형태1_주차장', '도로형태2_고가도로위', '도로형태2_교량', '도로형태2_교차로부근', '도로형태2_교차로안', '도로형태2_교차로횡단보도내', '도로형태2_기타', '도로형태2_미분류', '도로형태2_주차장', '도로형태2_지하차도(도로)내', '도로형태2_터널']\n"
     ]
    }
   ],
   "source": [
    "# 인코딩할 열 선택\n",
    "citydays_columns = df_drop_city_days.columns[1:]\n",
    "\n",
    "# get_dummies를 사용해 원핫 인코딩\n",
    "citydays_encoded = pd.get_dummies(df_drop_city_days, columns=citydays_columns)\n",
    "\n",
    "# boolean 값을 0과 1로 변환\n",
    "citydays_encoded = citydays_encoded.iloc[:, 1: ].astype(float)\n",
    "\n",
    "# 변환된 결과 출력\n",
    "display(citydays_encoded.head())\n",
    "print(citydays_encoded.columns.to_list())"
   ]
  },
  {
   "cell_type": "markdown",
   "id": "0a620d5f-9766-46d1-8e6e-549848e30e66",
   "metadata": {
    "id": "0a620d5f-9766-46d1-8e6e-549848e30e66"
   },
   "source": [
    "## **🔻 통합된 데이터 세트를 다시 train과 test 세트로 분리**"
   ]
  },
  {
   "cell_type": "code",
   "execution_count": 15,
   "id": "8464c89a-a467-4e9e-9813-59e23d319a80",
   "metadata": {
    "ExecuteTime": {
     "end_time": "2023-11-28T05:07:08.740340Z",
     "start_time": "2023-11-28T05:07:08.738752Z"
    },
    "id": "8464c89a-a467-4e9e-9813-59e23d319a80"
   },
   "outputs": [],
   "source": [
    "train_citydays  = citydays_encoded[:len(train_org)]\n",
    "test_citydays = citydays_encoded[len(train_org):]"
   ]
  },
  {
   "cell_type": "code",
   "execution_count": 16,
   "id": "78e4b249-77f1-47ab-8b0e-646fef0dfb2c",
   "metadata": {
    "ExecuteTime": {
     "end_time": "2023-11-28T05:07:08.749028Z",
     "start_time": "2023-11-28T05:07:08.740954Z"
    },
    "id": "78e4b249-77f1-47ab-8b0e-646fef0dfb2c",
    "outputId": "1243aacb-8f9e-4234-9d90-51f4bff5efda"
   },
   "outputs": [
    {
     "name": "stdout",
     "output_type": "stream",
     "text": [
      "<class 'pandas.core.frame.DataFrame'>\n",
      "Int64Index: 39609 entries, 0 to 39608\n",
      "Columns: 281 entries, 요일_금요일 to 도로형태2_터널\n",
      "dtypes: float64(281)\n",
      "memory usage: 85.2 MB\n"
     ]
    }
   ],
   "source": [
    "train_citydays.info()"
   ]
  },
  {
   "cell_type": "code",
   "execution_count": 17,
   "id": "ae028078-0286-44c3-8d10-588f213bdd38",
   "metadata": {
    "ExecuteTime": {
     "end_time": "2023-11-28T05:07:08.753580Z",
     "start_time": "2023-11-28T05:07:08.749702Z"
    },
    "id": "ae028078-0286-44c3-8d10-588f213bdd38",
    "outputId": "4c08d244-a0c7-4b3d-95ae-9cacfa03f377"
   },
   "outputs": [
    {
     "name": "stdout",
     "output_type": "stream",
     "text": [
      "<class 'pandas.core.frame.DataFrame'>\n",
      "Int64Index: 39609 entries, 0 to 39608\n",
      "Columns: 281 entries, 요일_금요일 to 도로형태2_터널\n",
      "dtypes: float64(281)\n",
      "memory usage: 85.2 MB\n"
     ]
    }
   ],
   "source": [
    "train_citydays.info()"
   ]
  },
  {
   "cell_type": "code",
   "execution_count": 18,
   "id": "2d24d59d-722a-487c-8c05-bec8d301fbd4",
   "metadata": {
    "ExecuteTime": {
     "end_time": "2023-11-28T05:07:08.763197Z",
     "start_time": "2023-11-28T05:07:08.754295Z"
    },
    "id": "2d24d59d-722a-487c-8c05-bec8d301fbd4",
    "outputId": "1c52722f-b91d-48f6-ef53-920ee0b93ec7"
   },
   "outputs": [
    {
     "name": "stdout",
     "output_type": "stream",
     "text": [
      "<class 'pandas.core.frame.DataFrame'>\n",
      "Int64Index: 10963 entries, 0 to 10962\n",
      "Columns: 281 entries, 요일_금요일 to 도로형태2_터널\n",
      "dtypes: float64(281)\n",
      "memory usage: 23.6 MB\n"
     ]
    }
   ],
   "source": [
    "test_citydays.info()"
   ]
  },
  {
   "cell_type": "markdown",
   "id": "2469db65-f573-4a57-9455-6c3e780513dc",
   "metadata": {
    "id": "2469db65-f573-4a57-9455-6c3e780513dc"
   },
   "source": [
    "# **📌 원본 데이터의 (`train_org`) ECLO의 왜도 확인**\n",
    "- 왜도 확인 : Skewness of ECLO column: 3.352092952309774\n",
    "  - 오른쪽으로 치우친 왜도가 확인되어, 로그변환 진행 : Skewness of transformed ECLO column: 0.46224288437379557\n",
    "    - `skw_train['ECLO_log']` : 로그변환 진행한 ECLO를 `skw_train` df에 `ECLO_log` 컬럼으로 저장"
   ]
  },
  {
   "cell_type": "code",
   "execution_count": 19,
   "id": "43e0118f-ca1b-4838-9630-d3e4b983e983",
   "metadata": {
    "ExecuteTime": {
     "end_time": "2023-11-28T05:07:08.790677Z",
     "start_time": "2023-11-28T05:07:08.764161Z"
    },
    "id": "43e0118f-ca1b-4838-9630-d3e4b983e983",
    "outputId": "e5062e38-f2ea-459b-a444-ff12715e758c",
    "scrolled": true
   },
   "outputs": [
    {
     "data": {
      "text/html": [
       "<div>\n",
       "<style scoped>\n",
       "    .dataframe tbody tr th:only-of-type {\n",
       "        vertical-align: middle;\n",
       "    }\n",
       "\n",
       "    .dataframe tbody tr th {\n",
       "        vertical-align: top;\n",
       "    }\n",
       "\n",
       "    .dataframe thead th {\n",
       "        text-align: right;\n",
       "    }\n",
       "</style>\n",
       "<table border=\"1\" class=\"dataframe\">\n",
       "  <thead>\n",
       "    <tr style=\"text-align: right;\">\n",
       "      <th></th>\n",
       "      <th>ID</th>\n",
       "      <th>사고일시</th>\n",
       "      <th>요일</th>\n",
       "      <th>기상상태</th>\n",
       "      <th>시군구</th>\n",
       "      <th>도로형태</th>\n",
       "      <th>노면상태</th>\n",
       "      <th>사고유형</th>\n",
       "      <th>사고유형 - 세부분류</th>\n",
       "      <th>법규위반</th>\n",
       "      <th>...</th>\n",
       "      <th>가해운전자 상해정도</th>\n",
       "      <th>피해운전자 차종</th>\n",
       "      <th>피해운전자 성별</th>\n",
       "      <th>피해운전자 연령</th>\n",
       "      <th>피해운전자 상해정도</th>\n",
       "      <th>사망자수</th>\n",
       "      <th>중상자수</th>\n",
       "      <th>경상자수</th>\n",
       "      <th>부상자수</th>\n",
       "      <th>ECLO</th>\n",
       "    </tr>\n",
       "  </thead>\n",
       "  <tbody>\n",
       "    <tr>\n",
       "      <th>0</th>\n",
       "      <td>ACCIDENT_00000</td>\n",
       "      <td>2019-01-01 00</td>\n",
       "      <td>화요일</td>\n",
       "      <td>맑음</td>\n",
       "      <td>대구광역시 중구 대신동</td>\n",
       "      <td>단일로 - 기타</td>\n",
       "      <td>건조</td>\n",
       "      <td>차대사람</td>\n",
       "      <td>길가장자리구역통행중</td>\n",
       "      <td>안전운전불이행</td>\n",
       "      <td>...</td>\n",
       "      <td>상해없음</td>\n",
       "      <td>보행자</td>\n",
       "      <td>여</td>\n",
       "      <td>70세</td>\n",
       "      <td>중상</td>\n",
       "      <td>0</td>\n",
       "      <td>1</td>\n",
       "      <td>0</td>\n",
       "      <td>0</td>\n",
       "      <td>5</td>\n",
       "    </tr>\n",
       "    <tr>\n",
       "      <th>1</th>\n",
       "      <td>ACCIDENT_00001</td>\n",
       "      <td>2019-01-01 00</td>\n",
       "      <td>화요일</td>\n",
       "      <td>흐림</td>\n",
       "      <td>대구광역시 달서구 감삼동</td>\n",
       "      <td>단일로 - 기타</td>\n",
       "      <td>건조</td>\n",
       "      <td>차대사람</td>\n",
       "      <td>보도통행중</td>\n",
       "      <td>기타</td>\n",
       "      <td>...</td>\n",
       "      <td>상해없음</td>\n",
       "      <td>보행자</td>\n",
       "      <td>남</td>\n",
       "      <td>61세</td>\n",
       "      <td>경상</td>\n",
       "      <td>0</td>\n",
       "      <td>0</td>\n",
       "      <td>1</td>\n",
       "      <td>0</td>\n",
       "      <td>3</td>\n",
       "    </tr>\n",
       "    <tr>\n",
       "      <th>2</th>\n",
       "      <td>ACCIDENT_00002</td>\n",
       "      <td>2019-01-01 01</td>\n",
       "      <td>화요일</td>\n",
       "      <td>맑음</td>\n",
       "      <td>대구광역시 수성구 두산동</td>\n",
       "      <td>단일로 - 기타</td>\n",
       "      <td>건조</td>\n",
       "      <td>차대사람</td>\n",
       "      <td>차도통행중</td>\n",
       "      <td>안전운전불이행</td>\n",
       "      <td>...</td>\n",
       "      <td>상해없음</td>\n",
       "      <td>보행자</td>\n",
       "      <td>남</td>\n",
       "      <td>38세</td>\n",
       "      <td>경상</td>\n",
       "      <td>0</td>\n",
       "      <td>0</td>\n",
       "      <td>1</td>\n",
       "      <td>0</td>\n",
       "      <td>3</td>\n",
       "    </tr>\n",
       "    <tr>\n",
       "      <th>3</th>\n",
       "      <td>ACCIDENT_00003</td>\n",
       "      <td>2019-01-01 02</td>\n",
       "      <td>화요일</td>\n",
       "      <td>맑음</td>\n",
       "      <td>대구광역시 북구 복현동</td>\n",
       "      <td>단일로 - 기타</td>\n",
       "      <td>건조</td>\n",
       "      <td>차대차</td>\n",
       "      <td>추돌</td>\n",
       "      <td>안전운전불이행</td>\n",
       "      <td>...</td>\n",
       "      <td>상해없음</td>\n",
       "      <td>승용</td>\n",
       "      <td>남</td>\n",
       "      <td>36세</td>\n",
       "      <td>중상</td>\n",
       "      <td>0</td>\n",
       "      <td>1</td>\n",
       "      <td>0</td>\n",
       "      <td>0</td>\n",
       "      <td>5</td>\n",
       "    </tr>\n",
       "    <tr>\n",
       "      <th>4</th>\n",
       "      <td>ACCIDENT_00004</td>\n",
       "      <td>2019-01-01 04</td>\n",
       "      <td>화요일</td>\n",
       "      <td>맑음</td>\n",
       "      <td>대구광역시 동구 신암동</td>\n",
       "      <td>단일로 - 기타</td>\n",
       "      <td>건조</td>\n",
       "      <td>차대차</td>\n",
       "      <td>추돌</td>\n",
       "      <td>안전운전불이행</td>\n",
       "      <td>...</td>\n",
       "      <td>상해없음</td>\n",
       "      <td>승용</td>\n",
       "      <td>남</td>\n",
       "      <td>52세</td>\n",
       "      <td>경상</td>\n",
       "      <td>0</td>\n",
       "      <td>0</td>\n",
       "      <td>1</td>\n",
       "      <td>0</td>\n",
       "      <td>3</td>\n",
       "    </tr>\n",
       "    <tr>\n",
       "      <th>...</th>\n",
       "      <td>...</td>\n",
       "      <td>...</td>\n",
       "      <td>...</td>\n",
       "      <td>...</td>\n",
       "      <td>...</td>\n",
       "      <td>...</td>\n",
       "      <td>...</td>\n",
       "      <td>...</td>\n",
       "      <td>...</td>\n",
       "      <td>...</td>\n",
       "      <td>...</td>\n",
       "      <td>...</td>\n",
       "      <td>...</td>\n",
       "      <td>...</td>\n",
       "      <td>...</td>\n",
       "      <td>...</td>\n",
       "      <td>...</td>\n",
       "      <td>...</td>\n",
       "      <td>...</td>\n",
       "      <td>...</td>\n",
       "      <td>...</td>\n",
       "    </tr>\n",
       "    <tr>\n",
       "      <th>39604</th>\n",
       "      <td>ACCIDENT_39604</td>\n",
       "      <td>2021-12-31 19</td>\n",
       "      <td>금요일</td>\n",
       "      <td>맑음</td>\n",
       "      <td>대구광역시 수성구 수성동3가</td>\n",
       "      <td>교차로 - 교차로안</td>\n",
       "      <td>건조</td>\n",
       "      <td>차대차</td>\n",
       "      <td>측면충돌</td>\n",
       "      <td>신호위반</td>\n",
       "      <td>...</td>\n",
       "      <td>상해없음</td>\n",
       "      <td>이륜</td>\n",
       "      <td>남</td>\n",
       "      <td>28세</td>\n",
       "      <td>경상</td>\n",
       "      <td>0</td>\n",
       "      <td>0</td>\n",
       "      <td>1</td>\n",
       "      <td>0</td>\n",
       "      <td>3</td>\n",
       "    </tr>\n",
       "    <tr>\n",
       "      <th>39605</th>\n",
       "      <td>ACCIDENT_39605</td>\n",
       "      <td>2021-12-31 19</td>\n",
       "      <td>금요일</td>\n",
       "      <td>맑음</td>\n",
       "      <td>대구광역시 달서구 상인동</td>\n",
       "      <td>단일로 - 기타</td>\n",
       "      <td>건조</td>\n",
       "      <td>차대차</td>\n",
       "      <td>측면충돌</td>\n",
       "      <td>안전거리미확보</td>\n",
       "      <td>...</td>\n",
       "      <td>상해없음</td>\n",
       "      <td>승용</td>\n",
       "      <td>남</td>\n",
       "      <td>52세</td>\n",
       "      <td>경상</td>\n",
       "      <td>0</td>\n",
       "      <td>0</td>\n",
       "      <td>1</td>\n",
       "      <td>0</td>\n",
       "      <td>3</td>\n",
       "    </tr>\n",
       "    <tr>\n",
       "      <th>39606</th>\n",
       "      <td>ACCIDENT_39606</td>\n",
       "      <td>2021-12-31 21</td>\n",
       "      <td>금요일</td>\n",
       "      <td>맑음</td>\n",
       "      <td>대구광역시 달서구 월성동</td>\n",
       "      <td>교차로 - 교차로안</td>\n",
       "      <td>건조</td>\n",
       "      <td>차대차</td>\n",
       "      <td>측면충돌</td>\n",
       "      <td>교차로운행방법위반</td>\n",
       "      <td>...</td>\n",
       "      <td>중상</td>\n",
       "      <td>승용</td>\n",
       "      <td>남</td>\n",
       "      <td>73세</td>\n",
       "      <td>중상</td>\n",
       "      <td>0</td>\n",
       "      <td>2</td>\n",
       "      <td>0</td>\n",
       "      <td>0</td>\n",
       "      <td>10</td>\n",
       "    </tr>\n",
       "    <tr>\n",
       "      <th>39607</th>\n",
       "      <td>ACCIDENT_39607</td>\n",
       "      <td>2021-12-31 22</td>\n",
       "      <td>금요일</td>\n",
       "      <td>맑음</td>\n",
       "      <td>대구광역시 달서구 장동</td>\n",
       "      <td>기타 - 기타</td>\n",
       "      <td>건조</td>\n",
       "      <td>차대차</td>\n",
       "      <td>추돌</td>\n",
       "      <td>안전운전불이행</td>\n",
       "      <td>...</td>\n",
       "      <td>상해없음</td>\n",
       "      <td>승용</td>\n",
       "      <td>여</td>\n",
       "      <td>57세</td>\n",
       "      <td>경상</td>\n",
       "      <td>0</td>\n",
       "      <td>0</td>\n",
       "      <td>1</td>\n",
       "      <td>0</td>\n",
       "      <td>3</td>\n",
       "    </tr>\n",
       "    <tr>\n",
       "      <th>39608</th>\n",
       "      <td>ACCIDENT_39608</td>\n",
       "      <td>2021-12-31 23</td>\n",
       "      <td>금요일</td>\n",
       "      <td>맑음</td>\n",
       "      <td>대구광역시 서구 비산동</td>\n",
       "      <td>단일로 - 지하차도(도로)내</td>\n",
       "      <td>건조</td>\n",
       "      <td>차대차</td>\n",
       "      <td>측면충돌</td>\n",
       "      <td>안전운전불이행</td>\n",
       "      <td>...</td>\n",
       "      <td>상해없음</td>\n",
       "      <td>승용</td>\n",
       "      <td>남</td>\n",
       "      <td>33세</td>\n",
       "      <td>경상</td>\n",
       "      <td>0</td>\n",
       "      <td>0</td>\n",
       "      <td>2</td>\n",
       "      <td>0</td>\n",
       "      <td>6</td>\n",
       "    </tr>\n",
       "  </tbody>\n",
       "</table>\n",
       "<p>39609 rows × 23 columns</p>\n",
       "</div>"
      ],
      "text/plain": [
       "                   ID           사고일시   요일 기상상태              시군구  \\\n",
       "0      ACCIDENT_00000  2019-01-01 00  화요일   맑음     대구광역시 중구 대신동   \n",
       "1      ACCIDENT_00001  2019-01-01 00  화요일   흐림    대구광역시 달서구 감삼동   \n",
       "2      ACCIDENT_00002  2019-01-01 01  화요일   맑음    대구광역시 수성구 두산동   \n",
       "3      ACCIDENT_00003  2019-01-01 02  화요일   맑음     대구광역시 북구 복현동   \n",
       "4      ACCIDENT_00004  2019-01-01 04  화요일   맑음     대구광역시 동구 신암동   \n",
       "...               ...            ...  ...  ...              ...   \n",
       "39604  ACCIDENT_39604  2021-12-31 19  금요일   맑음  대구광역시 수성구 수성동3가   \n",
       "39605  ACCIDENT_39605  2021-12-31 19  금요일   맑음    대구광역시 달서구 상인동   \n",
       "39606  ACCIDENT_39606  2021-12-31 21  금요일   맑음    대구광역시 달서구 월성동   \n",
       "39607  ACCIDENT_39607  2021-12-31 22  금요일   맑음     대구광역시 달서구 장동   \n",
       "39608  ACCIDENT_39608  2021-12-31 23  금요일   맑음     대구광역시 서구 비산동   \n",
       "\n",
       "                  도로형태 노면상태  사고유형 사고유형 - 세부분류       법규위반  ... 가해운전자 상해정도  \\\n",
       "0             단일로 - 기타   건조  차대사람  길가장자리구역통행중    안전운전불이행  ...       상해없음   \n",
       "1             단일로 - 기타   건조  차대사람       보도통행중         기타  ...       상해없음   \n",
       "2             단일로 - 기타   건조  차대사람       차도통행중    안전운전불이행  ...       상해없음   \n",
       "3             단일로 - 기타   건조   차대차          추돌    안전운전불이행  ...       상해없음   \n",
       "4             단일로 - 기타   건조   차대차          추돌    안전운전불이행  ...       상해없음   \n",
       "...                ...  ...   ...         ...        ...  ...        ...   \n",
       "39604       교차로 - 교차로안   건조   차대차        측면충돌       신호위반  ...       상해없음   \n",
       "39605         단일로 - 기타   건조   차대차        측면충돌    안전거리미확보  ...       상해없음   \n",
       "39606       교차로 - 교차로안   건조   차대차        측면충돌  교차로운행방법위반  ...         중상   \n",
       "39607          기타 - 기타   건조   차대차          추돌    안전운전불이행  ...       상해없음   \n",
       "39608  단일로 - 지하차도(도로)내   건조   차대차        측면충돌    안전운전불이행  ...       상해없음   \n",
       "\n",
       "      피해운전자 차종 피해운전자 성별 피해운전자 연령 피해운전자 상해정도 사망자수 중상자수 경상자수  부상자수  ECLO  \n",
       "0          보행자        여      70세         중상    0    1    0     0     5  \n",
       "1          보행자        남      61세         경상    0    0    1     0     3  \n",
       "2          보행자        남      38세         경상    0    0    1     0     3  \n",
       "3           승용        남      36세         중상    0    1    0     0     5  \n",
       "4           승용        남      52세         경상    0    0    1     0     3  \n",
       "...        ...      ...      ...        ...  ...  ...  ...   ...   ...  \n",
       "39604       이륜        남      28세         경상    0    0    1     0     3  \n",
       "39605       승용        남      52세         경상    0    0    1     0     3  \n",
       "39606       승용        남      73세         중상    0    2    0     0    10  \n",
       "39607       승용        여      57세         경상    0    0    1     0     3  \n",
       "39608       승용        남      33세         경상    0    0    2     0     6  \n",
       "\n",
       "[39609 rows x 23 columns]"
      ]
     },
     "execution_count": 19,
     "metadata": {},
     "output_type": "execute_result"
    }
   ],
   "source": [
    "skw_train = train_org.copy()\n",
    "skw_train"
   ]
  },
  {
   "cell_type": "code",
   "execution_count": 20,
   "id": "5d226ab2-131a-4c53-b2d2-80e8bb1f529c",
   "metadata": {
    "ExecuteTime": {
     "end_time": "2023-11-28T05:07:08.794817Z",
     "start_time": "2023-11-28T05:07:08.791421Z"
    },
    "id": "5d226ab2-131a-4c53-b2d2-80e8bb1f529c",
    "outputId": "5848e177-6246-4279-f396-169f5fc2e44f"
   },
   "outputs": [
    {
     "name": "stdout",
     "output_type": "stream",
     "text": [
      "Skewness of ECLO column: 3.3519660066074617\n"
     ]
    }
   ],
   "source": [
    "# 왜도 확인\n",
    "from scipy.stats import skew\n",
    "\n",
    "eclo_skewness = skew(skw_train['ECLO'])\n",
    "\n",
    "print(f\"Skewness of ECLO column: {eclo_skewness}\")\n",
    "\n",
    "# 오른쪽으로 치우친 형태"
   ]
  },
  {
   "cell_type": "code",
   "execution_count": 21,
   "id": "9af93c78",
   "metadata": {
    "ExecuteTime": {
     "end_time": "2023-11-28T05:07:08.902306Z",
     "start_time": "2023-11-28T05:07:08.795573Z"
    }
   },
   "outputs": [
    {
     "data": {
      "image/png": "[encoded data removed]",
      "text/plain": [
       "<Figure size 1224x576 with 1 Axes>"
      ]
     },
     "metadata": {
      "needs_background": "light"
     },
     "output_type": "display_data"
    }
   ],
   "source": [
    "skw_train['ECLO'].hist()\n",
    "plt.show()"
   ]
  },
  {
   "cell_type": "code",
   "execution_count": 22,
   "id": "a3b7cdb2-20c8-4533-add6-12169700d9f9",
   "metadata": {
    "ExecuteTime": {
     "end_time": "2023-11-28T05:07:08.912243Z",
     "start_time": "2023-11-28T05:07:08.904286Z"
    },
    "id": "a3b7cdb2-20c8-4533-add6-12169700d9f9",
    "outputId": "40b8d26f-73ec-4a6d-ad79-da3d53026199"
   },
   "outputs": [
    {
     "name": "stdout",
     "output_type": "stream",
     "text": [
      "Skewness of transformed ECLO column: -0.05947172323251755\n"
     ]
    }
   ],
   "source": [
    "# 로그 변환 진행 후, 다시 왜도 확인\n",
    "import numpy as np\n",
    "\n",
    "# Logarithmic transformation\n",
    "skw_train['ECLO_log'] = np.log2(skw_train['ECLO'])\n",
    "\n",
    "transform_eclo = np.log2(skw_train['ECLO'])\n",
    "transform_eclo\n",
    "\n",
    "# Check skewness of the transformed column\n",
    "eclo_log_skewness = skw_train['ECLO_log'].skew()\n",
    "\n",
    "print(f\"Skewness of transformed ECLO column: {eclo_log_skewness}\")"
   ]
  },
  {
   "cell_type": "markdown",
   "id": "367bbd02-7211-4c04-b766-603b9e2ce449",
   "metadata": {
    "id": "367bbd02-7211-4c04-b766-603b9e2ce449"
   },
   "source": [
    "# ----------------------------------------------------------------\n",
    "## **y_train을 `skw_train[\"ECLO_log\"]` 로 사용하시면 될 것 같아요!**\n",
    "# ----------------------------------------------------------------"
   ]
  },
  {
   "cell_type": "markdown",
   "id": "8c918f22-9921-4be7-93d6-b0bd18c8c8ae",
   "metadata": {
    "id": "8c918f22-9921-4be7-93d6-b0bd18c8c8ae",
    "jp-MarkdownHeadingCollapsed": true
   },
   "source": [
    "# **📌 Random Forest**\n",
    "- `target_column` : \"ECLO_log\"\n",
    "- `eclo_y_train` : skw_train[target_column]\n",
    "\n",
    "<br>\n",
    "\n",
    "**'도시', '일' 제외한 df**\n",
    "- `cd_features`: train_citydays\n",
    "- `cd_X_train`, `cd_X_val`, `cd_y_train`, `cd_y_val`: `train_citydays` train/val 세트"
   ]
  },
  {
   "cell_type": "markdown",
   "id": "05baf8d9-acd9-43b7-bc57-50fca6fc9a6a",
   "metadata": {
    "id": "05baf8d9-acd9-43b7-bc57-50fca6fc9a6a",
    "jp-MarkdownHeadingCollapsed": true
   },
   "source": [
    "## **🔻 \btrain 데이터를 train/val 세트로 분리**"
   ]
  },
  {
   "cell_type": "code",
   "execution_count": 23,
   "id": "2747d46f-6a10-46fe-9e3e-269b88e277d7",
   "metadata": {
    "ExecuteTime": {
     "end_time": "2023-11-28T05:07:09.140678Z",
     "start_time": "2023-11-28T05:07:08.913381Z"
    },
    "id": "2747d46f-6a10-46fe-9e3e-269b88e277d7"
   },
   "outputs": [],
   "source": [
    "import lightgbm as lgb\n",
    "from sklearn.model_selection import train_test_split\n",
    "from sklearn.metrics import mean_squared_error\n",
    "\n",
    "# 훈련 데이터에서 목표 변수 추출\n",
    "target_column = \"ECLO_log\"\n",
    "eclo_y_train = skw_train[target_column]\n",
    "\n",
    "\n",
    "\n",
    "# 훈련 데이터에서 불필요한 열 제거\n",
    "cd_features = train_citydays\n",
    "\n",
    "# 데이터 분할\n",
    "X_train, X_val, y_train, y_val = train_test_split(cd_features, eclo_y_train, test_size=0.3)"
   ]
  },
  {
   "cell_type": "code",
   "execution_count": 24,
   "id": "507a149f",
   "metadata": {
    "ExecuteTime": {
     "end_time": "2023-11-28T05:07:09.145527Z",
     "start_time": "2023-11-28T05:07:09.142479Z"
    }
   },
   "outputs": [
    {
     "name": "stdout",
     "output_type": "stream",
     "text": [
      "Size of X_train is:(27726, 281)\n",
      "Size of y_train is:(27726,)\n",
      "Size of X_valid is:(11883, 281)\n",
      "Size of y_valid is:(11883,)\n",
      "\n"
     ]
    }
   ],
   "source": [
    "# 데이터 사이즈 확인\n",
    "print(\"Size of X_train is:{}\\nSize of y_train is:{}\\nSize of X_valid is:{}\\nSize of y_valid is:{}\\n\".format(\n",
    "    X_train.shape,y_train.shape,X_val.shape,y_val.shape))"
   ]
  },
  {
   "cell_type": "markdown",
   "id": "74050fe1-1555-46b3-a979-e9cf9f0b6b99",
   "metadata": {
    "id": "74050fe1-1555-46b3-a979-e9cf9f0b6b99",
    "jp-MarkdownHeadingCollapsed": true
   },
   "source": [
    "## **1️⃣ RandomForestRegressor - 기본**\n",
    "- RMSLE on Validation Set: 0.339"
   ]
  },
  {
   "cell_type": "code",
   "execution_count": 25,
   "id": "9a41d5c1-d83b-42be-9d0e-6d3bc1135aa6",
   "metadata": {
    "ExecuteTime": {
     "end_time": "2023-11-28T05:07:09.250354Z",
     "start_time": "2023-11-28T05:07:09.146515Z"
    },
    "id": "9a41d5c1-d83b-42be-9d0e-6d3bc1135aa6"
   },
   "outputs": [],
   "source": [
    "from sklearn.ensemble import RandomForestRegressor\n",
    "from sklearn.metrics import mean_squared_error\n",
    "from sklearn.model_selection import cross_val_score\n",
    "\n",
    "# RandomForestRegressor Dataset format\n",
    "# estimator 생성\n",
    "rf_reg = RandomForestRegressor()"
   ]
  },
  {
   "cell_type": "code",
   "execution_count": 26,
   "id": "3e9b8398",
   "metadata": {
    "ExecuteTime": {
     "end_time": "2023-11-28T05:08:07.659992Z",
     "start_time": "2023-11-28T05:07:09.251112Z"
    }
   },
   "outputs": [],
   "source": [
    "rf_reg.fit(X_train, y_train)\n",
    "rf_pred = rf_reg.predict(X_val)"
   ]
  },
  {
   "cell_type": "code",
   "execution_count": 27,
   "id": "59610e1f",
   "metadata": {
    "ExecuteTime": {
     "end_time": "2023-11-28T05:08:07.664575Z",
     "start_time": "2023-11-28T05:08:07.661208Z"
    }
   },
   "outputs": [],
   "source": [
    "from sklearn.metrics import mean_squared_error,mean_absolute_error\n",
    "\n",
    "#  1. RMSLE 작성\n",
    "def rmsle(pred, actual):\n",
    "    log_pred = np.log1p(pred)\n",
    "    log_actual = np.log1p(actual)\n",
    "    squared_error = (log_pred-log_actual)**2\n",
    "    rmsle = np.sqrt(np.mean(squared_error))\n",
    "    return rmsle\n",
    "#  2. RMSE 작성\n",
    "def rmse(pred, actual):\n",
    "    return np.sqrt(mean_squared_error(pred, actual))\n",
    "#  3. MAE 작성\n",
    "def mae(pred, actual):\n",
    "    return mean_absolute_error(pred, actual)\n",
    "\n",
    "def evaluate_regr(pred, actual):\n",
    "    rmsle_val=rmsle(pred, actual)\n",
    "    rmsl_val=rmse(pred, actual)\n",
    "    mae_val=mae(pred, actual)\n",
    "    print('RMSLE: {:.3f}, RMSE: {:.3f}, MAE: {:.3f}'.format(rmsle_val, rmsl_val, mae_val))\n",
    " "
   ]
  },
  {
   "cell_type": "code",
   "execution_count": 28,
   "id": "66679b33",
   "metadata": {
    "ExecuteTime": {
     "end_time": "2023-11-28T05:08:07.679619Z",
     "start_time": "2023-11-28T05:08:07.669082Z"
    }
   },
   "outputs": [
    {
     "name": "stdout",
     "output_type": "stream",
     "text": [
      "RMSLE: 0.350, RMSE: 0.862, MAE: 0.665\n"
     ]
    }
   ],
   "source": [
    "evaluate_regr(rf_pred, y_val)"
   ]
  },
  {
   "cell_type": "markdown",
   "id": "09d1e6ec-b9ab-4989-97b3-7d7c0a38b5e3",
   "metadata": {
    "id": "09d1e6ec-b9ab-4989-97b3-7d7c0a38b5e3",
    "jp-MarkdownHeadingCollapsed": true
   },
   "source": [
    "## **2️⃣ RandomForest 모델링 - 최적의 하이퍼파라미터 적용 (Randomized Search)**\n",
    "- RMSLE on Validation Set: "
   ]
  },
  {
   "cell_type": "code",
   "execution_count": 29,
   "id": "5f6a1bf8-fa29-4ec8-9999-d0d67c9ee12e",
   "metadata": {
    "ExecuteTime": {
     "end_time": "2023-11-28T05:08:07.695886Z",
     "start_time": "2023-11-28T05:08:07.682277Z"
    },
    "id": "5f6a1bf8-fa29-4ec8-9999-d0d67c9ee12e"
   },
   "outputs": [],
   "source": [
    "from sklearn.model_selection import RandomizedSearchCV\n",
    "from scipy.stats import randint as sp_randint"
   ]
  },
  {
   "cell_type": "code",
   "execution_count": 30,
   "id": "6e2ccf52-2bac-47c9-8ffc-6e753202afce",
   "metadata": {
    "ExecuteTime": {
     "end_time": "2023-11-28T05:08:07.722794Z",
     "start_time": "2023-11-28T05:08:07.700778Z"
    },
    "id": "6e2ccf52-2bac-47c9-8ffc-6e753202afce"
   },
   "outputs": [],
   "source": [
    "# 최적의 params 찾을 범위 설정\n",
    "param_dist = {\n",
    "    \"n_estimators\": sp_randint(10, 100),  # 트리 개수 범위\n",
    "    \"max_depth\": [None] + list(sp_randint(5, 30).rvs(10)),  # 최대 깊이 범위\n",
    "    \"min_samples_split\": sp_randint(2, 20),  # 내부 노드를 분할하기 위한 최소 샘플 수 범위\n",
    "    \"min_samples_leaf\": sp_randint(1, 20),  # 리프 노드 최소 샘플 수 범위\n",
    "    \"max_features\": [\"auto\", \"sqrt\", \"log2\"],  # 최대 feature 고려 방법\n",
    "    \"bootstrap\": [True, False]  # 부트스트랩 사용 여부\n",
    "}\n",
    "\n",
    "# estimator 생성\n",
    "rf_reg = RandomForestRegressor()"
   ]
  },
  {
   "cell_type": "code",
   "execution_count": null,
   "id": "505e46b1",
   "metadata": {},
   "outputs": [],
   "source": [
    "# RandomizedSearchCV 객체 생성\n",
    "random_search = RandomizedSearchCV(\n",
    "    rf_reg, param_distributions=param_dist, n_iter=100, cv=5, scoring='neg_mean_squared_error', random_state=42, n_jobs=-1\n",
    ")\n",
    "\n",
    "# 데이터에 대해 RandomizedSearchCV 수행\n",
    "random_search.fit(X_train, y_train)"
   ]
  },
  {
   "cell_type": "code",
   "execution_count": null,
   "id": "cacda9bc",
   "metadata": {},
   "outputs": [],
   "source": [
    "# 최적의 모델 출력\n",
    "best_model = random_search.best_estimator_\n",
    "print(\"Best Parameters:\", random_search.best_params_)"
   ]
  },
  {
   "cell_type": "code",
   "execution_count": null,
   "id": "c61c448e-43be-4b58-a26c-bba7df791699",
   "metadata": {
    "ExecuteTime": {
     "end_time": "2023-11-28T05:17:27.679911Z",
     "start_time": "2023-11-28T05:17:27.679903Z"
    },
    "id": "c61c448e-43be-4b58-a26c-bba7df791699",
    "outputId": "7f340783-f5b8-44b5-b2c2-84cdf04346c3"
   },
   "outputs": [],
   "source": [
    "# 최적의 모델로 예측\n",
    "y_pred = best_model.predict(X_val)"
   ]
  },
  {
   "cell_type": "code",
   "execution_count": null,
   "id": "c862d2cd",
   "metadata": {
    "ExecuteTime": {
     "end_time": "2023-11-28T05:17:27.680392Z",
     "start_time": "2023-11-28T05:17:27.680387Z"
    }
   },
   "outputs": [],
   "source": [
    "# 평가\n",
    "mse = mean_squared_error(y_val, y_pred)\n",
    "print(\"Validation Mean Squared Error:\", mse)\n",
    "\n",
    "from sklearn.metrics import mean_squared_log_error\n",
    "rmsle = np.sqrt(mean_squared_log_error(y_val, rf_pred))\n",
    "print(\"RMSLE:\", rmsle)"
   ]
  },
  {
   "cell_type": "code",
   "execution_count": null,
   "id": "f93668d2",
   "metadata": {
    "ExecuteTime": {
     "end_time": "2023-11-28T05:17:27.680966Z",
     "start_time": "2023-11-28T05:17:27.680961Z"
    }
   },
   "outputs": [],
   "source": [
    "evaluate_regr(y_val,rf_pred)"
   ]
  },
  {
   "cell_type": "code",
   "execution_count": null,
   "id": "063ffc72",
   "metadata": {
    "ExecuteTime": {
     "end_time": "2023-11-28T05:17:27.681675Z",
     "start_time": "2023-11-28T05:17:27.681668Z"
    }
   },
   "outputs": [],
   "source": [
    "# rf_pred_inverse = np.exp(rf_pred)\n",
    "# y_val_inverse = np.exp(y_val)\n",
    "\n",
    "rf_pred_inverse = np.exp2(rf_pred)\n",
    "y_val_inverse = np.exp2(y_val)"
   ]
  },
  {
   "cell_type": "code",
   "execution_count": null,
   "id": "b8c6195a",
   "metadata": {
    "ExecuteTime": {
     "end_time": "2023-11-28T05:17:27.682495Z",
     "start_time": "2023-11-28T05:17:27.682489Z"
    }
   },
   "outputs": [],
   "source": [
    "evaluate_regr(y_val_inverse, rf_pred_inverse)"
   ]
  },
  {
   "cell_type": "markdown",
   "id": "fba133d9",
   "metadata": {},
   "source": [
    "## **🔻데이터를 train/test 세트로 분리**"
   ]
  },
  {
   "cell_type": "code",
   "execution_count": 32,
   "id": "b0cd638f",
   "metadata": {
    "ExecuteTime": {
     "end_time": "2023-11-28T05:17:49.728452Z",
     "start_time": "2023-11-28T05:17:49.589041Z"
    }
   },
   "outputs": [],
   "source": [
    "X_test = test_citydays.copy()\n",
    "X_train = train_citydays.copy()"
   ]
  },
  {
   "cell_type": "code",
   "execution_count": 33,
   "id": "3291d314",
   "metadata": {
    "ExecuteTime": {
     "end_time": "2023-11-28T05:17:50.169482Z",
     "start_time": "2023-11-28T05:17:50.162741Z"
    }
   },
   "outputs": [],
   "source": [
    "y_train = skw_train[\"ECLO_log\"].copy()"
   ]
  },
  {
   "cell_type": "code",
   "execution_count": 34,
   "id": "ef20659f",
   "metadata": {
    "ExecuteTime": {
     "end_time": "2023-11-28T05:17:50.610648Z",
     "start_time": "2023-11-28T05:17:50.579024Z"
    }
   },
   "outputs": [
    {
     "data": {
      "text/html": [
       "<div>\n",
       "<style scoped>\n",
       "    .dataframe tbody tr th:only-of-type {\n",
       "        vertical-align: middle;\n",
       "    }\n",
       "\n",
       "    .dataframe tbody tr th {\n",
       "        vertical-align: top;\n",
       "    }\n",
       "\n",
       "    .dataframe thead th {\n",
       "        text-align: right;\n",
       "    }\n",
       "</style>\n",
       "<table border=\"1\" class=\"dataframe\">\n",
       "  <thead>\n",
       "    <tr style=\"text-align: right;\">\n",
       "      <th></th>\n",
       "      <th>ECLO</th>\n",
       "    </tr>\n",
       "    <tr>\n",
       "      <th>ID</th>\n",
       "      <th></th>\n",
       "    </tr>\n",
       "  </thead>\n",
       "  <tbody>\n",
       "    <tr>\n",
       "      <th>ACCIDENT_39609</th>\n",
       "      <td>0</td>\n",
       "    </tr>\n",
       "    <tr>\n",
       "      <th>ACCIDENT_39610</th>\n",
       "      <td>0</td>\n",
       "    </tr>\n",
       "    <tr>\n",
       "      <th>ACCIDENT_39611</th>\n",
       "      <td>0</td>\n",
       "    </tr>\n",
       "    <tr>\n",
       "      <th>ACCIDENT_39612</th>\n",
       "      <td>0</td>\n",
       "    </tr>\n",
       "    <tr>\n",
       "      <th>ACCIDENT_39613</th>\n",
       "      <td>0</td>\n",
       "    </tr>\n",
       "    <tr>\n",
       "      <th>...</th>\n",
       "      <td>...</td>\n",
       "    </tr>\n",
       "    <tr>\n",
       "      <th>ACCIDENT_50567</th>\n",
       "      <td>0</td>\n",
       "    </tr>\n",
       "    <tr>\n",
       "      <th>ACCIDENT_50568</th>\n",
       "      <td>0</td>\n",
       "    </tr>\n",
       "    <tr>\n",
       "      <th>ACCIDENT_50569</th>\n",
       "      <td>0</td>\n",
       "    </tr>\n",
       "    <tr>\n",
       "      <th>ACCIDENT_50570</th>\n",
       "      <td>0</td>\n",
       "    </tr>\n",
       "    <tr>\n",
       "      <th>ACCIDENT_50571</th>\n",
       "      <td>0</td>\n",
       "    </tr>\n",
       "  </tbody>\n",
       "</table>\n",
       "<p>10963 rows × 1 columns</p>\n",
       "</div>"
      ],
      "text/plain": [
       "                ECLO\n",
       "ID                  \n",
       "ACCIDENT_39609     0\n",
       "ACCIDENT_39610     0\n",
       "ACCIDENT_39611     0\n",
       "ACCIDENT_39612     0\n",
       "ACCIDENT_39613     0\n",
       "...              ...\n",
       "ACCIDENT_50567     0\n",
       "ACCIDENT_50568     0\n",
       "ACCIDENT_50569     0\n",
       "ACCIDENT_50570     0\n",
       "ACCIDENT_50571     0\n",
       "\n",
       "[10963 rows x 1 columns]"
      ]
     },
     "execution_count": 34,
     "metadata": {},
     "output_type": "execute_result"
    }
   ],
   "source": [
    "sample_submission = pd.read_csv('open/sample_submission.csv', index_col=0)\n",
    "sample_submission"
   ]
  },
  {
   "cell_type": "code",
   "execution_count": 35,
   "id": "c449d5d8",
   "metadata": {
    "ExecuteTime": {
     "end_time": "2023-11-28T05:17:51.009586Z",
     "start_time": "2023-11-28T05:17:51.004916Z"
    }
   },
   "outputs": [],
   "source": [
    "#y_test로 일단 데이터수 확인 위해 설정\n",
    "y_test = sample_submission['ECLO'].copy()"
   ]
  },
  {
   "cell_type": "code",
   "execution_count": 36,
   "id": "8e034d67",
   "metadata": {
    "ExecuteTime": {
     "end_time": "2023-11-28T05:17:51.509720Z",
     "start_time": "2023-11-28T05:17:51.505881Z"
    }
   },
   "outputs": [
    {
     "name": "stdout",
     "output_type": "stream",
     "text": [
      "Size of X_train is:(39609, 281)\n",
      "Size of y_train is:(39609,)\n",
      "Size of X_test is:(10963, 281)\n",
      "Size of y_test is:(10963,)\n",
      "\n"
     ]
    }
   ],
   "source": [
    "# 데이터 사이즈 확인\n",
    "print(\"Size of X_train is:{}\\nSize of y_train is:{}\\nSize of X_test is:{}\\nSize of y_test is:{}\\n\".format(\n",
    "    X_train.shape,y_train.shape,X_test.shape,y_test.shape))"
   ]
  },
  {
   "cell_type": "code",
   "execution_count": 37,
   "id": "dc4fead9",
   "metadata": {
    "ExecuteTime": {
     "end_time": "2023-11-28T05:17:54.464501Z",
     "start_time": "2023-11-28T05:17:51.939646Z"
    }
   },
   "outputs": [],
   "source": [
    "# 최적의 하이퍼파라미터로 모델 생성\n",
    "best_rf_model = RandomForestRegressor(bootstrap=True,\n",
    "                                      max_depth=28,\n",
    "                                      max_features='sqrt',\n",
    "                                      min_samples_leaf=19,\n",
    "                                      min_samples_split=8,\n",
    "                                      n_estimators=76)\n",
    "\n",
    "# 최적의 모델로 학습\n",
    "best_rf_model.fit(X_train, y_train)\n",
    "\n",
    "# 테스트 데이터 예측\n",
    "y_pred_rfr_log = best_rf_model.predict(X_test)"
   ]
  },
  {
   "cell_type": "code",
   "execution_count": 38,
   "id": "0e209aeb",
   "metadata": {
    "ExecuteTime": {
     "end_time": "2023-11-28T05:17:54.469828Z",
     "start_time": "2023-11-28T05:17:54.466528Z"
    }
   },
   "outputs": [],
   "source": [
    "# y_pred_rfr_log에 대한 역 로그 변환\n",
    "y_pred_inverse = np.exp2(y_pred_rfr_log)"
   ]
  },
  {
   "cell_type": "code",
   "execution_count": 39,
   "id": "24c837ec",
   "metadata": {
    "ExecuteTime": {
     "end_time": "2023-11-28T05:17:54.480027Z",
     "start_time": "2023-11-28T05:17:54.471103Z"
    }
   },
   "outputs": [
    {
     "data": {
      "text/html": [
       "<div>\n",
       "<style scoped>\n",
       "    .dataframe tbody tr th:only-of-type {\n",
       "        vertical-align: middle;\n",
       "    }\n",
       "\n",
       "    .dataframe tbody tr th {\n",
       "        vertical-align: top;\n",
       "    }\n",
       "\n",
       "    .dataframe thead th {\n",
       "        text-align: right;\n",
       "    }\n",
       "</style>\n",
       "<table border=\"1\" class=\"dataframe\">\n",
       "  <thead>\n",
       "    <tr style=\"text-align: right;\">\n",
       "      <th></th>\n",
       "      <th>ECLO</th>\n",
       "    </tr>\n",
       "    <tr>\n",
       "      <th>ID</th>\n",
       "      <th></th>\n",
       "    </tr>\n",
       "  </thead>\n",
       "  <tbody>\n",
       "    <tr>\n",
       "      <th>ACCIDENT_39609</th>\n",
       "      <td>3.753707</td>\n",
       "    </tr>\n",
       "    <tr>\n",
       "      <th>ACCIDENT_39610</th>\n",
       "      <td>3.417299</td>\n",
       "    </tr>\n",
       "    <tr>\n",
       "      <th>ACCIDENT_39611</th>\n",
       "      <td>4.411524</td>\n",
       "    </tr>\n",
       "    <tr>\n",
       "      <th>ACCIDENT_39612</th>\n",
       "      <td>4.188150</td>\n",
       "    </tr>\n",
       "    <tr>\n",
       "      <th>ACCIDENT_39613</th>\n",
       "      <td>4.413679</td>\n",
       "    </tr>\n",
       "    <tr>\n",
       "      <th>...</th>\n",
       "      <td>...</td>\n",
       "    </tr>\n",
       "    <tr>\n",
       "      <th>ACCIDENT_50567</th>\n",
       "      <td>4.359498</td>\n",
       "    </tr>\n",
       "    <tr>\n",
       "      <th>ACCIDENT_50568</th>\n",
       "      <td>4.228132</td>\n",
       "    </tr>\n",
       "    <tr>\n",
       "      <th>ACCIDENT_50569</th>\n",
       "      <td>4.070335</td>\n",
       "    </tr>\n",
       "    <tr>\n",
       "      <th>ACCIDENT_50570</th>\n",
       "      <td>4.099147</td>\n",
       "    </tr>\n",
       "    <tr>\n",
       "      <th>ACCIDENT_50571</th>\n",
       "      <td>4.143930</td>\n",
       "    </tr>\n",
       "  </tbody>\n",
       "</table>\n",
       "<p>10963 rows × 1 columns</p>\n",
       "</div>"
      ],
      "text/plain": [
       "                    ECLO\n",
       "ID                      \n",
       "ACCIDENT_39609  3.753707\n",
       "ACCIDENT_39610  3.417299\n",
       "ACCIDENT_39611  4.411524\n",
       "ACCIDENT_39612  4.188150\n",
       "ACCIDENT_39613  4.413679\n",
       "...                  ...\n",
       "ACCIDENT_50567  4.359498\n",
       "ACCIDENT_50568  4.228132\n",
       "ACCIDENT_50569  4.070335\n",
       "ACCIDENT_50570  4.099147\n",
       "ACCIDENT_50571  4.143930\n",
       "\n",
       "[10963 rows x 1 columns]"
      ]
     },
     "execution_count": 39,
     "metadata": {},
     "output_type": "execute_result"
    }
   ],
   "source": [
    "rf_best_submission = sample_submission.copy()\n",
    "rf_best_submission['ECLO'] = y_pred_inverse\n",
    "rf_best_submission"
   ]
  },
  {
   "cell_type": "code",
   "execution_count": null,
   "id": "aff6e8cd",
   "metadata": {
    "ExecuteTime": {
     "end_time": "2023-11-28T05:17:27.687961Z",
     "start_time": "2023-11-28T05:17:27.687955Z"
    }
   },
   "outputs": [],
   "source": [
    "rf_best_submission.to_csv('rf_best_submission.csv')"
   ]
  },
  {
   "cell_type": "code",
   "execution_count": null,
   "id": "03a96110",
   "metadata": {},
   "outputs": [],
   "source": []
  }
 ],
 "metadata": {
  "colab": {
   "provenance": []
  },
  "kernelspec": {
   "display_name": "Python 3 (ipykernel)",
   "language": "python",
   "name": "python3"
  },
  "language_info": {
   "codemirror_mode": {
    "name": "ipython",
    "version": 3
   },
   "file_extension": ".py",
   "mimetype": "text/x-python",
   "name": "python",
   "nbconvert_exporter": "python",
   "pygments_lexer": "ipython3",
   "version": "3.11.5"
  }
 },
 "nbformat": 4,
 "nbformat_minor": 5
}
