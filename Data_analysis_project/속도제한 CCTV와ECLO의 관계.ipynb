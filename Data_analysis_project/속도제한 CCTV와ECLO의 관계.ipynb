{
 "cells": [
  {
   "cell_type": "markdown",
   "id": "a0e1451f-1394-4b55-8102-a9818795c002",
   "metadata": {},
   "source": [
    "# 대구시 구 별 CCTV구역과 ECLO 비교"
   ]
  },
  {
   "cell_type": "code",
   "execution_count": 1,
   "id": "068e0e56-4505-4f0e-898c-a877000f2786",
   "metadata": {},
   "outputs": [],
   "source": [
    "import pandas as pd\n",
    "import numpy as np\n",
    "import matplotlib.pyplot as plt"
   ]
  },
  {
   "cell_type": "code",
   "execution_count": 2,
   "id": "ee00ec1e-4cba-47da-a4d4-54d8e9089bf0",
   "metadata": {},
   "outputs": [],
   "source": [
    "# 한글 문제\n",
    "import platform\n",
    "\n",
    "from matplotlib import font_manager, rc\n",
    "plt.rcParams['axes.unicode_minus'] = False\n",
    "\n",
    "if platform.system() == 'Darwin':  # 맥OS\n",
    "    rc('font', family='AppleGothic')\n",
    "elif platform.system() == 'Windows':  # 윈도우\n",
    "    path = \"c:/Windows/Fonts/malgun.ttf\"\n",
    "    font_name = font_manager.FontProperties(fname=path).get_name()\n",
    "    rc('font', family=font_name)\n",
    "else:\n",
    "    print('Unknown system...  sorry~~~')"
   ]
  },
  {
   "cell_type": "markdown",
   "id": "8cfcb31f-6e27-41b7-abeb-eea978dce5b8",
   "metadata": {},
   "source": [
    "# train데이터 가져오기"
   ]
  },
  {
   "cell_type": "code",
   "execution_count": 3,
   "id": "af79587c",
   "metadata": {},
   "outputs": [
    {
     "ename": "NameError",
     "evalue": "name 'train_addr' is not defined",
     "output_type": "error",
     "traceback": [
      "\u001b[1;31m---------------------------------------------------------------------------\u001b[0m",
      "\u001b[1;31mNameError\u001b[0m                                 Traceback (most recent call last)",
      "Cell \u001b[1;32mIn[3], line 3\u001b[0m\n\u001b[0;32m      1\u001b[0m \u001b[38;5;66;03m# 위도, 경도 반환하는 함수\u001b[39;00m\n\u001b[0;32m      2\u001b[0m \u001b[38;5;28;01mfrom\u001b[39;00m \u001b[38;5;21;01mtqdm\u001b[39;00m \u001b[38;5;28;01mimport\u001b[39;00m tqdm\n\u001b[1;32m----> 3\u001b[0m train_df_copy \u001b[38;5;241m=\u001b[39m train_addr\u001b[38;5;241m.\u001b[39mhead(\u001b[38;5;241m10\u001b[39m)\n\u001b[0;32m      4\u001b[0m \u001b[38;5;28;01mdef\u001b[39;00m \u001b[38;5;21mgeocoding\u001b[39m(address):\n\u001b[0;32m      5\u001b[0m     \u001b[38;5;28;01mtry\u001b[39;00m:\n",
      "\u001b[1;31mNameError\u001b[0m: name 'train_addr' is not defined"
     ]
    }
   ],
   "source": [
    "# 위도, 경도 반환하는 함수\n",
    "from tqdm import tqdm\n",
    "train_df_copy = train_addr.head(10)\n",
    "def geocoding(address):\n",
    "    try:\n",
    "        geo_local = Nominatim(user_agent='South Korea')  #지역설정\n",
    "        location = geo_local.geocode(address)\n",
    "        geo = [location.latitude, location.longitude]\n",
    "        return geo\n",
    "    except:\n",
    "        return [0,0]\n",
    "# 실행\n",
    "for idx,addr in enumerate(tqdm(train_df_copy.시군구)):\n",
    "    train_df_copy.loc[idx,'latitude'] = geocoding(addr)[0]\n",
    "    train_df_copy.loc[idx,'longitude'] = geocoding(addr)[1]\n",
    "train_df_copy.head()"
   ]
  },
  {
   "cell_type": "code",
   "execution_count": null,
   "id": "4a6b4708",
   "metadata": {},
   "outputs": [],
   "source": [
    "# 위도, 경도 반환하는 함수\n",
    "from tqdm import tqdm\n",
    "from geopy.geocoders import Nominatim\n",
    "\n",
    "train_df_copy = train_addr.head(10)\n",
    "def geocoding(address):\n",
    "    try:\n",
    "        geo_local = Nominatim(user_agent='South Korea')  #지역설정\n",
    "        location = geo_local.geocode(address)\n",
    "        geo = [location.latitude, location.longitude]\n",
    "        return geo\n",
    "    except:\n",
    "        return [0,0]\n",
    "# 실행\n",
    "for idx,addr in enumerate(tqdm(train_df_copy.시군구)):\n",
    "    train_df_copy.loc[idx,'latitude'] = geocoding(addr)[0]\n",
    "    train_df_copy.loc[idx,'longitude'] = geocoding(addr)[1]\n",
    "train_df_copy.head()"
   ]
  },
  {
   "cell_type": "code",
   "execution_count": null,
   "id": "f16dbf7e-3f65-477b-9b4b-5fcc445f6d2d",
   "metadata": {},
   "outputs": [],
   "source": [
    "train_df = pd.read_csv('./open/train.csv', encoding=\"UTF-8\", low_memory=False)\n",
    "train_addr = train_df[['ID', '시군구', '사고유형', '법규위반', 'ECLO']]\n",
    "\n",
    "# 추가로 동별 eclo 평균 구하기\n",
    "average_eclo_by_dong = train_addr.groupby('시군구')['ECLO'].mean()\n",
    "\n",
    "# \"동리로\"에 대한 ECLO 평균값을 가지고 있는 데이터프레임과 기존의 train 데이터프레임을 병합\n",
    "train_with_avg_eclo = pd.merge(train_addr, average_eclo_by_dong, how='left', left_on='시군구', right_index=True, suffixes=('', '_평균값'))\n"
   ]
  },
  {
   "cell_type": "markdown",
   "id": "1745e654-23c1-4bf9-8cb3-1983c66c3da4",
   "metadata": {},
   "source": [
    "# CCTV설치대수 구하기"
   ]
  },
  {
   "cell_type": "code",
   "execution_count": null,
   "id": "804c678c-09cd-4240-b996-6b7429c1c144",
   "metadata": {},
   "outputs": [],
   "source": [
    "\n",
    "# CSV 파일 읽기\n",
    "cctv_df = pd.read_csv('./open/external_open/대구 CCTV 정보.csv', encoding=\"cp949\", low_memory=False)\n",
    "cctv_df['시군구명'] = cctv_df['시군구명'].replace({'군위군': '군위', '달성': '달성군'})\n",
    "# \"단속구분\"이 01인 행만 가져오기 단속구분은 int형임. 01->속도단속카메라\n",
    "filtered_cctv_df = cctv_df[cctv_df['단속구분'] == 1]\n",
    "\n",
    "# \"시군구명\"에 대한 CCTV 개수 계산\n",
    "cctv_count_by_sigungu = filtered_cctv_df['시군구명'].value_counts()\n",
    "\n",
    "# 데이터 확인\n",
    "print(cctv_count_by_sigungu)\n",
    "\n",
    "# 히스토그램 표현\n",
    "plt.figure(figsize=(12, 6))\n",
    "cctv_count_by_sigungu.plot(kind='bar', color='skyblue')\n",
    "plt.title('CCTV Count Distribution by Sigungu (단속구분: 01)')\n",
    "plt.xlabel('시군구명')\n",
    "plt.ylabel('CCTV 개수')\n",
    "plt.xticks(rotation=45, ha='right')\n",
    "plt.show()"
   ]
  },
  {
   "cell_type": "markdown",
   "id": "f3b3077c-ff0b-4b40-8721-47d78345b40e",
   "metadata": {},
   "source": [
    "<!-- # 시군구별 CCTV분포도 -->"
   ]
  },
  {
   "cell_type": "markdown",
   "id": "45aa471f-c649-443c-b40e-816fd326adfb",
   "metadata": {},
   "source": [
    "# 시군구별 ECLO분포도"
   ]
  },
  {
   "cell_type": "code",
   "execution_count": null,
   "id": "650ef2c1-6356-465d-9fd5-1f64f7724dc7",
   "metadata": {},
   "outputs": [],
   "source": [
    "eclo_sum_by_sigungu = train_data.groupby('시군구')['ECLO'].sum().reset_index()\n",
    "\n",
    "# 내림차순으로 정렬\n",
    "eclo_sum_by_sigungu = eclo_sum_by_sigungu.sort_values(by='ECLO', ascending=False)\n",
    "\n",
    "# 분포도 표시\n",
    "plt.figure(figsize=(12, 6))\n",
    "plt.bar(eclo_sum_by_sigungu['시군구'], eclo_sum_by_sigungu['ECLO'])\n",
    "plt.xlabel('시군구')\n",
    "plt.ylabel('ECLO 값의 합')\n",
    "plt.title('시군구별 ECLO 값의 합 분포도')\n",
    "plt.xticks(rotation=45)\n",
    "plt.show()"
   ]
  },
  {
   "cell_type": "markdown",
   "id": "2719b17c",
   "metadata": {},
   "source": [
    "# 시군구별 속도제한 CCTV 갯수 데이터프레임"
   ]
  },
  {
   "cell_type": "code",
   "execution_count": null,
   "id": "9ba91ab7-5424-4737-9ae5-dbe4ba6e72b9",
   "metadata": {},
   "outputs": [],
   "source": [
    "cctv_count_by_sigungu = cctv_df.groupby('시군구명').size().reset_index(name='CCTV 개수')\n",
    "\n",
    "# 결과 출력\n",
    "print(cctv_count_by_sigungu)"
   ]
  },
  {
   "cell_type": "markdown",
   "id": "8c59f516",
   "metadata": {},
   "source": [
    "# 시군구별 ECLO합 데이터 프레임"
   ]
  },
  {
   "cell_type": "code",
   "execution_count": null,
   "id": "81808519-2d27-4bd8-a89c-79f1f5335016",
   "metadata": {},
   "outputs": [],
   "source": [
    "eclo_count_by_sigungu = train_data.groupby('시군구').size().reset_index(name='eclo합')\n",
    "\n",
    "# 결과 출력\n",
    "print(eclo_count_by_sigungu)"
   ]
  },
  {
   "cell_type": "code",
   "execution_count": null,
   "id": "750ac689-5c4b-4467-a63f-c1382d0f2cd6",
   "metadata": {},
   "outputs": [],
   "source": [
    "# train 데이터프레임에서 \"시군구\"를 \"시군구명\"으로 변경\n",
    "train_data.rename(columns={'시군구': '시군구명'}, inplace=True)\n",
    "\n",
    "# 두 데이터프레임을 \"시군구명\"을 기준으로 합치기\n",
    "merged_data = pd.merge(train_data, cctv_df, on='시군구명')\n",
    "\n",
    "# 시군구별 ECLO 값의 합 구하기\n",
    "eclo_sum_by_sigungu = train_data['시군구명'].value_counts()\n",
    "\n",
    "# cctv_count_by_sigungu 구하기\n",
    "cctv_count_by_sigungu = cctv_df['시군구명'].value_counts() * 50\n",
    "\n",
    "# 막대 그래프 표시\n",
    "plt.figure(figsize=(15, 6))\n",
    "\n",
    "\n",
    "\n",
    "# CCTV 개수 막대 그래프\n",
    "plt.bar(cctv_count_by_sigungu.index, cctv_count_by_sigungu.values, 0.25, color='skyblue', label='CCTV 개수', align='edge')\n",
    "\n",
    "# ECLO 값의 합 막대 그래프\n",
    "plt.bar(eclo_sum_by_sigungu.index, eclo_sum_by_sigungu.values, 0.25, color='orange', alpha=1, label='ECLO 합계')\n",
    "\n",
    "# 축과 레이블 설정\n",
    "plt.xlabel('시군구명')\n",
    "plt.ylabel('개수')\n",
    "plt.title('CCTV 개수 및 시군구별 ECLO 값의 합 분포도')\n",
    "plt.xticks(index + bar_width / 2, cctv_count_by_sigungu.index, rotation=45, ha='right')\n",
    "\n",
    "# 범례 표시\n",
    "plt.legend()\n",
    "\n",
    "# 그래프 표시\n",
    "plt.show()"
   ]
  },
  {
   "cell_type": "code",
   "execution_count": null,
   "id": "7cee520b-4a2d-4b90-8aa3-924c01eec354",
   "metadata": {},
   "outputs": [],
   "source": []
  }
 ],
 "metadata": {
  "kernelspec": {
   "display_name": "Python 3 (ipykernel)",
   "language": "python",
   "name": "python3"
  },
  "language_info": {
   "codemirror_mode": {
    "name": "ipython",
    "version": 3
   },
   "file_extension": ".py",
   "mimetype": "text/x-python",
   "name": "python",
   "nbconvert_exporter": "python",
   "pygments_lexer": "ipython3",
   "version": "3.11.5"
  }
 },
 "nbformat": 4,
 "nbformat_minor": 5
}
