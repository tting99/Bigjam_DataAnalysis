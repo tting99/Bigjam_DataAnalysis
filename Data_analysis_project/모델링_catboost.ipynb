{
 "cells": [
  {
   "cell_type": "code",
   "execution_count": 20,
   "id": "ce246fe8",
   "metadata": {},
   "outputs": [],
   "source": [
    "import pandas as pd\n",
    "\n",
    "train = pd.read_csv('./open/train.csv')\n",
    "test = pd.read_csv('./open/test.csv')\n",
    "countrywide = pd.read_csv('./open/external_open/countrywide_accident.csv')\n",
    "\n",
    "data_onehot_enco = pd.read_csv('./open/onehot_encoded_시,일제외.csv', encoding = \"UTF_8\", low_memory=False)\n",
    "data_onehot_enco = data_onehot_enco.drop(['Unnamed: 0'], axis=1)\n",
    "data_onehot_enco.head()\n",
    "\n",
    "# train_new가 기존 train\n",
    "# test_new가 기존 test\n",
    "train_enco = data_onehot_enco[:len(train)]\n",
    "test_enco = data_onehot_enco[len(train):]\n",
    "# 동제거\n",
    "train_drop_dong = [col for col in train_enco.columns if col.startswith(\"동_\")]\n",
    "train_filtered = train_enco.drop(columns=train_drop_dong, inplace=False)\n",
    "\n",
    "test_drop_dong = [col for col in test_enco.columns if col.startswith(\"동_\")]\n",
    "test_filtered = test_enco.drop(columns=test_drop_dong, inplace=False)\n"
   ]
  },
  {
   "cell_type": "code",
   "execution_count": null,
   "id": "8b477e78",
   "metadata": {},
   "outputs": [],
   "source": []
  },
  {
   "cell_type": "markdown",
   "id": "13c7cc3c",
   "metadata": {},
   "source": [
    "# 로그변환 안한 catboost"
   ]
  },
  {
   "cell_type": "code",
   "execution_count": 5,
   "id": "8caa653a",
   "metadata": {},
   "outputs": [
    {
     "name": "stdout",
     "output_type": "stream",
     "text": [
      "0:\tlearn: 3.2162359\ttest: 3.1511960\tbest: 3.1511960 (0)\ttotal: 5.71ms\tremaining: 5.71s\n",
      "100:\tlearn: 3.0917664\ttest: 3.1107327\tbest: 3.1102988 (94)\ttotal: 537ms\tremaining: 4.78s\n",
      "Stopped by overfitting detector  (50 iterations wait)\n",
      "\n",
      "bestTest = 3.110298849\n",
      "bestIteration = 94\n",
      "\n",
      "Shrink model to first 95 iterations.\n",
      "RMSLE: 0.4612245376250668\n"
     ]
    }
   ],
   "source": [
    "from catboost import CatBoostRegressor\n",
    "from sklearn.model_selection import train_test_split\n",
    "import pandas as pd\n",
    "import numpy as np\n",
    "\n",
    "# 여러 개의 피처로 이루어진 데이터\n",
    "# X_train, y_train은 훈련 데이터\n",
    "# X_test는 테스트 데이터\n",
    "# 아래는 예시이므로 실제 데이터에 맞게 수정해야 합니다.\n",
    "\n",
    "# X_train, y_train 생성\n",
    "X_train = train_filtered\n",
    "y_train = train['ECLO']\n",
    "\n",
    "# train 데이터를 학습(train)과 검증(validation) 세트로 분할\n",
    "X_train, X_valid, y_train, y_valid = train_test_split(X_train, y_train, test_size=0.2, random_state=42)\n",
    "\n",
    "# CatBoost 모델 생성 및 학습\n",
    "model = CatBoostRegressor(iterations=1000, depth=10, learning_rate=0.05)\n",
    "model.fit(X_train, y_train, eval_set=(X_valid, y_valid), early_stopping_rounds=50, verbose=100)\n",
    "\n",
    "# # 테스트 데이터 예측\n",
    "predictions = model.predict(X_valid)\n",
    "# # 예측 결과를 새로운 데이터프레임에 저장\n",
    "# result_df = pd.DataFrame({\"Predicted_ECLO\": predictions})\n",
    "# # 결과를 파일로 저장\n",
    "# result_df.to_csv(\"predicted_eclo.csv\", index=False)\n",
    "\n",
    "\n",
    "def rmsle(y_true, y_pred):\n",
    "    return np.sqrt(np.mean(np.square(np.log1p(y_true) - np.log1p(y_pred))))\n",
    "\n",
    "# 테스트 데이터의 실제 값\n",
    "y_true = y_valid\n",
    "\n",
    "# 테스트 데이터의 예측 값\n",
    "y_pred = predictions\n",
    "\n",
    "# RMSLE 계산\n",
    "rmsle_value = rmsle(y_true, y_pred)\n",
    "\n",
    "print(\"RMSLE:\", rmsle_value)"
   ]
  },
  {
   "cell_type": "markdown",
   "id": "008cd7d0",
   "metadata": {},
   "source": [
    "# 로그변환 한 catboost"
   ]
  },
  {
   "cell_type": "markdown",
   "id": "a47dc1c9",
   "metadata": {},
   "source": [
    "### 수정예정"
   ]
  },
  {
   "cell_type": "code",
   "execution_count": 36,
   "id": "d0a8ec69",
   "metadata": {},
   "outputs": [
    {
     "name": "stdout",
     "output_type": "stream",
     "text": [
      "0:\tlearn: 0.8346206\ttest: 0.8367236\tbest: 0.8367236 (0)\ttotal: 6.59ms\tremaining: 6.58s\n",
      "100:\tlearn: 0.8050701\ttest: 0.8272012\tbest: 0.8271061 (82)\ttotal: 517ms\tremaining: 4.6s\n",
      "Stopped by overfitting detector  (50 iterations wait)\n",
      "\n",
      "bestTest = 0.8269429399\n",
      "bestIteration = 136\n",
      "\n",
      "Shrink model to first 137 iterations.\n",
      "로그로역변환 전 RMSLE 0.34036409089089537\n",
      "로그치환후 RMSLE: 0.4470216363392731\n"
     ]
    }
   ],
   "source": [
    "from catboost import CatBoostRegressor\n",
    "from sklearn.model_selection import train_test_split\n",
    "import pandas as pd\n",
    "import numpy as np\n",
    "\n",
    "# X_train, y_train 생성\n",
    "X_train = train_filtered\n",
    "y_train = np.log2(train['ECLO'])\n",
    "\n",
    "# train 데이터를 학습(train)과 검증(validation) 세트로 분할\n",
    "X_train, X_valid, y_train, y_valid = train_test_split(X_train, y_train, test_size=0.2, random_state=42)\n",
    "\n",
    "# CatBoost 모델 생성 및 학습\n",
    "model = CatBoostRegressor(iterations=1000, depth=10, learning_rate=0.05)\n",
    "model.fit(X_train, y_train, eval_set=(X_valid, y_valid), early_stopping_rounds=50, verbose=100)\n",
    "\n",
    "# 테스트 데이터 예측\n",
    "predictions = model.predict(X_valid)\n",
    "\n",
    "# 테스트 데이터의 실제 값\n",
    "y_true = y_valid\n",
    "\n",
    "# 테스트 데이터의 예측 값\n",
    "y_pred = predictions\n",
    "\n",
    "def rmsle(y_true, y_pred):\n",
    "    return np.sqrt(np.mean(np.square(np.log1p(y_true) - np.log1p(y_pred))))\n",
    "\n",
    "# RMSLE 계산\n",
    "rmsle_value = rmsle(y_true, y_pred)\n",
    "\n",
    "print(\"로그로역변환 전 RMSLE\", rmsle_value)\n",
    "\n",
    "# 예측값 역변환을 위한 로그 역변환\n",
    "predicted_eclo_back = np.exp2(predictions)\n",
    "\n",
    "# 추가로, 로그 변환한 값을 다시 원래 스케일로 역변환\n",
    "y_true_back = np.exp2(y_true)\n",
    "\n",
    "# RMSLE 계산\n",
    "rmsle_value_back = rmsle(y_true_back, predicted_eclo_back)\n",
    "\n",
    "print(\"로그치환후 RMSLE:\", rmsle_value_back)\n"
   ]
  },
  {
   "cell_type": "code",
   "execution_count": 33,
   "id": "15610fcd",
   "metadata": {},
   "outputs": [
    {
     "data": {
      "text/plain": [
       "array([3.46239301, 3.87474725, 4.15462682, ..., 4.03851297, 4.05395248,\n",
       "       4.38294706])"
      ]
     },
     "execution_count": 33,
     "metadata": {},
     "output_type": "execute_result"
    }
   ],
   "source": [
    "predicted_eclo_back"
   ]
  },
  {
   "cell_type": "code",
   "execution_count": 27,
   "id": "047f78e4",
   "metadata": {},
   "outputs": [],
   "source": [
    "predictions_sub = model.predict(test_filtered)"
   ]
  },
  {
   "cell_type": "code",
   "execution_count": 29,
   "id": "16709564",
   "metadata": {},
   "outputs": [
    {
     "data": {
      "text/plain": [
       "array([3.49977942, 3.31769706, 4.44184515, ..., 4.1716253 , 4.18406941,\n",
       "       4.03228845])"
      ]
     },
     "execution_count": 29,
     "metadata": {},
     "output_type": "execute_result"
    }
   ],
   "source": [
    "predictions_sub = np.exp2(predictions_sub)\n",
    "predictions_sub"
   ]
  },
  {
   "cell_type": "code",
   "execution_count": null,
   "id": "fc91a8d9",
   "metadata": {},
   "outputs": [],
   "source": [
    "# 예측 결과를 새로운 데이터프레임에 저장\n",
    "result_df = pd.DataFrame({\"Predicted_ECLO\": predictions_sub})\n",
    "\n",
    "# 결과를 파일로 저장\n",
    "result_df.to_csv(\"predicted_eclo.csv\", index=False)"
   ]
  }
 ],
 "metadata": {
  "kernelspec": {
   "display_name": "Python 3 (ipykernel)",
   "language": "python",
   "name": "python3"
  },
  "language_info": {
   "codemirror_mode": {
    "name": "ipython",
    "version": 3
   },
   "file_extension": ".py",
   "mimetype": "text/x-python",
   "name": "python",
   "nbconvert_exporter": "python",
   "pygments_lexer": "ipython3",
   "version": "3.11.5"
  }
 },
 "nbformat": 4,
 "nbformat_minor": 5
}
