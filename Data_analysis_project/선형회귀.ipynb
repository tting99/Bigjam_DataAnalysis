{
 "cells": [
  {
   "cell_type": "code",
   "execution_count": 29,
   "id": "27b30464",
   "metadata": {},
   "outputs": [],
   "source": [
    "import pandas as pd\n",
    "\n",
    "train = pd.read_csv('./open/train.csv')\n",
    "test = pd.read_csv('./open/test.csv')\n",
    "\n",
    "\n",
    "data_onehot_enco = pd.read_csv('./open/onehot_encoded_시,일제외.csv', encoding = \"UTF_8\", low_memory=False)\n",
    "data_onehot_enco = data_onehot_enco.drop(['Unnamed: 0'], axis=1)\n"
   ]
  },
  {
   "cell_type": "code",
   "execution_count": 30,
   "id": "63fad702",
   "metadata": {},
   "outputs": [],
   "source": [
    "# train_new가 기존 train\n",
    "# test_new가 기존 test\n",
    "train_enco = data_onehot_enco[:len(train)]\n",
    "test_enco = data_onehot_enco[len(train):]\n",
    "# 동제거\n",
    "train_drop_dong = [col for col in train_enco.columns if col.startswith(\"동_\")]\n",
    "train_filtered = train_enco.drop(columns=train_drop_dong, inplace=False)\n",
    "\n",
    "test_drop_dong = [col for col in test_enco.columns if col.startswith(\"동_\")]\n",
    "test_filtered = test_enco.drop(columns=test_drop_dong, inplace=False)\n"
   ]
  },
  {
   "cell_type": "code",
   "execution_count": 32,
   "id": "f5d0616d",
   "metadata": {},
   "outputs": [],
   "source": [
    "y_train_new = train['ECLO'].copy()\n"
   ]
  },
  {
   "cell_type": "code",
   "execution_count": 33,
   "id": "66f172d2",
   "metadata": {},
   "outputs": [],
   "source": [
    "from sklearn.model_selection import train_test_split\n",
    "X_train, X_valid, y_train, y_valid = train_test_split(train_filtered, y_train_new, test_size=0.3, random_state=42)"
   ]
  },
  {
   "cell_type": "code",
   "execution_count": 34,
   "id": "7b49a9ac",
   "metadata": {},
   "outputs": [
    {
     "name": "stdout",
     "output_type": "stream",
     "text": [
      "Mean Squared Error (MSE) 값: 9.7529\n",
      "R-squared (R2) 값: 0.0238\n",
      "RMSLE 값: 0.4652\n"
     ]
    }
   ],
   "source": [
    "import numpy as np\n",
    "from sklearn.model_selection import train_test_split\n",
    "from sklearn.linear_model import LinearRegression\n",
    "from sklearn.metrics import r2_score, mean_squared_error\n",
    "\n",
    "# 선형 회귀 모델 생성 및 훈련\n",
    "model_Lir = LinearRegression()\n",
    "model_Lir.fit(X_train, y_train)\n",
    "\n",
    "# 검증 데이터에 대한 예측 수행\n",
    "y_pred = model_Lir.predict(X_valid)\n",
    "\n",
    "# Mean Squared Error (MSE) 값 계산\n",
    "mse = mean_squared_error(y_valid, y_pred)\n",
    "print(f'Mean Squared Error (MSE) 값: {mse:.4f}')\n",
    "\n",
    "# R-squared (R2) 값 계산\n",
    "r2 = r2_score(y_valid, y_pred)\n",
    "print(f'R-squared (R2) 값: {r2:.4f}')\n",
    "\n",
    "# Root Mean Squared Logarithmic Error (RMSLE) 값 계산\n",
    "def rmsle(y_true, y_pred):\n",
    "    return np.sqrt(mean_squared_error(np.log1p(y_true), np.log1p(y_pred)))\n",
    "\n",
    "rmsle_value = rmsle(y_valid, y_pred)\n",
    "print(f'RMSLE 값: {rmsle_value:.4f}')"
   ]
  },
  {
   "cell_type": "markdown",
   "id": "c2dbb737",
   "metadata": {},
   "source": [
    "# 가중치 확인"
   ]
  },
  {
   "cell_type": "code",
   "execution_count": 35,
   "id": "36c18000",
   "metadata": {},
   "outputs": [
    {
     "name": "stdout",
     "output_type": "stream",
     "text": [
      "<class 'pandas.core.frame.DataFrame'>\n",
      "Index: 27726 entries, 29542 to 15795\n",
      "Data columns (total 85 columns):\n",
      " #   Column           Non-Null Count  Dtype  \n",
      "---  ------           --------------  -----  \n",
      " 0   요일_금요일           27726 non-null  float64\n",
      " 1   요일_목요일           27726 non-null  float64\n",
      " 2   요일_수요일           27726 non-null  float64\n",
      " 3   요일_월요일           27726 non-null  float64\n",
      " 4   요일_일요일           27726 non-null  float64\n",
      " 5   요일_토요일           27726 non-null  float64\n",
      " 6   요일_화요일           27726 non-null  float64\n",
      " 7   기상상태_기타          27726 non-null  float64\n",
      " 8   기상상태_눈           27726 non-null  float64\n",
      " 9   기상상태_맑음          27726 non-null  float64\n",
      " 10  기상상태_비           27726 non-null  float64\n",
      " 11  기상상태_안개          27726 non-null  float64\n",
      " 12  기상상태_흐림          27726 non-null  float64\n",
      " 13  노면상태_건조          27726 non-null  float64\n",
      " 14  노면상태_기타          27726 non-null  float64\n",
      " 15  노면상태_서리/결빙       27726 non-null  float64\n",
      " 16  노면상태_적설          27726 non-null  float64\n",
      " 17  노면상태_젖음/습기       27726 non-null  float64\n",
      " 18  노면상태_침수          27726 non-null  float64\n",
      " 19  사고유형_차대사람        27726 non-null  float64\n",
      " 20  사고유형_차대차         27726 non-null  float64\n",
      " 21  사고유형_차량단독        27726 non-null  float64\n",
      " 22  연_2019           27726 non-null  float64\n",
      " 23  연_2020           27726 non-null  float64\n",
      " 24  연_2021           27726 non-null  float64\n",
      " 25  연_2022           27726 non-null  float64\n",
      " 26  월_1              27726 non-null  float64\n",
      " 27  월_2              27726 non-null  float64\n",
      " 28  월_3              27726 non-null  float64\n",
      " 29  월_4              27726 non-null  float64\n",
      " 30  월_5              27726 non-null  float64\n",
      " 31  월_6              27726 non-null  float64\n",
      " 32  월_7              27726 non-null  float64\n",
      " 33  월_8              27726 non-null  float64\n",
      " 34  월_9              27726 non-null  float64\n",
      " 35  월_10             27726 non-null  float64\n",
      " 36  월_11             27726 non-null  float64\n",
      " 37  월_12             27726 non-null  float64\n",
      " 38  시간_0             27726 non-null  float64\n",
      " 39  시간_1             27726 non-null  float64\n",
      " 40  시간_2             27726 non-null  float64\n",
      " 41  시간_3             27726 non-null  float64\n",
      " 42  시간_4             27726 non-null  float64\n",
      " 43  시간_5             27726 non-null  float64\n",
      " 44  시간_6             27726 non-null  float64\n",
      " 45  시간_7             27726 non-null  float64\n",
      " 46  시간_8             27726 non-null  float64\n",
      " 47  시간_9             27726 non-null  float64\n",
      " 48  시간_10            27726 non-null  float64\n",
      " 49  시간_11            27726 non-null  float64\n",
      " 50  시간_12            27726 non-null  float64\n",
      " 51  시간_13            27726 non-null  float64\n",
      " 52  시간_14            27726 non-null  float64\n",
      " 53  시간_15            27726 non-null  float64\n",
      " 54  시간_16            27726 non-null  float64\n",
      " 55  시간_17            27726 non-null  float64\n",
      " 56  시간_18            27726 non-null  float64\n",
      " 57  시간_19            27726 non-null  float64\n",
      " 58  시간_20            27726 non-null  float64\n",
      " 59  시간_21            27726 non-null  float64\n",
      " 60  시간_22            27726 non-null  float64\n",
      " 61  시간_23            27726 non-null  float64\n",
      " 62  구_남구             27726 non-null  float64\n",
      " 63  구_달서구            27726 non-null  float64\n",
      " 64  구_달성군            27726 non-null  float64\n",
      " 65  구_동구             27726 non-null  float64\n",
      " 66  구_북구             27726 non-null  float64\n",
      " 67  구_서구             27726 non-null  float64\n",
      " 68  구_수성구            27726 non-null  float64\n",
      " 69  구_중구             27726 non-null  float64\n",
      " 70  도로형태1_교차로        27726 non-null  float64\n",
      " 71  도로형태1_기타         27726 non-null  float64\n",
      " 72  도로형태1_단일로        27726 non-null  float64\n",
      " 73  도로형태1_미분류        27726 non-null  float64\n",
      " 74  도로형태1_주차장        27726 non-null  float64\n",
      " 75  도로형태2_고가도로위      27726 non-null  float64\n",
      " 76  도로형태2_교량         27726 non-null  float64\n",
      " 77  도로형태2_교차로부근      27726 non-null  float64\n",
      " 78  도로형태2_교차로안       27726 non-null  float64\n",
      " 79  도로형태2_교차로횡단보도내   27726 non-null  float64\n",
      " 80  도로형태2_기타         27726 non-null  float64\n",
      " 81  도로형태2_미분류        27726 non-null  float64\n",
      " 82  도로형태2_주차장        27726 non-null  float64\n",
      " 83  도로형태2_지하차도(도로)내  27726 non-null  float64\n",
      " 84  도로형태2_터널         27726 non-null  float64\n",
      "dtypes: float64(85)\n",
      "memory usage: 18.2 MB\n"
     ]
    }
   ],
   "source": [
    "X_train.info()"
   ]
  },
  {
   "cell_type": "code",
   "execution_count": 8,
   "id": "1a38eedd",
   "metadata": {},
   "outputs": [
    {
     "name": "stdout",
     "output_type": "stream",
     "text": [
      "초기 가중치:\n",
      "가장 큰 영향을 끼치는 특성: 연_2022\n"
     ]
    }
   ],
   "source": [
    "# 특성별 계수 확인\n",
    "coefficients = pd.Series(model_Lir.coef_, index=X_train.columns)\n",
    "coefficients = coefficients.abs().sort_values(ascending=False)\n",
    "# 초기 가중치\n",
    "initial_coefficients = pd.Series(model_Lir.coef_, index=X_train.columns)\n",
    "# 가장 큰 영향을 끼치는 특성 확인\n",
    "most_influential_feature = coefficients.index[0]\n",
    "print(\"초기 가중치:\")\n",
    "\n",
    "# 출력 옵션 설정\n",
    "pd.set_option('display.max_rows', None)\n",
    "pd.set_option('display.max_columns', None)\n",
    "# 모든 가중치 출력\n",
    "# print(initial_coefficients)\n",
    "# 원래의 출력 옵션으로 돌아가기\n",
    "pd.reset_option('display.max_rows')\n",
    "pd.reset_option('display.max_columns')\n",
    "\n",
    "print(f'가장 큰 영향을 끼치는 특성: {most_influential_feature}')"
   ]
  },
  {
   "cell_type": "markdown",
   "id": "a597c4b3",
   "metadata": {},
   "source": [
    "# 가중치 조절은 선형회귀 부적합. 랜포로"
   ]
  },
  {
   "cell_type": "code",
   "execution_count": 9,
   "id": "5ea79c17",
   "metadata": {},
   "outputs": [
    {
     "name": "stdout",
     "output_type": "stream",
     "text": [
      "RMSLE 값 (랜덤 포레스트): 0.4952\n"
     ]
    }
   ],
   "source": [
    "from sklearn.ensemble import RandomForestRegressor\n",
    "\n",
    "# 랜덤 포레스트 모델 생성 및 훈련\n",
    "model_rf = RandomForestRegressor()\n",
    "model_rf.fit(X_train, y_train)\n",
    "\n",
    "# 검증 데이터에 대한 예측 수행\n",
    "y_pred_rf = model_rf.predict(X_valid)\n",
    "\n",
    "# Root Mean Squared Logarithmic Error (RMSLE) 값 계산\n",
    "rmsle_value_rf = rmsle(y_valid, y_pred_rf)\n",
    "print(f'RMSLE 값 (랜덤 포레스트): {rmsle_value_rf:.4f}')"
   ]
  },
  {
   "cell_type": "code",
   "execution_count": 10,
   "id": "0d080c3c",
   "metadata": {},
   "outputs": [
    {
     "name": "stdout",
     "output_type": "stream",
     "text": [
      "<class 'pandas.core.frame.DataFrame'>\n",
      "Index: 27726 entries, 29542 to 15795\n",
      "Data columns (total 85 columns):\n",
      " #   Column           Non-Null Count  Dtype  \n",
      "---  ------           --------------  -----  \n",
      " 0   요일_금요일           27726 non-null  float64\n",
      " 1   요일_목요일           27726 non-null  float64\n",
      " 2   요일_수요일           27726 non-null  float64\n",
      " 3   요일_월요일           27726 non-null  float64\n",
      " 4   요일_일요일           27726 non-null  float64\n",
      " 5   요일_토요일           27726 non-null  float64\n",
      " 6   요일_화요일           27726 non-null  float64\n",
      " 7   기상상태_기타          27726 non-null  float64\n",
      " 8   기상상태_눈           27726 non-null  float64\n",
      " 9   기상상태_맑음          27726 non-null  float64\n",
      " 10  기상상태_비           27726 non-null  float64\n",
      " 11  기상상태_안개          27726 non-null  float64\n",
      " 12  기상상태_흐림          27726 non-null  float64\n",
      " 13  노면상태_건조          27726 non-null  float64\n",
      " 14  노면상태_기타          27726 non-null  float64\n",
      " 15  노면상태_서리/결빙       27726 non-null  float64\n",
      " 16  노면상태_적설          27726 non-null  float64\n",
      " 17  노면상태_젖음/습기       27726 non-null  float64\n",
      " 18  노면상태_침수          27726 non-null  float64\n",
      " 19  사고유형_차대사람        27726 non-null  float64\n",
      " 20  사고유형_차대차         27726 non-null  float64\n",
      " 21  사고유형_차량단독        27726 non-null  float64\n",
      " 22  연_2019           27726 non-null  float64\n",
      " 23  연_2020           27726 non-null  float64\n",
      " 24  연_2021           27726 non-null  float64\n",
      " 25  연_2022           27726 non-null  float64\n",
      " 26  월_1              27726 non-null  float64\n",
      " 27  월_2              27726 non-null  float64\n",
      " 28  월_3              27726 non-null  float64\n",
      " 29  월_4              27726 non-null  float64\n",
      " 30  월_5              27726 non-null  float64\n",
      " 31  월_6              27726 non-null  float64\n",
      " 32  월_7              27726 non-null  float64\n",
      " 33  월_8              27726 non-null  float64\n",
      " 34  월_9              27726 non-null  float64\n",
      " 35  월_10             27726 non-null  float64\n",
      " 36  월_11             27726 non-null  float64\n",
      " 37  월_12             27726 non-null  float64\n",
      " 38  시간_0             27726 non-null  float64\n",
      " 39  시간_1             27726 non-null  float64\n",
      " 40  시간_2             27726 non-null  float64\n",
      " 41  시간_3             27726 non-null  float64\n",
      " 42  시간_4             27726 non-null  float64\n",
      " 43  시간_5             27726 non-null  float64\n",
      " 44  시간_6             27726 non-null  float64\n",
      " 45  시간_7             27726 non-null  float64\n",
      " 46  시간_8             27726 non-null  float64\n",
      " 47  시간_9             27726 non-null  float64\n",
      " 48  시간_10            27726 non-null  float64\n",
      " 49  시간_11            27726 non-null  float64\n",
      " 50  시간_12            27726 non-null  float64\n",
      " 51  시간_13            27726 non-null  float64\n",
      " 52  시간_14            27726 non-null  float64\n",
      " 53  시간_15            27726 non-null  float64\n",
      " 54  시간_16            27726 non-null  float64\n",
      " 55  시간_17            27726 non-null  float64\n",
      " 56  시간_18            27726 non-null  float64\n",
      " 57  시간_19            27726 non-null  float64\n",
      " 58  시간_20            27726 non-null  float64\n",
      " 59  시간_21            27726 non-null  float64\n",
      " 60  시간_22            27726 non-null  float64\n",
      " 61  시간_23            27726 non-null  float64\n",
      " 62  구_남구             27726 non-null  float64\n",
      " 63  구_달서구            27726 non-null  float64\n",
      " 64  구_달성군            27726 non-null  float64\n",
      " 65  구_동구             27726 non-null  float64\n",
      " 66  구_북구             27726 non-null  float64\n",
      " 67  구_서구             27726 non-null  float64\n",
      " 68  구_수성구            27726 non-null  float64\n",
      " 69  구_중구             27726 non-null  float64\n",
      " 70  도로형태1_교차로        27726 non-null  float64\n",
      " 71  도로형태1_기타         27726 non-null  float64\n",
      " 72  도로형태1_단일로        27726 non-null  float64\n",
      " 73  도로형태1_미분류        27726 non-null  float64\n",
      " 74  도로형태1_주차장        27726 non-null  float64\n",
      " 75  도로형태2_고가도로위      27726 non-null  float64\n",
      " 76  도로형태2_교량         27726 non-null  float64\n",
      " 77  도로형태2_교차로부근      27726 non-null  float64\n",
      " 78  도로형태2_교차로안       27726 non-null  float64\n",
      " 79  도로형태2_교차로횡단보도내   27726 non-null  float64\n",
      " 80  도로형태2_기타         27726 non-null  float64\n",
      " 81  도로형태2_미분류        27726 non-null  float64\n",
      " 82  도로형태2_주차장        27726 non-null  float64\n",
      " 83  도로형태2_지하차도(도로)내  27726 non-null  float64\n",
      " 84  도로형태2_터널         27726 non-null  float64\n",
      "dtypes: float64(85)\n",
      "memory usage: 18.2 MB\n"
     ]
    }
   ],
   "source": [
    "X_train.info()"
   ]
  },
  {
   "cell_type": "code",
   "execution_count": 11,
   "id": "a66a161d",
   "metadata": {},
   "outputs": [
    {
     "name": "stdout",
     "output_type": "stream",
     "text": [
      "가중치가 적용된 특성의 이름:\n",
      "구_수성구\n",
      "요일_금요일\n",
      "월_6\n",
      "RMSLE 값 (가중치 적용): 0.4945\n"
     ]
    }
   ],
   "source": [
    "from sklearn.ensemble import RandomForestRegressor\n",
    "import numpy as np\n",
    "\n",
    "# 랜덤 포레스트 모델 생성 및 훈련\n",
    "model_rf = RandomForestRegressor()\n",
    "model_rf.fit(X_train, y_train)\n",
    "\n",
    "# 특성 중요도 확인\n",
    "feature_importances = model_rf.feature_importances_\n",
    "\n",
    "# 특성 중요도에 기반한 가중치 설정\n",
    "top_feature_indices = np.argsort(feature_importances)[::-1][:3]\n",
    "weight_factor = 4  # 가중치 조절을 위한 상수\n",
    "\n",
    "# 가중치 적용\n",
    "for idx in top_feature_indices:\n",
    "    feature_importances[idx] *= weight_factor\n",
    "\n",
    "# 가중치가 적용된 특성의 이름 추출\n",
    "weighted_feature_names = X_train.columns[top_feature_indices]\n",
    "\n",
    "print(\"가중치가 적용된 특성의 이름:\")\n",
    "for feature_name in weighted_feature_names:\n",
    "    print(feature_name)\n",
    "# 가중치 적용한 모델 재생성\n",
    "model_rf_weighted = RandomForestRegressor()\n",
    "model_rf_weighted.fit(X_train, y_train)\n",
    "\n",
    "# 가중치 적용한 모델로 예측 수행\n",
    "y_pred_rf_weighted = model_rf_weighted.predict(X_valid)\n",
    "\n",
    "# RMSLE 계산\n",
    "rmsle_value_rf_weighted = rmsle(y_valid, y_pred_rf_weighted)\n",
    "print(f'RMSLE 값 (가중치 적용): {rmsle_value_rf_weighted:.4f}')\n",
    "\n"
   ]
  },
  {
   "cell_type": "markdown",
   "id": "5b0ded85",
   "metadata": {},
   "source": [
    "가중치 1.5일때\n",
    "RMSLE 값 (가중치 적용): 0.4883"
   ]
  },
  {
   "cell_type": "code",
   "execution_count": 15,
   "id": "ca2eeca1",
   "metadata": {},
   "outputs": [],
   "source": [
    "train_sub = model_Lir.predict(test_enco)"
   ]
  },
  {
   "cell_type": "code",
   "execution_count": 14,
   "id": "aaa571f4",
   "metadata": {},
   "outputs": [],
   "source": [
    "#기존 제출파일 불러오기 \n",
    "sub = pd.read_csv('./open/sample_submission.csv') "
   ]
  },
  {
   "cell_type": "code",
   "execution_count": null,
   "id": "c8a62e3b",
   "metadata": {},
   "outputs": [],
   "source": [
    "# 제출용 파일 만들기\n",
    "sub['ECLO'] = train_sub\n",
    "submission_df = sub[['ID', 'ECLO']]\n",
    "# CSV 파일로 저장\n",
    "submission_df.to_csv('Linear_Regression_submission.csv', index=False)"
   ]
  }
 ],
 "metadata": {
  "kernelspec": {
   "display_name": "Python 3 (ipykernel)",
   "language": "python",
   "name": "python3"
  },
  "language_info": {
   "codemirror_mode": {
    "name": "ipython",
    "version": 3
   },
   "file_extension": ".py",
   "mimetype": "text/x-python",
   "name": "python",
   "nbconvert_exporter": "python",
   "pygments_lexer": "ipython3",
   "version": "3.11.5"
  }
 },
 "nbformat": 4,
 "nbformat_minor": 5
}
