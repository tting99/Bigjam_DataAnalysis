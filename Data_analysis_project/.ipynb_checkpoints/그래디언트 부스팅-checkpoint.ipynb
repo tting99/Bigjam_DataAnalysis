{
 "cells": [
  {
   "cell_type": "code",
   "execution_count": 12,
   "id": "27b30464",
   "metadata": {},
   "outputs": [],
   "source": [
    "import pandas as pd\n",
    "from datetime import datetime\n",
    "\n",
    "train = pd.read_csv('./open/train.csv')\n",
    "test = pd.read_csv('./open/test.csv')\n",
    "data_onehot_enco = pd.read_csv('./open/onehot_encoded_시,일제외.csv', encoding = \"UTF_8\", low_memory=False)"
   ]
  },
  {
   "cell_type": "code",
   "execution_count": 13,
   "id": "63fad702",
   "metadata": {},
   "outputs": [],
   "source": [
    "# train_new가 기존 train\n",
    "# test_new가 기존 test\n",
    "train_enco = data_onehot_enco[:len(train)]\n",
    "test_enco = data_onehot_enco[len(train):]"
   ]
  },
  {
   "cell_type": "code",
   "execution_count": 15,
   "id": "f5d0616d",
   "metadata": {},
   "outputs": [],
   "source": [
    "y_train_new = train['ECLO'].copy()"
   ]
  },
  {
   "cell_type": "code",
   "execution_count": 16,
   "id": "66f172d2",
   "metadata": {},
   "outputs": [],
   "source": [
    "from sklearn.model_selection import train_test_split\n",
    "X_train, X_valid, y_train, y_valid = train_test_split(train_enco, y_train_new, test_size=0.3, random_state=42)"
   ]
  },
  {
   "cell_type": "code",
   "execution_count": 17,
   "id": "7b49a9ac",
   "metadata": {},
   "outputs": [
    {
     "name": "stdout",
     "output_type": "stream",
     "text": [
      "Mean Squared Error (MSE) 값: 9.7338\n",
      "R-squared (R2) 값: 0.0257\n",
      "RMSLE 값: 0.4647\n"
     ]
    }
   ],
   "source": [
    "import numpy as np\n",
    "from sklearn.model_selection import train_test_split\n",
    "from sklearn.linear_model import LinearRegression\n",
    "from sklearn.metrics import r2_score, mean_squared_error\n",
    "\n",
    "# 데이터를 나누기\n",
    "X_train, X_valid, y_train, y_valid = train_test_split(train_new, y_train_new, test_size=0.3, random_state=42)\n",
    "\n",
    "# 선형 회귀 모델 생성 및 훈련\n",
    "model_Lir = LinearRegression()\n",
    "model_Lir.fit(X_train, y_train)\n",
    "\n",
    "# 검증 데이터에 대한 예측 수행\n",
    "y_pred = model_Lir.predict(X_valid)\n",
    "\n",
    "# Mean Squared Error (MSE) 값 계산\n",
    "mse = mean_squared_error(y_valid, y_pred)\n",
    "print(f'Mean Squared Error (MSE) 값: {mse:.4f}')\n",
    "\n",
    "# R-squared (R2) 값 계산\n",
    "r2 = r2_score(y_valid, y_pred)\n",
    "print(f'R-squared (R2) 값: {r2:.4f}')\n",
    "\n",
    "# Root Mean Squared Logarithmic Error (RMSLE) 값 계산\n",
    "def rmsle(y_true, y_pred):\n",
    "    return np.sqrt(mean_squared_error(np.log1p(y_true), np.log1p(y_pred)))\n",
    "\n",
    "rmsle_value = rmsle(y_valid, y_pred)\n",
    "print(f'RMSLE 값: {rmsle_value:.4f}')"
   ]
  },
  {
   "cell_type": "code",
   "execution_count": 18,
   "id": "ca2eeca1",
   "metadata": {},
   "outputs": [],
   "source": [
    "train_sub = model_Lir.predict(test_new)"
   ]
  },
  {
   "cell_type": "code",
   "execution_count": 19,
   "id": "aaa571f4",
   "metadata": {},
   "outputs": [],
   "source": [
    "#기존 제출파일 불러오기 \n",
    "sub = pd.read_csv('./open/sample_submission.csv') "
   ]
  },
  {
   "cell_type": "code",
   "execution_count": 20,
   "id": "c8a62e3b",
   "metadata": {},
   "outputs": [],
   "source": [
    "# 제출용 파일 만들기\n",
    "sub['ECLO'] = train_sub\n",
    "submission_df = sub[['ID', 'ECLO']]\n",
    "# CSV 파일로 저장\n",
    "submission_df.to_csv('Linear_Regression_submission.csv', index=False)"
   ]
  }
 ],
 "metadata": {
  "kernelspec": {
   "display_name": "Python 3 (ipykernel)",
   "language": "python",
   "name": "python3"
  },
  "language_info": {
   "codemirror_mode": {
    "name": "ipython",
    "version": 3
   },
   "file_extension": ".py",
   "mimetype": "text/x-python",
   "name": "python",
   "nbconvert_exporter": "python",
   "pygments_lexer": "ipython3",
   "version": "3.11.5"
  }
 },
 "nbformat": 4,
 "nbformat_minor": 5
}
