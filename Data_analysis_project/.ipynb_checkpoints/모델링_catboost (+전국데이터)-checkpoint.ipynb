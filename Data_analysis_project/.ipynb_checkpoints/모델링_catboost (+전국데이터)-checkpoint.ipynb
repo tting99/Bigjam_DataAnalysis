{
 "cells": [
  {
   "cell_type": "code",
   "execution_count": 111,
   "id": "b1d97288",
   "metadata": {},
   "outputs": [],
   "source": [
    "import pandas as pd\n",
    "import numpy as np\n",
    "import seaborn as sns\n",
    "from datetime import datetime\n",
    "import matplotlib.pyplot as plt\n",
    "import matplotlib.font_manager as fm\n",
    "import os\n",
    "import random\n",
    "# 한글 문제\n",
    "import platform\n",
    "\n",
    "from matplotlib import font_manager, rc\n",
    "plt.rcParams['axes.unicode_minus'] = False\n",
    "\n",
    "if platform.system() == 'Darwin':  # 맥OS\n",
    "    rc('font', family='AppleGothic')\n",
    "elif platform.system() == 'Windows':  # 윈도우\n",
    "    path = \"c:/Windows/Fonts/malgun.ttf\"\n",
    "    font_name = font_manager.FontProperties(fname=path).get_name()\n",
    "    rc('font', family=font_name)\n",
    "else:\n",
    "    print('Unknown system...  sorry~~~')\n",
    "\n",
    "from matplotlib.pylab import rcParams\n",
    "rcParams['figure.figsize'] = 17,8\n",
    "\n",
    "import warnings\n",
    "warnings.filterwarnings(action='ignore')"
   ]
  },
  {
   "cell_type": "code",
   "execution_count": 112,
   "id": "9652d3d7",
   "metadata": {},
   "outputs": [],
   "source": [
    "train = pd.read_csv('./open/train.csv')\n",
    "countrywide = pd.read_csv('./open/external_open/countrywide_accident.csv')\n",
    "\n",
    "#eclo만 뽑아낸것. \n",
    "eclo = pd.concat([train['ECLO'], countrywide['ECLO']], sort=False)"
   ]
  },
  {
   "cell_type": "code",
   "execution_count": 113,
   "id": "493c64bf",
   "metadata": {},
   "outputs": [],
   "source": [
    "# countrywide.info()"
   ]
  },
  {
   "cell_type": "code",
   "execution_count": 114,
   "id": "9b503c6e",
   "metadata": {},
   "outputs": [],
   "source": [
    "countrywide_df = pd.read_csv('./open/countrywide_processed.csv')\n",
    "train_df = pd.read_csv('./open/train_processed.csv')\n",
    "test_df = pd.read_csv('./open/test_processed.csv')"
   ]
  },
  {
   "cell_type": "code",
   "execution_count": 115,
   "id": "d867d8a1",
   "metadata": {},
   "outputs": [],
   "source": [
    "# countrywide_df.info()\n",
    "# train_df.info()\n",
    "# test_df.info()"
   ]
  },
  {
   "cell_type": "code",
   "execution_count": 116,
   "id": "9239a6c6",
   "metadata": {},
   "outputs": [],
   "source": [
    "# 문자열로 변환하는 함수 정의\n",
    "def convert_to_str(df, columns):\n",
    "    for col in columns:\n",
    "        df[col] = df[col].astype(str)\n",
    "    return df\n",
    "\n",
    "# train_df, test_df, countrywide에 대한 문자열 변환\n",
    "columns_to_convert = ['연', '월', '시간']\n",
    "train_df = convert_to_str(train_df, columns_to_convert)\n",
    "test_df = convert_to_str(test_df, columns_to_convert)\n",
    "countrywide_df = convert_to_str(countrywide_df, columns_to_convert)\n"
   ]
  },
  {
   "cell_type": "code",
   "execution_count": 117,
   "id": "b707a782",
   "metadata": {},
   "outputs": [],
   "source": [
    "#데이터 3개 합쳐\n",
    "data = pd.concat([train_df, countrywide_df, test_df], sort=False)"
   ]
  },
  {
   "cell_type": "code",
   "execution_count": 118,
   "id": "b3acf123",
   "metadata": {},
   "outputs": [],
   "source": [
    "# 원핫인코딩 \n",
    "data = pd.get_dummies(data)"
   ]
  },
  {
   "cell_type": "code",
   "execution_count": 119,
   "id": "b11cd6ba",
   "metadata": {},
   "outputs": [],
   "source": [
    "# data.info()"
   ]
  },
  {
   "cell_type": "code",
   "execution_count": 120,
   "id": "eb1cdaf5",
   "metadata": {},
   "outputs": [],
   "source": [
    "# 트레인과 전국데이터 만큼 덜어내기\n",
    "sum_train_ctw_len = len(train) + len(countrywide)\n",
    "train_enco = data[:sum_train_ctw_len]\n",
    "test_enco = data[sum_train_ctw_len:]\n",
    "\n"
   ]
  },
  {
   "cell_type": "markdown",
   "id": "b5cad6a1",
   "metadata": {},
   "source": [
    "# catboost - 로그변환X, 전국데이터X"
   ]
  },
  {
   "cell_type": "markdown",
   "id": "022fa1cc",
   "metadata": {},
   "source": [
    "- 코드생략\n",
    "RMSLE: 0.46122"
   ]
  },
  {
   "cell_type": "markdown",
   "id": "67b006e6",
   "metadata": {},
   "source": [
    "# catboost - 로그변환O, 전국데이터X"
   ]
  },
  {
   "cell_type": "markdown",
   "id": "36e70215",
   "metadata": {},
   "source": [
    "- 코드생략\n",
    "RMSLE: 0.44702"
   ]
  },
  {
   "cell_type": "markdown",
   "id": "f8cf5b0a",
   "metadata": {},
   "source": [
    "# catboost - 로그변환X, 전국데이터O"
   ]
  },
  {
   "cell_type": "markdown",
   "id": "79bbfe1a",
   "metadata": {},
   "source": [
    "RMSLE: 0.45516"
   ]
  },
  {
   "cell_type": "code",
   "execution_count": 121,
   "id": "4ee12cdf",
   "metadata": {},
   "outputs": [
    {
     "name": "stdout",
     "output_type": "stream",
     "text": [
      "0:\tlearn: 3.5999467\ttest: 3.5385127\tbest: 3.5385127 (0)\ttotal: 45.2ms\tremaining: 45.1s\n",
      "100:\tlearn: 3.5301334\ttest: 3.4797110\tbest: 3.4797110 (100)\ttotal: 4.21s\tremaining: 37.5s\n",
      "200:\tlearn: 3.5148898\ttest: 3.4758877\tbest: 3.4758877 (200)\ttotal: 8.46s\tremaining: 33.7s\n",
      "300:\tlearn: 3.5013647\ttest: 3.4744999\tbest: 3.4744733 (292)\ttotal: 12.7s\tremaining: 29.4s\n",
      "400:\tlearn: 3.4900902\ttest: 3.4740658\tbest: 3.4740646 (397)\ttotal: 16.9s\tremaining: 25.2s\n",
      "Stopped by overfitting detector  (50 iterations wait)\n",
      "\n",
      "bestTest = 3.474022122\n",
      "bestIteration = 412\n",
      "\n",
      "Shrink model to first 413 iterations.\n",
      "RMSLE: 0.4551609149868639\n"
     ]
    }
   ],
   "source": [
    "from catboost import CatBoostRegressor\n",
    "from sklearn.model_selection import train_test_split\n",
    "import pandas as pd\n",
    "import numpy as np\n",
    "\n",
    "# X_train, y_train 생성\n",
    "X_train = train_enco\n",
    "y_train = eclo\n",
    "\n",
    "# train 데이터를 학습(train)과 검증(validation) 세트로 분할\n",
    "X_train, X_valid, y_train, y_valid = train_test_split(X_train, y_train, test_size=0.2, random_state=42)\n",
    "\n",
    "# CatBoost 모델 생성 및 학습\n",
    "model = CatBoostRegressor(iterations=1000, depth=10, learning_rate=0.05)\n",
    "model.fit(X_train, y_train, eval_set=(X_valid, y_valid), early_stopping_rounds=50, verbose=100)\n",
    "\n",
    "# # 테스트 데이터 예측\n",
    "predictions = model.predict(X_valid)\n",
    "# # 예측 결과를 새로운 데이터프레임에 저장\n",
    "# result_df = pd.DataFrame({\"Predicted_ECLO\": predictions})\n",
    "# # 결과를 파일로 저장\n",
    "# result_df.to_csv(\"predicted_eclo.csv\", index=False)\n",
    "\n",
    "def rmsle(y_true, y_pred):\n",
    "    return np.sqrt(np.mean(np.square(np.log1p(y_true) - np.log1p(y_pred))))\n",
    "\n",
    "# 테스트 데이터의 실제 값\n",
    "y_true = y_valid\n",
    "\n",
    "# 테스트 데이터의 예측 값\n",
    "y_pred = predictions\n",
    "\n",
    "# RMSLE 계산\n",
    "rmsle_value = rmsle(y_true, y_pred)\n",
    "\n",
    "print(\"RMSLE:\", rmsle_value)"
   ]
  },
  {
   "cell_type": "markdown",
   "id": "df5e2fc4",
   "metadata": {},
   "source": [
    "# catboost - 로그변환O, 전국데이터O"
   ]
  },
  {
   "cell_type": "markdown",
   "id": "30fd5e2a",
   "metadata": {},
   "source": [
    "RMSLE: 0.44126"
   ]
  },
  {
   "cell_type": "code",
   "execution_count": 125,
   "id": "81577c3f",
   "metadata": {},
   "outputs": [
    {
     "name": "stdout",
     "output_type": "stream",
     "text": [
      "0:\tlearn: 0.8138172\ttest: 0.8128166\tbest: 0.8128166 (0)\ttotal: 43.1ms\tremaining: 43.1s\n",
      "100:\tlearn: 0.7979535\ttest: 0.7986129\tbest: 0.7986129 (100)\ttotal: 4.22s\tremaining: 37.6s\n",
      "200:\tlearn: 0.7953523\ttest: 0.7978957\tbest: 0.7978957 (200)\ttotal: 8.6s\tremaining: 34.2s\n",
      "300:\tlearn: 0.7930075\ttest: 0.7977333\tbest: 0.7977333 (300)\ttotal: 12.9s\tremaining: 30s\n",
      "400:\tlearn: 0.7906201\ttest: 0.7977173\tbest: 0.7977026 (360)\ttotal: 17.2s\tremaining: 25.7s\n",
      "Stopped by overfitting detector  (50 iterations wait)\n",
      "\n",
      "bestTest = 0.797702572\n",
      "bestIteration = 360\n",
      "\n",
      "Shrink model to first 361 iterations.\n",
      "RMSLE: 0.30745931689717604\n",
      "로그치환후 RMSLE: 0.44126652227007473\n"
     ]
    }
   ],
   "source": [
    "\n",
    "# X_train, y_train 생성\n",
    "X_train = train_enco\n",
    "y_train = np.log2(eclo)\n",
    "# train 데이터를 학습(train)과 검증(validation) 세트로 분할\n",
    "X_train, X_valid, y_train, y_valid = train_test_split(X_train, y_train, test_size=0.2, random_state=42)\n",
    "\n",
    "# CatBoost 모델 생성 및 학습\n",
    "model = CatBoostRegressor(iterations=1000, depth=10, learning_rate=0.05)\n",
    "model.fit(X_train, y_train, eval_set=(X_valid, y_valid), early_stopping_rounds=50, verbose=100)\n",
    "\n",
    "# # 테스트 데이터 예측\n",
    "predictions = model.predict(X_valid)\n",
    "\n",
    "# 테스트 데이터의 실제 값\n",
    "y_true = y_valid\n",
    "\n",
    "# 테스트 데이터의 예측 값\n",
    "y_pred = predictions\n",
    "\n",
    "def rmsle(y_true, y_pred):\n",
    "    return np.sqrt(np.mean(np.square(np.log1p(y_true) - np.log1p(y_pred))))\n",
    "# RMSLE 계산\n",
    "\n",
    "rmsle_value = rmsle(y_true, y_pred)\n",
    "\n",
    "print(\"RMSLE:\", rmsle_value)\n",
    "\n",
    "predicted_eclo_back = np.exp2(predictions)\n",
    "y_true_back = np.exp2(y_true)\n",
    "rmsle_value_back = rmsle(y_true_back, predicted_eclo_back)\n",
    "\n",
    "print(\"로그치환후 RMSLE:\", rmsle_value_back)"
   ]
  },
  {
   "cell_type": "code",
   "execution_count": null,
   "id": "73bb4b5c",
   "metadata": {},
   "outputs": [],
   "source": []
  },
  {
   "cell_type": "code",
   "execution_count": null,
   "id": "4e634355",
   "metadata": {},
   "outputs": [],
   "source": [
    "# #  새로운 데이터프레임에 저장\n",
    "# result_df = pd.DataFrame({\"Predicted_ECLO\": predictions})\n",
    "# # 결과를 파일로 저장\n",
    "# result_df.to_csv(\"predicted_eclo.csv\", index=False)"
   ]
  },
  {
   "cell_type": "code",
   "execution_count": 122,
   "id": "634b48de",
   "metadata": {},
   "outputs": [],
   "source": [
    "# test_enco.info()"
   ]
  },
  {
   "cell_type": "code",
   "execution_count": null,
   "id": "acd49c41",
   "metadata": {},
   "outputs": [],
   "source": []
  }
 ],
 "metadata": {
  "kernelspec": {
   "display_name": "Python 3 (ipykernel)",
   "language": "python",
   "name": "python3"
  },
  "language_info": {
   "codemirror_mode": {
    "name": "ipython",
    "version": 3
   },
   "file_extension": ".py",
   "mimetype": "text/x-python",
   "name": "python",
   "nbconvert_exporter": "python",
   "pygments_lexer": "ipython3",
   "version": "3.11.5"
  }
 },
 "nbformat": 4,
 "nbformat_minor": 5
}
