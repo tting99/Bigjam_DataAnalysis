{
 "cells": [
  {
   "cell_type": "code",
   "execution_count": 69,
   "metadata": {
    "ExecuteTime": {
     "end_time": "2023-11-22T06:27:04.204982Z",
     "start_time": "2023-11-22T06:27:03.217743Z"
    },
    "deletable": false,
    "id": "H2RD_fcJJoRa",
    "pbl_cell_type": "hidden_setup_code",
    "step_id": 4887,
    "step_number": 0
   },
   "outputs": [],
   "source": [
    "import pandas as pd\n",
    "import numpy as np\n",
    "import seaborn as sns\n",
    "from datetime import datetime\n",
    "import matplotlib.pyplot as plt\n",
    "import matplotlib.font_manager as fm\n",
    "\n",
    "# 한글 문제\n",
    "import platform\n",
    "\n",
    "from matplotlib import font_manager, rc\n",
    "plt.rcParams['axes.unicode_minus'] = False\n",
    "\n",
    "if platform.system() == 'Darwin':  # 맥OS\n",
    "    rc('font', family='AppleGothic')\n",
    "elif platform.system() == 'Windows':  # 윈도우\n",
    "    path = \"c:/Windows/Fonts/malgun.ttf\"\n",
    "    font_name = font_manager.FontProperties(fname=path).get_name()\n",
    "    rc('font', family=font_name)\n",
    "else:\n",
    "    print('Unknown system...  sorry~~~')\n",
    "\n",
    "from matplotlib.pylab import rcParams\n",
    "rcParams['figure.figsize'] = 17,8\n",
    "\n",
    "import warnings\n",
    "warnings.filterwarnings(action='ignore')"
   ]
  },
  {
   "cell_type": "markdown",
   "metadata": {
    "deletable": false,
    "id": "INgMyEIPJoRc",
    "pbl_cell_type": "markdown",
    "step_id": 4887,
    "step_number": 0
   },
   "source": [
    "# **대구 교통 사고 피해 예측 AI 경진대회 Baseline Code**"
   ]
  },
  {
   "cell_type": "markdown",
   "metadata": {
    "id": "DXsj7n3HJoRe",
    "pbl_cell_type": "markdown",
    "step_id": 5096,
    "step_number": 1
   },
   "source": [
    "## **Fixed Random Seed**  \n",
    "\n",
    "seed 값에 의해 동일한 코드를 사용해도 결과가 다를 수 있기에, 동일한 결과를 위해 seed 값을 고정시킵니다"
   ]
  },
  {
   "cell_type": "code",
   "execution_count": 70,
   "metadata": {
    "ExecuteTime": {
     "end_time": "2023-11-22T06:27:04.207724Z",
     "start_time": "2023-11-22T06:27:04.206006Z"
    },
    "id": "JU6RISf6JoRe",
    "pbl_cell_type": "code",
    "step_id": 5096,
    "step_number": 1
   },
   "outputs": [],
   "source": [
    "import os\n",
    "import random\n",
    "import numpy as np\n",
    "\n",
    "def seed_everything(seed):\n",
    "    random.seed(seed)\n",
    "    os.environ['PYTHONHASHSEED'] = str(seed)\n",
    "    np.random.seed(seed)\n",
    "\n",
    "seed_everything(42)"
   ]
  },
  {
   "cell_type": "markdown",
   "metadata": {
    "id": "yCyLPSe_JoRf",
    "pbl_cell_type": "markdown",
    "step_id": 5096,
    "step_number": 1
   },
   "source": [
    "## **데이터 불러오기 및 상위행 확인**  \n",
    "\n",
    "train.csv, test.csv 파일을 로드하여 상위행을 출력해 봅시다"
   ]
  },
  {
   "cell_type": "code",
   "execution_count": 71,
   "metadata": {
    "ExecuteTime": {
     "end_time": "2023-11-22T06:27:04.333724Z",
     "start_time": "2023-11-22T06:27:04.208279Z"
    },
    "id": "s3-Z_wbNJoRf",
    "outputId": "349c6dd4-cb36-4dce-bfe3-25a9ccbfdc63",
    "pbl_cell_type": "code",
    "step_id": 5096,
    "step_number": 1
   },
   "outputs": [
    {
     "data": {
      "text/html": [
       "<div>\n",
       "<style scoped>\n",
       "    .dataframe tbody tr th:only-of-type {\n",
       "        vertical-align: middle;\n",
       "    }\n",
       "\n",
       "    .dataframe tbody tr th {\n",
       "        vertical-align: top;\n",
       "    }\n",
       "\n",
       "    .dataframe thead th {\n",
       "        text-align: right;\n",
       "    }\n",
       "</style>\n",
       "<table border=\"1\" class=\"dataframe\">\n",
       "  <thead>\n",
       "    <tr style=\"text-align: right;\">\n",
       "      <th></th>\n",
       "      <th>ID</th>\n",
       "      <th>사고일시</th>\n",
       "      <th>요일</th>\n",
       "      <th>기상상태</th>\n",
       "      <th>시군구</th>\n",
       "      <th>도로형태</th>\n",
       "      <th>노면상태</th>\n",
       "      <th>사고유형</th>\n",
       "      <th>사고유형 - 세부분류</th>\n",
       "      <th>법규위반</th>\n",
       "      <th>...</th>\n",
       "      <th>가해운전자 상해정도</th>\n",
       "      <th>피해운전자 차종</th>\n",
       "      <th>피해운전자 성별</th>\n",
       "      <th>피해운전자 연령</th>\n",
       "      <th>피해운전자 상해정도</th>\n",
       "      <th>사망자수</th>\n",
       "      <th>중상자수</th>\n",
       "      <th>경상자수</th>\n",
       "      <th>부상자수</th>\n",
       "      <th>ECLO</th>\n",
       "    </tr>\n",
       "  </thead>\n",
       "  <tbody>\n",
       "    <tr>\n",
       "      <th>0</th>\n",
       "      <td>ACCIDENT_00000</td>\n",
       "      <td>2019-01-01 00</td>\n",
       "      <td>화요일</td>\n",
       "      <td>맑음</td>\n",
       "      <td>대구광역시 중구 대신동</td>\n",
       "      <td>단일로 - 기타</td>\n",
       "      <td>건조</td>\n",
       "      <td>차대사람</td>\n",
       "      <td>길가장자리구역통행중</td>\n",
       "      <td>안전운전불이행</td>\n",
       "      <td>...</td>\n",
       "      <td>상해없음</td>\n",
       "      <td>보행자</td>\n",
       "      <td>여</td>\n",
       "      <td>70세</td>\n",
       "      <td>중상</td>\n",
       "      <td>0</td>\n",
       "      <td>1</td>\n",
       "      <td>0</td>\n",
       "      <td>0</td>\n",
       "      <td>5</td>\n",
       "    </tr>\n",
       "    <tr>\n",
       "      <th>1</th>\n",
       "      <td>ACCIDENT_00001</td>\n",
       "      <td>2019-01-01 00</td>\n",
       "      <td>화요일</td>\n",
       "      <td>흐림</td>\n",
       "      <td>대구광역시 달서구 감삼동</td>\n",
       "      <td>단일로 - 기타</td>\n",
       "      <td>건조</td>\n",
       "      <td>차대사람</td>\n",
       "      <td>보도통행중</td>\n",
       "      <td>기타</td>\n",
       "      <td>...</td>\n",
       "      <td>상해없음</td>\n",
       "      <td>보행자</td>\n",
       "      <td>남</td>\n",
       "      <td>61세</td>\n",
       "      <td>경상</td>\n",
       "      <td>0</td>\n",
       "      <td>0</td>\n",
       "      <td>1</td>\n",
       "      <td>0</td>\n",
       "      <td>3</td>\n",
       "    </tr>\n",
       "    <tr>\n",
       "      <th>2</th>\n",
       "      <td>ACCIDENT_00002</td>\n",
       "      <td>2019-01-01 01</td>\n",
       "      <td>화요일</td>\n",
       "      <td>맑음</td>\n",
       "      <td>대구광역시 수성구 두산동</td>\n",
       "      <td>단일로 - 기타</td>\n",
       "      <td>건조</td>\n",
       "      <td>차대사람</td>\n",
       "      <td>차도통행중</td>\n",
       "      <td>안전운전불이행</td>\n",
       "      <td>...</td>\n",
       "      <td>상해없음</td>\n",
       "      <td>보행자</td>\n",
       "      <td>남</td>\n",
       "      <td>38세</td>\n",
       "      <td>경상</td>\n",
       "      <td>0</td>\n",
       "      <td>0</td>\n",
       "      <td>1</td>\n",
       "      <td>0</td>\n",
       "      <td>3</td>\n",
       "    </tr>\n",
       "    <tr>\n",
       "      <th>3</th>\n",
       "      <td>ACCIDENT_00003</td>\n",
       "      <td>2019-01-01 02</td>\n",
       "      <td>화요일</td>\n",
       "      <td>맑음</td>\n",
       "      <td>대구광역시 북구 복현동</td>\n",
       "      <td>단일로 - 기타</td>\n",
       "      <td>건조</td>\n",
       "      <td>차대차</td>\n",
       "      <td>추돌</td>\n",
       "      <td>안전운전불이행</td>\n",
       "      <td>...</td>\n",
       "      <td>상해없음</td>\n",
       "      <td>승용</td>\n",
       "      <td>남</td>\n",
       "      <td>36세</td>\n",
       "      <td>중상</td>\n",
       "      <td>0</td>\n",
       "      <td>1</td>\n",
       "      <td>0</td>\n",
       "      <td>0</td>\n",
       "      <td>5</td>\n",
       "    </tr>\n",
       "    <tr>\n",
       "      <th>4</th>\n",
       "      <td>ACCIDENT_00004</td>\n",
       "      <td>2019-01-01 04</td>\n",
       "      <td>화요일</td>\n",
       "      <td>맑음</td>\n",
       "      <td>대구광역시 동구 신암동</td>\n",
       "      <td>단일로 - 기타</td>\n",
       "      <td>건조</td>\n",
       "      <td>차대차</td>\n",
       "      <td>추돌</td>\n",
       "      <td>안전운전불이행</td>\n",
       "      <td>...</td>\n",
       "      <td>상해없음</td>\n",
       "      <td>승용</td>\n",
       "      <td>남</td>\n",
       "      <td>52세</td>\n",
       "      <td>경상</td>\n",
       "      <td>0</td>\n",
       "      <td>0</td>\n",
       "      <td>1</td>\n",
       "      <td>0</td>\n",
       "      <td>3</td>\n",
       "    </tr>\n",
       "  </tbody>\n",
       "</table>\n",
       "<p>5 rows × 23 columns</p>\n",
       "</div>"
      ],
      "text/plain": [
       "               ID           사고일시   요일 기상상태            시군구      도로형태 노면상태  \\\n",
       "0  ACCIDENT_00000  2019-01-01 00  화요일   맑음   대구광역시 중구 대신동  단일로 - 기타   건조   \n",
       "1  ACCIDENT_00001  2019-01-01 00  화요일   흐림  대구광역시 달서구 감삼동  단일로 - 기타   건조   \n",
       "2  ACCIDENT_00002  2019-01-01 01  화요일   맑음  대구광역시 수성구 두산동  단일로 - 기타   건조   \n",
       "3  ACCIDENT_00003  2019-01-01 02  화요일   맑음   대구광역시 북구 복현동  단일로 - 기타   건조   \n",
       "4  ACCIDENT_00004  2019-01-01 04  화요일   맑음   대구광역시 동구 신암동  단일로 - 기타   건조   \n",
       "\n",
       "   사고유형 사고유형 - 세부분류     법규위반  ... 가해운전자 상해정도 피해운전자 차종 피해운전자 성별 피해운전자 연령  \\\n",
       "0  차대사람  길가장자리구역통행중  안전운전불이행  ...       상해없음      보행자        여      70세   \n",
       "1  차대사람       보도통행중       기타  ...       상해없음      보행자        남      61세   \n",
       "2  차대사람       차도통행중  안전운전불이행  ...       상해없음      보행자        남      38세   \n",
       "3   차대차          추돌  안전운전불이행  ...       상해없음       승용        남      36세   \n",
       "4   차대차          추돌  안전운전불이행  ...       상해없음       승용        남      52세   \n",
       "\n",
       "  피해운전자 상해정도 사망자수 중상자수 경상자수  부상자수  ECLO  \n",
       "0         중상    0    1    0     0     5  \n",
       "1         경상    0    0    1     0     3  \n",
       "2         경상    0    0    1     0     3  \n",
       "3         중상    0    1    0     0     5  \n",
       "4         경상    0    0    1     0     3  \n",
       "\n",
       "[5 rows x 23 columns]"
      ]
     },
     "metadata": {},
     "output_type": "display_data"
    },
    {
     "data": {
      "text/html": [
       "<div>\n",
       "<style scoped>\n",
       "    .dataframe tbody tr th:only-of-type {\n",
       "        vertical-align: middle;\n",
       "    }\n",
       "\n",
       "    .dataframe tbody tr th {\n",
       "        vertical-align: top;\n",
       "    }\n",
       "\n",
       "    .dataframe thead th {\n",
       "        text-align: right;\n",
       "    }\n",
       "</style>\n",
       "<table border=\"1\" class=\"dataframe\">\n",
       "  <thead>\n",
       "    <tr style=\"text-align: right;\">\n",
       "      <th></th>\n",
       "      <th>ID</th>\n",
       "      <th>사고일시</th>\n",
       "      <th>요일</th>\n",
       "      <th>기상상태</th>\n",
       "      <th>시군구</th>\n",
       "      <th>도로형태</th>\n",
       "      <th>노면상태</th>\n",
       "      <th>사고유형</th>\n",
       "    </tr>\n",
       "  </thead>\n",
       "  <tbody>\n",
       "    <tr>\n",
       "      <th>10958</th>\n",
       "      <td>ACCIDENT_50567</td>\n",
       "      <td>2022-12-31 18</td>\n",
       "      <td>토요일</td>\n",
       "      <td>맑음</td>\n",
       "      <td>대구광역시 남구 대명동</td>\n",
       "      <td>단일로 - 터널</td>\n",
       "      <td>건조</td>\n",
       "      <td>차대차</td>\n",
       "    </tr>\n",
       "    <tr>\n",
       "      <th>10959</th>\n",
       "      <td>ACCIDENT_50568</td>\n",
       "      <td>2022-12-31 18</td>\n",
       "      <td>토요일</td>\n",
       "      <td>맑음</td>\n",
       "      <td>대구광역시 수성구 시지동</td>\n",
       "      <td>단일로 - 기타</td>\n",
       "      <td>건조</td>\n",
       "      <td>차대차</td>\n",
       "    </tr>\n",
       "    <tr>\n",
       "      <th>10960</th>\n",
       "      <td>ACCIDENT_50569</td>\n",
       "      <td>2022-12-31 20</td>\n",
       "      <td>토요일</td>\n",
       "      <td>맑음</td>\n",
       "      <td>대구광역시 수성구 연호동</td>\n",
       "      <td>단일로 - 기타</td>\n",
       "      <td>건조</td>\n",
       "      <td>차대차</td>\n",
       "    </tr>\n",
       "    <tr>\n",
       "      <th>10961</th>\n",
       "      <td>ACCIDENT_50570</td>\n",
       "      <td>2022-12-31 20</td>\n",
       "      <td>토요일</td>\n",
       "      <td>맑음</td>\n",
       "      <td>대구광역시 수성구 범물동</td>\n",
       "      <td>교차로 - 교차로부근</td>\n",
       "      <td>건조</td>\n",
       "      <td>차대차</td>\n",
       "    </tr>\n",
       "    <tr>\n",
       "      <th>10962</th>\n",
       "      <td>ACCIDENT_50571</td>\n",
       "      <td>2022-12-31 21</td>\n",
       "      <td>토요일</td>\n",
       "      <td>맑음</td>\n",
       "      <td>대구광역시 동구 효목동</td>\n",
       "      <td>교차로 - 교차로부근</td>\n",
       "      <td>건조</td>\n",
       "      <td>차대차</td>\n",
       "    </tr>\n",
       "  </tbody>\n",
       "</table>\n",
       "</div>"
      ],
      "text/plain": [
       "                   ID           사고일시   요일 기상상태            시군구         도로형태  \\\n",
       "10958  ACCIDENT_50567  2022-12-31 18  토요일   맑음   대구광역시 남구 대명동     단일로 - 터널   \n",
       "10959  ACCIDENT_50568  2022-12-31 18  토요일   맑음  대구광역시 수성구 시지동     단일로 - 기타   \n",
       "10960  ACCIDENT_50569  2022-12-31 20  토요일   맑음  대구광역시 수성구 연호동     단일로 - 기타   \n",
       "10961  ACCIDENT_50570  2022-12-31 20  토요일   맑음  대구광역시 수성구 범물동  교차로 - 교차로부근   \n",
       "10962  ACCIDENT_50571  2022-12-31 21  토요일   맑음   대구광역시 동구 효목동  교차로 - 교차로부근   \n",
       "\n",
       "      노면상태 사고유형  \n",
       "10958   건조  차대차  \n",
       "10959   건조  차대차  \n",
       "10960   건조  차대차  \n",
       "10961   건조  차대차  \n",
       "10962   건조  차대차  "
      ]
     },
     "metadata": {},
     "output_type": "display_data"
    }
   ],
   "source": [
    "import pandas as pd\n",
    "from datetime import datetime\n",
    "\n",
    "train = pd.read_csv('./open/train.csv', encoding = \"utf-8\", low_memory=False)\n",
    "test = pd.read_csv('./open/test.csv', encoding = \"utf-8\", low_memory=False)\n",
    "\n",
    "display(train.head())\n",
    "display(test.tail())"
   ]
  },
  {
   "cell_type": "markdown",
   "metadata": {
    "id": "xT9y8UNRJoRg",
    "pbl_cell_type": "markdown",
    "step_id": 5096,
    "step_number": 1
   },
   "source": [
    "## **train, test 데이터 기간 확인하기**  \n",
    "\n",
    "학습(train) 데이터의 기간과 예측 대상이 되는 test 데이터의 기간을 살펴 봅니다"
   ]
  },
  {
   "cell_type": "code",
   "execution_count": 72,
   "metadata": {
    "ExecuteTime": {
     "end_time": "2023-11-22T06:27:04.338240Z",
     "start_time": "2023-11-22T06:27:04.334793Z"
    },
    "id": "nhBxBs2WJoRg",
    "outputId": "293b589c-3055-4027-f8c3-b91fa3259f24",
    "pbl_cell_type": "code",
    "step_id": 5096,
    "step_number": 1
   },
   "outputs": [
    {
     "data": {
      "text/plain": [
       "'train : 2019-01-01 00 ~ 2021-12-31 23'"
      ]
     },
     "metadata": {},
     "output_type": "display_data"
    },
    {
     "data": {
      "text/plain": [
       "'test : 2022-01-01 01 ~ 2022-12-31 21'"
      ]
     },
     "metadata": {},
     "output_type": "display_data"
    }
   ],
   "source": [
    "display(f\"train : {train.iloc[0]['사고일시']} ~ {train.iloc[-1]['사고일시']}\")\n",
    "display(f\"test : {test.iloc[0]['사고일시']} ~ {test.iloc[-1]['사고일시']}\")"
   ]
  },
  {
   "cell_type": "markdown",
   "metadata": {
    "id": "3SHgKAj7JoRh"
   },
   "source": [
    "### Data Info"
   ]
  },
  {
   "cell_type": "code",
   "execution_count": 73,
   "metadata": {
    "ExecuteTime": {
     "end_time": "2023-11-22T06:27:04.359597Z",
     "start_time": "2023-11-22T06:27:04.339601Z"
    },
    "id": "hiabtZLyJoRh"
   },
   "outputs": [],
   "source": [
    "#'사고일시' 데이터 타입을 object -> datetime으로  바꾸기\n",
    "train['사고일시'] = pd.to_datetime(train['사고일시'])\n",
    "test['사고일시'] = pd.to_datetime(test['사고일시'])"
   ]
  },
  {
   "cell_type": "markdown",
   "metadata": {
    "id": "PROt3QizJoRk"
   },
   "source": [
    "### 날짜 데이터 파싱하기"
   ]
  },
  {
   "cell_type": "code",
   "execution_count": 74,
   "metadata": {
    "ExecuteTime": {
     "end_time": "2023-11-22T06:27:04.370823Z",
     "start_time": "2023-11-22T06:27:04.363249Z"
    },
    "id": "mzrPzRNAJoRk"
   },
   "outputs": [],
   "source": [
    "train['year'] = train.사고일시.dt.year\n",
    "train['month'] = train.사고일시.dt.month\n",
    "train['day'] = train.사고일시.dt.day\n",
    "train['hour'] = train.사고일시.dt.hour"
   ]
  },
  {
   "cell_type": "code",
   "execution_count": 75,
   "metadata": {
    "ExecuteTime": {
     "end_time": "2023-11-22T06:27:04.375093Z",
     "start_time": "2023-11-22T06:27:04.371610Z"
    },
    "id": "B99WyCuZJoRk"
   },
   "outputs": [],
   "source": [
    "test['year'] = test.사고일시.dt.year\n",
    "test['month'] = test.사고일시.dt.month\n",
    "test['day'] = test.사고일시.dt.day\n",
    "test['hour'] = test.사고일시.dt.hour"
   ]
  },
  {
   "cell_type": "markdown",
   "metadata": {},
   "source": [
    "### - train과 test 데이터셋의  컬럼 수가 서로 다름\n",
    "    - ID, 사고일시, 요일, 기상상태, 시군구, 도로형태, 노면상태, 사고유형"
   ]
  },
  {
   "cell_type": "code",
   "execution_count": 76,
   "metadata": {},
   "outputs": [
    {
     "data": {
      "text/plain": [
       "array(['화요일', '수요일', '목요일', '금요일', '토요일', '일요일', '월요일'], dtype=object)"
      ]
     },
     "metadata": {},
     "output_type": "display_data"
    },
    {
     "data": {
      "text/plain": [
       "array(['토요일', '일요일', '월요일', '화요일', '수요일', '목요일', '금요일'], dtype=object)"
      ]
     },
     "metadata": {},
     "output_type": "display_data"
    }
   ],
   "source": [
    "display(train['요일'].unique())\n",
    "display(test['요일'].unique())"
   ]
  },
  {
   "cell_type": "code",
   "execution_count": 77,
   "metadata": {},
   "outputs": [
    {
     "data": {
      "text/plain": [
       "array(['맑음', '흐림', '기타', '비', '안개', '눈'], dtype=object)"
      ]
     },
     "metadata": {},
     "output_type": "display_data"
    },
    {
     "data": {
      "text/plain": [
       "array(['맑음', '흐림', '기타', '비', '눈'], dtype=object)"
      ]
     },
     "metadata": {},
     "output_type": "display_data"
    }
   ],
   "source": [
    "display(train['기상상태'].unique())\n",
    "display(test['기상상태'].unique())"
   ]
  },
  {
   "cell_type": "markdown",
   "metadata": {},
   "source": [
    "***- test에는 기상상태-'안개' 없음***"
   ]
  },
  {
   "cell_type": "code",
   "execution_count": 78,
   "metadata": {},
   "outputs": [
    {
     "data": {
      "text/plain": [
       "array(['대구광역시 중구 대신동', '대구광역시 달서구 감삼동', '대구광역시 수성구 두산동', '대구광역시 북구 복현동',\n",
       "       '대구광역시 동구 신암동', '대구광역시 수성구 지산동', '대구광역시 달서구 상인동', '대구광역시 북구 태전동',\n",
       "       '대구광역시 동구 지묘동', '대구광역시 서구 평리동', '대구광역시 동구 신기동', '대구광역시 서구 상리동',\n",
       "       '대구광역시 달서구 월성동', '대구광역시 수성구 황금동', '대구광역시 북구 구암동', '대구광역시 동구 신천동',\n",
       "       '대구광역시 수성구 만촌동', '대구광역시 중구 남산동', '대구광역시 서구 비산동', '대구광역시 북구 침산동',\n",
       "       '대구광역시 달서구 두류동', '대구광역시 수성구 신매동', '대구광역시 달서구 대곡동', '대구광역시 달성군 유가읍',\n",
       "       '대구광역시 달성군 논공읍', '대구광역시 동구 율하동', '대구광역시 수성구 시지동', '대구광역시 동구 봉무동',\n",
       "       '대구광역시 달성군 다사읍', '대구광역시 중구 동산동', '대구광역시 서구 이현동', '대구광역시 남구 이천동',\n",
       "       '대구광역시 수성구 수성동4가', '대구광역시 북구 노원동3가', '대구광역시 북구 서변동',\n",
       "       '대구광역시 북구 관음동', '대구광역시 북구 학정동', '대구광역시 수성구 파동', '대구광역시 수성구 상동',\n",
       "       '대구광역시 달서구 이곡동', '대구광역시 동구 효목동', '대구광역시 북구 읍내동', '대구광역시 중구 남성로',\n",
       "       '대구광역시 달서구 죽전동', '대구광역시 남구 대명동', '대구광역시 북구 동천동', '대구광역시 동구 지저동',\n",
       "       '대구광역시 북구 사수동', '대구광역시 중구 덕산동', '대구광역시 달서구 본리동', '대구광역시 동구 용계동',\n",
       "       '대구광역시 수성구 범어동', '대구광역시 달서구 신당동', '대구광역시 달서구 성당동', '대구광역시 달서구 용산동',\n",
       "       '대구광역시 중구 태평로3가', '대구광역시 동구 도학동', '대구광역시 수성구 욱수동', '대구광역시 동구 불로동',\n",
       "       '대구광역시 북구 칠성동1가', '대구광역시 달서구 장기동', '대구광역시 수성구 매호동',\n",
       "       '대구광역시 달서구 대천동', '대구광역시 중구 삼덕동1가', '대구광역시 수성구 수성동2가',\n",
       "       '대구광역시 북구 팔달동', '대구광역시 수성구 삼덕동', '대구광역시 달서구 진천동',\n",
       "       '대구광역시 수성구 수성동3가', '대구광역시 달성군 가창면', '대구광역시 동구 방촌동', '대구광역시 북구 산격동',\n",
       "       '대구광역시 달서구 월암동', '대구광역시 달성군 현풍읍', '대구광역시 달성군 구지면', '대구광역시 북구 매천동',\n",
       "       '대구광역시 달서구 송현동', '대구광역시 북구 고성동3가', '대구광역시 남구 봉덕동',\n",
       "       '대구광역시 북구 칠성동2가', '대구광역시 중구 공평동', '대구광역시 중구 봉산동', '대구광역시 동구 괴전동',\n",
       "       '대구광역시 북구 국우동', '대구광역시 북구 대현동', '대구광역시 북구 노원동1가', '대구광역시 중구 대봉동',\n",
       "       '대구광역시 달서구 본동', '대구광역시 동구 신서동', '대구광역시 북구 검단동', '대구광역시 달성군 화원읍',\n",
       "       '대구광역시 북구 동호동', '대구광역시 수성구 이천동', '대구광역시 중구 삼덕동2가', '대구광역시 동구 입석동',\n",
       "       '대구광역시 수성구 중동', '대구광역시 중구 삼덕동3가', '대구광역시 달서구 파호동', '대구광역시 동구 동내동',\n",
       "       '대구광역시 달성군 하빈면', '대구광역시 동구 율암동', '대구광역시 중구 동인동1가', '대구광역시 서구 내당동',\n",
       "       '대구광역시 달서구 유천동', '대구광역시 달서구 호산동', '대구광역시 중구 교동', '대구광역시 달성군 옥포읍',\n",
       "       '대구광역시 서구 원대동3가', '대구광역시 동구 검사동', '대구광역시 중구 동인동4가',\n",
       "       '대구광역시 수성구 수성동1가', '대구광역시 동구 동호동', '대구광역시 북구 고성동2가',\n",
       "       '대구광역시 동구 각산동', '대구광역시 서구 중리동', '대구광역시 북구 고성동1가', '대구광역시 달서구 갈산동',\n",
       "       '대구광역시 동구 대림동', '대구광역시 달서구 호림동', '대구광역시 수성구 연호동', '대구광역시 북구 동변동',\n",
       "       '대구광역시 수성구 범물동', '대구광역시 중구 계산동2가', '대구광역시 중구 동문동', '대구광역시 수성구 고모동',\n",
       "       '대구광역시 북구 금호동', '대구광역시 달서구 장동', '대구광역시 달서구 도원동', '대구광역시 중구 수창동',\n",
       "       '대구광역시 중구 동인동2가', '대구광역시 수성구 가천동', '대구광역시 수성구 노변동', '대구광역시 중구 달성동',\n",
       "       '대구광역시 중구 동인동3가', '대구광역시 중구 서문로2가', '대구광역시 중구 동성로2가',\n",
       "       '대구광역시 동구 중대동', '대구광역시 수성구 사월동', '대구광역시 중구 장관동', '대구광역시 동구 신평동',\n",
       "       '대구광역시 동구 숙천동', '대구광역시 수성구 성동', '대구광역시 중구 동일동', '대구광역시 중구 시장북로',\n",
       "       '대구광역시 동구 서호동', '대구광역시 동구 용수동', '대구광역시 수성구 대흥동', '대구광역시 중구 동성로3가',\n",
       "       '대구광역시 북구 연경동', '대구광역시 서구 원대동1가', '대구광역시 중구 남일동', '대구광역시 동구 부동',\n",
       "       '대구광역시 동구 송정동', '대구광역시 동구 백안동', '대구광역시 동구 도동', '대구광역시 중구 인교동',\n",
       "       '대구광역시 동구 미대동', '대구광역시 북구 노원동2가', '대구광역시 중구 북성로1가', '대구광역시 북구 조야동',\n",
       "       '대구광역시 중구 태평로2가', '대구광역시 중구 포정동', '대구광역시 북구 노곡동', '대구광역시 동구 진인동',\n",
       "       '대구광역시 중구 서문로1가', '대구광역시 동구 덕곡동', '대구광역시 중구 문화동', '대구광역시 동구 상매동',\n",
       "       '대구광역시 동구 사복동', '대구광역시 중구 종로1가', '대구광역시 중구 계산동1가', '대구광역시 중구 상서동',\n",
       "       '대구광역시 중구 서성로1가', '대구광역시 서구 원대동2가', '대구광역시 중구 태평로1가',\n",
       "       '대구광역시 동구 미곡동', '대구광역시 중구 사일동', '대구광역시 동구 내동', '대구광역시 중구 전동',\n",
       "       '대구광역시 동구 둔산동', '대구광역시 동구 매여동', '대구광역시 중구 도원동', '대구광역시 중구 완전동',\n",
       "       '대구광역시 중구 북성로2가', '대구광역시 중구 하서동', '대구광역시 중구 화전동', '대구광역시 동구 능성동',\n",
       "       '대구광역시 중구 서성로2가', '대구광역시 동구 금강동', '대구광역시 중구 향촌동', '대구광역시 중구 수동',\n",
       "       '대구광역시 동구 신무동', '대구광역시 중구 대안동', '대구광역시 중구 종로2가', '대구광역시 중구 서야동',\n",
       "       '대구광역시 동구 신용동', '대구광역시 중구 동성로1가', '대구광역시 동구 평광동', '대구광역시 북구 도남동'],\n",
       "      dtype=object)"
      ]
     },
     "metadata": {},
     "output_type": "display_data"
    },
    {
     "data": {
      "text/plain": [
       "array(['대구광역시 수성구 상동', '대구광역시 수성구 지산동', '대구광역시 수성구 수성동2가',\n",
       "       '대구광역시 수성구 신매동', '대구광역시 달서구 감삼동', '대구광역시 중구 달성동', '대구광역시 동구 신암동',\n",
       "       '대구광역시 서구 평리동', '대구광역시 달서구 송현동', '대구광역시 달서구 두류동', '대구광역시 북구 매천동',\n",
       "       '대구광역시 달서구 상인동', '대구광역시 달서구 진천동', '대구광역시 중구 삼덕동1가', '대구광역시 중구 동문동',\n",
       "       '대구광역시 달서구 성당동', '대구광역시 북구 동천동', '대구광역시 북구 태전동', '대구광역시 남구 대명동',\n",
       "       '대구광역시 달서구 대곡동', '대구광역시 북구 복현동', '대구광역시 달서구 본리동', '대구광역시 수성구 범어동',\n",
       "       '대구광역시 수성구 황금동', '대구광역시 달서구 호산동', '대구광역시 중구 동인동1가', '대구광역시 남구 이천동',\n",
       "       '대구광역시 달성군 유가읍', '대구광역시 달서구 월암동', '대구광역시 북구 동호동', '대구광역시 달서구 죽전동',\n",
       "       '대구광역시 달서구 본동', '대구광역시 달서구 도원동', '대구광역시 달성군 다사읍', '대구광역시 달서구 용산동',\n",
       "       '대구광역시 달서구 유천동', '대구광역시 북구 산격동', '대구광역시 달서구 파호동', '대구광역시 동구 효목동',\n",
       "       '대구광역시 북구 고성동3가', '대구광역시 중구 남산동', '대구광역시 동구 지묘동', '대구광역시 달성군 하빈면',\n",
       "       '대구광역시 서구 내당동', '대구광역시 수성구 매호동', '대구광역시 북구 침산동', '대구광역시 동구 신천동',\n",
       "       '대구광역시 동구 방촌동', '대구광역시 수성구 두산동', '대구광역시 달성군 구지면', '대구광역시 달서구 대천동',\n",
       "       '대구광역시 달서구 월성동', '대구광역시 달성군 화원읍', '대구광역시 북구 고성동2가', '대구광역시 동구 율하동',\n",
       "       '대구광역시 동구 봉무동', '대구광역시 동구 미곡동', '대구광역시 수성구 만촌동', '대구광역시 달서구 신당동',\n",
       "       '대구광역시 북구 서변동', '대구광역시 남구 봉덕동', '대구광역시 북구 대현동', '대구광역시 서구 비산동',\n",
       "       '대구광역시 동구 불로동', '대구광역시 서구 중리동', '대구광역시 북구 팔달동', '대구광역시 중구 삼덕동2가',\n",
       "       '대구광역시 중구 서성로2가', '대구광역시 북구 칠성동1가', '대구광역시 수성구 연호동',\n",
       "       '대구광역시 달성군 현풍읍', '대구광역시 북구 관음동', '대구광역시 수성구 시지동', '대구광역시 수성구 범물동',\n",
       "       '대구광역시 중구 동인동4가', '대구광역시 중구 태평로3가', '대구광역시 달서구 이곡동',\n",
       "       '대구광역시 북구 구암동', '대구광역시 북구 국우동', '대구광역시 북구 노원동3가', '대구광역시 중구 대봉동',\n",
       "       '대구광역시 북구 조야동', '대구광역시 수성구 삼덕동', '대구광역시 달성군 논공읍', '대구광역시 중구 봉산동',\n",
       "       '대구광역시 달서구 장기동', '대구광역시 북구 동변동', '대구광역시 수성구 대흥동', '대구광역시 북구 읍내동',\n",
       "       '대구광역시 북구 금호동', '대구광역시 서구 이현동', '대구광역시 동구 백안동', '대구광역시 달서구 호림동',\n",
       "       '대구광역시 달서구 장동', '대구광역시 수성구 수성동4가', '대구광역시 동구 도동', '대구광역시 달성군 가창면',\n",
       "       '대구광역시 서구 원대동1가', '대구광역시 동구 서호동', '대구광역시 수성구 욱수동', '대구광역시 수성구 사월동',\n",
       "       '대구광역시 동구 동호동', '대구광역시 동구 지저동', '대구광역시 북구 칠성동2가', '대구광역시 중구 향촌동',\n",
       "       '대구광역시 서구 상리동', '대구광역시 동구 검사동', '대구광역시 수성구 성동', '대구광역시 수성구 노변동',\n",
       "       '대구광역시 동구 각산동', '대구광역시 수성구 수성동1가', '대구광역시 중구 동인동2가',\n",
       "       '대구광역시 중구 동성로3가', '대구광역시 동구 신기동', '대구광역시 서구 원대동3가',\n",
       "       '대구광역시 중구 동인동3가', '대구광역시 북구 사수동', '대구광역시 수성구 이천동', '대구광역시 중구 남일동',\n",
       "       '대구광역시 북구 노원동1가', '대구광역시 동구 용계동', '대구광역시 동구 입석동', '대구광역시 달성군 옥포읍',\n",
       "       '대구광역시 수성구 수성동3가', '대구광역시 중구 동성로2가', '대구광역시 중구 북성로1가',\n",
       "       '대구광역시 중구 계산동2가', '대구광역시 달서구 갈산동', '대구광역시 중구 수창동',\n",
       "       '대구광역시 중구 북성로2가', '대구광역시 중구 대신동', '대구광역시 수성구 파동', '대구광역시 중구 삼덕동3가',\n",
       "       '대구광역시 중구 교동', '대구광역시 중구 덕산동', '대구광역시 수성구 중동', '대구광역시 동구 송정동',\n",
       "       '대구광역시 동구 신서동', '대구광역시 북구 검단동', '대구광역시 수성구 가천동', '대구광역시 중구 공평동',\n",
       "       '대구광역시 중구 동산동', '대구광역시 동구 괴전동', '대구광역시 북구 노곡동', '대구광역시 북구 학정동',\n",
       "       '대구광역시 동구 신평동', '대구광역시 동구 도학동', '대구광역시 중구 전동', '대구광역시 동구 숙천동',\n",
       "       '대구광역시 북구 연경동', '대구광역시 북구 노원동2가', '대구광역시 중구 태평로2가',\n",
       "       '대구광역시 중구 태평로1가', '대구광역시 동구 미대동', '대구광역시 동구 율암동', '대구광역시 중구 문화동',\n",
       "       '대구광역시 동구 용수동', '대구광역시 중구 종로1가', '대구광역시 동구 중대동', '대구광역시 중구 서성로1가',\n",
       "       '대구광역시 동구 사복동', '대구광역시 동구 금강동', '대구광역시 수성구 고모동', '대구광역시 중구 인교동',\n",
       "       '대구광역시 중구 계산동1가', '대구광역시 중구 완전동', '대구광역시 중구 포정동', '대구광역시 동구 상매동',\n",
       "       '대구광역시 중구 서문로1가', '대구광역시 중구 종로2가', '대구광역시 중구 대안동', '대구광역시 동구 대림동',\n",
       "       '대구광역시 중구 상서동', '대구광역시 중구 시장북로', '대구광역시 동구 매여동', '대구광역시 중구 사일동',\n",
       "       '대구광역시 동구 진인동', '대구광역시 서구 원대동2가', '대구광역시 동구 부동', '대구광역시 중구 동일동',\n",
       "       '대구광역시 동구 평광동', '대구광역시 동구 덕곡동', '대구광역시 중구 수동', '대구광역시 동구 신용동',\n",
       "       '대구광역시 중구 남성로', '대구광역시 동구 동내동', '대구광역시 중구 하서동', '대구광역시 북구 고성동1가',\n",
       "       '대구광역시 동구 능성동', '대구광역시 중구 화전동', '대구광역시 중구 서문로2가', '대구광역시 중구 동성로1가'],\n",
       "      dtype=object)"
      ]
     },
     "metadata": {},
     "output_type": "display_data"
    }
   ],
   "source": [
    "display(train['시군구'].unique())\n",
    "display(test['시군구'].unique())"
   ]
  },
  {
   "cell_type": "code",
   "execution_count": 79,
   "metadata": {},
   "outputs": [
    {
     "data": {
      "text/plain": [
       "array(['단일로 - 기타', '교차로 - 교차로안', '기타 - 기타', '단일로 - 터널', '단일로 - 지하차도(도로)내',\n",
       "       '단일로 - 교량', '교차로 - 교차로횡단보도내', '주차장 - 주차장', '교차로 - 교차로부근',\n",
       "       '단일로 - 고가도로위', '미분류 - 미분류'], dtype=object)"
      ]
     },
     "metadata": {},
     "output_type": "display_data"
    },
    {
     "data": {
      "text/plain": [
       "array(['교차로 - 교차로안', '단일로 - 기타', '교차로 - 교차로횡단보도내', '교차로 - 교차로부근',\n",
       "       '단일로 - 지하차도(도로)내', '기타 - 기타', '단일로 - 교량', '단일로 - 고가도로위',\n",
       "       '주차장 - 주차장', '단일로 - 터널', '미분류 - 미분류'], dtype=object)"
      ]
     },
     "metadata": {},
     "output_type": "display_data"
    }
   ],
   "source": [
    "display(train['도로형태'].unique())\n",
    "display(test['도로형태'].unique())"
   ]
  },
  {
   "cell_type": "code",
   "execution_count": 80,
   "metadata": {},
   "outputs": [
    {
     "data": {
      "text/plain": [
       "array(['건조', '젖음/습기', '서리/결빙', '기타', '침수', '적설'], dtype=object)"
      ]
     },
     "metadata": {},
     "output_type": "display_data"
    },
    {
     "data": {
      "text/plain": [
       "array(['건조', '젖음/습기', '서리/결빙', '기타', '침수', '적설'], dtype=object)"
      ]
     },
     "metadata": {},
     "output_type": "display_data"
    }
   ],
   "source": [
    "display(train['노면상태'].unique())\n",
    "display(test['노면상태'].unique())"
   ]
  },
  {
   "cell_type": "code",
   "execution_count": 81,
   "metadata": {},
   "outputs": [
    {
     "data": {
      "text/plain": [
       "array(['차대사람', '차대차', '차량단독'], dtype=object)"
      ]
     },
     "metadata": {},
     "output_type": "display_data"
    },
    {
     "data": {
      "text/plain": [
       "array(['차대사람', '차대차', '차량단독'], dtype=object)"
      ]
     },
     "metadata": {},
     "output_type": "display_data"
    }
   ],
   "source": [
    "display(train['사고유형'].unique())\n",
    "display(test['사고유형'].unique())"
   ]
  },
  {
   "cell_type": "markdown",
   "metadata": {
    "id": "TOeUh7fcJoRk",
    "pbl_cell_type": "markdown",
    "step_id": 5168,
    "step_number": 2
   },
   "source": [
    "## **데이터 전처리**  \n",
    "\n",
    "현재 '사고일시', '시군구', '도로형태' 컬럼은 반복되는 패턴으로 여러 정보를 포함하고 있습니다\n",
    "이런 반복되는 패턴을 일반화하면 pandas에서 제공하는 str.extract를 통해 한 번에 추출 가능합니다  \n",
    "\n",
    "## **파생 변수 생성 1 : 날짜, 시간정보 생성**\n",
    "\n",
    "'사고일시' 컬럼으로 부터 연도, 월, 일, 시간 정보 추출 및 변환 합니다"
   ]
  },
  {
   "cell_type": "code",
   "execution_count": 82,
   "metadata": {
    "ExecuteTime": {
     "end_time": "2023-11-22T06:27:04.487631Z",
     "start_time": "2023-11-22T06:27:04.375641Z"
    },
    "id": "PGeKhkdKJoRk",
    "outputId": "104350a0-7c5f-4c8c-9d1d-6ca8d92b3e12"
   },
   "outputs": [
    {
     "data": {
      "text/html": [
       "<div>\n",
       "<style scoped>\n",
       "    .dataframe tbody tr th:only-of-type {\n",
       "        vertical-align: middle;\n",
       "    }\n",
       "\n",
       "    .dataframe tbody tr th {\n",
       "        vertical-align: top;\n",
       "    }\n",
       "\n",
       "    .dataframe thead th {\n",
       "        text-align: right;\n",
       "    }\n",
       "</style>\n",
       "<table border=\"1\" class=\"dataframe\">\n",
       "  <thead>\n",
       "    <tr style=\"text-align: right;\">\n",
       "      <th></th>\n",
       "      <th>ID</th>\n",
       "      <th>사고일시</th>\n",
       "      <th>요일</th>\n",
       "      <th>기상상태</th>\n",
       "      <th>시군구</th>\n",
       "      <th>도로형태</th>\n",
       "      <th>노면상태</th>\n",
       "      <th>사고유형</th>\n",
       "      <th>사고유형 - 세부분류</th>\n",
       "      <th>법규위반</th>\n",
       "      <th>...</th>\n",
       "      <th>가해운전자 상해정도</th>\n",
       "      <th>피해운전자 차종</th>\n",
       "      <th>피해운전자 성별</th>\n",
       "      <th>피해운전자 연령</th>\n",
       "      <th>피해운전자 상해정도</th>\n",
       "      <th>사망자수</th>\n",
       "      <th>중상자수</th>\n",
       "      <th>경상자수</th>\n",
       "      <th>부상자수</th>\n",
       "      <th>ECLO</th>\n",
       "    </tr>\n",
       "  </thead>\n",
       "  <tbody>\n",
       "    <tr>\n",
       "      <th>0</th>\n",
       "      <td>ACCIDENT_00000</td>\n",
       "      <td>2019-01-01 00</td>\n",
       "      <td>화요일</td>\n",
       "      <td>맑음</td>\n",
       "      <td>대구광역시 중구 대신동</td>\n",
       "      <td>단일로 - 기타</td>\n",
       "      <td>건조</td>\n",
       "      <td>차대사람</td>\n",
       "      <td>길가장자리구역통행중</td>\n",
       "      <td>안전운전불이행</td>\n",
       "      <td>...</td>\n",
       "      <td>상해없음</td>\n",
       "      <td>보행자</td>\n",
       "      <td>여</td>\n",
       "      <td>70세</td>\n",
       "      <td>중상</td>\n",
       "      <td>0</td>\n",
       "      <td>1</td>\n",
       "      <td>0</td>\n",
       "      <td>0</td>\n",
       "      <td>5</td>\n",
       "    </tr>\n",
       "    <tr>\n",
       "      <th>1</th>\n",
       "      <td>ACCIDENT_00001</td>\n",
       "      <td>2019-01-01 00</td>\n",
       "      <td>화요일</td>\n",
       "      <td>흐림</td>\n",
       "      <td>대구광역시 달서구 감삼동</td>\n",
       "      <td>단일로 - 기타</td>\n",
       "      <td>건조</td>\n",
       "      <td>차대사람</td>\n",
       "      <td>보도통행중</td>\n",
       "      <td>기타</td>\n",
       "      <td>...</td>\n",
       "      <td>상해없음</td>\n",
       "      <td>보행자</td>\n",
       "      <td>남</td>\n",
       "      <td>61세</td>\n",
       "      <td>경상</td>\n",
       "      <td>0</td>\n",
       "      <td>0</td>\n",
       "      <td>1</td>\n",
       "      <td>0</td>\n",
       "      <td>3</td>\n",
       "    </tr>\n",
       "    <tr>\n",
       "      <th>2</th>\n",
       "      <td>ACCIDENT_00002</td>\n",
       "      <td>2019-01-01 01</td>\n",
       "      <td>화요일</td>\n",
       "      <td>맑음</td>\n",
       "      <td>대구광역시 수성구 두산동</td>\n",
       "      <td>단일로 - 기타</td>\n",
       "      <td>건조</td>\n",
       "      <td>차대사람</td>\n",
       "      <td>차도통행중</td>\n",
       "      <td>안전운전불이행</td>\n",
       "      <td>...</td>\n",
       "      <td>상해없음</td>\n",
       "      <td>보행자</td>\n",
       "      <td>남</td>\n",
       "      <td>38세</td>\n",
       "      <td>경상</td>\n",
       "      <td>0</td>\n",
       "      <td>0</td>\n",
       "      <td>1</td>\n",
       "      <td>0</td>\n",
       "      <td>3</td>\n",
       "    </tr>\n",
       "    <tr>\n",
       "      <th>3</th>\n",
       "      <td>ACCIDENT_00003</td>\n",
       "      <td>2019-01-01 02</td>\n",
       "      <td>화요일</td>\n",
       "      <td>맑음</td>\n",
       "      <td>대구광역시 북구 복현동</td>\n",
       "      <td>단일로 - 기타</td>\n",
       "      <td>건조</td>\n",
       "      <td>차대차</td>\n",
       "      <td>추돌</td>\n",
       "      <td>안전운전불이행</td>\n",
       "      <td>...</td>\n",
       "      <td>상해없음</td>\n",
       "      <td>승용</td>\n",
       "      <td>남</td>\n",
       "      <td>36세</td>\n",
       "      <td>중상</td>\n",
       "      <td>0</td>\n",
       "      <td>1</td>\n",
       "      <td>0</td>\n",
       "      <td>0</td>\n",
       "      <td>5</td>\n",
       "    </tr>\n",
       "    <tr>\n",
       "      <th>4</th>\n",
       "      <td>ACCIDENT_00004</td>\n",
       "      <td>2019-01-01 04</td>\n",
       "      <td>화요일</td>\n",
       "      <td>맑음</td>\n",
       "      <td>대구광역시 동구 신암동</td>\n",
       "      <td>단일로 - 기타</td>\n",
       "      <td>건조</td>\n",
       "      <td>차대차</td>\n",
       "      <td>추돌</td>\n",
       "      <td>안전운전불이행</td>\n",
       "      <td>...</td>\n",
       "      <td>상해없음</td>\n",
       "      <td>승용</td>\n",
       "      <td>남</td>\n",
       "      <td>52세</td>\n",
       "      <td>경상</td>\n",
       "      <td>0</td>\n",
       "      <td>0</td>\n",
       "      <td>1</td>\n",
       "      <td>0</td>\n",
       "      <td>3</td>\n",
       "    </tr>\n",
       "  </tbody>\n",
       "</table>\n",
       "<p>5 rows × 23 columns</p>\n",
       "</div>"
      ],
      "text/plain": [
       "               ID           사고일시   요일 기상상태            시군구      도로형태 노면상태  \\\n",
       "0  ACCIDENT_00000  2019-01-01 00  화요일   맑음   대구광역시 중구 대신동  단일로 - 기타   건조   \n",
       "1  ACCIDENT_00001  2019-01-01 00  화요일   흐림  대구광역시 달서구 감삼동  단일로 - 기타   건조   \n",
       "2  ACCIDENT_00002  2019-01-01 01  화요일   맑음  대구광역시 수성구 두산동  단일로 - 기타   건조   \n",
       "3  ACCIDENT_00003  2019-01-01 02  화요일   맑음   대구광역시 북구 복현동  단일로 - 기타   건조   \n",
       "4  ACCIDENT_00004  2019-01-01 04  화요일   맑음   대구광역시 동구 신암동  단일로 - 기타   건조   \n",
       "\n",
       "   사고유형 사고유형 - 세부분류     법규위반  ... 가해운전자 상해정도 피해운전자 차종 피해운전자 성별 피해운전자 연령  \\\n",
       "0  차대사람  길가장자리구역통행중  안전운전불이행  ...       상해없음      보행자        여      70세   \n",
       "1  차대사람       보도통행중       기타  ...       상해없음      보행자        남      61세   \n",
       "2  차대사람       차도통행중  안전운전불이행  ...       상해없음      보행자        남      38세   \n",
       "3   차대차          추돌  안전운전불이행  ...       상해없음       승용        남      36세   \n",
       "4   차대차          추돌  안전운전불이행  ...       상해없음       승용        남      52세   \n",
       "\n",
       "  피해운전자 상해정도 사망자수 중상자수 경상자수  부상자수  ECLO  \n",
       "0         중상    0    1    0     0     5  \n",
       "1         경상    0    0    1     0     3  \n",
       "2         경상    0    0    1     0     3  \n",
       "3         중상    0    1    0     0     5  \n",
       "4         경상    0    0    1     0     3  \n",
       "\n",
       "[5 rows x 23 columns]"
      ]
     },
     "metadata": {},
     "output_type": "display_data"
    },
    {
     "data": {
      "text/html": [
       "<div>\n",
       "<style scoped>\n",
       "    .dataframe tbody tr th:only-of-type {\n",
       "        vertical-align: middle;\n",
       "    }\n",
       "\n",
       "    .dataframe tbody tr th {\n",
       "        vertical-align: top;\n",
       "    }\n",
       "\n",
       "    .dataframe thead th {\n",
       "        text-align: right;\n",
       "    }\n",
       "</style>\n",
       "<table border=\"1\" class=\"dataframe\">\n",
       "  <thead>\n",
       "    <tr style=\"text-align: right;\">\n",
       "      <th></th>\n",
       "      <th>ID</th>\n",
       "      <th>사고일시</th>\n",
       "      <th>요일</th>\n",
       "      <th>기상상태</th>\n",
       "      <th>시군구</th>\n",
       "      <th>도로형태</th>\n",
       "      <th>노면상태</th>\n",
       "      <th>사고유형</th>\n",
       "    </tr>\n",
       "  </thead>\n",
       "  <tbody>\n",
       "    <tr>\n",
       "      <th>10958</th>\n",
       "      <td>ACCIDENT_50567</td>\n",
       "      <td>2022-12-31 18</td>\n",
       "      <td>토요일</td>\n",
       "      <td>맑음</td>\n",
       "      <td>대구광역시 남구 대명동</td>\n",
       "      <td>단일로 - 터널</td>\n",
       "      <td>건조</td>\n",
       "      <td>차대차</td>\n",
       "    </tr>\n",
       "    <tr>\n",
       "      <th>10959</th>\n",
       "      <td>ACCIDENT_50568</td>\n",
       "      <td>2022-12-31 18</td>\n",
       "      <td>토요일</td>\n",
       "      <td>맑음</td>\n",
       "      <td>대구광역시 수성구 시지동</td>\n",
       "      <td>단일로 - 기타</td>\n",
       "      <td>건조</td>\n",
       "      <td>차대차</td>\n",
       "    </tr>\n",
       "    <tr>\n",
       "      <th>10960</th>\n",
       "      <td>ACCIDENT_50569</td>\n",
       "      <td>2022-12-31 20</td>\n",
       "      <td>토요일</td>\n",
       "      <td>맑음</td>\n",
       "      <td>대구광역시 수성구 연호동</td>\n",
       "      <td>단일로 - 기타</td>\n",
       "      <td>건조</td>\n",
       "      <td>차대차</td>\n",
       "    </tr>\n",
       "    <tr>\n",
       "      <th>10961</th>\n",
       "      <td>ACCIDENT_50570</td>\n",
       "      <td>2022-12-31 20</td>\n",
       "      <td>토요일</td>\n",
       "      <td>맑음</td>\n",
       "      <td>대구광역시 수성구 범물동</td>\n",
       "      <td>교차로 - 교차로부근</td>\n",
       "      <td>건조</td>\n",
       "      <td>차대차</td>\n",
       "    </tr>\n",
       "    <tr>\n",
       "      <th>10962</th>\n",
       "      <td>ACCIDENT_50571</td>\n",
       "      <td>2022-12-31 21</td>\n",
       "      <td>토요일</td>\n",
       "      <td>맑음</td>\n",
       "      <td>대구광역시 동구 효목동</td>\n",
       "      <td>교차로 - 교차로부근</td>\n",
       "      <td>건조</td>\n",
       "      <td>차대차</td>\n",
       "    </tr>\n",
       "  </tbody>\n",
       "</table>\n",
       "</div>"
      ],
      "text/plain": [
       "                   ID           사고일시   요일 기상상태            시군구         도로형태  \\\n",
       "10958  ACCIDENT_50567  2022-12-31 18  토요일   맑음   대구광역시 남구 대명동     단일로 - 터널   \n",
       "10959  ACCIDENT_50568  2022-12-31 18  토요일   맑음  대구광역시 수성구 시지동     단일로 - 기타   \n",
       "10960  ACCIDENT_50569  2022-12-31 20  토요일   맑음  대구광역시 수성구 연호동     단일로 - 기타   \n",
       "10961  ACCIDENT_50570  2022-12-31 20  토요일   맑음  대구광역시 수성구 범물동  교차로 - 교차로부근   \n",
       "10962  ACCIDENT_50571  2022-12-31 21  토요일   맑음   대구광역시 동구 효목동  교차로 - 교차로부근   \n",
       "\n",
       "      노면상태 사고유형  \n",
       "10958   건조  차대차  \n",
       "10959   건조  차대차  \n",
       "10960   건조  차대차  \n",
       "10961   건조  차대차  \n",
       "10962   건조  차대차  "
      ]
     },
     "metadata": {},
     "output_type": "display_data"
    }
   ],
   "source": [
    "import pandas as pd\n",
    "from datetime import datetime\n",
    "\n",
    "train = pd.read_csv('./open/train.csv',encoding = \"utf-8\", low_memory=False)\n",
    "test = pd.read_csv('./open/test.csv', encoding = \"utf-8\", low_memory=False)\n",
    "\n",
    "display(train.head())\n",
    "display(test.tail())"
   ]
  },
  {
   "cell_type": "code",
   "execution_count": 83,
   "metadata": {
    "ExecuteTime": {
     "end_time": "2023-11-22T06:27:04.676497Z",
     "start_time": "2023-11-22T06:27:04.488920Z"
    },
    "id": "_woJ1MBbJoRk",
    "outputId": "d1396310-f894-466f-f629-3e6affbd53bf",
    "pbl_cell_type": "code",
    "step_id": 5168,
    "step_number": 2
   },
   "outputs": [
    {
     "data": {
      "text/plain": [
       "\"columns of train_df : Index(['ID', '요일', '기상상태', '시군구', '도로형태', '노면상태', '사고유형', '사고유형 - 세부분류',\\n       '법규위반', '가해운전자 차종', '가해운전자 성별', '가해운전자 연령', '가해운전자 상해정도', '피해운전자 차종',\\n       '피해운전자 성별', '피해운전자 연령', '피해운전자 상해정도', '사망자수', '중상자수', '경상자수', '부상자수',\\n       'ECLO', '연', '월', '일', '시간'],\\n      dtype='object')\""
      ]
     },
     "metadata": {},
     "output_type": "display_data"
    },
    {
     "data": {
      "text/plain": [
       "\"columns of test_df : Index(['ID', '요일', '기상상태', '시군구', '도로형태', '노면상태', '사고유형', '연', '월', '일', '시간'], dtype='object')\""
      ]
     },
     "metadata": {},
     "output_type": "display_data"
    }
   ],
   "source": [
    "train_df = train.copy()\n",
    "test_df = test.copy()\n",
    "\n",
    "time_pattern = r'(\\d{4})-(\\d{1,2})-(\\d{1,2}) (\\d{1,2})'\n",
    "\n",
    "train_df[['연', '월', '일', '시간']] = train['사고일시'].str.extract(time_pattern)\n",
    "train_df[['연', '월', '일', '시간']] = train_df[['연', '월', '일', '시간']].apply(pd.to_numeric) # 추출된 문자열을 수치화해줍니다\n",
    "train_df = train_df.drop(columns=['사고일시']) # 정보 추출이 완료된 '사고일시' 컬럼은 제거합니다\n",
    "\n",
    "# 해당 과정을 test_x에 대해서도 반복해줍니다\n",
    "test_df[['연', '월', '일', '시간']] = test['사고일시'].str.extract(time_pattern)\n",
    "test_df[['연', '월', '일', '시간']] = test_df[['연', '월', '일', '시간']].apply(pd.to_numeric)\n",
    "test_df = test_df.drop(columns=['사고일시'])\n",
    "\n",
    "display(f\"columns of train_df : {train_df.columns}\")\n",
    "display(f\"columns of test_df : {test_df.columns}\")"
   ]
  },
  {
   "cell_type": "markdown",
   "metadata": {
    "id": "DAUjtZeCJoRl",
    "pbl_cell_type": "markdown",
    "step_id": 5169,
    "step_number": 3
   },
   "source": [
    "## **파생 변수 생성 2 : 공간(위치) 정보 생성**\n",
    "\n",
    "'시군구' 컬럼으로부터 의미 있는 공산 정보를 추출 및 변환 합니다"
   ]
  },
  {
   "cell_type": "code",
   "execution_count": 84,
   "metadata": {
    "ExecuteTime": {
     "end_time": "2023-11-22T06:27:04.741239Z",
     "start_time": "2023-11-22T06:27:04.677344Z"
    },
    "id": "EW2G7DuZJoRl",
    "outputId": "d89c739a-03ae-4f40-f211-ec98c345003d",
    "pbl_cell_type": "code",
    "step_id": 5169,
    "step_number": 3
   },
   "outputs": [
    {
     "data": {
      "text/plain": [
       "\"columns of train_df : Index(['ID', '요일', '기상상태', '도로형태', '노면상태', '사고유형', '사고유형 - 세부분류', '법규위반',\\n       '가해운전자 차종', '가해운전자 성별', '가해운전자 연령', '가해운전자 상해정도', '피해운전자 차종',\\n       '피해운전자 성별', '피해운전자 연령', '피해운전자 상해정도', '사망자수', '중상자수', '경상자수', '부상자수',\\n       'ECLO', '연', '월', '일', '시간', '도시', '구', '동'],\\n      dtype='object')\""
      ]
     },
     "metadata": {},
     "output_type": "display_data"
    },
    {
     "data": {
      "text/plain": [
       "\"columns of test_df : Index(['ID', '요일', '기상상태', '도로형태', '노면상태', '사고유형', '연', '월', '일', '시간', '도시',\\n       '구', '동'],\\n      dtype='object')\""
      ]
     },
     "metadata": {},
     "output_type": "display_data"
    }
   ],
   "source": [
    "location_pattern = r'(\\S+) (\\S+) (\\S+)'\n",
    "\n",
    "train_df[['도시', '구', '동']] = train['시군구'].str.extract(location_pattern)\n",
    "train_df = train_df.drop(columns=['시군구'])\n",
    "\n",
    "test_df[['도시', '구', '동']] = test['시군구'].str.extract(location_pattern)\n",
    "test_df = test_df.drop(columns=['시군구'])\n",
    "\n",
    "display(f\"columns of train_df : {train_df.columns}\")\n",
    "display(f\"columns of test_df : {test_df.columns}\")"
   ]
  },
  {
   "cell_type": "markdown",
   "metadata": {
    "id": "w2eqjFtJJoRl",
    "pbl_cell_type": "markdown",
    "step_id": 5170,
    "step_number": 4
   },
   "source": [
    "## **파생 변수 추출 3 : 도로 형태 정보 추출**  \n",
    "\n",
    "'도로형태' 컬럼은 '단일로 - 기타'와 같은 패턴으로 구성되어 있습니다. 이를 두종류의 독립된 정보로 보고 두개의 컬럼으로 분리하여 생성합니다."
   ]
  },
  {
   "cell_type": "code",
   "execution_count": 85,
   "metadata": {
    "ExecuteTime": {
     "end_time": "2023-11-22T06:27:04.832178Z",
     "start_time": "2023-11-22T06:27:04.742178Z"
    },
    "id": "worronJqJoRl",
    "outputId": "6d006717-80ca-4828-bf14-aa4da1faf322",
    "pbl_cell_type": "code",
    "step_id": 5170,
    "step_number": 4
   },
   "outputs": [
    {
     "data": {
      "text/plain": [
       "\"columns of train_df : Index(['ID', '요일', '기상상태', '노면상태', '사고유형', '사고유형 - 세부분류', '법규위반', '가해운전자 차종',\\n       '가해운전자 성별', '가해운전자 연령', '가해운전자 상해정도', '피해운전자 차종', '피해운전자 성별',\\n       '피해운전자 연령', '피해운전자 상해정도', '사망자수', '중상자수', '경상자수', '부상자수', 'ECLO', '연',\\n       '월', '일', '시간', '도시', '구', '동', '도로형태1', '도로형태2'],\\n      dtype='object')\""
      ]
     },
     "metadata": {},
     "output_type": "display_data"
    },
    {
     "data": {
      "text/plain": [
       "\"columns of test_df : Index(['ID', '요일', '기상상태', '노면상태', '사고유형', '연', '월', '일', '시간', '도시', '구', '동',\\n       '도로형태1', '도로형태2'],\\n      dtype='object')\""
      ]
     },
     "metadata": {},
     "output_type": "display_data"
    }
   ],
   "source": [
    "road_pattern = r'(.+) - (.+)'\n",
    "\n",
    "train_df[['도로형태1', '도로형태2']] = train['도로형태'].str.extract(road_pattern)\n",
    "train_df = train_df.drop(columns=['도로형태'])\n",
    "\n",
    "test_df[['도로형태1', '도로형태2']] = test['도로형태'].str.extract(road_pattern)\n",
    "test_df = test_df.drop(columns=['도로형태'])\n",
    "\n",
    "display(f\"columns of train_df : {train_df.columns}\")\n",
    "display(f\"columns of test_df : {test_df.columns}\")"
   ]
  },
  {
   "cell_type": "markdown",
   "metadata": {
    "id": "Um8Y2i3uJoRl"
   },
   "source": [
    "## train, test 컬럼 수 맞추기\n",
    "\n",
    "test에 있는 컬럼들만 사용하여 train 데이터를 구성했습니다."
   ]
  },
  {
   "cell_type": "code",
   "execution_count": 86,
   "metadata": {
    "ExecuteTime": {
     "end_time": "2023-11-22T06:27:04.846304Z",
     "start_time": "2023-11-22T06:27:04.833038Z"
    },
    "id": "7C4sfAN4JoRl",
    "outputId": "17c80b0b-cc0f-4e56-a193-7d316fcbfe0a"
   },
   "outputs": [
    {
     "data": {
      "text/html": [
       "<div>\n",
       "<style scoped>\n",
       "    .dataframe tbody tr th:only-of-type {\n",
       "        vertical-align: middle;\n",
       "    }\n",
       "\n",
       "    .dataframe tbody tr th {\n",
       "        vertical-align: top;\n",
       "    }\n",
       "\n",
       "    .dataframe thead th {\n",
       "        text-align: right;\n",
       "    }\n",
       "</style>\n",
       "<table border=\"1\" class=\"dataframe\">\n",
       "  <thead>\n",
       "    <tr style=\"text-align: right;\">\n",
       "      <th></th>\n",
       "      <th>ID</th>\n",
       "      <th>요일</th>\n",
       "      <th>기상상태</th>\n",
       "      <th>노면상태</th>\n",
       "      <th>사고유형</th>\n",
       "      <th>연</th>\n",
       "      <th>월</th>\n",
       "      <th>일</th>\n",
       "      <th>시간</th>\n",
       "      <th>도시</th>\n",
       "      <th>구</th>\n",
       "      <th>동</th>\n",
       "      <th>도로형태1</th>\n",
       "      <th>도로형태2</th>\n",
       "    </tr>\n",
       "  </thead>\n",
       "  <tbody>\n",
       "    <tr>\n",
       "      <th>0</th>\n",
       "      <td>ACCIDENT_00000</td>\n",
       "      <td>화요일</td>\n",
       "      <td>맑음</td>\n",
       "      <td>건조</td>\n",
       "      <td>차대사람</td>\n",
       "      <td>2019</td>\n",
       "      <td>1</td>\n",
       "      <td>1</td>\n",
       "      <td>0</td>\n",
       "      <td>대구광역시</td>\n",
       "      <td>중구</td>\n",
       "      <td>대신동</td>\n",
       "      <td>단일로</td>\n",
       "      <td>기타</td>\n",
       "    </tr>\n",
       "    <tr>\n",
       "      <th>1</th>\n",
       "      <td>ACCIDENT_00001</td>\n",
       "      <td>화요일</td>\n",
       "      <td>흐림</td>\n",
       "      <td>건조</td>\n",
       "      <td>차대사람</td>\n",
       "      <td>2019</td>\n",
       "      <td>1</td>\n",
       "      <td>1</td>\n",
       "      <td>0</td>\n",
       "      <td>대구광역시</td>\n",
       "      <td>달서구</td>\n",
       "      <td>감삼동</td>\n",
       "      <td>단일로</td>\n",
       "      <td>기타</td>\n",
       "    </tr>\n",
       "    <tr>\n",
       "      <th>2</th>\n",
       "      <td>ACCIDENT_00002</td>\n",
       "      <td>화요일</td>\n",
       "      <td>맑음</td>\n",
       "      <td>건조</td>\n",
       "      <td>차대사람</td>\n",
       "      <td>2019</td>\n",
       "      <td>1</td>\n",
       "      <td>1</td>\n",
       "      <td>1</td>\n",
       "      <td>대구광역시</td>\n",
       "      <td>수성구</td>\n",
       "      <td>두산동</td>\n",
       "      <td>단일로</td>\n",
       "      <td>기타</td>\n",
       "    </tr>\n",
       "    <tr>\n",
       "      <th>3</th>\n",
       "      <td>ACCIDENT_00003</td>\n",
       "      <td>화요일</td>\n",
       "      <td>맑음</td>\n",
       "      <td>건조</td>\n",
       "      <td>차대차</td>\n",
       "      <td>2019</td>\n",
       "      <td>1</td>\n",
       "      <td>1</td>\n",
       "      <td>2</td>\n",
       "      <td>대구광역시</td>\n",
       "      <td>북구</td>\n",
       "      <td>복현동</td>\n",
       "      <td>단일로</td>\n",
       "      <td>기타</td>\n",
       "    </tr>\n",
       "    <tr>\n",
       "      <th>4</th>\n",
       "      <td>ACCIDENT_00004</td>\n",
       "      <td>화요일</td>\n",
       "      <td>맑음</td>\n",
       "      <td>건조</td>\n",
       "      <td>차대차</td>\n",
       "      <td>2019</td>\n",
       "      <td>1</td>\n",
       "      <td>1</td>\n",
       "      <td>4</td>\n",
       "      <td>대구광역시</td>\n",
       "      <td>동구</td>\n",
       "      <td>신암동</td>\n",
       "      <td>단일로</td>\n",
       "      <td>기타</td>\n",
       "    </tr>\n",
       "    <tr>\n",
       "      <th>...</th>\n",
       "      <td>...</td>\n",
       "      <td>...</td>\n",
       "      <td>...</td>\n",
       "      <td>...</td>\n",
       "      <td>...</td>\n",
       "      <td>...</td>\n",
       "      <td>...</td>\n",
       "      <td>...</td>\n",
       "      <td>...</td>\n",
       "      <td>...</td>\n",
       "      <td>...</td>\n",
       "      <td>...</td>\n",
       "      <td>...</td>\n",
       "      <td>...</td>\n",
       "    </tr>\n",
       "    <tr>\n",
       "      <th>39604</th>\n",
       "      <td>ACCIDENT_39604</td>\n",
       "      <td>금요일</td>\n",
       "      <td>맑음</td>\n",
       "      <td>건조</td>\n",
       "      <td>차대차</td>\n",
       "      <td>2021</td>\n",
       "      <td>12</td>\n",
       "      <td>31</td>\n",
       "      <td>19</td>\n",
       "      <td>대구광역시</td>\n",
       "      <td>수성구</td>\n",
       "      <td>수성동3가</td>\n",
       "      <td>교차로</td>\n",
       "      <td>교차로안</td>\n",
       "    </tr>\n",
       "    <tr>\n",
       "      <th>39605</th>\n",
       "      <td>ACCIDENT_39605</td>\n",
       "      <td>금요일</td>\n",
       "      <td>맑음</td>\n",
       "      <td>건조</td>\n",
       "      <td>차대차</td>\n",
       "      <td>2021</td>\n",
       "      <td>12</td>\n",
       "      <td>31</td>\n",
       "      <td>19</td>\n",
       "      <td>대구광역시</td>\n",
       "      <td>달서구</td>\n",
       "      <td>상인동</td>\n",
       "      <td>단일로</td>\n",
       "      <td>기타</td>\n",
       "    </tr>\n",
       "    <tr>\n",
       "      <th>39606</th>\n",
       "      <td>ACCIDENT_39606</td>\n",
       "      <td>금요일</td>\n",
       "      <td>맑음</td>\n",
       "      <td>건조</td>\n",
       "      <td>차대차</td>\n",
       "      <td>2021</td>\n",
       "      <td>12</td>\n",
       "      <td>31</td>\n",
       "      <td>21</td>\n",
       "      <td>대구광역시</td>\n",
       "      <td>달서구</td>\n",
       "      <td>월성동</td>\n",
       "      <td>교차로</td>\n",
       "      <td>교차로안</td>\n",
       "    </tr>\n",
       "    <tr>\n",
       "      <th>39607</th>\n",
       "      <td>ACCIDENT_39607</td>\n",
       "      <td>금요일</td>\n",
       "      <td>맑음</td>\n",
       "      <td>건조</td>\n",
       "      <td>차대차</td>\n",
       "      <td>2021</td>\n",
       "      <td>12</td>\n",
       "      <td>31</td>\n",
       "      <td>22</td>\n",
       "      <td>대구광역시</td>\n",
       "      <td>달서구</td>\n",
       "      <td>장동</td>\n",
       "      <td>기타</td>\n",
       "      <td>기타</td>\n",
       "    </tr>\n",
       "    <tr>\n",
       "      <th>39608</th>\n",
       "      <td>ACCIDENT_39608</td>\n",
       "      <td>금요일</td>\n",
       "      <td>맑음</td>\n",
       "      <td>건조</td>\n",
       "      <td>차대차</td>\n",
       "      <td>2021</td>\n",
       "      <td>12</td>\n",
       "      <td>31</td>\n",
       "      <td>23</td>\n",
       "      <td>대구광역시</td>\n",
       "      <td>서구</td>\n",
       "      <td>비산동</td>\n",
       "      <td>단일로</td>\n",
       "      <td>지하차도(도로)내</td>\n",
       "    </tr>\n",
       "  </tbody>\n",
       "</table>\n",
       "<p>39609 rows × 14 columns</p>\n",
       "</div>"
      ],
      "text/plain": [
       "                   ID   요일 기상상태 노면상태  사고유형     연   월   일  시간     도시    구  \\\n",
       "0      ACCIDENT_00000  화요일   맑음   건조  차대사람  2019   1   1   0  대구광역시   중구   \n",
       "1      ACCIDENT_00001  화요일   흐림   건조  차대사람  2019   1   1   0  대구광역시  달서구   \n",
       "2      ACCIDENT_00002  화요일   맑음   건조  차대사람  2019   1   1   1  대구광역시  수성구   \n",
       "3      ACCIDENT_00003  화요일   맑음   건조   차대차  2019   1   1   2  대구광역시   북구   \n",
       "4      ACCIDENT_00004  화요일   맑음   건조   차대차  2019   1   1   4  대구광역시   동구   \n",
       "...               ...  ...  ...  ...   ...   ...  ..  ..  ..    ...  ...   \n",
       "39604  ACCIDENT_39604  금요일   맑음   건조   차대차  2021  12  31  19  대구광역시  수성구   \n",
       "39605  ACCIDENT_39605  금요일   맑음   건조   차대차  2021  12  31  19  대구광역시  달서구   \n",
       "39606  ACCIDENT_39606  금요일   맑음   건조   차대차  2021  12  31  21  대구광역시  달서구   \n",
       "39607  ACCIDENT_39607  금요일   맑음   건조   차대차  2021  12  31  22  대구광역시  달서구   \n",
       "39608  ACCIDENT_39608  금요일   맑음   건조   차대차  2021  12  31  23  대구광역시   서구   \n",
       "\n",
       "           동 도로형태1      도로형태2  \n",
       "0        대신동   단일로         기타  \n",
       "1        감삼동   단일로         기타  \n",
       "2        두산동   단일로         기타  \n",
       "3        복현동   단일로         기타  \n",
       "4        신암동   단일로         기타  \n",
       "...      ...   ...        ...  \n",
       "39604  수성동3가   교차로       교차로안  \n",
       "39605    상인동   단일로         기타  \n",
       "39606    월성동   교차로       교차로안  \n",
       "39607     장동    기타         기타  \n",
       "39608    비산동   단일로  지하차도(도로)내  \n",
       "\n",
       "[39609 rows x 14 columns]"
      ]
     },
     "execution_count": 86,
     "metadata": {},
     "output_type": "execute_result"
    }
   ],
   "source": [
    "train_df= train_df[['ID','요일','기상상태','노면상태', '사고유형', '연', '월', '일', '시간', '도시', '구','동', '도로형태1', '도로형태2']]\n",
    "train_df"
   ]
  },
  {
   "cell_type": "markdown",
   "metadata": {
    "id": "t-m18OgNJoRm",
    "pbl_cell_type": "markdown",
    "step_id": 5171,
    "step_number": 5
   },
   "source": [
    "## **전처리 결과 확인**\n",
    "\n",
    "지금까지 전처리한 결과를 확인해 봅시다"
   ]
  },
  {
   "cell_type": "code",
   "execution_count": 87,
   "metadata": {
    "ExecuteTime": {
     "end_time": "2023-11-22T06:27:04.856882Z",
     "start_time": "2023-11-22T06:27:04.846972Z"
    },
    "id": "REMMuAFfJoRm",
    "outputId": "0f3f1f98-a6e2-4ef8-c784-9f3355d736e7",
    "pbl_cell_type": "code",
    "scrolled": true,
    "step_id": 5171,
    "step_number": 5
   },
   "outputs": [
    {
     "data": {
      "text/html": [
       "<div>\n",
       "<style scoped>\n",
       "    .dataframe tbody tr th:only-of-type {\n",
       "        vertical-align: middle;\n",
       "    }\n",
       "\n",
       "    .dataframe tbody tr th {\n",
       "        vertical-align: top;\n",
       "    }\n",
       "\n",
       "    .dataframe thead th {\n",
       "        text-align: right;\n",
       "    }\n",
       "</style>\n",
       "<table border=\"1\" class=\"dataframe\">\n",
       "  <thead>\n",
       "    <tr style=\"text-align: right;\">\n",
       "      <th></th>\n",
       "      <th>ID</th>\n",
       "      <th>요일</th>\n",
       "      <th>기상상태</th>\n",
       "      <th>노면상태</th>\n",
       "      <th>사고유형</th>\n",
       "      <th>연</th>\n",
       "      <th>월</th>\n",
       "      <th>일</th>\n",
       "      <th>시간</th>\n",
       "      <th>도시</th>\n",
       "      <th>구</th>\n",
       "      <th>동</th>\n",
       "      <th>도로형태1</th>\n",
       "      <th>도로형태2</th>\n",
       "    </tr>\n",
       "  </thead>\n",
       "  <tbody>\n",
       "    <tr>\n",
       "      <th>0</th>\n",
       "      <td>ACCIDENT_00000</td>\n",
       "      <td>화요일</td>\n",
       "      <td>맑음</td>\n",
       "      <td>건조</td>\n",
       "      <td>차대사람</td>\n",
       "      <td>2019</td>\n",
       "      <td>1</td>\n",
       "      <td>1</td>\n",
       "      <td>0</td>\n",
       "      <td>대구광역시</td>\n",
       "      <td>중구</td>\n",
       "      <td>대신동</td>\n",
       "      <td>단일로</td>\n",
       "      <td>기타</td>\n",
       "    </tr>\n",
       "    <tr>\n",
       "      <th>1</th>\n",
       "      <td>ACCIDENT_00001</td>\n",
       "      <td>화요일</td>\n",
       "      <td>흐림</td>\n",
       "      <td>건조</td>\n",
       "      <td>차대사람</td>\n",
       "      <td>2019</td>\n",
       "      <td>1</td>\n",
       "      <td>1</td>\n",
       "      <td>0</td>\n",
       "      <td>대구광역시</td>\n",
       "      <td>달서구</td>\n",
       "      <td>감삼동</td>\n",
       "      <td>단일로</td>\n",
       "      <td>기타</td>\n",
       "    </tr>\n",
       "    <tr>\n",
       "      <th>2</th>\n",
       "      <td>ACCIDENT_00002</td>\n",
       "      <td>화요일</td>\n",
       "      <td>맑음</td>\n",
       "      <td>건조</td>\n",
       "      <td>차대사람</td>\n",
       "      <td>2019</td>\n",
       "      <td>1</td>\n",
       "      <td>1</td>\n",
       "      <td>1</td>\n",
       "      <td>대구광역시</td>\n",
       "      <td>수성구</td>\n",
       "      <td>두산동</td>\n",
       "      <td>단일로</td>\n",
       "      <td>기타</td>\n",
       "    </tr>\n",
       "    <tr>\n",
       "      <th>3</th>\n",
       "      <td>ACCIDENT_00003</td>\n",
       "      <td>화요일</td>\n",
       "      <td>맑음</td>\n",
       "      <td>건조</td>\n",
       "      <td>차대차</td>\n",
       "      <td>2019</td>\n",
       "      <td>1</td>\n",
       "      <td>1</td>\n",
       "      <td>2</td>\n",
       "      <td>대구광역시</td>\n",
       "      <td>북구</td>\n",
       "      <td>복현동</td>\n",
       "      <td>단일로</td>\n",
       "      <td>기타</td>\n",
       "    </tr>\n",
       "    <tr>\n",
       "      <th>4</th>\n",
       "      <td>ACCIDENT_00004</td>\n",
       "      <td>화요일</td>\n",
       "      <td>맑음</td>\n",
       "      <td>건조</td>\n",
       "      <td>차대차</td>\n",
       "      <td>2019</td>\n",
       "      <td>1</td>\n",
       "      <td>1</td>\n",
       "      <td>4</td>\n",
       "      <td>대구광역시</td>\n",
       "      <td>동구</td>\n",
       "      <td>신암동</td>\n",
       "      <td>단일로</td>\n",
       "      <td>기타</td>\n",
       "    </tr>\n",
       "  </tbody>\n",
       "</table>\n",
       "</div>"
      ],
      "text/plain": [
       "               ID   요일 기상상태 노면상태  사고유형     연  월  일  시간     도시    구    동 도로형태1  \\\n",
       "0  ACCIDENT_00000  화요일   맑음   건조  차대사람  2019  1  1   0  대구광역시   중구  대신동   단일로   \n",
       "1  ACCIDENT_00001  화요일   흐림   건조  차대사람  2019  1  1   0  대구광역시  달서구  감삼동   단일로   \n",
       "2  ACCIDENT_00002  화요일   맑음   건조  차대사람  2019  1  1   1  대구광역시  수성구  두산동   단일로   \n",
       "3  ACCIDENT_00003  화요일   맑음   건조   차대차  2019  1  1   2  대구광역시   북구  복현동   단일로   \n",
       "4  ACCIDENT_00004  화요일   맑음   건조   차대차  2019  1  1   4  대구광역시   동구  신암동   단일로   \n",
       "\n",
       "  도로형태2  \n",
       "0    기타  \n",
       "1    기타  \n",
       "2    기타  \n",
       "3    기타  \n",
       "4    기타  "
      ]
     },
     "metadata": {},
     "output_type": "display_data"
    },
    {
     "data": {
      "text/html": [
       "<div>\n",
       "<style scoped>\n",
       "    .dataframe tbody tr th:only-of-type {\n",
       "        vertical-align: middle;\n",
       "    }\n",
       "\n",
       "    .dataframe tbody tr th {\n",
       "        vertical-align: top;\n",
       "    }\n",
       "\n",
       "    .dataframe thead th {\n",
       "        text-align: right;\n",
       "    }\n",
       "</style>\n",
       "<table border=\"1\" class=\"dataframe\">\n",
       "  <thead>\n",
       "    <tr style=\"text-align: right;\">\n",
       "      <th></th>\n",
       "      <th>ID</th>\n",
       "      <th>요일</th>\n",
       "      <th>기상상태</th>\n",
       "      <th>노면상태</th>\n",
       "      <th>사고유형</th>\n",
       "      <th>연</th>\n",
       "      <th>월</th>\n",
       "      <th>일</th>\n",
       "      <th>시간</th>\n",
       "      <th>도시</th>\n",
       "      <th>구</th>\n",
       "      <th>동</th>\n",
       "      <th>도로형태1</th>\n",
       "      <th>도로형태2</th>\n",
       "    </tr>\n",
       "  </thead>\n",
       "  <tbody>\n",
       "    <tr>\n",
       "      <th>0</th>\n",
       "      <td>ACCIDENT_39609</td>\n",
       "      <td>토요일</td>\n",
       "      <td>맑음</td>\n",
       "      <td>건조</td>\n",
       "      <td>차대사람</td>\n",
       "      <td>2022</td>\n",
       "      <td>1</td>\n",
       "      <td>1</td>\n",
       "      <td>1</td>\n",
       "      <td>대구광역시</td>\n",
       "      <td>수성구</td>\n",
       "      <td>상동</td>\n",
       "      <td>교차로</td>\n",
       "      <td>교차로안</td>\n",
       "    </tr>\n",
       "    <tr>\n",
       "      <th>1</th>\n",
       "      <td>ACCIDENT_39610</td>\n",
       "      <td>토요일</td>\n",
       "      <td>맑음</td>\n",
       "      <td>건조</td>\n",
       "      <td>차대사람</td>\n",
       "      <td>2022</td>\n",
       "      <td>1</td>\n",
       "      <td>1</td>\n",
       "      <td>1</td>\n",
       "      <td>대구광역시</td>\n",
       "      <td>수성구</td>\n",
       "      <td>지산동</td>\n",
       "      <td>단일로</td>\n",
       "      <td>기타</td>\n",
       "    </tr>\n",
       "    <tr>\n",
       "      <th>2</th>\n",
       "      <td>ACCIDENT_39611</td>\n",
       "      <td>토요일</td>\n",
       "      <td>맑음</td>\n",
       "      <td>건조</td>\n",
       "      <td>차대차</td>\n",
       "      <td>2022</td>\n",
       "      <td>1</td>\n",
       "      <td>1</td>\n",
       "      <td>4</td>\n",
       "      <td>대구광역시</td>\n",
       "      <td>수성구</td>\n",
       "      <td>수성동2가</td>\n",
       "      <td>교차로</td>\n",
       "      <td>교차로안</td>\n",
       "    </tr>\n",
       "    <tr>\n",
       "      <th>3</th>\n",
       "      <td>ACCIDENT_39612</td>\n",
       "      <td>토요일</td>\n",
       "      <td>맑음</td>\n",
       "      <td>건조</td>\n",
       "      <td>차대차</td>\n",
       "      <td>2022</td>\n",
       "      <td>1</td>\n",
       "      <td>1</td>\n",
       "      <td>4</td>\n",
       "      <td>대구광역시</td>\n",
       "      <td>수성구</td>\n",
       "      <td>신매동</td>\n",
       "      <td>단일로</td>\n",
       "      <td>기타</td>\n",
       "    </tr>\n",
       "    <tr>\n",
       "      <th>4</th>\n",
       "      <td>ACCIDENT_39613</td>\n",
       "      <td>토요일</td>\n",
       "      <td>맑음</td>\n",
       "      <td>건조</td>\n",
       "      <td>차대차</td>\n",
       "      <td>2022</td>\n",
       "      <td>1</td>\n",
       "      <td>1</td>\n",
       "      <td>6</td>\n",
       "      <td>대구광역시</td>\n",
       "      <td>달서구</td>\n",
       "      <td>감삼동</td>\n",
       "      <td>교차로</td>\n",
       "      <td>교차로안</td>\n",
       "    </tr>\n",
       "  </tbody>\n",
       "</table>\n",
       "</div>"
      ],
      "text/plain": [
       "               ID   요일 기상상태 노면상태  사고유형     연  월  일  시간     도시    구      동  \\\n",
       "0  ACCIDENT_39609  토요일   맑음   건조  차대사람  2022  1  1   1  대구광역시  수성구     상동   \n",
       "1  ACCIDENT_39610  토요일   맑음   건조  차대사람  2022  1  1   1  대구광역시  수성구    지산동   \n",
       "2  ACCIDENT_39611  토요일   맑음   건조   차대차  2022  1  1   4  대구광역시  수성구  수성동2가   \n",
       "3  ACCIDENT_39612  토요일   맑음   건조   차대차  2022  1  1   4  대구광역시  수성구    신매동   \n",
       "4  ACCIDENT_39613  토요일   맑음   건조   차대차  2022  1  1   6  대구광역시  달서구    감삼동   \n",
       "\n",
       "  도로형태1 도로형태2  \n",
       "0   교차로  교차로안  \n",
       "1   단일로    기타  \n",
       "2   교차로  교차로안  \n",
       "3   단일로    기타  \n",
       "4   교차로  교차로안  "
      ]
     },
     "metadata": {},
     "output_type": "display_data"
    }
   ],
   "source": [
    "display(train_df.head())\n",
    "display(test_df.head())"
   ]
  },
  {
   "cell_type": "code",
   "execution_count": 88,
   "metadata": {
    "ExecuteTime": {
     "end_time": "2023-11-22T06:28:50.824437Z",
     "start_time": "2023-11-22T06:28:50.738601Z"
    }
   },
   "outputs": [
    {
     "name": "stdout",
     "output_type": "stream",
     "text": [
      "<class 'pandas.core.frame.DataFrame'>\n",
      "RangeIndex: 39609 entries, 0 to 39608\n",
      "Data columns (total 14 columns):\n",
      " #   Column  Non-Null Count  Dtype \n",
      "---  ------  --------------  ----- \n",
      " 0   ID      39609 non-null  object\n",
      " 1   요일      39609 non-null  object\n",
      " 2   기상상태    39609 non-null  object\n",
      " 3   노면상태    39609 non-null  object\n",
      " 4   사고유형    39609 non-null  object\n",
      " 5   연       39609 non-null  int64 \n",
      " 6   월       39609 non-null  int64 \n",
      " 7   일       39609 non-null  int64 \n",
      " 8   시간      39609 non-null  int64 \n",
      " 9   도시      39609 non-null  object\n",
      " 10  구       39609 non-null  object\n",
      " 11  동       39609 non-null  object\n",
      " 12  도로형태1   39609 non-null  object\n",
      " 13  도로형태2   39609 non-null  object\n",
      "dtypes: int64(4), object(10)\n",
      "memory usage: 4.2+ MB\n"
     ]
    },
    {
     "data": {
      "text/plain": [
       "None"
      ]
     },
     "metadata": {},
     "output_type": "display_data"
    },
    {
     "name": "stdout",
     "output_type": "stream",
     "text": [
      "<class 'pandas.core.frame.DataFrame'>\n",
      "RangeIndex: 10963 entries, 0 to 10962\n",
      "Data columns (total 14 columns):\n",
      " #   Column  Non-Null Count  Dtype \n",
      "---  ------  --------------  ----- \n",
      " 0   ID      10963 non-null  object\n",
      " 1   요일      10963 non-null  object\n",
      " 2   기상상태    10963 non-null  object\n",
      " 3   노면상태    10963 non-null  object\n",
      " 4   사고유형    10963 non-null  object\n",
      " 5   연       10963 non-null  int64 \n",
      " 6   월       10963 non-null  int64 \n",
      " 7   일       10963 non-null  int64 \n",
      " 8   시간      10963 non-null  int64 \n",
      " 9   도시      10963 non-null  object\n",
      " 10  구       10963 non-null  object\n",
      " 11  동       10963 non-null  object\n",
      " 12  도로형태1   10963 non-null  object\n",
      " 13  도로형태2   10963 non-null  object\n",
      "dtypes: int64(4), object(10)\n",
      "memory usage: 1.2+ MB\n"
     ]
    },
    {
     "data": {
      "text/plain": [
       "None"
      ]
     },
     "metadata": {},
     "output_type": "display_data"
    }
   ],
   "source": [
    "display(train_df.info())\n",
    "display(test_df.info())"
   ]
  },
  {
   "cell_type": "markdown",
   "metadata": {},
   "source": [
    "## 전처리를 위해 train과 test 데이터 합치기"
   ]
  },
  {
   "cell_type": "code",
   "execution_count": 89,
   "metadata": {
    "ExecuteTime": {
     "end_time": "2023-11-22T06:29:00.393723Z",
     "start_time": "2023-11-22T06:29:00.333410Z"
    }
   },
   "outputs": [],
   "source": [
    "# 전처리를 위해 train과 test 데이터 합치기\n",
    "data = pd.concat([train_df, test_df], sort=False)\n",
    "data_label_enco = data.copy()\n",
    "data_onehot_enco = data.copy()"
   ]
  },
  {
   "cell_type": "markdown",
   "metadata": {},
   "source": [
    "# **------------------------------------------------------**"
   ]
  },
  {
   "cell_type": "markdown",
   "metadata": {},
   "source": [
    "## ✔️Encoding"
   ]
  },
  {
   "cell_type": "markdown",
   "metadata": {},
   "source": [
    "# **1. 노면상태, 사고유형 엔코딩**"
   ]
  },
  {
   "cell_type": "code",
   "execution_count": 90,
   "metadata": {},
   "outputs": [],
   "source": [
    "# \"사고유형\" 및 \"노면상태\" 컬럼을 원-핫 인코딩\n",
    "data_onehot_enco = pd.get_dummies(data, columns=['사고유형', '노면상태'])"
   ]
  },
  {
   "cell_type": "markdown",
   "metadata": {},
   "source": [
    "# **2. 도로유형 엔코딩**"
   ]
  },
  {
   "cell_type": "code",
   "execution_count": 91,
   "metadata": {},
   "outputs": [],
   "source": [
    "from sklearn.preprocessing import OneHotEncoder\n",
    "\n",
    "data_onehot_enco = pd.get_dummies(data_onehot_enco, columns=['도로형태1', '도로형태2'])"
   ]
  },
  {
   "cell_type": "markdown",
   "metadata": {},
   "source": [
    "# **3. 구,동 엔코딩**"
   ]
  },
  {
   "cell_type": "code",
   "execution_count": 92,
   "metadata": {},
   "outputs": [],
   "source": [
    "data_onehot_enco = pd.get_dummies(data_onehot_enco, columns=['구', '동'])\n",
    "\n"
   ]
  },
  {
   "cell_type": "code",
   "execution_count": 93,
   "metadata": {},
   "outputs": [
    {
     "data": {
      "text/html": [
       "<div>\n",
       "<style scoped>\n",
       "    .dataframe tbody tr th:only-of-type {\n",
       "        vertical-align: middle;\n",
       "    }\n",
       "\n",
       "    .dataframe tbody tr th {\n",
       "        vertical-align: top;\n",
       "    }\n",
       "\n",
       "    .dataframe thead th {\n",
       "        text-align: right;\n",
       "    }\n",
       "</style>\n",
       "<table border=\"1\" class=\"dataframe\">\n",
       "  <thead>\n",
       "    <tr style=\"text-align: right;\">\n",
       "      <th></th>\n",
       "      <th>ID</th>\n",
       "      <th>요일</th>\n",
       "      <th>기상상태</th>\n",
       "      <th>연</th>\n",
       "      <th>월</th>\n",
       "      <th>일</th>\n",
       "      <th>시간</th>\n",
       "      <th>도시</th>\n",
       "      <th>사고유형_차대사람</th>\n",
       "      <th>사고유형_차대차</th>\n",
       "      <th>...</th>\n",
       "      <th>동_하서동</th>\n",
       "      <th>동_학정동</th>\n",
       "      <th>동_향촌동</th>\n",
       "      <th>동_현풍읍</th>\n",
       "      <th>동_호림동</th>\n",
       "      <th>동_호산동</th>\n",
       "      <th>동_화원읍</th>\n",
       "      <th>동_화전동</th>\n",
       "      <th>동_황금동</th>\n",
       "      <th>동_효목동</th>\n",
       "    </tr>\n",
       "  </thead>\n",
       "  <tbody>\n",
       "    <tr>\n",
       "      <th>0</th>\n",
       "      <td>ACCIDENT_00000</td>\n",
       "      <td>화요일</td>\n",
       "      <td>맑음</td>\n",
       "      <td>2019</td>\n",
       "      <td>1</td>\n",
       "      <td>1</td>\n",
       "      <td>0</td>\n",
       "      <td>대구광역시</td>\n",
       "      <td>True</td>\n",
       "      <td>False</td>\n",
       "      <td>...</td>\n",
       "      <td>False</td>\n",
       "      <td>False</td>\n",
       "      <td>False</td>\n",
       "      <td>False</td>\n",
       "      <td>False</td>\n",
       "      <td>False</td>\n",
       "      <td>False</td>\n",
       "      <td>False</td>\n",
       "      <td>False</td>\n",
       "      <td>False</td>\n",
       "    </tr>\n",
       "    <tr>\n",
       "      <th>1</th>\n",
       "      <td>ACCIDENT_00001</td>\n",
       "      <td>화요일</td>\n",
       "      <td>흐림</td>\n",
       "      <td>2019</td>\n",
       "      <td>1</td>\n",
       "      <td>1</td>\n",
       "      <td>0</td>\n",
       "      <td>대구광역시</td>\n",
       "      <td>True</td>\n",
       "      <td>False</td>\n",
       "      <td>...</td>\n",
       "      <td>False</td>\n",
       "      <td>False</td>\n",
       "      <td>False</td>\n",
       "      <td>False</td>\n",
       "      <td>False</td>\n",
       "      <td>False</td>\n",
       "      <td>False</td>\n",
       "      <td>False</td>\n",
       "      <td>False</td>\n",
       "      <td>False</td>\n",
       "    </tr>\n",
       "    <tr>\n",
       "      <th>2</th>\n",
       "      <td>ACCIDENT_00002</td>\n",
       "      <td>화요일</td>\n",
       "      <td>맑음</td>\n",
       "      <td>2019</td>\n",
       "      <td>1</td>\n",
       "      <td>1</td>\n",
       "      <td>1</td>\n",
       "      <td>대구광역시</td>\n",
       "      <td>True</td>\n",
       "      <td>False</td>\n",
       "      <td>...</td>\n",
       "      <td>False</td>\n",
       "      <td>False</td>\n",
       "      <td>False</td>\n",
       "      <td>False</td>\n",
       "      <td>False</td>\n",
       "      <td>False</td>\n",
       "      <td>False</td>\n",
       "      <td>False</td>\n",
       "      <td>False</td>\n",
       "      <td>False</td>\n",
       "    </tr>\n",
       "    <tr>\n",
       "      <th>3</th>\n",
       "      <td>ACCIDENT_00003</td>\n",
       "      <td>화요일</td>\n",
       "      <td>맑음</td>\n",
       "      <td>2019</td>\n",
       "      <td>1</td>\n",
       "      <td>1</td>\n",
       "      <td>2</td>\n",
       "      <td>대구광역시</td>\n",
       "      <td>False</td>\n",
       "      <td>True</td>\n",
       "      <td>...</td>\n",
       "      <td>False</td>\n",
       "      <td>False</td>\n",
       "      <td>False</td>\n",
       "      <td>False</td>\n",
       "      <td>False</td>\n",
       "      <td>False</td>\n",
       "      <td>False</td>\n",
       "      <td>False</td>\n",
       "      <td>False</td>\n",
       "      <td>False</td>\n",
       "    </tr>\n",
       "    <tr>\n",
       "      <th>4</th>\n",
       "      <td>ACCIDENT_00004</td>\n",
       "      <td>화요일</td>\n",
       "      <td>맑음</td>\n",
       "      <td>2019</td>\n",
       "      <td>1</td>\n",
       "      <td>1</td>\n",
       "      <td>4</td>\n",
       "      <td>대구광역시</td>\n",
       "      <td>False</td>\n",
       "      <td>True</td>\n",
       "      <td>...</td>\n",
       "      <td>False</td>\n",
       "      <td>False</td>\n",
       "      <td>False</td>\n",
       "      <td>False</td>\n",
       "      <td>False</td>\n",
       "      <td>False</td>\n",
       "      <td>False</td>\n",
       "      <td>False</td>\n",
       "      <td>False</td>\n",
       "      <td>False</td>\n",
       "    </tr>\n",
       "    <tr>\n",
       "      <th>...</th>\n",
       "      <td>...</td>\n",
       "      <td>...</td>\n",
       "      <td>...</td>\n",
       "      <td>...</td>\n",
       "      <td>...</td>\n",
       "      <td>...</td>\n",
       "      <td>...</td>\n",
       "      <td>...</td>\n",
       "      <td>...</td>\n",
       "      <td>...</td>\n",
       "      <td>...</td>\n",
       "      <td>...</td>\n",
       "      <td>...</td>\n",
       "      <td>...</td>\n",
       "      <td>...</td>\n",
       "      <td>...</td>\n",
       "      <td>...</td>\n",
       "      <td>...</td>\n",
       "      <td>...</td>\n",
       "      <td>...</td>\n",
       "      <td>...</td>\n",
       "    </tr>\n",
       "    <tr>\n",
       "      <th>10958</th>\n",
       "      <td>ACCIDENT_50567</td>\n",
       "      <td>토요일</td>\n",
       "      <td>맑음</td>\n",
       "      <td>2022</td>\n",
       "      <td>12</td>\n",
       "      <td>31</td>\n",
       "      <td>18</td>\n",
       "      <td>대구광역시</td>\n",
       "      <td>False</td>\n",
       "      <td>True</td>\n",
       "      <td>...</td>\n",
       "      <td>False</td>\n",
       "      <td>False</td>\n",
       "      <td>False</td>\n",
       "      <td>False</td>\n",
       "      <td>False</td>\n",
       "      <td>False</td>\n",
       "      <td>False</td>\n",
       "      <td>False</td>\n",
       "      <td>False</td>\n",
       "      <td>False</td>\n",
       "    </tr>\n",
       "    <tr>\n",
       "      <th>10959</th>\n",
       "      <td>ACCIDENT_50568</td>\n",
       "      <td>토요일</td>\n",
       "      <td>맑음</td>\n",
       "      <td>2022</td>\n",
       "      <td>12</td>\n",
       "      <td>31</td>\n",
       "      <td>18</td>\n",
       "      <td>대구광역시</td>\n",
       "      <td>False</td>\n",
       "      <td>True</td>\n",
       "      <td>...</td>\n",
       "      <td>False</td>\n",
       "      <td>False</td>\n",
       "      <td>False</td>\n",
       "      <td>False</td>\n",
       "      <td>False</td>\n",
       "      <td>False</td>\n",
       "      <td>False</td>\n",
       "      <td>False</td>\n",
       "      <td>False</td>\n",
       "      <td>False</td>\n",
       "    </tr>\n",
       "    <tr>\n",
       "      <th>10960</th>\n",
       "      <td>ACCIDENT_50569</td>\n",
       "      <td>토요일</td>\n",
       "      <td>맑음</td>\n",
       "      <td>2022</td>\n",
       "      <td>12</td>\n",
       "      <td>31</td>\n",
       "      <td>20</td>\n",
       "      <td>대구광역시</td>\n",
       "      <td>False</td>\n",
       "      <td>True</td>\n",
       "      <td>...</td>\n",
       "      <td>False</td>\n",
       "      <td>False</td>\n",
       "      <td>False</td>\n",
       "      <td>False</td>\n",
       "      <td>False</td>\n",
       "      <td>False</td>\n",
       "      <td>False</td>\n",
       "      <td>False</td>\n",
       "      <td>False</td>\n",
       "      <td>False</td>\n",
       "    </tr>\n",
       "    <tr>\n",
       "      <th>10961</th>\n",
       "      <td>ACCIDENT_50570</td>\n",
       "      <td>토요일</td>\n",
       "      <td>맑음</td>\n",
       "      <td>2022</td>\n",
       "      <td>12</td>\n",
       "      <td>31</td>\n",
       "      <td>20</td>\n",
       "      <td>대구광역시</td>\n",
       "      <td>False</td>\n",
       "      <td>True</td>\n",
       "      <td>...</td>\n",
       "      <td>False</td>\n",
       "      <td>False</td>\n",
       "      <td>False</td>\n",
       "      <td>False</td>\n",
       "      <td>False</td>\n",
       "      <td>False</td>\n",
       "      <td>False</td>\n",
       "      <td>False</td>\n",
       "      <td>False</td>\n",
       "      <td>False</td>\n",
       "    </tr>\n",
       "    <tr>\n",
       "      <th>10962</th>\n",
       "      <td>ACCIDENT_50571</td>\n",
       "      <td>토요일</td>\n",
       "      <td>맑음</td>\n",
       "      <td>2022</td>\n",
       "      <td>12</td>\n",
       "      <td>31</td>\n",
       "      <td>21</td>\n",
       "      <td>대구광역시</td>\n",
       "      <td>False</td>\n",
       "      <td>True</td>\n",
       "      <td>...</td>\n",
       "      <td>False</td>\n",
       "      <td>False</td>\n",
       "      <td>False</td>\n",
       "      <td>False</td>\n",
       "      <td>False</td>\n",
       "      <td>False</td>\n",
       "      <td>False</td>\n",
       "      <td>False</td>\n",
       "      <td>False</td>\n",
       "      <td>True</td>\n",
       "    </tr>\n",
       "  </tbody>\n",
       "</table>\n",
       "<p>50572 rows × 236 columns</p>\n",
       "</div>"
      ],
      "text/plain": [
       "                   ID   요일 기상상태     연   월   일  시간     도시  사고유형_차대사람  사고유형_차대차  \\\n",
       "0      ACCIDENT_00000  화요일   맑음  2019   1   1   0  대구광역시       True     False   \n",
       "1      ACCIDENT_00001  화요일   흐림  2019   1   1   0  대구광역시       True     False   \n",
       "2      ACCIDENT_00002  화요일   맑음  2019   1   1   1  대구광역시       True     False   \n",
       "3      ACCIDENT_00003  화요일   맑음  2019   1   1   2  대구광역시      False      True   \n",
       "4      ACCIDENT_00004  화요일   맑음  2019   1   1   4  대구광역시      False      True   \n",
       "...               ...  ...  ...   ...  ..  ..  ..    ...        ...       ...   \n",
       "10958  ACCIDENT_50567  토요일   맑음  2022  12  31  18  대구광역시      False      True   \n",
       "10959  ACCIDENT_50568  토요일   맑음  2022  12  31  18  대구광역시      False      True   \n",
       "10960  ACCIDENT_50569  토요일   맑음  2022  12  31  20  대구광역시      False      True   \n",
       "10961  ACCIDENT_50570  토요일   맑음  2022  12  31  20  대구광역시      False      True   \n",
       "10962  ACCIDENT_50571  토요일   맑음  2022  12  31  21  대구광역시      False      True   \n",
       "\n",
       "       ...  동_하서동  동_학정동  동_향촌동  동_현풍읍  동_호림동  동_호산동  동_화원읍  동_화전동  동_황금동  \\\n",
       "0      ...  False  False  False  False  False  False  False  False  False   \n",
       "1      ...  False  False  False  False  False  False  False  False  False   \n",
       "2      ...  False  False  False  False  False  False  False  False  False   \n",
       "3      ...  False  False  False  False  False  False  False  False  False   \n",
       "4      ...  False  False  False  False  False  False  False  False  False   \n",
       "...    ...    ...    ...    ...    ...    ...    ...    ...    ...    ...   \n",
       "10958  ...  False  False  False  False  False  False  False  False  False   \n",
       "10959  ...  False  False  False  False  False  False  False  False  False   \n",
       "10960  ...  False  False  False  False  False  False  False  False  False   \n",
       "10961  ...  False  False  False  False  False  False  False  False  False   \n",
       "10962  ...  False  False  False  False  False  False  False  False  False   \n",
       "\n",
       "       동_효목동  \n",
       "0      False  \n",
       "1      False  \n",
       "2      False  \n",
       "3      False  \n",
       "4      False  \n",
       "...      ...  \n",
       "10958  False  \n",
       "10959  False  \n",
       "10960  False  \n",
       "10961  False  \n",
       "10962   True  \n",
       "\n",
       "[50572 rows x 236 columns]"
      ]
     },
     "execution_count": 93,
     "metadata": {},
     "output_type": "execute_result"
    }
   ],
   "source": [
    "data_onehot_enco"
   ]
  },
  {
   "cell_type": "markdown",
   "metadata": {},
   "source": [
    "# **4. 연,월,시 원핫인코딩**\n"
   ]
  },
  {
   "cell_type": "code",
   "execution_count": 94,
   "metadata": {},
   "outputs": [],
   "source": [
    "# 연도의 one-hot encoding 및 확인\n",
    "data_onehot_enco = pd.get_dummies(data_onehot_enco, columns=['연'])"
   ]
  },
  {
   "cell_type": "code",
   "execution_count": 95,
   "metadata": {},
   "outputs": [
    {
     "name": "stdout",
     "output_type": "stream",
     "text": [
      "<class 'pandas.core.frame.DataFrame'>\n",
      "Index: 50572 entries, 0 to 10962\n",
      "Columns: 250 entries, ID to 월_12\n",
      "dtypes: bool(244), int64(2), object(4)\n",
      "memory usage: 14.5+ MB\n"
     ]
    }
   ],
   "source": [
    "# 월의 one-hot encoding 및 확인\n",
    "data_onehot_enco = pd.get_dummies(data_onehot_enco, columns=['월'])\n",
    "data_onehot_enco.info()"
   ]
  },
  {
   "cell_type": "code",
   "execution_count": 96,
   "metadata": {},
   "outputs": [
    {
     "name": "stdout",
     "output_type": "stream",
     "text": [
      "<class 'pandas.core.frame.DataFrame'>\n",
      "Index: 50572 entries, 0 to 10962\n",
      "Columns: 273 entries, ID to 시간_23\n",
      "dtypes: bool(268), int64(1), object(4)\n",
      "memory usage: 15.2+ MB\n"
     ]
    }
   ],
   "source": [
    "# 시간의 one-hot encoding 및 확인\n",
    "data_onehot_enco = pd.get_dummies(data_onehot_enco, columns=['시간'])\n",
    "data_onehot_enco.info()"
   ]
  },
  {
   "cell_type": "markdown",
   "metadata": {},
   "source": [
    "# **5. 요일, 기상 엔코딩**\n"
   ]
  },
  {
   "cell_type": "code",
   "execution_count": 97,
   "metadata": {},
   "outputs": [
    {
     "name": "stdout",
     "output_type": "stream",
     "text": [
      "<class 'pandas.core.frame.DataFrame'>\n",
      "Index: 50572 entries, 0 to 10962\n",
      "Columns: 279 entries, ID to 요일_화요일\n",
      "dtypes: bool(275), int64(1), object(3)\n",
      "memory usage: 15.2+ MB\n"
     ]
    }
   ],
   "source": [
    "data_onehot_enco = pd.get_dummies(data_onehot_enco, columns=['요일'])\n",
    "data_onehot_enco.info()"
   ]
  },
  {
   "cell_type": "markdown",
   "metadata": {},
   "source": [
    "**가독성 위해 컬럼 순서 원래 순서와 맞춰 정렬**"
   ]
  },
  {
   "cell_type": "code",
   "execution_count": 98,
   "metadata": {},
   "outputs": [],
   "source": [
    "# 요일 컬럼 순서 변경 (75번부터 80번 컬럼)\n",
    "desired_order = ['요일_월요일', '요일_화요일', '요일_수요일', '요일_목요일', '요일_금요일', '요일_토요일', '요일_일요일']\n",
    "data_onehot_enco = data_onehot_enco[ [col for col in data_onehot_enco.columns if col not in desired_order] + desired_order]\n"
   ]
  },
  {
   "cell_type": "code",
   "execution_count": 99,
   "metadata": {},
   "outputs": [],
   "source": [
    "data_onehot_enco = pd.get_dummies(data_onehot_enco, columns=['기상상태'])"
   ]
  },
  {
   "cell_type": "markdown",
   "metadata": {},
   "source": [
    "# **------------------------------------------------------**"
   ]
  },
  {
   "cell_type": "markdown",
   "metadata": {},
   "source": [
    "### 통합된 데이터 세트(data)를 다시 train과 test 세트로 분리\n",
    "- 합쳐둔 data 날짜에 맞춰서 다시 train_new, test_new로 분리하기"
   ]
  },
  {
   "cell_type": "code",
   "execution_count": 100,
   "metadata": {},
   "outputs": [
    {
     "name": "stdout",
     "output_type": "stream",
     "text": [
      "<class 'pandas.core.frame.DataFrame'>\n",
      "Index: 50572 entries, 0 to 10962\n",
      "Columns: 284 entries, ID to 기상상태_흐림\n",
      "dtypes: bool(281), int64(1), object(2)\n",
      "memory usage: 15.1+ MB\n"
     ]
    }
   ],
   "source": [
    "data_onehot_enco.info()"
   ]
  },
  {
   "cell_type": "code",
   "execution_count": 101,
   "metadata": {
    "ExecuteTime": {
     "end_time": "2023-11-22T06:29:09.580295Z",
     "start_time": "2023-11-22T06:29:09.538905Z"
    }
   },
   "outputs": [],
   "source": [
    "# train_new = data_onehot_enco[data_onehot_enco['연'].isin([2019, 2020, 2021])]\n",
    "# test_new = data_onehot_enco[data_onehot_enco['연'] == 2022]\n",
    "\n",
    "train_new  = data_onehot_enco[:len(train)]\n",
    "test_new = data_onehot_enco[len(train):]\n",
    "# 이렇게 하는 방법도 있음"
   ]
  },
  {
   "cell_type": "code",
   "execution_count": 102,
   "metadata": {
    "ExecuteTime": {
     "end_time": "2023-11-22T06:29:26.670538Z",
     "start_time": "2023-11-22T06:29:26.631810Z"
    }
   },
   "outputs": [
    {
     "name": "stdout",
     "output_type": "stream",
     "text": [
      "<class 'pandas.core.frame.DataFrame'>\n",
      "Index: 39609 entries, 0 to 39608\n",
      "Columns: 284 entries, ID to 기상상태_흐림\n",
      "dtypes: bool(281), int64(1), object(2)\n",
      "memory usage: 11.8+ MB\n"
     ]
    }
   ],
   "source": [
    "train_new.info()"
   ]
  },
  {
   "cell_type": "code",
   "execution_count": 103,
   "metadata": {
    "ExecuteTime": {
     "end_time": "2023-11-22T06:29:43.173775Z",
     "start_time": "2023-11-22T06:29:43.120221Z"
    }
   },
   "outputs": [
    {
     "name": "stdout",
     "output_type": "stream",
     "text": [
      "<class 'pandas.core.frame.DataFrame'>\n",
      "Index: 10963 entries, 0 to 10962\n",
      "Columns: 284 entries, ID to 기상상태_흐림\n",
      "dtypes: bool(281), int64(1), object(2)\n",
      "memory usage: 3.3+ MB\n"
     ]
    }
   ],
   "source": [
    "test_new.info()"
   ]
  },
  {
   "cell_type": "markdown",
   "metadata": {},
   "source": [
    "### 학습시킬 feature 선택하기 "
   ]
  },
  {
   "cell_type": "code",
   "execution_count": 104,
   "metadata": {
    "ExecuteTime": {
     "end_time": "2023-11-22T06:29:11.215557Z",
     "start_time": "2023-11-22T06:29:11.210004Z"
    }
   },
   "outputs": [
    {
     "data": {
      "text/plain": [
       "Index(['ID', '일', '도시', '사고유형_차대사람', '사고유형_차대차', '사고유형_차량단독', '노면상태_건조',\n",
       "       '노면상태_기타', '노면상태_서리/결빙', '노면상태_적설',\n",
       "       ...\n",
       "       '요일_목요일', '요일_금요일', '요일_토요일', '요일_일요일', '기상상태_기타', '기상상태_눈', '기상상태_맑음',\n",
       "       '기상상태_비', '기상상태_안개', '기상상태_흐림'],\n",
       "      dtype='object', length=284)"
      ]
     },
     "execution_count": 104,
     "metadata": {},
     "output_type": "execute_result"
    }
   ],
   "source": [
    "train_new.columns"
   ]
  },
  {
   "cell_type": "code",
   "execution_count": 105,
   "metadata": {
    "ExecuteTime": {
     "end_time": "2023-11-22T06:29:12.033435Z",
     "start_time": "2023-11-22T06:29:12.028248Z"
    }
   },
   "outputs": [
    {
     "data": {
      "text/plain": [
       "Index(['ID', '일', '도시', '사고유형_차대사람', '사고유형_차대차', '사고유형_차량단독', '노면상태_건조',\n",
       "       '노면상태_기타', '노면상태_서리/결빙', '노면상태_적설',\n",
       "       ...\n",
       "       '요일_목요일', '요일_금요일', '요일_토요일', '요일_일요일', '기상상태_기타', '기상상태_눈', '기상상태_맑음',\n",
       "       '기상상태_비', '기상상태_안개', '기상상태_흐림'],\n",
       "      dtype='object', length=284)"
      ]
     },
     "execution_count": 105,
     "metadata": {},
     "output_type": "execute_result"
    }
   ],
   "source": [
    "test_new.columns"
   ]
  },
  {
   "cell_type": "code",
   "execution_count": 106,
   "metadata": {
    "ExecuteTime": {
     "end_time": "2023-11-22T06:27:05.039883Z",
     "start_time": "2023-11-22T06:27:05.039877Z"
    }
   },
   "outputs": [],
   "source": [
    "feature =['요일','기상상태','노면상태','사고유형','연','월','시간', '구', '동', '도로형태1', '도로형태2'] \n",
    "#예측에 넣을 feature추가하기"
   ]
  },
  {
   "cell_type": "markdown",
   "metadata": {},
   "source": [
    "### (참고) train, test 데이터의 독립변수, 종속 변수 분리\n",
    "- [예측에 모든 컬럼 사용하는 법, 내가 고른 컬럼만 사용하는 법] 중에 원하는 방법으로 사용하기!!"
   ]
  },
  {
   "cell_type": "code",
   "execution_count": 107,
   "metadata": {
    "ExecuteTime": {
     "end_time": "2023-11-22T06:27:05.040553Z",
     "start_time": "2023-11-22T06:27:05.040548Z"
    }
   },
   "outputs": [],
   "source": [
    "# # 예측에 모든 컬럼 사용하는 법.\n",
    "X_test = test_new.drop(columns=['ID', '도시', '일']).copy()\n",
    "X_train = train_new[X_test.columns].copy()\n",
    "\n",
    "y_train = train['ECLO'].copy()"
   ]
  },
  {
   "cell_type": "code",
   "execution_count": 108,
   "metadata": {
    "ExecuteTime": {
     "end_time": "2023-11-22T06:27:05.040991Z",
     "start_time": "2023-11-22T06:27:05.040986Z"
    }
   },
   "outputs": [],
   "source": [
    "# # 예측에 내가 고른 컬럼만 사용하는 법.\n",
    "# X_train = train_new[feature]\n",
    "# X_test = test_new[feature]\n",
    "\n",
    "# y_train = train['ECLO'].copy()"
   ]
  },
  {
   "cell_type": "code",
   "execution_count": 109,
   "metadata": {},
   "outputs": [
    {
     "data": {
      "text/plain": [
       "(39609, 281)"
      ]
     },
     "execution_count": 109,
     "metadata": {},
     "output_type": "execute_result"
    }
   ],
   "source": [
    "X_train.shape"
   ]
  },
  {
   "cell_type": "code",
   "execution_count": 110,
   "metadata": {},
   "outputs": [
    {
     "data": {
      "text/plain": [
       "(39609,)"
      ]
     },
     "execution_count": 110,
     "metadata": {},
     "output_type": "execute_result"
    }
   ],
   "source": [
    "y_train.shape"
   ]
  },
  {
   "cell_type": "code",
   "execution_count": 111,
   "metadata": {},
   "outputs": [
    {
     "data": {
      "text/plain": [
       "(10963, 281)"
      ]
     },
     "execution_count": 111,
     "metadata": {},
     "output_type": "execute_result"
    }
   ],
   "source": [
    "X_test.shape"
   ]
  },
  {
   "cell_type": "markdown",
   "metadata": {},
   "source": [
    "### (참고) 데이터 분할\n",
    "\n",
    "- 주어진 데이터셋이 이미 훈련용(train)과 테스트용(test)으로 나뉘어져 있으므로 train_test_split 함수를 사용하여 데이터를 분할할 필요 없음!\n",
    "- 그렇지만, 훈련데이터를 더 작은 훈련 세트(train set)와 검증 세트(validation set)로 나누는 것은 필요함.\n",
    "> - train data set의 피쳐를 X, 타겟을 y로 분리\n",
    "> - train data set를 훈련(train)과 검증(valid)로 나눈다.\n",
    "> - train:valid= 7:3 로 나누어 본다\n",
    ">> - 훈련 세트(train set): 모델을 훈련하는 데 사용됩니다.\n",
    ">> - 검증 세트(validation set): 모델을 튜닝하고 성능을 평가하는 데 사용됩니다. 이를 통해 모델이 훈련 데이터에 과적합되지 않고 다른 데이터에 대해서도 일반화될 수 있는지 확인할 수 있습니다.\n",
    "> - 대회에서는 주어진 테스트 데이터가 숨겨져 있으므로 모델을 평가하려면 모델의 예측을 검증 세트에 대해 평가하고, 최종적으로는 테스트 데이터에 대한 예측을 제출해야 합니다."
   ]
  },
  {
   "cell_type": "code",
   "execution_count": 112,
   "metadata": {
    "ExecuteTime": {
     "end_time": "2023-11-22T06:27:05.042221Z",
     "start_time": "2023-11-22T06:27:05.042212Z"
    }
   },
   "outputs": [],
   "source": [
    "from sklearn.model_selection import train_test_split \n",
    "\n",
    "#train data set를 train과 validation data set로 나누기\n",
    "X_train, X_valid, y_train, y_valid = train_test_split(X_train, y_train, test_size=0.3, random_state=42)"
   ]
  },
  {
   "cell_type": "code",
   "execution_count": 113,
   "metadata": {
    "ExecuteTime": {
     "end_time": "2023-11-22T06:27:05.042697Z",
     "start_time": "2023-11-22T06:27:05.042692Z"
    }
   },
   "outputs": [
    {
     "name": "stdout",
     "output_type": "stream",
     "text": [
      "Size of X_train is:(27726, 281)\n",
      "Size of y_train is:(27726,)\n",
      "Size of X_valid is:(11883, 281)\n",
      "Size of Y_valid is:(11883,)\n",
      "\n"
     ]
    }
   ],
   "source": [
    "# 데이터 사이즈 확인\n",
    "print(\"Size of X_train is:{}\\nSize of y_train is:{}\\nSize of X_valid is:{}\\nSize of Y_valid is:{}\\n\".format(\n",
    "    X_train.shape,y_train.shape,X_valid.shape,y_valid.shape))"
   ]
  },
  {
   "cell_type": "markdown",
   "metadata": {},
   "source": [
    "## Model 구현"
   ]
  },
  {
   "cell_type": "markdown",
   "metadata": {},
   "source": [
    "- Logistic Regression, Decision Tree, Random Forest Classifier, KNN, ......"
   ]
  },
  {
   "cell_type": "markdown",
   "metadata": {},
   "source": [
    "## Model Train & Prediction"
   ]
  },
  {
   "cell_type": "markdown",
   "metadata": {},
   "source": [
    "**모델 적용**\n",
    "- 선택한 모델로 test 결과 저장하기\n",
    "- 검증 데이터세트의 정확도가 높은 모델을 채택!"
   ]
  },
  {
   "cell_type": "code",
   "execution_count": 114,
   "metadata": {
    "ExecuteTime": {
     "end_time": "2023-11-22T06:33:20.417566Z",
     "start_time": "2023-11-22T06:33:20.394967Z"
    }
   },
   "outputs": [],
   "source": [
    "# #변수 이름 선택한 모델명으로 설정하기!!!\n",
    "\n",
    "# from sklearn.tree import DecisionTreeRegressor\n",
    "# dtr = DecisionTreeRegressor()\n",
    "# dtr.fit(X_train, y_train)\n",
    "\n",
    "# prediction_dtr= dtr.predict(X_test)\n",
    "# prediction_dtr"
   ]
  },
  {
   "cell_type": "markdown",
   "metadata": {},
   "source": [
    "### - DecisionTreeRegressor"
   ]
  },
  {
   "cell_type": "code",
   "execution_count": 115,
   "metadata": {},
   "outputs": [],
   "source": [
    "from sklearn.tree import DecisionTreeRegressor\n",
    "\n",
    "dtr = DecisionTreeRegressor(random_state=42)"
   ]
  },
  {
   "cell_type": "markdown",
   "metadata": {},
   "source": [
    "#### 최적의 하이퍼파라미터 검색"
   ]
  },
  {
   "cell_type": "code",
   "execution_count": 116,
   "metadata": {},
   "outputs": [
    {
     "name": "stdout",
     "output_type": "stream",
     "text": [
      "최적 하이퍼파라미터: {'max_depth': 5, 'min_samples_leaf': 1, 'min_samples_split': 2}\n"
     ]
    }
   ],
   "source": [
    "from sklearn.model_selection import GridSearchCV\n",
    "\n",
    "param_grid = {\n",
    "             'max_depth': [None, 5, 10, 15],\n",
    "             'min_samples_split': [2, 5, 10],\n",
    "             'min_samples_leaf': [1, 2, 4]\n",
    "}\n",
    "\n",
    "grid_search = GridSearchCV(dtr, param_grid, cv=5, scoring='neg_mean_squared_log_error')\n",
    "grid_search.fit(X_train, y_train)\n",
    "\n",
    "# 최적 하이퍼파라미터\n",
    "best_params = grid_search.best_params_\n",
    "\n",
    "# 최적 모델 \n",
    "best_dtr = grid_search.best_estimator_\n",
    "\n",
    "print(\"최적 하이퍼파라미터:\", best_params)"
   ]
  },
  {
   "cell_type": "markdown",
   "metadata": {},
   "source": [
    "#### 특성 중요도 확인"
   ]
  },
  {
   "cell_type": "code",
   "execution_count": 117,
   "metadata": {},
   "outputs": [
    {
     "name": "stdout",
     "output_type": "stream",
     "text": [
      "특성명: 사고유형_차대사람, 중요도: 0.0\n",
      "특성명: 사고유형_차대차, 중요도: 0.3625501249704568\n",
      "특성명: 사고유형_차량단독, 중요도: 0.0\n",
      "특성명: 노면상태_건조, 중요도: 0.0\n",
      "특성명: 노면상태_기타, 중요도: 0.0\n",
      "특성명: 노면상태_서리/결빙, 중요도: 0.0\n",
      "특성명: 노면상태_적설, 중요도: 0.0\n",
      "특성명: 노면상태_젖음/습기, 중요도: 0.0\n",
      "특성명: 노면상태_침수, 중요도: 0.0\n",
      "특성명: 도로형태1_교차로, 중요도: 0.0\n",
      "특성명: 도로형태1_기타, 중요도: 0.0\n",
      "특성명: 도로형태1_단일로, 중요도: 0.0\n",
      "특성명: 도로형태1_미분류, 중요도: 0.0\n",
      "특성명: 도로형태1_주차장, 중요도: 0.0\n",
      "특성명: 도로형태2_고가도로위, 중요도: 0.0\n",
      "특성명: 도로형태2_교량, 중요도: 0.0\n",
      "특성명: 도로형태2_교차로부근, 중요도: 0.0\n",
      "특성명: 도로형태2_교차로안, 중요도: 0.0\n",
      "특성명: 도로형태2_교차로횡단보도내, 중요도: 0.01848371089127744\n",
      "특성명: 도로형태2_기타, 중요도: 0.0\n",
      "특성명: 도로형태2_미분류, 중요도: 0.0\n",
      "특성명: 도로형태2_주차장, 중요도: 0.0\n",
      "특성명: 도로형태2_지하차도(도로)내, 중요도: 0.0\n",
      "특성명: 도로형태2_터널, 중요도: 0.0\n",
      "특성명: 구_남구, 중요도: 0.0\n",
      "특성명: 구_달서구, 중요도: 0.0\n",
      "특성명: 구_달성군, 중요도: 0.0\n",
      "특성명: 구_동구, 중요도: 0.0\n",
      "특성명: 구_북구, 중요도: 0.0\n",
      "특성명: 구_서구, 중요도: 0.0\n",
      "특성명: 구_수성구, 중요도: 0.0\n",
      "특성명: 구_중구, 중요도: 0.0\n",
      "특성명: 동_가창면, 중요도: 0.0\n",
      "특성명: 동_가천동, 중요도: 0.0\n",
      "특성명: 동_각산동, 중요도: 0.0\n",
      "특성명: 동_갈산동, 중요도: 0.0\n",
      "특성명: 동_감삼동, 중요도: 0.0\n",
      "특성명: 동_검단동, 중요도: 0.0\n",
      "특성명: 동_검사동, 중요도: 0.0\n",
      "특성명: 동_계산동1가, 중요도: 0.0\n",
      "특성명: 동_계산동2가, 중요도: 0.044232181264727284\n",
      "특성명: 동_고모동, 중요도: 0.0\n",
      "특성명: 동_고성동1가, 중요도: 0.0\n",
      "특성명: 동_고성동2가, 중요도: 0.0\n",
      "특성명: 동_고성동3가, 중요도: 0.0\n",
      "특성명: 동_공평동, 중요도: 0.0\n",
      "특성명: 동_관음동, 중요도: 0.0\n",
      "특성명: 동_괴전동, 중요도: 0.0\n",
      "특성명: 동_교동, 중요도: 0.0\n",
      "특성명: 동_구암동, 중요도: 0.0\n",
      "특성명: 동_구지면, 중요도: 0.0\n",
      "특성명: 동_국우동, 중요도: 0.0\n",
      "특성명: 동_금강동, 중요도: 0.0\n",
      "특성명: 동_금호동, 중요도: 0.0\n",
      "특성명: 동_남산동, 중요도: 0.0\n",
      "특성명: 동_남성로, 중요도: 0.0\n",
      "특성명: 동_남일동, 중요도: 0.00841295638255408\n",
      "특성명: 동_내당동, 중요도: 0.0\n",
      "특성명: 동_내동, 중요도: 0.0\n",
      "특성명: 동_노곡동, 중요도: 0.0\n",
      "특성명: 동_노변동, 중요도: 0.0\n",
      "특성명: 동_노원동1가, 중요도: 0.0\n",
      "특성명: 동_노원동2가, 중요도: 0.0\n",
      "특성명: 동_노원동3가, 중요도: 0.0\n",
      "특성명: 동_논공읍, 중요도: 0.0\n",
      "특성명: 동_능성동, 중요도: 0.0\n",
      "특성명: 동_다사읍, 중요도: 0.0\n",
      "특성명: 동_달성동, 중요도: 0.0\n",
      "특성명: 동_대곡동, 중요도: 0.0\n",
      "특성명: 동_대림동, 중요도: 0.0\n",
      "특성명: 동_대명동, 중요도: 0.0\n",
      "특성명: 동_대봉동, 중요도: 0.0\n",
      "특성명: 동_대신동, 중요도: 0.0\n",
      "특성명: 동_대안동, 중요도: 0.0\n",
      "특성명: 동_대천동, 중요도: 0.0\n",
      "특성명: 동_대현동, 중요도: 0.0\n",
      "특성명: 동_대흥동, 중요도: 0.0\n",
      "특성명: 동_덕곡동, 중요도: 0.017122455397991305\n",
      "특성명: 동_덕산동, 중요도: 0.0\n",
      "특성명: 동_도남동, 중요도: 0.0\n",
      "특성명: 동_도동, 중요도: 0.0\n",
      "특성명: 동_도원동, 중요도: 0.0\n",
      "특성명: 동_도학동, 중요도: 0.0\n",
      "특성명: 동_동내동, 중요도: 0.0\n",
      "특성명: 동_동문동, 중요도: 0.0\n",
      "특성명: 동_동변동, 중요도: 0.0\n",
      "특성명: 동_동산동, 중요도: 0.0\n",
      "특성명: 동_동성로1가, 중요도: 0.0\n",
      "특성명: 동_동성로2가, 중요도: 0.0\n",
      "특성명: 동_동성로3가, 중요도: 0.0\n",
      "특성명: 동_동인동1가, 중요도: 0.0\n",
      "특성명: 동_동인동2가, 중요도: 0.0\n",
      "특성명: 동_동인동3가, 중요도: 0.0\n",
      "특성명: 동_동인동4가, 중요도: 0.0\n",
      "특성명: 동_동일동, 중요도: 0.0\n",
      "특성명: 동_동천동, 중요도: 0.0\n",
      "특성명: 동_동호동, 중요도: 0.0\n",
      "특성명: 동_두류동, 중요도: 0.0\n",
      "특성명: 동_두산동, 중요도: 0.0\n",
      "특성명: 동_둔산동, 중요도: 0.013716426495954668\n",
      "특성명: 동_만촌동, 중요도: 0.0\n",
      "특성명: 동_매여동, 중요도: 0.0\n",
      "특성명: 동_매천동, 중요도: 0.0\n",
      "특성명: 동_매호동, 중요도: 0.0\n",
      "특성명: 동_문화동, 중요도: 0.0\n",
      "특성명: 동_미곡동, 중요도: 0.0\n",
      "특성명: 동_미대동, 중요도: 0.0\n",
      "특성명: 동_방촌동, 중요도: 0.0\n",
      "특성명: 동_백안동, 중요도: 0.0\n",
      "특성명: 동_범물동, 중요도: 0.0\n",
      "특성명: 동_범어동, 중요도: 0.0\n",
      "특성명: 동_복현동, 중요도: 0.0\n",
      "특성명: 동_본동, 중요도: 0.0\n",
      "특성명: 동_본리동, 중요도: 0.0\n",
      "특성명: 동_봉덕동, 중요도: 0.0\n",
      "특성명: 동_봉무동, 중요도: 0.0\n",
      "특성명: 동_봉산동, 중요도: 0.0\n",
      "특성명: 동_부동, 중요도: 0.0\n",
      "특성명: 동_북성로1가, 중요도: 0.0\n",
      "특성명: 동_북성로2가, 중요도: 0.0\n",
      "특성명: 동_불로동, 중요도: 0.0\n",
      "특성명: 동_비산동, 중요도: 0.0\n",
      "특성명: 동_사복동, 중요도: 0.0\n",
      "특성명: 동_사수동, 중요도: 0.0\n",
      "특성명: 동_사월동, 중요도: 0.0\n",
      "특성명: 동_사일동, 중요도: 0.0\n",
      "특성명: 동_산격동, 중요도: 0.0\n",
      "특성명: 동_삼덕동, 중요도: 0.0\n",
      "특성명: 동_삼덕동1가, 중요도: 0.0\n",
      "특성명: 동_삼덕동2가, 중요도: 0.0\n",
      "특성명: 동_삼덕동3가, 중요도: 0.0\n",
      "특성명: 동_상동, 중요도: 0.0\n",
      "특성명: 동_상리동, 중요도: 0.0\n",
      "특성명: 동_상매동, 중요도: 0.0\n",
      "특성명: 동_상서동, 중요도: 0.0\n",
      "특성명: 동_상인동, 중요도: 0.0\n",
      "특성명: 동_서문로1가, 중요도: 0.0\n",
      "특성명: 동_서문로2가, 중요도: 0.0\n",
      "특성명: 동_서변동, 중요도: 0.0\n",
      "특성명: 동_서성로1가, 중요도: 0.0\n",
      "특성명: 동_서성로2가, 중요도: 0.0\n",
      "특성명: 동_서야동, 중요도: 0.0\n",
      "특성명: 동_서호동, 중요도: 0.0\n",
      "특성명: 동_성당동, 중요도: 0.0\n",
      "특성명: 동_성동, 중요도: 0.0\n",
      "특성명: 동_송정동, 중요도: 0.0\n",
      "특성명: 동_송현동, 중요도: 0.0\n",
      "특성명: 동_수동, 중요도: 0.0\n",
      "특성명: 동_수성동1가, 중요도: 0.0\n",
      "특성명: 동_수성동2가, 중요도: 0.0\n",
      "특성명: 동_수성동3가, 중요도: 0.0\n",
      "특성명: 동_수성동4가, 중요도: 0.0\n",
      "특성명: 동_수창동, 중요도: 0.0\n",
      "특성명: 동_숙천동, 중요도: 0.0\n",
      "특성명: 동_시장북로, 중요도: 0.0\n",
      "특성명: 동_시지동, 중요도: 0.0\n",
      "특성명: 동_신기동, 중요도: 0.0\n",
      "특성명: 동_신당동, 중요도: 0.0\n",
      "특성명: 동_신매동, 중요도: 0.0\n",
      "특성명: 동_신무동, 중요도: 0.0\n",
      "특성명: 동_신서동, 중요도: 0.0\n",
      "특성명: 동_신암동, 중요도: 0.0\n",
      "특성명: 동_신용동, 중요도: 0.0\n",
      "특성명: 동_신천동, 중요도: 0.0\n",
      "특성명: 동_신평동, 중요도: 0.058460878855445486\n",
      "특성명: 동_연경동, 중요도: 0.0\n",
      "특성명: 동_연호동, 중요도: 0.0\n",
      "특성명: 동_옥포읍, 중요도: 0.009242398702722563\n",
      "특성명: 동_완전동, 중요도: 0.0\n",
      "특성명: 동_용계동, 중요도: 0.0\n",
      "특성명: 동_용산동, 중요도: 0.0\n",
      "특성명: 동_용수동, 중요도: 0.0\n",
      "특성명: 동_욱수동, 중요도: 0.0\n",
      "특성명: 동_원대동1가, 중요도: 0.0\n",
      "특성명: 동_원대동2가, 중요도: 0.0\n",
      "특성명: 동_원대동3가, 중요도: 0.0\n",
      "특성명: 동_월성동, 중요도: 0.0\n",
      "특성명: 동_월암동, 중요도: 0.0\n",
      "특성명: 동_유가읍, 중요도: 0.0\n",
      "특성명: 동_유천동, 중요도: 0.0\n",
      "특성명: 동_율암동, 중요도: 0.0\n",
      "특성명: 동_율하동, 중요도: 0.0\n",
      "특성명: 동_읍내동, 중요도: 0.0\n",
      "특성명: 동_이곡동, 중요도: 0.0\n",
      "특성명: 동_이천동, 중요도: 0.0\n",
      "특성명: 동_이현동, 중요도: 0.009204940715419174\n",
      "특성명: 동_인교동, 중요도: 0.0\n",
      "특성명: 동_입석동, 중요도: 0.0698139354780099\n",
      "특성명: 동_장관동, 중요도: 0.0\n",
      "특성명: 동_장기동, 중요도: 0.0\n",
      "특성명: 동_장동, 중요도: 0.0\n",
      "특성명: 동_전동, 중요도: 0.0\n",
      "특성명: 동_조야동, 중요도: 0.0\n",
      "특성명: 동_종로1가, 중요도: 0.0\n",
      "특성명: 동_종로2가, 중요도: 0.0\n",
      "특성명: 동_죽전동, 중요도: 0.0\n",
      "특성명: 동_중대동, 중요도: 0.0\n",
      "특성명: 동_중동, 중요도: 0.0\n",
      "특성명: 동_중리동, 중요도: 0.0\n",
      "특성명: 동_지묘동, 중요도: 0.0\n",
      "특성명: 동_지산동, 중요도: 0.0\n",
      "특성명: 동_지저동, 중요도: 0.0\n",
      "특성명: 동_진인동, 중요도: 0.02418523970842021\n",
      "특성명: 동_진천동, 중요도: 0.0\n",
      "특성명: 동_칠성동1가, 중요도: 0.0\n",
      "특성명: 동_칠성동2가, 중요도: 0.0\n",
      "특성명: 동_침산동, 중요도: 0.0\n",
      "특성명: 동_태전동, 중요도: 0.0\n",
      "특성명: 동_태평로1가, 중요도: 0.0\n",
      "특성명: 동_태평로2가, 중요도: 0.0\n",
      "특성명: 동_태평로3가, 중요도: 0.0\n",
      "특성명: 동_파동, 중요도: 0.0\n",
      "특성명: 동_파호동, 중요도: 0.0\n",
      "특성명: 동_팔달동, 중요도: 0.0\n",
      "특성명: 동_평광동, 중요도: 0.0\n",
      "특성명: 동_평리동, 중요도: 0.0\n",
      "특성명: 동_포정동, 중요도: 0.0\n",
      "특성명: 동_하빈면, 중요도: 0.0\n",
      "특성명: 동_하서동, 중요도: 0.0\n",
      "특성명: 동_학정동, 중요도: 0.0\n",
      "특성명: 동_향촌동, 중요도: 0.0\n",
      "특성명: 동_현풍읍, 중요도: 0.0\n",
      "특성명: 동_호림동, 중요도: 0.0\n",
      "특성명: 동_호산동, 중요도: 0.0\n",
      "특성명: 동_화원읍, 중요도: 0.0\n",
      "특성명: 동_화전동, 중요도: 0.0\n",
      "특성명: 동_황금동, 중요도: 0.0\n",
      "특성명: 동_효목동, 중요도: 0.0\n",
      "특성명: 연_2019, 중요도: 0.0\n",
      "특성명: 연_2020, 중요도: 0.0\n",
      "특성명: 연_2021, 중요도: 0.0\n",
      "특성명: 연_2022, 중요도: 0.0\n",
      "특성명: 월_1, 중요도: 0.0\n",
      "특성명: 월_2, 중요도: 0.0\n",
      "특성명: 월_3, 중요도: 0.0\n",
      "특성명: 월_4, 중요도: 0.0\n",
      "특성명: 월_5, 중요도: 0.0\n",
      "특성명: 월_6, 중요도: 0.0\n",
      "특성명: 월_7, 중요도: 0.0\n",
      "특성명: 월_8, 중요도: 0.024368750376282416\n",
      "특성명: 월_9, 중요도: 0.0\n",
      "특성명: 월_10, 중요도: 0.0\n",
      "특성명: 월_11, 중요도: 0.0\n",
      "특성명: 월_12, 중요도: 0.0\n",
      "특성명: 시간_0, 중요도: 0.0\n",
      "특성명: 시간_1, 중요도: 0.0\n",
      "특성명: 시간_2, 중요도: 0.0336491825025361\n",
      "특성명: 시간_3, 중요도: 0.0\n",
      "특성명: 시간_4, 중요도: 0.0\n",
      "특성명: 시간_5, 중요도: 0.0\n",
      "특성명: 시간_6, 중요도: 0.0\n",
      "특성명: 시간_7, 중요도: 0.0\n",
      "특성명: 시간_8, 중요도: 0.0\n",
      "특성명: 시간_9, 중요도: 0.0\n",
      "특성명: 시간_10, 중요도: 0.0\n",
      "특성명: 시간_11, 중요도: 0.0\n",
      "특성명: 시간_12, 중요도: 0.0\n",
      "특성명: 시간_13, 중요도: 0.0\n",
      "특성명: 시간_14, 중요도: 0.05318903590930182\n",
      "특성명: 시간_15, 중요도: 0.19632728579152622\n",
      "특성명: 시간_16, 중요도: 0.0\n",
      "특성명: 시간_17, 중요도: 0.0\n",
      "특성명: 시간_18, 중요도: 0.0\n",
      "특성명: 시간_19, 중요도: 0.0\n",
      "특성명: 시간_20, 중요도: 0.0\n",
      "특성명: 시간_21, 중요도: 0.0\n",
      "특성명: 시간_22, 중요도: 0.0\n",
      "특성명: 시간_23, 중요도: 0.0\n",
      "특성명: 요일_월요일, 중요도: 0.0\n",
      "특성명: 요일_화요일, 중요도: 0.001970554630427701\n",
      "특성명: 요일_수요일, 중요도: 0.0\n",
      "특성명: 요일_목요일, 중요도: 0.0001746752026971928\n",
      "특성명: 요일_금요일, 중요도: 0.0\n",
      "특성명: 요일_토요일, 중요도: 0.0\n",
      "특성명: 요일_일요일, 중요도: 0.05489526672424958\n",
      "특성명: 기상상태_기타, 중요도: 0.0\n",
      "특성명: 기상상태_눈, 중요도: 0.0\n",
      "특성명: 기상상태_맑음, 중요도: 0.0\n",
      "특성명: 기상상태_비, 중요도: 0.0\n",
      "특성명: 기상상태_안개, 중요도: 0.0\n",
      "특성명: 기상상태_흐림, 중요도: 0.0\n"
     ]
    }
   ],
   "source": [
    "feature_names = X_train.columns  \n",
    "\n",
    "# 특성 중요도 및 피처명 출력\n",
    "for feature_name, importance in zip(feature_names, best_dtr.feature_importances_):\n",
    "    print(f\"특성명: {feature_name}, 중요도: {importance}\")"
   ]
  },
  {
   "cell_type": "markdown",
   "metadata": {},
   "source": [
    "#### 예측"
   ]
  },
  {
   "cell_type": "code",
   "execution_count": 118,
   "metadata": {},
   "outputs": [
    {
     "name": "stdout",
     "output_type": "stream",
     "text": [
      "훈련 데이터 예측값 :  [3.81293387 3.81293387 5.50366854 ... 3.81293387 5.50366854 3.81293387]\n",
      "검증 데이터 예측값 :  [3.81293387 5.50366854 4.89672924 ... 5.50366854 4.89672924 3.81293387]\n"
     ]
    }
   ],
   "source": [
    "y_train_pred = best_dtr.predict(X_train)\n",
    "y_val_pred = best_dtr.predict(X_valid)\n",
    "\n",
    "print('훈련 데이터 예측값 : ', y_train_pred)\n",
    "print('검증 데이터 예측값 : ', y_val_pred)"
   ]
  },
  {
   "cell_type": "markdown",
   "metadata": {},
   "source": [
    "### 평가"
   ]
  },
  {
   "cell_type": "markdown",
   "metadata": {},
   "source": [
    "### (참고) 평가함수 -RMSLE\n",
    "\n",
    "리더보드 제출 전 RMSLE 점수 계산해볼 수 있는 코드입니다. 실제 점수와는 조금 다를수 있어요!"
   ]
  },
  {
   "cell_type": "code",
   "execution_count": 119,
   "metadata": {},
   "outputs": [],
   "source": [
    "# from sklearn.metrics import mean_squared_log_error\n",
    "# # RMSLE 계산\n",
    "# rmsle = mean_squared_log_error(y_test, y_pred, squared=False)\n",
    "\n",
    "# # 결과 출력\n",
    "# print(f'RMSLE: {rmsle}')"
   ]
  },
  {
   "cell_type": "code",
   "execution_count": 120,
   "metadata": {},
   "outputs": [],
   "source": [
    "from sklearn.metrics import mean_squared_error,mean_absolute_error\n",
    "#  1. RMSLE 작성\n",
    "def rmsle(pred, actual):\n",
    "    log_pred = np.log1p(pred) \n",
    "    log_actual = np.log1p(actual)\n",
    "    squared_error = (log_pred-log_actual)**2   \n",
    "    rmsle = np.sqrt(np.mean(squared_error))\n",
    "    return rmsle\n",
    "#  2. RMSE 작성\n",
    "def rmse(pred, actual):\n",
    "    return np.sqrt(mean_squared_error(pred, actual))\n",
    "#  3. MAE 작성\n",
    "def mae(pred, actual):\n",
    "    return mean_absolute_error(pred, actual)"
   ]
  },
  {
   "cell_type": "code",
   "execution_count": 121,
   "metadata": {},
   "outputs": [],
   "source": [
    "def evaluate_regr(pred, actual):\n",
    "    rmsle_val=rmsle(pred, actual)\n",
    "    rmsl_val=rmse(pred, actual)\n",
    "    mae_val=mae(pred, actual)\n",
    "    print('RMSLE: {:.3f}, RMSE: {:.3f}, MAE: {:.3f}'.format(rmsle_val, rmsl_val, mae_val))"
   ]
  },
  {
   "cell_type": "code",
   "execution_count": 122,
   "metadata": {},
   "outputs": [
    {
     "name": "stdout",
     "output_type": "stream",
     "text": [
      "RMSLE: 0.458, RMSE: 3.140, MAE: 2.138\n"
     ]
    }
   ],
   "source": [
    "evaluate_regr(y_train, y_train_pred)"
   ]
  },
  {
   "cell_type": "code",
   "execution_count": 123,
   "metadata": {},
   "outputs": [
    {
     "name": "stdout",
     "output_type": "stream",
     "text": [
      "RMSLE: 0.465, RMSE: 3.139, MAE: 2.154\n"
     ]
    }
   ],
   "source": [
    "evaluate_regr(y_valid, y_val_pred) "
   ]
  },
  {
   "cell_type": "code",
   "execution_count": 124,
   "metadata": {},
   "outputs": [
    {
     "name": "stdout",
     "output_type": "stream",
     "text": [
      "훈련 데이터의 RMSLE :  0.4578255478303291\n",
      "검증 데이터의 RMSLE :  0.46525019437630505\n",
      "훈련 데이터의 R2 :  0.0528840875497234\n",
      "검증 데이터의 R2 :  0.013600634953768398\n"
     ]
    }
   ],
   "source": [
    "from sklearn.metrics import mean_squared_log_error, r2_score\n",
    "\n",
    "# 훈련 데이터와 검증 데이터의 RMSLE 계산\n",
    "# 점수가 낮을수록 정확도가 높다.\n",
    "dtr_rmsle_train = np.sqrt(mean_squared_log_error(y_train, y_train_pred))\n",
    "dtr_rmsle_val = np.sqrt(mean_squared_log_error(y_valid, y_val_pred))\n",
    "\n",
    "# 훈련 데이터와 검증 데이터의 R2 계산\n",
    "# 0~1 사이로 1에 수렴할 때 가장 적합하다.\n",
    "dtr_r2_train = r2_score(y_train, y_train_pred)\n",
    "dtr_r2_val = r2_score(y_valid, y_val_pred)\n",
    "\n",
    "# 결과 출력\n",
    "print(\"훈련 데이터의 RMSLE : \", dtr_rmsle_train)\n",
    "print(\"검증 데이터의 RMSLE : \", dtr_rmsle_val)\n",
    "print(\"훈련 데이터의 R2 : \", dtr_r2_train)\n",
    "print(\"검증 데이터의 R2 : \", dtr_r2_val)"
   ]
  },
  {
   "cell_type": "markdown",
   "metadata": {},
   "source": [
    "#### 학습"
   ]
  },
  {
   "cell_type": "code",
   "execution_count": 125,
   "metadata": {},
   "outputs": [
    {
     "data": {
      "text/html": [
       "<style>#sk-container-id-2 {color: black;}#sk-container-id-2 pre{padding: 0;}#sk-container-id-2 div.sk-toggleable {background-color: white;}#sk-container-id-2 label.sk-toggleable__label {cursor: pointer;display: block;width: 100%;margin-bottom: 0;padding: 0.3em;box-sizing: border-box;text-align: center;}#sk-container-id-2 label.sk-toggleable__label-arrow:before {content: \"▸\";float: left;margin-right: 0.25em;color: #696969;}#sk-container-id-2 label.sk-toggleable__label-arrow:hover:before {color: black;}#sk-container-id-2 div.sk-estimator:hover label.sk-toggleable__label-arrow:before {color: black;}#sk-container-id-2 div.sk-toggleable__content {max-height: 0;max-width: 0;overflow: hidden;text-align: left;background-color: #f0f8ff;}#sk-container-id-2 div.sk-toggleable__content pre {margin: 0.2em;color: black;border-radius: 0.25em;background-color: #f0f8ff;}#sk-container-id-2 input.sk-toggleable__control:checked~div.sk-toggleable__content {max-height: 200px;max-width: 100%;overflow: auto;}#sk-container-id-2 input.sk-toggleable__control:checked~label.sk-toggleable__label-arrow:before {content: \"▾\";}#sk-container-id-2 div.sk-estimator input.sk-toggleable__control:checked~label.sk-toggleable__label {background-color: #d4ebff;}#sk-container-id-2 div.sk-label input.sk-toggleable__control:checked~label.sk-toggleable__label {background-color: #d4ebff;}#sk-container-id-2 input.sk-hidden--visually {border: 0;clip: rect(1px 1px 1px 1px);clip: rect(1px, 1px, 1px, 1px);height: 1px;margin: -1px;overflow: hidden;padding: 0;position: absolute;width: 1px;}#sk-container-id-2 div.sk-estimator {font-family: monospace;background-color: #f0f8ff;border: 1px dotted black;border-radius: 0.25em;box-sizing: border-box;margin-bottom: 0.5em;}#sk-container-id-2 div.sk-estimator:hover {background-color: #d4ebff;}#sk-container-id-2 div.sk-parallel-item::after {content: \"\";width: 100%;border-bottom: 1px solid gray;flex-grow: 1;}#sk-container-id-2 div.sk-label:hover label.sk-toggleable__label {background-color: #d4ebff;}#sk-container-id-2 div.sk-serial::before {content: \"\";position: absolute;border-left: 1px solid gray;box-sizing: border-box;top: 0;bottom: 0;left: 50%;z-index: 0;}#sk-container-id-2 div.sk-serial {display: flex;flex-direction: column;align-items: center;background-color: white;padding-right: 0.2em;padding-left: 0.2em;position: relative;}#sk-container-id-2 div.sk-item {position: relative;z-index: 1;}#sk-container-id-2 div.sk-parallel {display: flex;align-items: stretch;justify-content: center;background-color: white;position: relative;}#sk-container-id-2 div.sk-item::before, #sk-container-id-2 div.sk-parallel-item::before {content: \"\";position: absolute;border-left: 1px solid gray;box-sizing: border-box;top: 0;bottom: 0;left: 50%;z-index: -1;}#sk-container-id-2 div.sk-parallel-item {display: flex;flex-direction: column;z-index: 1;position: relative;background-color: white;}#sk-container-id-2 div.sk-parallel-item:first-child::after {align-self: flex-end;width: 50%;}#sk-container-id-2 div.sk-parallel-item:last-child::after {align-self: flex-start;width: 50%;}#sk-container-id-2 div.sk-parallel-item:only-child::after {width: 0;}#sk-container-id-2 div.sk-dashed-wrapped {border: 1px dashed gray;margin: 0 0.4em 0.5em 0.4em;box-sizing: border-box;padding-bottom: 0.4em;background-color: white;}#sk-container-id-2 div.sk-label label {font-family: monospace;font-weight: bold;display: inline-block;line-height: 1.2em;}#sk-container-id-2 div.sk-label-container {text-align: center;}#sk-container-id-2 div.sk-container {/* jupyter's `normalize.less` sets `[hidden] { display: none; }` but bootstrap.min.css set `[hidden] { display: none !important; }` so we also need the `!important` here to be able to override the default hidden behavior on the sphinx rendered scikit-learn.org. See: https://github.com/scikit-learn/scikit-learn/issues/21755 */display: inline-block !important;position: relative;}#sk-container-id-2 div.sk-text-repr-fallback {display: none;}</style><div id=\"sk-container-id-2\" class=\"sk-top-container\"><div class=\"sk-text-repr-fallback\"><pre>DecisionTreeRegressor(max_depth=5, random_state=42)</pre><b>In a Jupyter environment, please rerun this cell to show the HTML representation or trust the notebook. <br />On GitHub, the HTML representation is unable to render, please try loading this page with nbviewer.org.</b></div><div class=\"sk-container\" hidden><div class=\"sk-item\"><div class=\"sk-estimator sk-toggleable\"><input class=\"sk-toggleable__control sk-hidden--visually\" id=\"sk-estimator-id-2\" type=\"checkbox\" checked><label for=\"sk-estimator-id-2\" class=\"sk-toggleable__label sk-toggleable__label-arrow\">DecisionTreeRegressor</label><div class=\"sk-toggleable__content\"><pre>DecisionTreeRegressor(max_depth=5, random_state=42)</pre></div></div></div></div></div>"
      ],
      "text/plain": [
       "DecisionTreeRegressor(max_depth=5, random_state=42)"
      ]
     },
     "execution_count": 125,
     "metadata": {},
     "output_type": "execute_result"
    }
   ],
   "source": [
    "best_dtr.fit(X_train, y_train)"
   ]
  },
  {
   "cell_type": "markdown",
   "metadata": {},
   "source": [
    "### test 예측"
   ]
  },
  {
   "cell_type": "code",
   "execution_count": 126,
   "metadata": {},
   "outputs": [
    {
     "name": "stdout",
     "output_type": "stream",
     "text": [
      "[3.81293387 3.81293387 4.89672924 ... 4.89672924 4.89672924 4.89672924]\n"
     ]
    }
   ],
   "source": [
    "prediction_dtr = best_dtr.predict(X_test)\n",
    "\n",
    "print(prediction_dtr)"
   ]
  },
  {
   "cell_type": "markdown",
   "metadata": {},
   "source": [
    "### Submission"
   ]
  },
  {
   "cell_type": "code",
   "execution_count": 127,
   "metadata": {
    "ExecuteTime": {
     "end_time": "2023-11-22T06:27:05.046005Z",
     "start_time": "2023-11-22T06:27:05.046000Z"
    }
   },
   "outputs": [],
   "source": [
    "##형식 복붙해서 사용하시는 모델에 맞춰서 저장해주세요!\n",
    "# sample_submission = pd.read_csv('open/sample_submission.csv')\n",
    "# 모델이름_submission = sample_submission.copy()\n",
    "# 모델이름_submission['ECLO'] = prediction_모델이름\n",
    "# 모델이름_submission\n",
    "\n",
    "\n",
    "# 모델이름_submission.to_csv('모델이름_submission.csv')"
   ]
  },
  {
   "cell_type": "code",
   "execution_count": 128,
   "metadata": {
    "ExecuteTime": {
     "end_time": "2023-11-22T06:27:05.046330Z",
     "start_time": "2023-11-22T06:27:05.046326Z"
    }
   },
   "outputs": [
    {
     "data": {
      "text/html": [
       "<div>\n",
       "<style scoped>\n",
       "    .dataframe tbody tr th:only-of-type {\n",
       "        vertical-align: middle;\n",
       "    }\n",
       "\n",
       "    .dataframe tbody tr th {\n",
       "        vertical-align: top;\n",
       "    }\n",
       "\n",
       "    .dataframe thead th {\n",
       "        text-align: right;\n",
       "    }\n",
       "</style>\n",
       "<table border=\"1\" class=\"dataframe\">\n",
       "  <thead>\n",
       "    <tr style=\"text-align: right;\">\n",
       "      <th></th>\n",
       "      <th>ID</th>\n",
       "      <th>ECLO</th>\n",
       "    </tr>\n",
       "  </thead>\n",
       "  <tbody>\n",
       "    <tr>\n",
       "      <th>0</th>\n",
       "      <td>ACCIDENT_39609</td>\n",
       "      <td>0</td>\n",
       "    </tr>\n",
       "    <tr>\n",
       "      <th>1</th>\n",
       "      <td>ACCIDENT_39610</td>\n",
       "      <td>0</td>\n",
       "    </tr>\n",
       "    <tr>\n",
       "      <th>2</th>\n",
       "      <td>ACCIDENT_39611</td>\n",
       "      <td>0</td>\n",
       "    </tr>\n",
       "    <tr>\n",
       "      <th>3</th>\n",
       "      <td>ACCIDENT_39612</td>\n",
       "      <td>0</td>\n",
       "    </tr>\n",
       "    <tr>\n",
       "      <th>4</th>\n",
       "      <td>ACCIDENT_39613</td>\n",
       "      <td>0</td>\n",
       "    </tr>\n",
       "    <tr>\n",
       "      <th>...</th>\n",
       "      <td>...</td>\n",
       "      <td>...</td>\n",
       "    </tr>\n",
       "    <tr>\n",
       "      <th>10958</th>\n",
       "      <td>ACCIDENT_50567</td>\n",
       "      <td>0</td>\n",
       "    </tr>\n",
       "    <tr>\n",
       "      <th>10959</th>\n",
       "      <td>ACCIDENT_50568</td>\n",
       "      <td>0</td>\n",
       "    </tr>\n",
       "    <tr>\n",
       "      <th>10960</th>\n",
       "      <td>ACCIDENT_50569</td>\n",
       "      <td>0</td>\n",
       "    </tr>\n",
       "    <tr>\n",
       "      <th>10961</th>\n",
       "      <td>ACCIDENT_50570</td>\n",
       "      <td>0</td>\n",
       "    </tr>\n",
       "    <tr>\n",
       "      <th>10962</th>\n",
       "      <td>ACCIDENT_50571</td>\n",
       "      <td>0</td>\n",
       "    </tr>\n",
       "  </tbody>\n",
       "</table>\n",
       "<p>10963 rows × 2 columns</p>\n",
       "</div>"
      ],
      "text/plain": [
       "                   ID  ECLO\n",
       "0      ACCIDENT_39609     0\n",
       "1      ACCIDENT_39610     0\n",
       "2      ACCIDENT_39611     0\n",
       "3      ACCIDENT_39612     0\n",
       "4      ACCIDENT_39613     0\n",
       "...               ...   ...\n",
       "10958  ACCIDENT_50567     0\n",
       "10959  ACCIDENT_50568     0\n",
       "10960  ACCIDENT_50569     0\n",
       "10961  ACCIDENT_50570     0\n",
       "10962  ACCIDENT_50571     0\n",
       "\n",
       "[10963 rows x 2 columns]"
      ]
     },
     "execution_count": 128,
     "metadata": {},
     "output_type": "execute_result"
    }
   ],
   "source": [
    "sample_submission = pd.read_csv('open/sample_submission.csv')\n",
    "sample_submission"
   ]
  },
  {
   "cell_type": "code",
   "execution_count": 129,
   "metadata": {
    "ExecuteTime": {
     "end_time": "2023-11-22T06:27:05.046767Z",
     "start_time": "2023-11-22T06:27:05.046762Z"
    }
   },
   "outputs": [],
   "source": [
    "# 위코드 해서 안되면 아래꺼 써보기...\n",
    "# sample_submission = pd.read_csv('open/sample_submission.csv', index_col=0)\n",
    "# sample_submission"
   ]
  },
  {
   "cell_type": "code",
   "execution_count": 130,
   "metadata": {
    "ExecuteTime": {
     "end_time": "2023-11-22T06:27:05.047248Z",
     "start_time": "2023-11-22T06:27:05.047244Z"
    }
   },
   "outputs": [
    {
     "data": {
      "text/html": [
       "<div>\n",
       "<style scoped>\n",
       "    .dataframe tbody tr th:only-of-type {\n",
       "        vertical-align: middle;\n",
       "    }\n",
       "\n",
       "    .dataframe tbody tr th {\n",
       "        vertical-align: top;\n",
       "    }\n",
       "\n",
       "    .dataframe thead th {\n",
       "        text-align: right;\n",
       "    }\n",
       "</style>\n",
       "<table border=\"1\" class=\"dataframe\">\n",
       "  <thead>\n",
       "    <tr style=\"text-align: right;\">\n",
       "      <th></th>\n",
       "      <th>ID</th>\n",
       "      <th>ECLO</th>\n",
       "    </tr>\n",
       "  </thead>\n",
       "  <tbody>\n",
       "    <tr>\n",
       "      <th>0</th>\n",
       "      <td>ACCIDENT_39609</td>\n",
       "      <td>3.812934</td>\n",
       "    </tr>\n",
       "    <tr>\n",
       "      <th>1</th>\n",
       "      <td>ACCIDENT_39610</td>\n",
       "      <td>3.812934</td>\n",
       "    </tr>\n",
       "    <tr>\n",
       "      <th>2</th>\n",
       "      <td>ACCIDENT_39611</td>\n",
       "      <td>4.896729</td>\n",
       "    </tr>\n",
       "    <tr>\n",
       "      <th>3</th>\n",
       "      <td>ACCIDENT_39612</td>\n",
       "      <td>4.896729</td>\n",
       "    </tr>\n",
       "    <tr>\n",
       "      <th>4</th>\n",
       "      <td>ACCIDENT_39613</td>\n",
       "      <td>4.896729</td>\n",
       "    </tr>\n",
       "    <tr>\n",
       "      <th>...</th>\n",
       "      <td>...</td>\n",
       "      <td>...</td>\n",
       "    </tr>\n",
       "    <tr>\n",
       "      <th>10958</th>\n",
       "      <td>ACCIDENT_50567</td>\n",
       "      <td>4.896729</td>\n",
       "    </tr>\n",
       "    <tr>\n",
       "      <th>10959</th>\n",
       "      <td>ACCIDENT_50568</td>\n",
       "      <td>4.896729</td>\n",
       "    </tr>\n",
       "    <tr>\n",
       "      <th>10960</th>\n",
       "      <td>ACCIDENT_50569</td>\n",
       "      <td>4.896729</td>\n",
       "    </tr>\n",
       "    <tr>\n",
       "      <th>10961</th>\n",
       "      <td>ACCIDENT_50570</td>\n",
       "      <td>4.896729</td>\n",
       "    </tr>\n",
       "    <tr>\n",
       "      <th>10962</th>\n",
       "      <td>ACCIDENT_50571</td>\n",
       "      <td>4.896729</td>\n",
       "    </tr>\n",
       "  </tbody>\n",
       "</table>\n",
       "<p>10963 rows × 2 columns</p>\n",
       "</div>"
      ],
      "text/plain": [
       "                   ID      ECLO\n",
       "0      ACCIDENT_39609  3.812934\n",
       "1      ACCIDENT_39610  3.812934\n",
       "2      ACCIDENT_39611  4.896729\n",
       "3      ACCIDENT_39612  4.896729\n",
       "4      ACCIDENT_39613  4.896729\n",
       "...               ...       ...\n",
       "10958  ACCIDENT_50567  4.896729\n",
       "10959  ACCIDENT_50568  4.896729\n",
       "10960  ACCIDENT_50569  4.896729\n",
       "10961  ACCIDENT_50570  4.896729\n",
       "10962  ACCIDENT_50571  4.896729\n",
       "\n",
       "[10963 rows x 2 columns]"
      ]
     },
     "execution_count": 130,
     "metadata": {},
     "output_type": "execute_result"
    }
   ],
   "source": [
    "DecisionTree_submission = sample_submission.copy()\n",
    "DecisionTree_submission['ECLO'] = prediction_dtr\n",
    "DecisionTree_submission"
   ]
  },
  {
   "cell_type": "code",
   "execution_count": 131,
   "metadata": {
    "ExecuteTime": {
     "end_time": "2023-11-22T06:27:05.047603Z",
     "start_time": "2023-11-22T06:27:05.047597Z"
    }
   },
   "outputs": [],
   "source": [
    "DecisionTree_submission.to_csv('DecisionTree(onehot)_submission.csv')"
   ]
  }
 ],
 "metadata": {
  "colab": {
   "provenance": []
  },
  "kernelspec": {
   "display_name": "Python 3 (ipykernel)",
   "language": "python",
   "name": "python3"
  },
  "language_info": {
   "codemirror_mode": {
    "name": "ipython",
    "version": 3
   },
   "file_extension": ".py",
   "mimetype": "text/x-python",
   "name": "python",
   "nbconvert_exporter": "python",
   "pygments_lexer": "ipython3",
   "version": "3.11.5"
  }
 },
 "nbformat": 4,
 "nbformat_minor": 4
}
